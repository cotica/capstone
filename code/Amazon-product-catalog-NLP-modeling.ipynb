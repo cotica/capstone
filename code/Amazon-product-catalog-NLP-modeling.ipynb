{
 "cells": [
  {
   "cell_type": "markdown",
   "metadata": {},
   "source": [
    "_This is a continuation from the first notebook, found [here](../code/Amazon-product-catalog-cleaning-EDA.ipynb)_\n",
    "\n",
    "\n",
    "# Amazon product ratings predictor\n",
    "\n",
    "## Imports"
   ]
  },
  {
   "cell_type": "code",
   "execution_count": 1,
   "metadata": {
    "ExecuteTime": {
     "end_time": "2021-06-17T22:34:04.908070Z",
     "start_time": "2021-06-17T22:33:57.219071Z"
    }
   },
   "outputs": [],
   "source": [
    "#import libraries\n",
    "#basic ops\n",
    "import pandas as pd, numpy as np, matplotlib.pyplot as plt, \\\n",
    "       seaborn as sns, re\n",
    "\n",
    "#other helper functions\n",
    "from pandasql import sqldf\n",
    "from math import pi\n",
    "\n",
    "#show grid on plots\n",
    "sns.set_style('darkgrid')\n",
    "\n",
    "#display tables without ellipsis\n",
    "#pd.set_option('display.max_rows', None)\n",
    "\n",
    "\n",
    "#NLP\n",
    "\n",
    "#from nltk.stem import WordNetLemmatizer\n",
    "from nltk.sentiment.vader import SentimentIntensityAnalyzer\n",
    "#from nltk.tokenize import RegexpTokenizer\n",
    "\n",
    "from sklearn.feature_extraction.text import CountVectorizer, \\\n",
    "                                            TfidfVectorizer\n",
    "from sklearn.feature_extraction import text\n",
    "\n",
    "\n",
    "#modeling\n",
    "from sklearn.linear_model import LinearRegression, LogisticRegression, \\\n",
    "                                 Ridge, RidgeCV, Lasso, LassoCV\n",
    "\n",
    "from sklearn.ensemble import RandomForestRegressor, \\\n",
    "                             GradientBoostingRegressor\n",
    "\n",
    "from sklearn.model_selection import train_test_split, GridSearchCV, \\\n",
    "                                    cross_val_score\n",
    "\n",
    "from sklearn.svm import SVR\n",
    "\n",
    "from sklearn.preprocessing import StandardScaler\n",
    "\n",
    "from sklearn.metrics import r2_score, mean_squared_error, \\\n",
    "                            mean_absolute_error, \\\n",
    "                            mean_absolute_percentage_error, \\\n",
    "                            explained_variance_score, max_error\n",
    "                            \n",
    "from sklearn.dummy import DummyRegressor"
   ]
  },
  {
   "cell_type": "markdown",
   "metadata": {},
   "source": [
    "### Data pull"
   ]
  },
  {
   "cell_type": "code",
   "execution_count": 2,
   "metadata": {
    "ExecuteTime": {
     "end_time": "2021-06-17T22:34:11.367946Z",
     "start_time": "2021-06-17T22:34:04.910360Z"
    }
   },
   "outputs": [
    {
     "name": "stdout",
     "output_type": "stream",
     "text": [
      "Tokenization took: 1624.16 ms\n",
      "Type conversion took: 4360.60 ms\n",
      "Parser memory cleanup took: 53.63 ms\n"
     ]
    }
   ],
   "source": [
    "#read in data\n",
    "ecom = pd.read_csv('../data/ecom.csv',\n",
    "                   skip_blank_lines=False,\n",
    "                   skipinitialspace=True,\n",
    "                   low_memory=False,\n",
    "                   verbose=True\n",
    "                  )"
   ]
  },
  {
   "cell_type": "code",
   "execution_count": 3,
   "metadata": {
    "ExecuteTime": {
     "end_time": "2021-06-17T22:34:11.382852Z",
     "start_time": "2021-06-17T22:34:11.370457Z"
    }
   },
   "outputs": [
    {
     "data": {
      "text/plain": [
       "(9982, 2916)"
      ]
     },
     "execution_count": 3,
     "metadata": {},
     "output_type": "execute_result"
    }
   ],
   "source": [
    "ecom.shape"
   ]
  },
  {
   "cell_type": "code",
   "execution_count": 4,
   "metadata": {
    "ExecuteTime": {
     "end_time": "2021-06-17T22:34:11.399252Z",
     "start_time": "2021-06-17T22:34:11.385137Z"
    }
   },
   "outputs": [
    {
     "data": {
      "text/plain": [
       "Index(['uniq_id', 'product_name', 'price', 'number_available_in_stock',\n",
       "       'number_of_reviews', 'number_of_answered_questions',\n",
       "       'average_review_rating', 'customers_who_bought_this_item_also_bought',\n",
       "       'description', 'product_information',\n",
       "       ...\n",
       "       'amazon_category_and_sub_category_Sports Toys & Outdoor > Racket Games',\n",
       "       'amazon_category_and_sub_category_Sports Toys & Outdoor > Target Games',\n",
       "       'amazon_category_and_sub_category_Storage, Cleaning & Ring Sizers > Boxes & Organisers',\n",
       "       'amazon_category_and_sub_category_Supporters' Gear > Football > Memorabilia & Collectibles',\n",
       "       'amazon_category_and_sub_category_Sweets, Chocolate & Gum > Chocolate',\n",
       "       'amazon_category_and_sub_category_Sweets, Chocolate & Gum > Chocolate > Bars > Multipack Bars',\n",
       "       'amazon_category_and_sub_category_Women > Accessories',\n",
       "       'amazon_category_and_sub_category_Women > Accessories > Eyewear & Accessories > Sunglasses',\n",
       "       'amazon_category_and_sub_category_Women > Tops & T-Shirts',\n",
       "       'amazon_category_and_sub_category_Worlds Apart > Kid Venture > Kites'],\n",
       "      dtype='object', length=2916)"
      ]
     },
     "execution_count": 4,
     "metadata": {},
     "output_type": "execute_result"
    }
   ],
   "source": [
    "ecom.columns"
   ]
  },
  {
   "cell_type": "code",
   "execution_count": 5,
   "metadata": {
    "ExecuteTime": {
     "end_time": "2021-06-17T22:34:11.463800Z",
     "start_time": "2021-06-17T22:34:11.408128Z"
    }
   },
   "outputs": [
    {
     "data": {
      "text/html": [
       "<div>\n",
       "<style scoped>\n",
       "    .dataframe tbody tr th:only-of-type {\n",
       "        vertical-align: middle;\n",
       "    }\n",
       "\n",
       "    .dataframe tbody tr th {\n",
       "        vertical-align: top;\n",
       "    }\n",
       "\n",
       "    .dataframe thead th {\n",
       "        text-align: right;\n",
       "    }\n",
       "</style>\n",
       "<table border=\"1\" class=\"dataframe\">\n",
       "  <thead>\n",
       "    <tr style=\"text-align: right;\">\n",
       "      <th></th>\n",
       "      <th>uniq_id</th>\n",
       "      <th>product_name</th>\n",
       "      <th>price</th>\n",
       "      <th>number_available_in_stock</th>\n",
       "      <th>number_of_reviews</th>\n",
       "      <th>number_of_answered_questions</th>\n",
       "      <th>average_review_rating</th>\n",
       "      <th>customers_who_bought_this_item_also_bought</th>\n",
       "      <th>description</th>\n",
       "      <th>product_information</th>\n",
       "      <th>...</th>\n",
       "      <th>amazon_category_and_sub_category_Sports Toys &amp; Outdoor &gt; Racket Games</th>\n",
       "      <th>amazon_category_and_sub_category_Sports Toys &amp; Outdoor &gt; Target Games</th>\n",
       "      <th>amazon_category_and_sub_category_Storage, Cleaning &amp; Ring Sizers &gt; Boxes &amp; Organisers</th>\n",
       "      <th>amazon_category_and_sub_category_Supporters' Gear &gt; Football &gt; Memorabilia &amp; Collectibles</th>\n",
       "      <th>amazon_category_and_sub_category_Sweets, Chocolate &amp; Gum &gt; Chocolate</th>\n",
       "      <th>amazon_category_and_sub_category_Sweets, Chocolate &amp; Gum &gt; Chocolate &gt; Bars &gt; Multipack Bars</th>\n",
       "      <th>amazon_category_and_sub_category_Women &gt; Accessories</th>\n",
       "      <th>amazon_category_and_sub_category_Women &gt; Accessories &gt; Eyewear &amp; Accessories &gt; Sunglasses</th>\n",
       "      <th>amazon_category_and_sub_category_Women &gt; Tops &amp; T-Shirts</th>\n",
       "      <th>amazon_category_and_sub_category_Worlds Apart &gt; Kid Venture &gt; Kites</th>\n",
       "    </tr>\n",
       "  </thead>\n",
       "  <tbody>\n",
       "    <tr>\n",
       "      <th>0</th>\n",
       "      <td>eac7efa5dbd3d667f26eb3d3ab504464</td>\n",
       "      <td>Hornby 2014 Catalogue</td>\n",
       "      <td>3.42</td>\n",
       "      <td>5 new</td>\n",
       "      <td>15</td>\n",
       "      <td>1.0</td>\n",
       "      <td>4.9</td>\n",
       "      <td>http://www.amazon.co.uk/Hornby-R8150-Catalogue...</td>\n",
       "      <td>Product Description Hornby 2014 Catalogue Box ...</td>\n",
       "      <td>Technical Details Item Weight640 g Product Dim...</td>\n",
       "      <td>...</td>\n",
       "      <td>0</td>\n",
       "      <td>0</td>\n",
       "      <td>0</td>\n",
       "      <td>0</td>\n",
       "      <td>0</td>\n",
       "      <td>0</td>\n",
       "      <td>0</td>\n",
       "      <td>0</td>\n",
       "      <td>0</td>\n",
       "      <td>0</td>\n",
       "    </tr>\n",
       "    <tr>\n",
       "      <th>1</th>\n",
       "      <td>b17540ef7e86e461d37f3ae58b7b72ac</td>\n",
       "      <td>FunkyBuys® Large Christmas Holiday Express Fes...</td>\n",
       "      <td>16.99</td>\n",
       "      <td>0</td>\n",
       "      <td>2</td>\n",
       "      <td>1.0</td>\n",
       "      <td>4.0</td>\n",
       "      <td>http://www.amazon.co.uk/Christmas-Holiday-Expr...</td>\n",
       "      <td>Size Name:Large FunkyBuys® Large Christmas Hol...</td>\n",
       "      <td>Technical Details Manufacturer recommended age...</td>\n",
       "      <td>...</td>\n",
       "      <td>0</td>\n",
       "      <td>0</td>\n",
       "      <td>0</td>\n",
       "      <td>0</td>\n",
       "      <td>0</td>\n",
       "      <td>0</td>\n",
       "      <td>0</td>\n",
       "      <td>0</td>\n",
       "      <td>0</td>\n",
       "      <td>0</td>\n",
       "    </tr>\n",
       "  </tbody>\n",
       "</table>\n",
       "<p>2 rows × 2916 columns</p>\n",
       "</div>"
      ],
      "text/plain": [
       "                            uniq_id  \\\n",
       "0  eac7efa5dbd3d667f26eb3d3ab504464   \n",
       "1  b17540ef7e86e461d37f3ae58b7b72ac   \n",
       "\n",
       "                                        product_name  price  \\\n",
       "0                              Hornby 2014 Catalogue   3.42   \n",
       "1  FunkyBuys® Large Christmas Holiday Express Fes...  16.99   \n",
       "\n",
       "  number_available_in_stock  number_of_reviews  number_of_answered_questions  \\\n",
       "0                     5 new                 15                           1.0   \n",
       "1                         0                  2                           1.0   \n",
       "\n",
       "   average_review_rating         customers_who_bought_this_item_also_bought  \\\n",
       "0                    4.9  http://www.amazon.co.uk/Hornby-R8150-Catalogue...   \n",
       "1                    4.0  http://www.amazon.co.uk/Christmas-Holiday-Expr...   \n",
       "\n",
       "                                         description  \\\n",
       "0  Product Description Hornby 2014 Catalogue Box ...   \n",
       "1  Size Name:Large FunkyBuys® Large Christmas Hol...   \n",
       "\n",
       "                                 product_information  ...  \\\n",
       "0  Technical Details Item Weight640 g Product Dim...  ...   \n",
       "1  Technical Details Manufacturer recommended age...  ...   \n",
       "\n",
       "  amazon_category_and_sub_category_Sports Toys & Outdoor > Racket Games  \\\n",
       "0                                                  0                      \n",
       "1                                                  0                      \n",
       "\n",
       "  amazon_category_and_sub_category_Sports Toys & Outdoor > Target Games  \\\n",
       "0                                                  0                      \n",
       "1                                                  0                      \n",
       "\n",
       "  amazon_category_and_sub_category_Storage, Cleaning & Ring Sizers > Boxes & Organisers  \\\n",
       "0                                                  0                                      \n",
       "1                                                  0                                      \n",
       "\n",
       "  amazon_category_and_sub_category_Supporters' Gear > Football > Memorabilia & Collectibles  \\\n",
       "0                                                  0                                          \n",
       "1                                                  0                                          \n",
       "\n",
       "  amazon_category_and_sub_category_Sweets, Chocolate & Gum > Chocolate  \\\n",
       "0                                                  0                     \n",
       "1                                                  0                     \n",
       "\n",
       "   amazon_category_and_sub_category_Sweets, Chocolate & Gum > Chocolate > Bars > Multipack Bars  \\\n",
       "0                                                  0                                              \n",
       "1                                                  0                                              \n",
       "\n",
       "   amazon_category_and_sub_category_Women > Accessories  \\\n",
       "0                                                  0      \n",
       "1                                                  0      \n",
       "\n",
       "   amazon_category_and_sub_category_Women > Accessories > Eyewear & Accessories > Sunglasses  \\\n",
       "0                                                  0                                           \n",
       "1                                                  0                                           \n",
       "\n",
       "   amazon_category_and_sub_category_Women > Tops & T-Shirts  \\\n",
       "0                                                  0          \n",
       "1                                                  0          \n",
       "\n",
       "   amazon_category_and_sub_category_Worlds Apart > Kid Venture > Kites  \n",
       "0                                                  0                    \n",
       "1                                                  0                    \n",
       "\n",
       "[2 rows x 2916 columns]"
      ]
     },
     "execution_count": 5,
     "metadata": {},
     "output_type": "execute_result"
    }
   ],
   "source": [
    "ecom.head(2)"
   ]
  },
  {
   "cell_type": "markdown",
   "metadata": {},
   "source": [
    "_It remains unclear to me while the entire data set with 12,000 columns is not reading in. After an hour of Googling, I'm tabling dealing with this issue._\n",
    "\n",
    "_So, I am going to attempt to re-encode the product column._"
   ]
  },
  {
   "cell_type": "code",
   "execution_count": 6,
   "metadata": {
    "ExecuteTime": {
     "end_time": "2021-06-17T22:34:12.915335Z",
     "start_time": "2021-06-17T22:34:11.471734Z"
    }
   },
   "outputs": [
    {
     "name": "stdout",
     "output_type": "stream",
     "text": [
      "(9982, 12861)\n"
     ]
    },
    {
     "data": {
      "text/html": [
       "<div>\n",
       "<style scoped>\n",
       "    .dataframe tbody tr th:only-of-type {\n",
       "        vertical-align: middle;\n",
       "    }\n",
       "\n",
       "    .dataframe tbody tr th {\n",
       "        vertical-align: top;\n",
       "    }\n",
       "\n",
       "    .dataframe thead th {\n",
       "        text-align: right;\n",
       "    }\n",
       "</style>\n",
       "<table border=\"1\" class=\"dataframe\">\n",
       "  <thead>\n",
       "    <tr style=\"text-align: right;\">\n",
       "      <th></th>\n",
       "      <th>0</th>\n",
       "      <th>1</th>\n",
       "    </tr>\n",
       "  </thead>\n",
       "  <tbody>\n",
       "    <tr>\n",
       "      <th>uniq_id</th>\n",
       "      <td>eac7efa5dbd3d667f26eb3d3ab504464</td>\n",
       "      <td>b17540ef7e86e461d37f3ae58b7b72ac</td>\n",
       "    </tr>\n",
       "    <tr>\n",
       "      <th>price</th>\n",
       "      <td>3.42</td>\n",
       "      <td>16.99</td>\n",
       "    </tr>\n",
       "    <tr>\n",
       "      <th>number_available_in_stock</th>\n",
       "      <td>5 new</td>\n",
       "      <td>0</td>\n",
       "    </tr>\n",
       "    <tr>\n",
       "      <th>number_of_reviews</th>\n",
       "      <td>15</td>\n",
       "      <td>2</td>\n",
       "    </tr>\n",
       "    <tr>\n",
       "      <th>number_of_answered_questions</th>\n",
       "      <td>1</td>\n",
       "      <td>1</td>\n",
       "    </tr>\n",
       "    <tr>\n",
       "      <th>...</th>\n",
       "      <td>...</td>\n",
       "      <td>...</td>\n",
       "    </tr>\n",
       "    <tr>\n",
       "      <th>product_name_wiking 650229 VW Passat Variant - Blue</th>\n",
       "      <td>0</td>\n",
       "      <td>0</td>\n",
       "    </tr>\n",
       "    <tr>\n",
       "      <th>product_name_wooden toy shop accessories \"sausage and cheese\" by howa 4858</th>\n",
       "      <td>0</td>\n",
       "      <td>0</td>\n",
       "    </tr>\n",
       "    <tr>\n",
       "      <th>product_name_wreck it ralph plush buddy 9inches</th>\n",
       "      <td>0</td>\n",
       "      <td>0</td>\n",
       "    </tr>\n",
       "    <tr>\n",
       "      <th>product_name_yellow dinosaur in egg eraser by Iwako from Japan</th>\n",
       "      <td>0</td>\n",
       "      <td>0</td>\n",
       "    </tr>\n",
       "    <tr>\n",
       "      <th>product_name_♥ CUSTOM JUDGES/JP/JUDGE ROBE IN RED 4 FANCY DRESS ♥</th>\n",
       "      <td>0</td>\n",
       "      <td>0</td>\n",
       "    </tr>\n",
       "  </tbody>\n",
       "</table>\n",
       "<p>12861 rows × 2 columns</p>\n",
       "</div>"
      ],
      "text/plain": [
       "                                                                                   0  \\\n",
       "uniq_id                                             eac7efa5dbd3d667f26eb3d3ab504464   \n",
       "price                                                                           3.42   \n",
       "number_available_in_stock                                                      5 new   \n",
       "number_of_reviews                                                                 15   \n",
       "number_of_answered_questions                                                       1   \n",
       "...                                                                              ...   \n",
       "product_name_wiking 650229 VW Passat Variant - ...                                 0   \n",
       "product_name_wooden toy shop accessories \"sausa...                                 0   \n",
       "product_name_wreck it ralph plush buddy 9inches                                    0   \n",
       "product_name_yellow dinosaur in egg eraser by I...                                 0   \n",
       "product_name_♥ CUSTOM JUDGES/JP/JUDGE ROBE IN R...                                 0   \n",
       "\n",
       "                                                                                   1  \n",
       "uniq_id                                             b17540ef7e86e461d37f3ae58b7b72ac  \n",
       "price                                                                          16.99  \n",
       "number_available_in_stock                                                          0  \n",
       "number_of_reviews                                                                  2  \n",
       "number_of_answered_questions                                                       1  \n",
       "...                                                                              ...  \n",
       "product_name_wiking 650229 VW Passat Variant - ...                                 0  \n",
       "product_name_wooden toy shop accessories \"sausa...                                 0  \n",
       "product_name_wreck it ralph plush buddy 9inches                                    0  \n",
       "product_name_yellow dinosaur in egg eraser by I...                                 0  \n",
       "product_name_♥ CUSTOM JUDGES/JP/JUDGE ROBE IN R...                                 0  \n",
       "\n",
       "[12861 rows x 2 columns]"
      ]
     },
     "execution_count": 6,
     "metadata": {},
     "output_type": "execute_result"
    }
   ],
   "source": [
    "#one-hot encode product name (...attempt again)\n",
    "\n",
    "ecom = pd.get_dummies(ecom, columns = [\n",
    "    'product_name' #products\n",
    "],drop_first=True)\n",
    "\n",
    "print(ecom.shape)\n",
    "\n",
    "# Caution--big printout!!\n",
    "ecom.head(2).T"
   ]
  },
  {
   "cell_type": "code",
   "execution_count": 7,
   "metadata": {
    "ExecuteTime": {
     "end_time": "2021-06-17T22:34:13.925336Z",
     "start_time": "2021-06-17T22:34:12.920957Z"
    }
   },
   "outputs": [
    {
     "data": {
      "text/plain": [
       "customer_reviews                                                       3\n",
       "product_name_Bestway 79 x 59 x 20-inches Rectangular Family Pool       0\n",
       "product_name_Bestway 52096 Mad Max Dash 'n Splash Water Slide          0\n",
       "product_name_Bestway 40 x 10-inch Ocean Life Paddling Pool for Kids    0\n",
       "product_name_Bestway 120 x 72 x 22-inches Deluxe Family Pool           0\n",
       "                                                                      ..\n",
       "product_name_Moshi Monsters Food Factory Candy Floss Machine           0\n",
       "product_name_Moshi Monsters Double Tier Pencil Case Filled             0\n",
       "product_name_Moshi Monsters Charmling - Series 2 - WALDO - Charm       0\n",
       "product_name_Moshi Monsters Blind Bags Series 8                        0\n",
       "uniq_id                                                                0\n",
       "Length: 12861, dtype: int64"
      ]
     },
     "execution_count": 7,
     "metadata": {},
     "output_type": "execute_result"
    }
   ],
   "source": [
    "#quick check on data integrity here\n",
    "ecom.isna().sum().sort_values(ascending=False)"
   ]
  },
  {
   "cell_type": "markdown",
   "metadata": {},
   "source": [
    "### Quick additional text pre-cleaning"
   ]
  },
  {
   "cell_type": "code",
   "execution_count": 8,
   "metadata": {
    "ExecuteTime": {
     "end_time": "2021-06-17T22:34:14.300372Z",
     "start_time": "2021-06-17T22:34:13.937668Z"
    }
   },
   "outputs": [
    {
     "data": {
      "text/plain": [
       "customer_reviews                                                       3\n",
       "product_name_Bestway 79 x 59 x 20-inches Rectangular Family Pool       0\n",
       "product_name_Bestway 52096 Mad Max Dash 'n Splash Water Slide          0\n",
       "product_name_Bestway 40 x 10-inch Ocean Life Paddling Pool for Kids    0\n",
       "product_name_Bestway 120 x 72 x 22-inches Deluxe Family Pool           0\n",
       "                                                                      ..\n",
       "product_name_Moshi Monsters Food Factory Candy Floss Machine           0\n",
       "product_name_Moshi Monsters Double Tier Pencil Case Filled             0\n",
       "product_name_Moshi Monsters Charmling - Series 2 - WALDO - Charm       0\n",
       "product_name_Moshi Monsters Blind Bags Series 8                        0\n",
       "uniq_id                                                                0\n",
       "Length: 12861, dtype: int64"
      ]
     },
     "execution_count": 8,
     "metadata": {},
     "output_type": "execute_result"
    }
   ],
   "source": [
    "#check for nulls now that data has been through and export / import process\n",
    "ecom.isna().sum().sort_values(ascending=False)"
   ]
  },
  {
   "cell_type": "code",
   "execution_count": 9,
   "metadata": {
    "ExecuteTime": {
     "end_time": "2021-06-17T22:34:14.323242Z",
     "start_time": "2021-06-17T22:34:14.302925Z"
    }
   },
   "outputs": [],
   "source": [
    "ecom['customer_reviews'] = ecom['customer_reviews'].fillna('')"
   ]
  },
  {
   "cell_type": "markdown",
   "metadata": {},
   "source": [
    "Let's also remove some junk strings to improve our text analysis. (Note: we got these from processing vectorized text first and realizing that a great number of reviews and questions mention time.)"
   ]
  },
  {
   "cell_type": "code",
   "execution_count": 10,
   "metadata": {
    "ExecuteTime": {
     "end_time": "2021-06-17T22:34:16.141904Z",
     "start_time": "2021-06-17T22:34:14.326156Z"
    }
   },
   "outputs": [],
   "source": [
    "#clean up some custom stop words first, pre-vectorizing (thanks to Gwen for help here):\n",
    "\n",
    "months = ['jan','january','feb', 'february','mar','march',\n",
    "          'apr','april','may','jun','june','jul','july','aug','august',\n",
    "         'sep','sept','september','oct','october','nov','november', 'dec','december']\n",
    "\n",
    "years= ['2012','2013','2014','2015','2016']\n",
    "\n",
    "#apply these stop words to reviews\n",
    "\n",
    "ecom['customer_reviews'] = ecom['customer_reviews'].map(\n",
    "    lambda x: ' '.join([y for y in x.split() if y.lower() not in months])).map(\n",
    "    lambda x: ' '.join([y for y in x.split() if y not in years]))\n",
    "\n",
    "#apply these stop words to cust q's\n",
    "ecom['customer_questions_and_answers'] = ecom['customer_questions_and_answers'].map(\n",
    "    lambda x: ' '.join([y for y in x.split() if y.lower() not in months])).map(\n",
    "    lambda x: ' '.join([y for y in x.split() if y not in years]))"
   ]
  },
  {
   "cell_type": "markdown",
   "metadata": {},
   "source": [
    "## NLP\n",
    "\n",
    "Open questions:\n",
    "\n",
    "* Sentiment of reviews\n",
    "* Does sentiment correspond to star rating?\n",
    "* Most interesting question bi-grams and tri-grams\n",
    "* Most interesting review bi-grams and tri-grams"
   ]
  },
  {
   "cell_type": "markdown",
   "metadata": {},
   "source": [
    "### Word frequencies"
   ]
  },
  {
   "cell_type": "code",
   "execution_count": 11,
   "metadata": {
    "ExecuteTime": {
     "end_time": "2021-06-17T22:34:16.171450Z",
     "start_time": "2021-06-17T22:34:16.144092Z"
    }
   },
   "outputs": [],
   "source": [
    "#vectorize text. NOTE: Run the RegEx to remove line breaks from customer review and\n",
    "#questions columns, first!\n",
    "\n",
    "#ensure that our inputs are actual strings\n",
    "ecom['customer_reviews'] = ecom['customer_reviews'].astype('string')\n",
    "ecom['customer_questions_and_answers'] = ecom['customer_questions_and_answers'].astype(\n",
    "'string')\n",
    "\n",
    "#instantiate count vec used for word freq analysis\n",
    "cvec = CountVectorizer(stop_words='english', max_features=2000) \n",
    "\n",
    "#define our columns to use in vectorizer functions\n",
    "reviews = ecom['customer_reviews'] \n",
    "questions = ecom['customer_questions_and_answers']\n",
    "\n",
    "#function to vectorize\n",
    "def vectorize(column): #plug in whatever we need to vectorize from df here\n",
    "\n",
    "    transformed_df = cvec.fit_transform(column)\n",
    "\n",
    "    transformed_df = pd.DataFrame(\n",
    "        transformed_df.todense(), columns = cvec.get_feature_names())\n",
    "    \n",
    "    #get most important words\n",
    "    #print('Top 30 most common words in Amazon ' + column)\n",
    "    \n",
    "    freq = pd.DataFrame(transformed_df.sum().sort_values(\n",
    "        ascending=False)[:30], columns=['Frequency'])\n",
    "    \n",
    "    return freq"
   ]
  },
  {
   "cell_type": "code",
   "execution_count": 12,
   "metadata": {
    "ExecuteTime": {
     "end_time": "2021-06-17T22:34:18.064419Z",
     "start_time": "2021-06-17T22:34:16.176305Z"
    }
   },
   "outputs": [
    {
     "data": {
      "text/html": [
       "<div>\n",
       "<style scoped>\n",
       "    .dataframe tbody tr th:only-of-type {\n",
       "        vertical-align: middle;\n",
       "    }\n",
       "\n",
       "    .dataframe tbody tr th {\n",
       "        vertical-align: top;\n",
       "    }\n",
       "\n",
       "    .dataframe thead th {\n",
       "        text-align: right;\n",
       "    }\n",
       "</style>\n",
       "<table border=\"1\" class=\"dataframe\">\n",
       "  <thead>\n",
       "    <tr style=\"text-align: right;\">\n",
       "      <th></th>\n",
       "      <th>Frequency</th>\n",
       "    </tr>\n",
       "  </thead>\n",
       "  <tbody>\n",
       "    <tr>\n",
       "      <th>great</th>\n",
       "      <td>11469</td>\n",
       "    </tr>\n",
       "    <tr>\n",
       "      <th>good</th>\n",
       "      <td>11057</td>\n",
       "    </tr>\n",
       "    <tr>\n",
       "      <th>jan</th>\n",
       "      <td>9189</td>\n",
       "    </tr>\n",
       "    <tr>\n",
       "      <th>dec</th>\n",
       "      <td>7786</td>\n",
       "    </tr>\n",
       "    <tr>\n",
       "      <th>stars</th>\n",
       "      <td>7273</td>\n",
       "    </tr>\n",
       "    <tr>\n",
       "      <th>nov</th>\n",
       "      <td>5403</td>\n",
       "    </tr>\n",
       "    <tr>\n",
       "      <th>feb</th>\n",
       "      <td>5318</td>\n",
       "    </tr>\n",
       "    <tr>\n",
       "      <th>quality</th>\n",
       "      <td>4916</td>\n",
       "    </tr>\n",
       "    <tr>\n",
       "      <th>oct</th>\n",
       "      <td>4719</td>\n",
       "    </tr>\n",
       "    <tr>\n",
       "      <th>bought</th>\n",
       "      <td>4698</td>\n",
       "    </tr>\n",
       "    <tr>\n",
       "      <th>mar</th>\n",
       "      <td>4433</td>\n",
       "    </tr>\n",
       "    <tr>\n",
       "      <th>little</th>\n",
       "      <td>4268</td>\n",
       "    </tr>\n",
       "    <tr>\n",
       "      <th>really</th>\n",
       "      <td>4199</td>\n",
       "    </tr>\n",
       "    <tr>\n",
       "      <th>fun</th>\n",
       "      <td>4131</td>\n",
       "    </tr>\n",
       "    <tr>\n",
       "      <th>aug</th>\n",
       "      <td>4126</td>\n",
       "    </tr>\n",
       "    <tr>\n",
       "      <th>old</th>\n",
       "      <td>4089</td>\n",
       "    </tr>\n",
       "    <tr>\n",
       "      <th>sept</th>\n",
       "      <td>3935</td>\n",
       "    </tr>\n",
       "    <tr>\n",
       "      <th>just</th>\n",
       "      <td>3781</td>\n",
       "    </tr>\n",
       "    <tr>\n",
       "      <th>product</th>\n",
       "      <td>3418</td>\n",
       "    </tr>\n",
       "    <tr>\n",
       "      <th>year</th>\n",
       "      <td>3399</td>\n",
       "    </tr>\n",
       "    <tr>\n",
       "      <th>jun</th>\n",
       "      <td>3241</td>\n",
       "    </tr>\n",
       "    <tr>\n",
       "      <th>game</th>\n",
       "      <td>3171</td>\n",
       "    </tr>\n",
       "    <tr>\n",
       "      <th>loves</th>\n",
       "      <td>3159</td>\n",
       "    </tr>\n",
       "    <tr>\n",
       "      <th>love</th>\n",
       "      <td>3149</td>\n",
       "    </tr>\n",
       "    <tr>\n",
       "      <th>toy</th>\n",
       "      <td>3063</td>\n",
       "    </tr>\n",
       "    <tr>\n",
       "      <th>son</th>\n",
       "      <td>3015</td>\n",
       "    </tr>\n",
       "    <tr>\n",
       "      <th>set</th>\n",
       "      <td>3001</td>\n",
       "    </tr>\n",
       "    <tr>\n",
       "      <th>excellent</th>\n",
       "      <td>2967</td>\n",
       "    </tr>\n",
       "    <tr>\n",
       "      <th>like</th>\n",
       "      <td>2891</td>\n",
       "    </tr>\n",
       "    <tr>\n",
       "      <th>nice</th>\n",
       "      <td>2836</td>\n",
       "    </tr>\n",
       "  </tbody>\n",
       "</table>\n",
       "</div>"
      ],
      "text/plain": [
       "           Frequency\n",
       "great          11469\n",
       "good           11057\n",
       "jan             9189\n",
       "dec             7786\n",
       "stars           7273\n",
       "nov             5403\n",
       "feb             5318\n",
       "quality         4916\n",
       "oct             4719\n",
       "bought          4698\n",
       "mar             4433\n",
       "little          4268\n",
       "really          4199\n",
       "fun             4131\n",
       "aug             4126\n",
       "old             4089\n",
       "sept            3935\n",
       "just            3781\n",
       "product         3418\n",
       "year            3399\n",
       "jun             3241\n",
       "game            3171\n",
       "loves           3159\n",
       "love            3149\n",
       "toy             3063\n",
       "son             3015\n",
       "set             3001\n",
       "excellent       2967\n",
       "like            2891\n",
       "nice            2836"
      ]
     },
     "execution_count": 12,
     "metadata": {},
     "output_type": "execute_result"
    }
   ],
   "source": [
    "vectorize(reviews) #not sure, why it's still pulling out months after those have been\n",
    "#cleaned out?.."
   ]
  },
  {
   "cell_type": "code",
   "execution_count": 13,
   "metadata": {
    "ExecuteTime": {
     "end_time": "2021-06-17T22:34:18.590462Z",
     "start_time": "2021-06-17T22:34:18.071726Z"
    }
   },
   "outputs": [
    {
     "data": {
      "text/html": [
       "<div>\n",
       "<style scoped>\n",
       "    .dataframe tbody tr th:only-of-type {\n",
       "        vertical-align: middle;\n",
       "    }\n",
       "\n",
       "    .dataframe tbody tr th {\n",
       "        vertical-align: top;\n",
       "    }\n",
       "\n",
       "    .dataframe thead th {\n",
       "        text-align: right;\n",
       "    }\n",
       "</style>\n",
       "<table border=\"1\" class=\"dataframe\">\n",
       "  <thead>\n",
       "    <tr style=\"text-align: right;\">\n",
       "      <th></th>\n",
       "      <th>Frequency</th>\n",
       "    </tr>\n",
       "  </thead>\n",
       "  <tbody>\n",
       "    <tr>\n",
       "      <th>does</th>\n",
       "      <td>391</td>\n",
       "    </tr>\n",
       "    <tr>\n",
       "      <th>yes</th>\n",
       "      <td>333</td>\n",
       "    </tr>\n",
       "    <tr>\n",
       "      <th>hi</th>\n",
       "      <td>293</td>\n",
       "    </tr>\n",
       "    <tr>\n",
       "      <th>size</th>\n",
       "      <td>239</td>\n",
       "    </tr>\n",
       "    <tr>\n",
       "      <th>just</th>\n",
       "      <td>216</td>\n",
       "    </tr>\n",
       "    <tr>\n",
       "      <th>cards</th>\n",
       "      <td>195</td>\n",
       "    </tr>\n",
       "    <tr>\n",
       "      <th>box</th>\n",
       "      <td>173</td>\n",
       "    </tr>\n",
       "    <tr>\n",
       "      <th>set</th>\n",
       "      <td>158</td>\n",
       "    </tr>\n",
       "    <tr>\n",
       "      <th>thanks</th>\n",
       "      <td>156</td>\n",
       "    </tr>\n",
       "    <tr>\n",
       "      <th>know</th>\n",
       "      <td>153</td>\n",
       "    </tr>\n",
       "    <tr>\n",
       "      <th>need</th>\n",
       "      <td>148</td>\n",
       "    </tr>\n",
       "    <tr>\n",
       "      <th>come</th>\n",
       "      <td>146</td>\n",
       "    </tr>\n",
       "    <tr>\n",
       "      <th>old</th>\n",
       "      <td>146</td>\n",
       "    </tr>\n",
       "    <tr>\n",
       "      <th>hope</th>\n",
       "      <td>143</td>\n",
       "    </tr>\n",
       "    <tr>\n",
       "      <th>year</th>\n",
       "      <td>140</td>\n",
       "    </tr>\n",
       "    <tr>\n",
       "      <th>use</th>\n",
       "      <td>139</td>\n",
       "    </tr>\n",
       "    <tr>\n",
       "      <th>bought</th>\n",
       "      <td>136</td>\n",
       "    </tr>\n",
       "    <tr>\n",
       "      <th>good</th>\n",
       "      <td>130</td>\n",
       "    </tr>\n",
       "    <tr>\n",
       "      <th>helps</th>\n",
       "      <td>126</td>\n",
       "    </tr>\n",
       "    <tr>\n",
       "      <th>fit</th>\n",
       "      <td>124</td>\n",
       "    </tr>\n",
       "    <tr>\n",
       "      <th>sorry</th>\n",
       "      <td>118</td>\n",
       "    </tr>\n",
       "    <tr>\n",
       "      <th>think</th>\n",
       "      <td>117</td>\n",
       "    </tr>\n",
       "    <tr>\n",
       "      <th>game</th>\n",
       "      <td>116</td>\n",
       "    </tr>\n",
       "    <tr>\n",
       "      <th>buy</th>\n",
       "      <td>114</td>\n",
       "    </tr>\n",
       "    <tr>\n",
       "      <th>don</th>\n",
       "      <td>109</td>\n",
       "    </tr>\n",
       "    <tr>\n",
       "      <th>long</th>\n",
       "      <td>103</td>\n",
       "    </tr>\n",
       "    <tr>\n",
       "      <th>play</th>\n",
       "      <td>102</td>\n",
       "    </tr>\n",
       "    <tr>\n",
       "      <th>pack</th>\n",
       "      <td>96</td>\n",
       "    </tr>\n",
       "    <tr>\n",
       "      <th>small</th>\n",
       "      <td>96</td>\n",
       "    </tr>\n",
       "    <tr>\n",
       "      <th>order</th>\n",
       "      <td>95</td>\n",
       "    </tr>\n",
       "  </tbody>\n",
       "</table>\n",
       "</div>"
      ],
      "text/plain": [
       "        Frequency\n",
       "does          391\n",
       "yes           333\n",
       "hi            293\n",
       "size          239\n",
       "just          216\n",
       "cards         195\n",
       "box           173\n",
       "set           158\n",
       "thanks        156\n",
       "know          153\n",
       "need          148\n",
       "come          146\n",
       "old           146\n",
       "hope          143\n",
       "year          140\n",
       "use           139\n",
       "bought        136\n",
       "good          130\n",
       "helps         126\n",
       "fit           124\n",
       "sorry         118\n",
       "think         117\n",
       "game          116\n",
       "buy           114\n",
       "don           109\n",
       "long          103\n",
       "play          102\n",
       "pack           96\n",
       "small          96\n",
       "order          95"
      ]
     },
     "execution_count": 13,
     "metadata": {},
     "output_type": "execute_result"
    }
   ],
   "source": [
    "vectorize(questions)"
   ]
  },
  {
   "cell_type": "markdown",
   "metadata": {},
   "source": [
    "Among these, words like 'game', 'old', 'excellent' and 'quality' might be of some interest. However, it's a bit tricky to derive very much meaning from standalone words, so we should look at word groups."
   ]
  },
  {
   "cell_type": "markdown",
   "metadata": {},
   "source": [
    "### Bigrams and trigrams\n",
    "\n",
    "#### Bigrams"
   ]
  },
  {
   "cell_type": "code",
   "execution_count": 14,
   "metadata": {
    "ExecuteTime": {
     "end_time": "2021-06-17T22:34:18.603810Z",
     "start_time": "2021-06-17T22:34:18.596397Z"
    }
   },
   "outputs": [],
   "source": [
    "#can try to modify stopwords (may not be needed if clean up strings pre-vectorizing)\n",
    "#my_stop_words = text.ENGLISH_STOP_WORDS.union([2015,'2014'])\n",
    "#vectorizer = TfidfVectorizer(ngram_range=(1,1), stop_words=my_stop_words)"
   ]
  },
  {
   "cell_type": "code",
   "execution_count": 15,
   "metadata": {
    "ExecuteTime": {
     "end_time": "2021-06-17T22:34:23.059494Z",
     "start_time": "2021-06-17T22:34:18.610878Z"
    }
   },
   "outputs": [
    {
     "data": {
      "text/plain": [
       "year old           2728\n",
       "good quality       1788\n",
       "amazon customer    1392\n",
       "value money        1009\n",
       "good value          931\n",
       "great fun           754\n",
       "really good         623\n",
       "son loves           593\n",
       "great value         515\n",
       "great product       506\n",
       "old son             476\n",
       "30 dec              452\n",
       "great quality       418\n",
       "fast delivery       416\n",
       "29 dec              406\n",
       "dtype: int64"
      ]
     },
     "execution_count": 15,
     "metadata": {},
     "output_type": "execute_result"
    }
   ],
   "source": [
    "#reviews -- looking for signal!\n",
    "cvec_2 = CountVectorizer(max_features=2000,\n",
    "    ngram_range=(2,2),stop_words=\"english\") #need to mod stop words\n",
    "#by removing months + years -- look out for abbreviations; or do at cleaning step\n",
    "#see https://stackoverflow.com/questions/26826002/adding-words-to-stop-words-list-in-tfidfvectorizer-in-sklearn\n",
    "bigrams = cvec_2.fit_transform(reviews)\n",
    "bigrams = pd.DataFrame(\n",
    "    bigrams.todense(), columns=cvec_2.get_feature_names())\n",
    "bigrams.sum().sort_values(ascending=False).head(15)"
   ]
  },
  {
   "cell_type": "code",
   "execution_count": 16,
   "metadata": {
    "ExecuteTime": {
     "end_time": "2021-06-17T22:34:23.523004Z",
     "start_time": "2021-06-17T22:34:23.064194Z"
    }
   },
   "outputs": [
    {
     "data": {
      "text/plain": [
       "hope helps       115\n",
       "year old          97\n",
       "does come         61\n",
       "don know          34\n",
       "hi yes            27\n",
       "yes does          25\n",
       "kind regards      23\n",
       "thanks hi         21\n",
       "sorry don         18\n",
       "does know         17\n",
       "don think         15\n",
       "does include      14\n",
       "suitable year     13\n",
       "make sure         13\n",
       "let know          13\n",
       "dtype: int64"
      ]
     },
     "execution_count": 16,
     "metadata": {},
     "output_type": "execute_result"
    }
   ],
   "source": [
    "#cust q's\n",
    "cvec_2 = CountVectorizer(\n",
    "    max_features = 2000, ngram_range=(2,2),stop_words=\"english\") \n",
    "bigrams = cvec_2.fit_transform(questions)\n",
    "bigrams = pd.DataFrame(\n",
    "    bigrams.todense(), columns=cvec_2.get_feature_names())\n",
    "bigrams.sum().sort_values(ascending=False).head(15)"
   ]
  },
  {
   "cell_type": "markdown",
   "metadata": {},
   "source": [
    "#### Trigrams"
   ]
  },
  {
   "cell_type": "code",
   "execution_count": 17,
   "metadata": {
    "ExecuteTime": {
     "end_time": "2021-06-17T22:34:28.077409Z",
     "start_time": "2021-06-17T22:34:23.525685Z"
    },
    "scrolled": true
   },
   "outputs": [
    {
     "data": {
      "text/plain": [
       "good value money            408\n",
       "year old son                371\n",
       "jan amazon customer         297\n",
       "dec amazon customer         285\n",
       "bought year old             264\n",
       "people following review     239\n",
       "following review helpful    239\n",
       "year old daughter           234\n",
       "great value money           211\n",
       "year old loves              206\n",
       "year old grandson           190\n",
       "nov amazon customer         189\n",
       "feb amazon customer         145\n",
       "excellent value money       123\n",
       "amazon customer jan         117\n",
       "old son loves               114\n",
       "present year old            105\n",
       "oct amazon customer         102\n",
       "mar amazon customer          95\n",
       "really good quality          94\n",
       "bought christmas present     94\n",
       "10 year old                  93\n",
       "arrived good time            91\n",
       "http ecx images              88\n",
       "amazon com images            88\n",
       "ecx images amazon            88\n",
       "images amazon com            88\n",
       "amazon customer dec          83\n",
       "500 reviewervine voice       77\n",
       "jan year old                 76\n",
       "year old nephew              74\n",
       "year old boy                 73\n",
       "50 reviewervine voice        68\n",
       "good quality product         66\n",
       "year old granddaughter       62\n",
       "amazon customer nov          61\n",
       "year old loved               60\n",
       "jan good quality             59\n",
       "hall fametop 50              59\n",
       "amazon customer feb          59\n",
       "amazon customer 26           58\n",
       "gift year old                57\n",
       "old daughter loves           57\n",
       "amazon customer 27           57\n",
       "just right size              56\n",
       "11 year old                  55\n",
       "amazon customer 13           53\n",
       "value money stars            52\n",
       "fametop 50 reviewervine      52\n",
       "little boy loves             51\n",
       "dtype: int64"
      ]
     },
     "execution_count": 17,
     "metadata": {},
     "output_type": "execute_result"
    }
   ],
   "source": [
    "#reviews\n",
    "cvec_3 = CountVectorizer(max_features=2000,\n",
    "                         ngram_range=(3,3),stop_words=\"english\") \n",
    "trigrams = cvec_3.fit_transform(reviews)\n",
    "trigrams = pd.DataFrame(trigrams.todense(), columns=cvec_3.get_feature_names())\n",
    "trigrams.sum().sort_values(ascending=False).head(50)"
   ]
  },
  {
   "cell_type": "markdown",
   "metadata": {},
   "source": [
    "Some possibly interesting bits here are 'year old son', 'bought year old' and 'year old daughter', which tie in well with the kinds of things we saw people shopping for in our dataset. There is also something about the good quality and value for the money, which is promising, and things about something-year old's loving [the product]."
   ]
  },
  {
   "cell_type": "code",
   "execution_count": 18,
   "metadata": {
    "ExecuteTime": {
     "end_time": "2021-06-17T22:34:28.642352Z",
     "start_time": "2021-06-17T22:34:28.082932Z"
    },
    "scrolled": true
   },
   "outputs": [
    {
     "data": {
      "text/plain": [
       "sorry don know           15\n",
       "suitable year old        11\n",
       "hope helps does           8\n",
       "does item come            7\n",
       "www amazon uk             6\n",
       "does come pump            5\n",
       "bought year old           5\n",
       "hot wheels cars           5\n",
       "http www amazon           5\n",
       "knight castle model       5\n",
       "mega metagross ex         5\n",
       "amazon uk gp              5\n",
       "year old boy              5\n",
       "official rainbow loom     5\n",
       "year old loves            5\n",
       "year old son              5\n",
       "year old year             5\n",
       "old year old              5\n",
       "hi thanks question        5\n",
       "halloi think 10           4\n",
       "enjoy nice shopping       4\n",
       "does include binder       4\n",
       "ex included enjoy         4\n",
       "think 10 years            4\n",
       "10 years parts            4\n",
       "dtype: int64"
      ]
     },
     "execution_count": 18,
     "metadata": {},
     "output_type": "execute_result"
    }
   ],
   "source": [
    "#cust q's\n",
    "cvec_3 = CountVectorizer(max_features=2000,\n",
    "    ngram_range=(3,3),stop_words=\"english\") \n",
    "trigrams = cvec_3.fit_transform(questions)\n",
    "trigrams = pd.DataFrame(trigrams.todense(), columns=cvec_3.get_feature_names())\n",
    "trigrams.sum().sort_values(ascending=False).head(25)"
   ]
  },
  {
   "cell_type": "markdown",
   "metadata": {},
   "source": [
    "\"Suitable year old\" is actually revealing about a top concern, as are questions about parts -- so this is helpful."
   ]
  },
  {
   "cell_type": "markdown",
   "metadata": {},
   "source": [
    "### Customer review sentiment analysis"
   ]
  },
  {
   "cell_type": "code",
   "execution_count": 19,
   "metadata": {
    "ExecuteTime": {
     "end_time": "2021-06-17T22:34:28.686714Z",
     "start_time": "2021-06-17T22:34:28.646530Z"
    }
   },
   "outputs": [
    {
     "name": "stdout",
     "output_type": "stream",
     "text": [
      "9979\n"
     ]
    },
    {
     "data": {
      "text/plain": [
       "[\"Worth Buying For The Pictures Alone (As Ever) 4.0 6 By Copnovelist on 6 Part of the magic for me growing up as a boy was to buy (or be given) the new Hornby catalogue every year, even if it included 90% of the same products as the previous year. I've still got my old ones dating back to the 70s and 80s somewhere. These days the catalogue is especially informative in that it tells you the vintage of the rolling stock which is useful if you are dedicating your railway to one particular era and train company. Amazing detail fabulous photography. 5.0 11 By richard on 11 Amazing detail, every credit to the photographer in this book, a worthy reference manual, as well as a sales brochure. even if you only have a passing interest in the hobby you will be transported to another time when we were all younger and in awe of the big trains. 'Great Purchase' 5.0 23 By Pinkhandbag on 23 This was purchased on behalf of my Dad. He is always asking me to look up 00 gauge engines online, so this has been a good buy as he can look at it anytime. Would definitely buy the next one 2015!It arrived quickly and in perfect condition :-) Great Catalogue 5.0 11 Jun. By Gary John Mapson on 11 Jun. Everything I really needed to see what was on offer from Hornby in the way of trains. Would not have minded it included an RRP as well though I collect them all as the glossy pictures are great and it is nice that you can still get ... 5.0 7 Dec. By David Baker on 7 Dec. I collect them all as the glossy pictures are great and it is nice that you can still get catalogs to collect. Great catalogue 5.0 20 Mar. By John A. Day on 20 Mar. What a great book. Extremely useful insight to all future christmas presents. Useful 5.0 7 Oct. By T. Davies on 7 Oct. Useful info for someonelike me starting back into the hobby after many years hornbys latest catalogue. 5.0 1 Dec. By John Butlin on 1 Dec. A well produced very good quality catalogue.Super quality pictures.\",\n",
       " 'Four Stars 4.0 18 Dec. By kenneth bell on 18 Dec. Very happy with the communication with funkybuys Five Stars 5.0 14 Jan. By moosixty on 14 Jan. Great buy.',\n",
       " \"**Highly Recommended!** 5.0 26 By Simon.B :-) on 26 Simple & GREAT FUN for 5+My nephews face was amazing when he opened this for his birthday!! His mouth dropped open with surprise! (no joke, it literally did!)It's very easy to connect the plastic track/assemble, it takes 2 mins. It's very easy to connect the trains together and apply to track.All you need is two AA batteries and time to watch your child enjoy themselves!We even added homemade tunnels to this to make it more fun, we simply cut holes in cardboard boxes to put around certain parts of the track!This is brilliant for very young kids if they're very interested in trains. This gets them started in the hobby and doesn't cost much at all! Excellent product 5.0 29 Jun. By Trevor on 29 Jun. Excellent product everybody should have one or to of product excellent 100 percent ok speedy delivery excellent i give it five stars CLASSIC TOY TRAIN SET TRACK CARRIAGES LIGHT ENGINE BOXED BOYS KIDS BATTERYdouble aa battery goes in top of engine Review book finding love again 5.0 20 Aug. By Janet on 20 Aug. I was extremely pleased with the train set really good value for money. I would not recommend this item 1.0 11 Dec. By ann milburn on 11 Dec. i found this item, not suitable for young children, very difficult to keep the carriages together and the whole thing kept coming off the track.All very thin plastic. I would not recommend this item. ... for my young nephew for Christmas I was very disappointed but as it was only £7 it was not ... 1.0 11 Jan. By T. F. Snowdon on 11 Jan. The Train did not work and as it was a present for my young nephew for Christmas I was very disappointed but as it was only £7 it was not worth the fuss of ordering another Better than expected 4.0 22 Dec. By Kindle Customer on 22 Dec. Better than expected. It has a proper oval of track rather than just a circle. My 2 year old grandsn loves it although he finds it difficult to put on the track. Brilliant little train 5.0 28 Dec. By LorsF on 28 Dec. Brilliant little train. Bought for my son who was looking for a train that looks like the polar express - he was not disappointed. Great value. ok train , but carriages kept coming off track 3.0 16 Dec. By mrs nice on 16 Dec. train carriages kept falling track of and the connectors not good. better on the floor\",\n",
       " \"I love it 5.0 22 By Lilla Lukacs on 22 I love it. Perfect with the earlier ordered locomotive.Again: I would recommend it to the masters of the topic. It's not just a toy.\",\n",
       " \"Birthday present 5.0 14 By Love my Dog on 14 Bought this for my Grandson's birthday. He is currently collecting some bits for his train set. Keeps him away from the TV and computers. So think it was well worth it. john burns 4.0 17 Jan. By john burns on 17 Jan. only four this time i here you say but i still highly recommend this product as it is a very well engineered piece of equipment and a very worth while addition to every railway enthusiasts collection young or old alike even those who are just starting out this is a good place to get started she also has the lines (a good body) she is neat sweet and petite she also came well boxed and securely wrapped she also came in on time and delivered by courteous gentleman again many thanks Get that steam up. 5.0 2 Nov. By George A. Nott on 2 Nov. A beautiful little model engine of years gone by.\"]"
      ]
     },
     "execution_count": 19,
     "metadata": {},
     "output_type": "execute_result"
    }
   ],
   "source": [
    "#First, convert to a list of strings; full reference in this entire section to the sentiment analysis lesson from Heather Robbins\n",
    "corpus = list(reviews)\n",
    "while(\"\" in corpus) : corpus.remove(\"\") #from: https://www.geeksforgeeks.org/python-remove-empty-strings-from-list-of-strings/\n",
    "print(len(corpus))\n",
    "corpus[:5]"
   ]
  },
  {
   "cell_type": "code",
   "execution_count": 20,
   "metadata": {
    "ExecuteTime": {
     "end_time": "2021-06-17T22:34:50.965322Z",
     "start_time": "2021-06-17T22:34:28.689827Z"
    }
   },
   "outputs": [],
   "source": [
    "#sentiment analysis\n",
    "#instantiate VADER\n",
    "vader = SentimentIntensityAnalyzer()\n",
    "\n",
    "#loop through reviews\n",
    "sentiment = []    \n",
    "\n",
    "for review in corpus:\n",
    "    scores = vader.polarity_scores(review)\n",
    "    scores['customer_reviews'] = review\n",
    "    sentiment.append(scores)\n",
    "\n",
    "sentiment_df = pd.DataFrame(sentiment)\n",
    "\n",
    "#reset indices to match\n",
    "ecom.reset_index(inplace=True)\n",
    "sentiment_df.reset_index(inplace=True)"
   ]
  },
  {
   "cell_type": "code",
   "execution_count": 21,
   "metadata": {
    "ExecuteTime": {
     "end_time": "2021-06-17T22:34:51.010780Z",
     "start_time": "2021-06-17T22:34:50.967533Z"
    }
   },
   "outputs": [
    {
     "data": {
      "text/html": [
       "<div>\n",
       "<style scoped>\n",
       "    .dataframe tbody tr th:only-of-type {\n",
       "        vertical-align: middle;\n",
       "    }\n",
       "\n",
       "    .dataframe tbody tr th {\n",
       "        vertical-align: top;\n",
       "    }\n",
       "\n",
       "    .dataframe thead th {\n",
       "        text-align: right;\n",
       "    }\n",
       "</style>\n",
       "<table border=\"1\" class=\"dataframe\">\n",
       "  <thead>\n",
       "    <tr style=\"text-align: right;\">\n",
       "      <th></th>\n",
       "      <th>pos</th>\n",
       "      <th>neg</th>\n",
       "      <th>compound</th>\n",
       "      <th>neu</th>\n",
       "    </tr>\n",
       "    <tr>\n",
       "      <th>target</th>\n",
       "      <th></th>\n",
       "      <th></th>\n",
       "      <th></th>\n",
       "      <th></th>\n",
       "    </tr>\n",
       "  </thead>\n",
       "  <tbody>\n",
       "    <tr>\n",
       "      <th>0.0</th>\n",
       "      <td>0.251251</td>\n",
       "      <td>0.020827</td>\n",
       "      <td>0.797530</td>\n",
       "      <td>0.727914</td>\n",
       "    </tr>\n",
       "    <tr>\n",
       "      <th>2.3</th>\n",
       "      <td>0.147000</td>\n",
       "      <td>0.086000</td>\n",
       "      <td>0.873500</td>\n",
       "      <td>0.767000</td>\n",
       "    </tr>\n",
       "    <tr>\n",
       "      <th>3.0</th>\n",
       "      <td>0.130800</td>\n",
       "      <td>0.027200</td>\n",
       "      <td>0.720760</td>\n",
       "      <td>0.842200</td>\n",
       "    </tr>\n",
       "    <tr>\n",
       "      <th>3.3</th>\n",
       "      <td>0.192500</td>\n",
       "      <td>0.031500</td>\n",
       "      <td>0.965550</td>\n",
       "      <td>0.776000</td>\n",
       "    </tr>\n",
       "    <tr>\n",
       "      <th>3.6</th>\n",
       "      <td>0.290333</td>\n",
       "      <td>0.039000</td>\n",
       "      <td>0.825567</td>\n",
       "      <td>0.670667</td>\n",
       "    </tr>\n",
       "    <tr>\n",
       "      <th>3.7</th>\n",
       "      <td>0.124000</td>\n",
       "      <td>0.036500</td>\n",
       "      <td>0.499500</td>\n",
       "      <td>0.839500</td>\n",
       "    </tr>\n",
       "    <tr>\n",
       "      <th>3.8</th>\n",
       "      <td>0.212000</td>\n",
       "      <td>0.030000</td>\n",
       "      <td>0.990500</td>\n",
       "      <td>0.758000</td>\n",
       "    </tr>\n",
       "    <tr>\n",
       "      <th>3.9</th>\n",
       "      <td>0.198714</td>\n",
       "      <td>0.061429</td>\n",
       "      <td>0.959229</td>\n",
       "      <td>0.739857</td>\n",
       "    </tr>\n",
       "    <tr>\n",
       "      <th>4.0</th>\n",
       "      <td>0.239160</td>\n",
       "      <td>0.024778</td>\n",
       "      <td>0.816897</td>\n",
       "      <td>0.736063</td>\n",
       "    </tr>\n",
       "    <tr>\n",
       "      <th>4.1</th>\n",
       "      <td>0.240421</td>\n",
       "      <td>0.035310</td>\n",
       "      <td>0.890468</td>\n",
       "      <td>0.724234</td>\n",
       "    </tr>\n",
       "    <tr>\n",
       "      <th>4.2</th>\n",
       "      <td>0.230290</td>\n",
       "      <td>0.032364</td>\n",
       "      <td>0.872202</td>\n",
       "      <td>0.737346</td>\n",
       "    </tr>\n",
       "    <tr>\n",
       "      <th>4.3</th>\n",
       "      <td>0.234919</td>\n",
       "      <td>0.030211</td>\n",
       "      <td>0.869267</td>\n",
       "      <td>0.734889</td>\n",
       "    </tr>\n",
       "    <tr>\n",
       "      <th>4.4</th>\n",
       "      <td>0.242795</td>\n",
       "      <td>0.027785</td>\n",
       "      <td>0.911394</td>\n",
       "      <td>0.729369</td>\n",
       "    </tr>\n",
       "    <tr>\n",
       "      <th>4.6</th>\n",
       "      <td>0.243503</td>\n",
       "      <td>0.025523</td>\n",
       "      <td>0.889846</td>\n",
       "      <td>0.730967</td>\n",
       "    </tr>\n",
       "    <tr>\n",
       "      <th>4.7</th>\n",
       "      <td>0.251782</td>\n",
       "      <td>0.024061</td>\n",
       "      <td>0.885856</td>\n",
       "      <td>0.724127</td>\n",
       "    </tr>\n",
       "    <tr>\n",
       "      <th>4.8</th>\n",
       "      <td>0.249559</td>\n",
       "      <td>0.023078</td>\n",
       "      <td>0.890653</td>\n",
       "      <td>0.727344</td>\n",
       "    </tr>\n",
       "    <tr>\n",
       "      <th>4.9</th>\n",
       "      <td>0.243705</td>\n",
       "      <td>0.026451</td>\n",
       "      <td>0.865252</td>\n",
       "      <td>0.729861</td>\n",
       "    </tr>\n",
       "  </tbody>\n",
       "</table>\n",
       "</div>"
      ],
      "text/plain": [
       "             pos       neg  compound       neu\n",
       "target                                        \n",
       "0.0     0.251251  0.020827  0.797530  0.727914\n",
       "2.3     0.147000  0.086000  0.873500  0.767000\n",
       "3.0     0.130800  0.027200  0.720760  0.842200\n",
       "3.3     0.192500  0.031500  0.965550  0.776000\n",
       "3.6     0.290333  0.039000  0.825567  0.670667\n",
       "3.7     0.124000  0.036500  0.499500  0.839500\n",
       "3.8     0.212000  0.030000  0.990500  0.758000\n",
       "3.9     0.198714  0.061429  0.959229  0.739857\n",
       "4.0     0.239160  0.024778  0.816897  0.736063\n",
       "4.1     0.240421  0.035310  0.890468  0.724234\n",
       "4.2     0.230290  0.032364  0.872202  0.737346\n",
       "4.3     0.234919  0.030211  0.869267  0.734889\n",
       "4.4     0.242795  0.027785  0.911394  0.729369\n",
       "4.6     0.243503  0.025523  0.889846  0.730967\n",
       "4.7     0.251782  0.024061  0.885856  0.724127\n",
       "4.8     0.249559  0.023078  0.890653  0.727344\n",
       "4.9     0.243705  0.026451  0.865252  0.729861"
      ]
     },
     "execution_count": 21,
     "metadata": {},
     "output_type": "execute_result"
    }
   ],
   "source": [
    "#set target to plot sentiment\n",
    "sentiment_df['target'] =ecom['average_review_rating']\n",
    "\n",
    "#Plot the average positivity, negativity and compound scores for target\n",
    "#plt.figure(figsize=(20,12));\n",
    "sentiments=sentiment_df.groupby(\n",
    "    'target').mean()[['pos', 'neg', 'compound', 'neu']]\n",
    "\n",
    "sentiments"
   ]
  },
  {
   "cell_type": "markdown",
   "metadata": {},
   "source": [
    "#### Sentiment plot"
   ]
  },
  {
   "cell_type": "code",
   "execution_count": 22,
   "metadata": {
    "ExecuteTime": {
     "end_time": "2021-06-17T22:34:51.916124Z",
     "start_time": "2021-06-17T22:34:51.013764Z"
    },
    "scrolled": true
   },
   "outputs": [
    {
     "data": {
      "image/png": "[encoded data removed]",
      "text/plain": [
       "<Figure size 432x288 with 1 Axes>"
      ]
     },
     "metadata": {},
     "output_type": "display_data"
    }
   ],
   "source": [
    "#sentiments.plot(kind='line'); #help from Gwen Rathgeber on this plot\n",
    "\n",
    "sns.regplot(\n",
    "    data=sentiments, x=sentiments.index, y = 'pos', color = 'green', \n",
    "    label = 'pos')\n",
    "\n",
    "sns.regplot(\n",
    "    data=sentiments, x=sentiments.index, y = 'neg', color = 'red', \n",
    "    label = 'neg')\n",
    "\n",
    "\n",
    "plt.title('Average Positive, Negative & Compound Scores', size = 15);\n",
    "plt.xticks(size=13);\n",
    "plt.yticks(size=13);\n",
    "plt.ylabel('Sentiment score', size=13);\n",
    "plt.xlabel('Target: Star rating', size=13);\n",
    "plt.savefig('../assets/sentiment.jpg');\n",
    "plt.legend();"
   ]
  },
  {
   "cell_type": "markdown",
   "metadata": {},
   "source": [
    "We can actually see a linear relationship here!"
   ]
  },
  {
   "cell_type": "code",
   "execution_count": 23,
   "metadata": {
    "ExecuteTime": {
     "end_time": "2021-06-17T22:34:51.922513Z",
     "start_time": "2021-06-17T22:34:51.918826Z"
    }
   },
   "outputs": [],
   "source": [
    "#explore specific negative terms!!\n",
    "#get sentiment_df columns; then filter on the 'neg' column - only if time"
   ]
  },
  {
   "cell_type": "markdown",
   "metadata": {},
   "source": [
    "## Modeling - regression\n",
    "\n",
    "Since our target, average ratings, is continous and known, we will use supervised regression modeling.\n",
    "\n",
    "Our hypothesis is that text may be a fairly weak predictor of the rating. However, we are hoping to come across some speficic negative and non-neutral words that can help us explain some of the lower side of the ratings.\n",
    "\n",
    "We should also remember that not every product that's rated may necessarily come with a written review. Lastly, some products may not have any rating."
   ]
  },
  {
   "cell_type": "markdown",
   "metadata": {},
   "source": [
    "### Prepare text for modeling"
   ]
  },
  {
   "cell_type": "code",
   "execution_count": 24,
   "metadata": {
    "ExecuteTime": {
     "end_time": "2021-06-17T22:35:08.061051Z",
     "start_time": "2021-06-17T22:34:51.927518Z"
    }
   },
   "outputs": [],
   "source": [
    "#instantiate cvec\n",
    "cvec_modeling = CountVectorizer(\n",
    "    stop_words = 'english', \n",
    "    max_features = 2_000, #init guess for efficiency; + use grid search? (optional)\n",
    "    ngram_range=(1, 5), #from Gwen R.: you give ngram_range a tuple which is a range, \n",
    "    #so (2,5) is two-to-five-word combination\n",
    ") #tinker w/ max features dep. on how long runs\n",
    "\n",
    "#new word array w/ cvec transform; set X and y\n",
    "#consider tfid vectorizer\n",
    "cvec_df = cvec_modeling.fit_transform(sentiment_df['customer_reviews'])\n",
    "\n",
    "cvec_df=pd.DataFrame(\n",
    "    cvec_df.todense(), columns = cvec_modeling.get_feature_names())"
   ]
  },
  {
   "cell_type": "markdown",
   "metadata": {},
   "source": [
    "### Feature selection"
   ]
  },
  {
   "cell_type": "markdown",
   "metadata": {},
   "source": [
    "It's time time define our features set. We are using sentiment, our vectorized text, our categorized columns and all the numeric inputs including price.\n",
    "\n",
    "We need to re-merge all of our data of interest from the various slices we may have created."
   ]
  },
  {
   "cell_type": "code",
   "execution_count": 25,
   "metadata": {
    "ExecuteTime": {
     "end_time": "2021-06-17T22:35:49.491080Z",
     "start_time": "2021-06-17T22:35:08.063043Z"
    },
    "scrolled": true
   },
   "outputs": [],
   "source": [
    "#concatenate all necessary input data\n",
    "features=pd.concat([ecom, sentiment_df, cvec_df],axis=1).drop_duplicates()\n",
    "#, ignore_index=True) # we already have reset index earlier"
   ]
  },
  {
   "cell_type": "code",
   "execution_count": 26,
   "metadata": {
    "ExecuteTime": {
     "end_time": "2021-06-17T22:35:49.500403Z",
     "start_time": "2021-06-17T22:35:49.494784Z"
    }
   },
   "outputs": [
    {
     "data": {
      "text/plain": [
       "(9982, 14869)"
      ]
     },
     "execution_count": 26,
     "metadata": {},
     "output_type": "execute_result"
    }
   ],
   "source": [
    "features.shape"
   ]
  },
  {
   "cell_type": "code",
   "execution_count": 27,
   "metadata": {
    "ExecuteTime": {
     "end_time": "2021-06-17T22:35:49.513590Z",
     "start_time": "2021-06-17T22:35:49.502881Z"
    }
   },
   "outputs": [
    {
     "data": {
      "text/plain": [
       "Index(['index', 'uniq_id', 'price', 'number_available_in_stock',\n",
       "       'number_of_reviews', 'number_of_answered_questions',\n",
       "       'average_review_rating', 'customers_who_bought_this_item_also_bought',\n",
       "       'description', 'product_information',\n",
       "       ...\n",
       "       'years ago', 'years old', 'yellow', 'yes', 'young', 'young children',\n",
       "       'younger', 'youngest', 'yr', 'yr old'],\n",
       "      dtype='object', length=14869)"
      ]
     },
     "execution_count": 27,
     "metadata": {},
     "output_type": "execute_result"
    }
   ],
   "source": [
    "features.columns"
   ]
  },
  {
   "cell_type": "code",
   "execution_count": 28,
   "metadata": {
    "ExecuteTime": {
     "end_time": "2021-06-17T22:35:49.541149Z",
     "start_time": "2021-06-17T22:35:49.525845Z"
    }
   },
   "outputs": [
    {
     "data": {
      "text/plain": [
       "pandas.core.frame.DataFrame"
      ]
     },
     "execution_count": 28,
     "metadata": {},
     "output_type": "execute_result"
    }
   ],
   "source": [
    "type(features)"
   ]
  },
  {
   "cell_type": "markdown",
   "metadata": {},
   "source": [
    "The time has come -- we knew, this might cause an issue.\n",
    "We need to replace 0's in the target with something. Since 0's are not nulls, they did not automatically get imputed earlier during cleaning, and now this is causing issues with the model.\n",
    "We are going to replace those 0's with the column mean."
   ]
  },
  {
   "cell_type": "code",
   "execution_count": 29,
   "metadata": {
    "ExecuteTime": {
     "end_time": "2021-06-17T22:35:49.567207Z",
     "start_time": "2021-06-17T22:35:49.545146Z"
    }
   },
   "outputs": [],
   "source": [
    "#replace 0's in target\n",
    "#from the docstring: series.replace(0, <new num>)\n",
    "features['average_review_rating']=features['average_review_rating'].replace(\n",
    "    0,features['average_review_rating'].mean())"
   ]
  },
  {
   "cell_type": "code",
   "execution_count": 30,
   "metadata": {
    "ExecuteTime": {
     "end_time": "2021-06-17T22:35:49.587307Z",
     "start_time": "2021-06-17T22:35:49.573148Z"
    }
   },
   "outputs": [
    {
     "data": {
      "text/plain": [
       "2.096584    5140\n",
       "4.000000    2030\n",
       "4.800000     567\n",
       "4.700000     528\n",
       "4.300000     407\n",
       "4.600000     392\n",
       "4.400000     298\n",
       "4.900000     237\n",
       "4.200000     217\n",
       "4.100000     145\n",
       "3.900000       7\n",
       "3.000000       5\n",
       "3.600000       3\n",
       "3.700000       2\n",
       "3.300000       2\n",
       "3.800000       1\n",
       "2.300000       1\n",
       "Name: average_review_rating, dtype: int64"
      ]
     },
     "execution_count": 30,
     "metadata": {},
     "output_type": "execute_result"
    }
   ],
   "source": [
    "#confirm\n",
    "features['average_review_rating'].value_counts()"
   ]
  },
  {
   "cell_type": "code",
   "execution_count": 31,
   "metadata": {
    "ExecuteTime": {
     "end_time": "2021-06-17T22:35:49.596701Z",
     "start_time": "2021-06-17T22:35:49.590494Z"
    }
   },
   "outputs": [],
   "source": [
    "#set target\n",
    "y = features['average_review_rating']\n",
    "#y = np.array(y)"
   ]
  },
  {
   "cell_type": "code",
   "execution_count": 32,
   "metadata": {
    "ExecuteTime": {
     "end_time": "2021-06-17T22:35:50.063402Z",
     "start_time": "2021-06-17T22:35:49.600568Z"
    }
   },
   "outputs": [],
   "source": [
    "#define actual features matrix\n",
    "X = features.drop( \n",
    "    columns = [\n",
    "        'target', #always drop target\n",
    "        'average_review_rating', #always drop target (this is a dupe from the concat)\n",
    "        'customer_reviews', #been vectorized; + note that encoded categoricals \n",
    "        #originally replaced initial columns so do not need to be dropped\n",
    "        #explicitly\n",
    "        'index', #drop unnecessary index we created on concat\n",
    "        'uniq_id', #junk\n",
    "        'number_available_in_stock', #junk\n",
    "        'customers_who_bought_this_item_also_bought', #unusuable\n",
    "        'description', #unusable\n",
    "        'product_information', #unusable\n",
    "        'product_description', #unusable\n",
    "        'items_customers_buy_after_viewing_this_item', #unusable\n",
    "        'customer_questions_and_answers', #unusuable\n",
    "        'sellers', #unusable\n",
    "   #     'product_name' #was supposed to be encoded\n",
    "    ])#,inplace=True)\n",
    "\n",
    "#Expect to use from orig ecom df: 'price', 'number_of_reviews',\n",
    "#'number_of_answered_questions', 'average_review_rating'"
   ]
  },
  {
   "cell_type": "code",
   "execution_count": 33,
   "metadata": {
    "ExecuteTime": {
     "end_time": "2021-06-17T22:35:50.105855Z",
     "start_time": "2021-06-17T22:35:50.065665Z"
    }
   },
   "outputs": [
    {
     "name": "stdout",
     "output_type": "stream",
     "text": [
      "<class 'pandas.core.frame.DataFrame'>\n",
      "(9982, 14869)\n"
     ]
    },
    {
     "data": {
      "text/html": [
       "<div>\n",
       "<style scoped>\n",
       "    .dataframe tbody tr th:only-of-type {\n",
       "        vertical-align: middle;\n",
       "    }\n",
       "\n",
       "    .dataframe tbody tr th {\n",
       "        vertical-align: top;\n",
       "    }\n",
       "\n",
       "    .dataframe thead th {\n",
       "        text-align: right;\n",
       "    }\n",
       "</style>\n",
       "<table border=\"1\" class=\"dataframe\">\n",
       "  <thead>\n",
       "    <tr style=\"text-align: right;\">\n",
       "      <th></th>\n",
       "      <th>index</th>\n",
       "      <th>uniq_id</th>\n",
       "      <th>price</th>\n",
       "      <th>number_available_in_stock</th>\n",
       "      <th>number_of_reviews</th>\n",
       "      <th>number_of_answered_questions</th>\n",
       "      <th>average_review_rating</th>\n",
       "      <th>customers_who_bought_this_item_also_bought</th>\n",
       "      <th>description</th>\n",
       "      <th>product_information</th>\n",
       "      <th>...</th>\n",
       "      <th>years ago</th>\n",
       "      <th>years old</th>\n",
       "      <th>yellow</th>\n",
       "      <th>yes</th>\n",
       "      <th>young</th>\n",
       "      <th>young children</th>\n",
       "      <th>younger</th>\n",
       "      <th>youngest</th>\n",
       "      <th>yr</th>\n",
       "      <th>yr old</th>\n",
       "    </tr>\n",
       "  </thead>\n",
       "  <tbody>\n",
       "    <tr>\n",
       "      <th>0</th>\n",
       "      <td>0</td>\n",
       "      <td>eac7efa5dbd3d667f26eb3d3ab504464</td>\n",
       "      <td>3.42</td>\n",
       "      <td>5 new</td>\n",
       "      <td>15</td>\n",
       "      <td>1.0</td>\n",
       "      <td>4.9</td>\n",
       "      <td>http://www.amazon.co.uk/Hornby-R8150-Catalogue...</td>\n",
       "      <td>Product Description Hornby 2014 Catalogue Box ...</td>\n",
       "      <td>Technical Details Item Weight640 g Product Dim...</td>\n",
       "      <td>...</td>\n",
       "      <td>0.0</td>\n",
       "      <td>0.0</td>\n",
       "      <td>0.0</td>\n",
       "      <td>0.0</td>\n",
       "      <td>0.0</td>\n",
       "      <td>0.0</td>\n",
       "      <td>1.0</td>\n",
       "      <td>0.0</td>\n",
       "      <td>0.0</td>\n",
       "      <td>0.0</td>\n",
       "    </tr>\n",
       "    <tr>\n",
       "      <th>1</th>\n",
       "      <td>1</td>\n",
       "      <td>b17540ef7e86e461d37f3ae58b7b72ac</td>\n",
       "      <td>16.99</td>\n",
       "      <td>0</td>\n",
       "      <td>2</td>\n",
       "      <td>1.0</td>\n",
       "      <td>4.0</td>\n",
       "      <td>http://www.amazon.co.uk/Christmas-Holiday-Expr...</td>\n",
       "      <td>Size Name:Large FunkyBuys® Large Christmas Hol...</td>\n",
       "      <td>Technical Details Manufacturer recommended age...</td>\n",
       "      <td>...</td>\n",
       "      <td>0.0</td>\n",
       "      <td>0.0</td>\n",
       "      <td>0.0</td>\n",
       "      <td>0.0</td>\n",
       "      <td>0.0</td>\n",
       "      <td>0.0</td>\n",
       "      <td>0.0</td>\n",
       "      <td>0.0</td>\n",
       "      <td>0.0</td>\n",
       "      <td>0.0</td>\n",
       "    </tr>\n",
       "  </tbody>\n",
       "</table>\n",
       "<p>2 rows × 14869 columns</p>\n",
       "</div>"
      ],
      "text/plain": [
       "   index                           uniq_id  price number_available_in_stock  \\\n",
       "0      0  eac7efa5dbd3d667f26eb3d3ab504464   3.42                     5 new   \n",
       "1      1  b17540ef7e86e461d37f3ae58b7b72ac  16.99                         0   \n",
       "\n",
       "   number_of_reviews  number_of_answered_questions  average_review_rating  \\\n",
       "0                 15                           1.0                    4.9   \n",
       "1                  2                           1.0                    4.0   \n",
       "\n",
       "          customers_who_bought_this_item_also_bought  \\\n",
       "0  http://www.amazon.co.uk/Hornby-R8150-Catalogue...   \n",
       "1  http://www.amazon.co.uk/Christmas-Holiday-Expr...   \n",
       "\n",
       "                                         description  \\\n",
       "0  Product Description Hornby 2014 Catalogue Box ...   \n",
       "1  Size Name:Large FunkyBuys® Large Christmas Hol...   \n",
       "\n",
       "                                 product_information  ... years ago years old  \\\n",
       "0  Technical Details Item Weight640 g Product Dim...  ...       0.0       0.0   \n",
       "1  Technical Details Manufacturer recommended age...  ...       0.0       0.0   \n",
       "\n",
       "  yellow  yes young  young children  younger  youngest   yr  yr old  \n",
       "0    0.0  0.0   0.0             0.0      1.0       0.0  0.0     0.0  \n",
       "1    0.0  0.0   0.0             0.0      0.0       0.0  0.0     0.0  \n",
       "\n",
       "[2 rows x 14869 columns]"
      ]
     },
     "execution_count": 33,
     "metadata": {},
     "output_type": "execute_result"
    }
   ],
   "source": [
    "print(type(features))\n",
    "print(features.shape)\n",
    "features.head(2)"
   ]
  },
  {
   "cell_type": "code",
   "execution_count": 34,
   "metadata": {
    "ExecuteTime": {
     "end_time": "2021-06-17T22:35:50.666295Z",
     "start_time": "2021-06-17T22:35:50.108817Z"
    }
   },
   "outputs": [
    {
     "data": {
      "text/plain": [
       "yr old                                                                                      3\n",
       "downside                                                                                    3\n",
       "doing                                                                                       3\n",
       "doll                                                                                        3\n",
       "dolls                                                                                       3\n",
       "                                                                                           ..\n",
       "product_name_Moshi Monsters Mash Up Trading Cards Tin Game                                  0\n",
       "product_name_Moshi Monsters Mash Up Series 3 Trading Cards - 1 Pack / Booster, Foil Pack    0\n",
       "product_name_Moshi Monsters Food Factory Candy Floss Machine                                0\n",
       "product_name_Moshi Monsters Double Tier Pencil Case Filled                                  0\n",
       "index                                                                                       0\n",
       "Length: 14869, dtype: int64"
      ]
     },
     "execution_count": 34,
     "metadata": {},
     "output_type": "execute_result"
    }
   ],
   "source": [
    "#verify our data are ready!\n",
    "features.isna().sum().sort_values(ascending=False)"
   ]
  },
  {
   "cell_type": "code",
   "execution_count": 35,
   "metadata": {
    "ExecuteTime": {
     "end_time": "2021-06-17T22:35:52.731491Z",
     "start_time": "2021-06-17T22:35:50.668673Z"
    }
   },
   "outputs": [],
   "source": [
    "#nuke those nulls\n",
    "features.dropna(inplace=True)"
   ]
  },
  {
   "cell_type": "code",
   "execution_count": 36,
   "metadata": {
    "ExecuteTime": {
     "end_time": "2021-06-17T22:35:52.747929Z",
     "start_time": "2021-06-17T22:35:52.733934Z"
    }
   },
   "outputs": [
    {
     "data": {
      "text/plain": [
       "(9979, 14869)"
      ]
     },
     "execution_count": 36,
     "metadata": {},
     "output_type": "execute_result"
    }
   ],
   "source": [
    "features.shape"
   ]
  },
  {
   "cell_type": "code",
   "execution_count": 37,
   "metadata": {
    "ExecuteTime": {
     "end_time": "2021-06-17T22:35:53.837930Z",
     "start_time": "2021-06-17T22:35:52.753234Z"
    }
   },
   "outputs": [],
   "source": [
    "features = features.reset_index()"
   ]
  },
  {
   "cell_type": "code",
   "execution_count": 38,
   "metadata": {
    "ExecuteTime": {
     "end_time": "2021-06-17T22:35:53.857489Z",
     "start_time": "2021-06-17T22:35:53.842608Z"
    }
   },
   "outputs": [],
   "source": [
    "# Saving feature names for later use - ref: https://towardsdatascience.com/random-forest-in-python-24d0893d51c0\n",
    "feature_list = list(X.columns)\n",
    "# we may or may not want to do this for vectorized text!"
   ]
  },
  {
   "cell_type": "code",
   "execution_count": 39,
   "metadata": {
    "ExecuteTime": {
     "end_time": "2021-06-17T22:35:54.942964Z",
     "start_time": "2021-06-17T22:35:53.863941Z"
    }
   },
   "outputs": [
    {
     "data": {
      "text/plain": [
       "level_0                      0\n",
       "index                        0\n",
       "uniq_id                      0\n",
       "price                        0\n",
       "number_available_in_stock    0\n",
       "                            ..\n",
       "young children               0\n",
       "younger                      0\n",
       "youngest                     0\n",
       "yr                           0\n",
       "yr old                       0\n",
       "Length: 14870, dtype: int64"
      ]
     },
     "execution_count": 39,
     "metadata": {},
     "output_type": "execute_result"
    }
   ],
   "source": [
    "features.isna().sum()"
   ]
  },
  {
   "cell_type": "markdown",
   "metadata": {},
   "source": [
    "### Train-test split"
   ]
  },
  {
   "cell_type": "markdown",
   "metadata": {},
   "source": [
    "Let's split off our training and prediction data now."
   ]
  },
  {
   "cell_type": "code",
   "execution_count": 40,
   "metadata": {
    "ExecuteTime": {
     "end_time": "2021-06-17T22:35:57.102410Z",
     "start_time": "2021-06-17T22:35:54.946241Z"
    }
   },
   "outputs": [],
   "source": [
    "#train-test-split\n",
    "X_train, X_test, y_train, y_test = train_test_split(\n",
    "    X,y, random_state = 42)"
   ]
  },
  {
   "cell_type": "code",
   "execution_count": 41,
   "metadata": {
    "ExecuteTime": {
     "end_time": "2021-06-17T22:35:57.123509Z",
     "start_time": "2021-06-17T22:35:57.107051Z"
    }
   },
   "outputs": [
    {
     "data": {
      "text/plain": [
       "(7486, 14853)"
      ]
     },
     "execution_count": 41,
     "metadata": {},
     "output_type": "execute_result"
    }
   ],
   "source": [
    "X_train.shape"
   ]
  },
  {
   "cell_type": "code",
   "execution_count": 42,
   "metadata": {
    "ExecuteTime": {
     "end_time": "2021-06-17T22:35:57.144646Z",
     "start_time": "2021-06-17T22:35:57.130784Z"
    },
    "scrolled": true
   },
   "outputs": [
    {
     "data": {
      "text/plain": [
       "(7486,)"
      ]
     },
     "execution_count": 42,
     "metadata": {},
     "output_type": "execute_result"
    }
   ],
   "source": [
    "y_train.shape"
   ]
  },
  {
   "cell_type": "code",
   "execution_count": 43,
   "metadata": {
    "ExecuteTime": {
     "end_time": "2021-06-17T22:35:57.158896Z",
     "start_time": "2021-06-17T22:35:57.148589Z"
    }
   },
   "outputs": [
    {
     "data": {
      "text/plain": [
       "(2496, 14853)"
      ]
     },
     "execution_count": 43,
     "metadata": {},
     "output_type": "execute_result"
    }
   ],
   "source": [
    "X_test.shape"
   ]
  },
  {
   "cell_type": "code",
   "execution_count": 44,
   "metadata": {
    "ExecuteTime": {
     "end_time": "2021-06-17T22:35:57.173118Z",
     "start_time": "2021-06-17T22:35:57.162393Z"
    }
   },
   "outputs": [
    {
     "data": {
      "text/plain": [
       "(2496,)"
      ]
     },
     "execution_count": 44,
     "metadata": {},
     "output_type": "execute_result"
    }
   ],
   "source": [
    "y_test.shape"
   ]
  },
  {
   "cell_type": "markdown",
   "metadata": {},
   "source": [
    "This is a good time to note that due to the encoded columns as well as vectorized text, we have almost twice as many features as we do observations. This should cause a pause -- we are highly likely to run into huge dimensionality issues and may need to revisit using some of the encoded columns!"
   ]
  },
  {
   "cell_type": "markdown",
   "metadata": {},
   "source": [
    "#### Clean up train data!\n",
    "\n",
    "For some reason, model is still hicking up on what it says are nulls and infinites. Let's fix this."
   ]
  },
  {
   "cell_type": "code",
   "execution_count": 45,
   "metadata": {
    "ExecuteTime": {
     "end_time": "2021-06-17T22:35:58.044207Z",
     "start_time": "2021-06-17T22:35:57.175719Z"
    }
   },
   "outputs": [
    {
     "data": {
      "text/plain": [
       "price                           0\n",
       "number_of_reviews               0\n",
       "number_of_answered_questions    0\n",
       "median_sale_price               0\n",
       "manufacturer_101                0\n",
       "                               ..\n",
       "young children                  2\n",
       "younger                         2\n",
       "youngest                        2\n",
       "yr                              2\n",
       "yr old                          2\n",
       "Length: 14853, dtype: int64"
      ]
     },
     "execution_count": 45,
     "metadata": {},
     "output_type": "execute_result"
    }
   ],
   "source": [
    "X_train.isna().sum()"
   ]
  },
  {
   "cell_type": "code",
   "execution_count": 47,
   "metadata": {
    "ExecuteTime": {
     "end_time": "2021-06-17T22:37:10.643594Z",
     "start_time": "2021-06-17T22:37:10.295511Z"
    }
   },
   "outputs": [
    {
     "data": {
      "text/html": [
       "<div>\n",
       "<style scoped>\n",
       "    .dataframe tbody tr th:only-of-type {\n",
       "        vertical-align: middle;\n",
       "    }\n",
       "\n",
       "    .dataframe tbody tr th {\n",
       "        vertical-align: top;\n",
       "    }\n",
       "\n",
       "    .dataframe thead th {\n",
       "        text-align: right;\n",
       "    }\n",
       "</style>\n",
       "<table border=\"1\" class=\"dataframe\">\n",
       "  <thead>\n",
       "    <tr style=\"text-align: right;\">\n",
       "      <th></th>\n",
       "      <th>price</th>\n",
       "      <th>number_of_reviews</th>\n",
       "      <th>number_of_answered_questions</th>\n",
       "      <th>median_sale_price</th>\n",
       "      <th>manufacturer_101</th>\n",
       "      <th>manufacturer_13</th>\n",
       "      <th>manufacturer_16th Birthday 16th Foil Banner - 9ft</th>\n",
       "      <th>manufacturer_1st birthday</th>\n",
       "      <th>manufacturer_2-in-1 Chess &amp; Draughts</th>\n",
       "      <th>manufacturer_24 Game</th>\n",
       "      <th>...</th>\n",
       "      <th>years ago</th>\n",
       "      <th>years old</th>\n",
       "      <th>yellow</th>\n",
       "      <th>yes</th>\n",
       "      <th>young</th>\n",
       "      <th>young children</th>\n",
       "      <th>younger</th>\n",
       "      <th>youngest</th>\n",
       "      <th>yr</th>\n",
       "      <th>yr old</th>\n",
       "    </tr>\n",
       "  </thead>\n",
       "  <tbody>\n",
       "    <tr>\n",
       "      <th>9981</th>\n",
       "      <td>21.20</td>\n",
       "      <td>11</td>\n",
       "      <td>3.0</td>\n",
       "      <td>0.0</td>\n",
       "      <td>0</td>\n",
       "      <td>0</td>\n",
       "      <td>0</td>\n",
       "      <td>0</td>\n",
       "      <td>0</td>\n",
       "      <td>0</td>\n",
       "      <td>...</td>\n",
       "      <td>NaN</td>\n",
       "      <td>NaN</td>\n",
       "      <td>NaN</td>\n",
       "      <td>NaN</td>\n",
       "      <td>NaN</td>\n",
       "      <td>NaN</td>\n",
       "      <td>NaN</td>\n",
       "      <td>NaN</td>\n",
       "      <td>NaN</td>\n",
       "      <td>NaN</td>\n",
       "    </tr>\n",
       "    <tr>\n",
       "      <th>9979</th>\n",
       "      <td>43.99</td>\n",
       "      <td>1</td>\n",
       "      <td>3.0</td>\n",
       "      <td>116.5</td>\n",
       "      <td>0</td>\n",
       "      <td>0</td>\n",
       "      <td>0</td>\n",
       "      <td>0</td>\n",
       "      <td>0</td>\n",
       "      <td>0</td>\n",
       "      <td>...</td>\n",
       "      <td>NaN</td>\n",
       "      <td>NaN</td>\n",
       "      <td>NaN</td>\n",
       "      <td>NaN</td>\n",
       "      <td>NaN</td>\n",
       "      <td>NaN</td>\n",
       "      <td>NaN</td>\n",
       "      <td>NaN</td>\n",
       "      <td>NaN</td>\n",
       "      <td>NaN</td>\n",
       "    </tr>\n",
       "  </tbody>\n",
       "</table>\n",
       "<p>2 rows × 14853 columns</p>\n",
       "</div>"
      ],
      "text/plain": [
       "      price  number_of_reviews  number_of_answered_questions  \\\n",
       "9981  21.20                 11                           3.0   \n",
       "9979  43.99                  1                           3.0   \n",
       "\n",
       "      median_sale_price  manufacturer_101  manufacturer_13  \\\n",
       "9981                0.0                 0                0   \n",
       "9979              116.5                 0                0   \n",
       "\n",
       "      manufacturer_16th Birthday 16th Foil Banner - 9ft  \\\n",
       "9981                                                  0   \n",
       "9979                                                  0   \n",
       "\n",
       "      manufacturer_1st birthday  manufacturer_2-in-1 Chess & Draughts  \\\n",
       "9981                          0                                     0   \n",
       "9979                          0                                     0   \n",
       "\n",
       "      manufacturer_24 Game  ...  years ago  years old  yellow  yes  young  \\\n",
       "9981                     0  ...        NaN        NaN     NaN  NaN    NaN   \n",
       "9979                     0  ...        NaN        NaN     NaN  NaN    NaN   \n",
       "\n",
       "      young children  younger  youngest  yr  yr old  \n",
       "9981             NaN      NaN       NaN NaN     NaN  \n",
       "9979             NaN      NaN       NaN NaN     NaN  \n",
       "\n",
       "[2 rows x 14853 columns]"
      ]
     },
     "execution_count": 47,
     "metadata": {},
     "output_type": "execute_result"
    }
   ],
   "source": [
    "#check where those nulls are\n",
    "X_train[X_train.isnull().any(axis=1)]"
   ]
  },
  {
   "cell_type": "code",
   "execution_count": 54,
   "metadata": {
    "ExecuteTime": {
     "end_time": "2021-06-17T22:46:14.568498Z",
     "start_time": "2021-06-17T22:46:12.359416Z"
    },
    "scrolled": true
   },
   "outputs": [
    {
     "name": "stderr",
     "output_type": "stream",
     "text": [
      "<ipython-input-54-b05c07689e43>:2: SettingWithCopyWarning: \n",
      "A value is trying to be set on a copy of a slice from a DataFrame\n",
      "\n",
      "See the caveats in the documentation: https://pandas.pydata.org/pandas-docs/stable/user_guide/indexing.html#returning-a-view-versus-a-copy\n",
      "  X_train.dropna(inplace=True)\n"
     ]
    }
   ],
   "source": [
    "#nuke those nulls from the X train\n",
    "X_train.dropna(inplace=True)"
   ]
  },
  {
   "cell_type": "code",
   "execution_count": 55,
   "metadata": {
    "ExecuteTime": {
     "end_time": "2021-06-17T22:46:20.253192Z",
     "start_time": "2021-06-17T22:46:20.248002Z"
    }
   },
   "outputs": [
    {
     "data": {
      "text/plain": [
       "(7484, 14853)"
      ]
     },
     "execution_count": 55,
     "metadata": {},
     "output_type": "execute_result"
    }
   ],
   "source": [
    "X_train.shape"
   ]
  },
  {
   "cell_type": "code",
   "execution_count": 50,
   "metadata": {
    "ExecuteTime": {
     "end_time": "2021-06-17T22:41:43.960306Z",
     "start_time": "2021-06-17T22:41:43.949956Z"
    }
   },
   "outputs": [],
   "source": [
    "#also drop these from target!\n",
    "#.drop(['col_index1' , 'col_index2'])\n",
    "## Delete row at index position 0 & 1\n",
    "#df = df.drop([df.index[0] , df.index[1]])\n",
    "#from ref: https://thispointer.com/python-pandas-how-to-drop-rows-in-dataframe-by-index-labels/\n",
    "y_train.drop([9981, 9979],inplace=True)"
   ]
  },
  {
   "cell_type": "code",
   "execution_count": 53,
   "metadata": {
    "ExecuteTime": {
     "end_time": "2021-06-17T22:45:38.003079Z",
     "start_time": "2021-06-17T22:45:37.943960Z"
    }
   },
   "outputs": [
    {
     "data": {
      "text/plain": [
       "(7484,)"
      ]
     },
     "execution_count": 53,
     "metadata": {},
     "output_type": "execute_result"
    }
   ],
   "source": [
    "y_train.shape"
   ]
  },
  {
   "cell_type": "code",
   "execution_count": 59,
   "metadata": {
    "ExecuteTime": {
     "end_time": "2021-06-17T23:52:45.715704Z",
     "start_time": "2021-06-17T23:52:42.665333Z"
    },
    "scrolled": true
   },
   "outputs": [
    {
     "data": {
      "text/plain": [
       "0"
      ]
     },
     "execution_count": 59,
     "metadata": {},
     "output_type": "execute_result"
    }
   ],
   "source": [
    "#check for infinity issues - from https://www.geeksforgeeks.org/check-if-dataframe-contains-infinity-in-python-pandas/\n",
    "np.isinf(X_train).values.sum()"
   ]
  },
  {
   "cell_type": "markdown",
   "metadata": {},
   "source": [
    "#### Clean up test data"
   ]
  },
  {
   "cell_type": "code",
   "execution_count": 62,
   "metadata": {
    "ExecuteTime": {
     "end_time": "2021-06-18T01:11:09.834565Z",
     "start_time": "2021-06-18T01:11:09.704962Z"
    }
   },
   "outputs": [
    {
     "data": {
      "text/plain": [
       "price                           0\n",
       "number_of_reviews               0\n",
       "number_of_answered_questions    0\n",
       "median_sale_price               0\n",
       "manufacturer_101                0\n",
       "                               ..\n",
       "young children                  1\n",
       "younger                         1\n",
       "youngest                        1\n",
       "yr                              1\n",
       "yr old                          1\n",
       "Length: 14853, dtype: int64"
      ]
     },
     "execution_count": 62,
     "metadata": {},
     "output_type": "execute_result"
    }
   ],
   "source": [
    "#repeat above steps\n",
    "X_test.isna().sum()"
   ]
  },
  {
   "cell_type": "code",
   "execution_count": 64,
   "metadata": {
    "ExecuteTime": {
     "end_time": "2021-06-18T01:11:28.611695Z",
     "start_time": "2021-06-18T01:11:28.332228Z"
    },
    "scrolled": true
   },
   "outputs": [
    {
     "data": {
      "text/html": [
       "<div>\n",
       "<style scoped>\n",
       "    .dataframe tbody tr th:only-of-type {\n",
       "        vertical-align: middle;\n",
       "    }\n",
       "\n",
       "    .dataframe tbody tr th {\n",
       "        vertical-align: top;\n",
       "    }\n",
       "\n",
       "    .dataframe thead th {\n",
       "        text-align: right;\n",
       "    }\n",
       "</style>\n",
       "<table border=\"1\" class=\"dataframe\">\n",
       "  <thead>\n",
       "    <tr style=\"text-align: right;\">\n",
       "      <th></th>\n",
       "      <th>price</th>\n",
       "      <th>number_of_reviews</th>\n",
       "      <th>number_of_answered_questions</th>\n",
       "      <th>median_sale_price</th>\n",
       "      <th>manufacturer_101</th>\n",
       "      <th>manufacturer_13</th>\n",
       "      <th>manufacturer_16th Birthday 16th Foil Banner - 9ft</th>\n",
       "      <th>manufacturer_1st birthday</th>\n",
       "      <th>manufacturer_2-in-1 Chess &amp; Draughts</th>\n",
       "      <th>manufacturer_24 Game</th>\n",
       "      <th>...</th>\n",
       "      <th>years ago</th>\n",
       "      <th>years old</th>\n",
       "      <th>yellow</th>\n",
       "      <th>yes</th>\n",
       "      <th>young</th>\n",
       "      <th>young children</th>\n",
       "      <th>younger</th>\n",
       "      <th>youngest</th>\n",
       "      <th>yr</th>\n",
       "      <th>yr old</th>\n",
       "    </tr>\n",
       "  </thead>\n",
       "  <tbody>\n",
       "    <tr>\n",
       "      <th>9980</th>\n",
       "      <td>49.81</td>\n",
       "      <td>1</td>\n",
       "      <td>3.0</td>\n",
       "      <td>44.83</td>\n",
       "      <td>0</td>\n",
       "      <td>0</td>\n",
       "      <td>0</td>\n",
       "      <td>0</td>\n",
       "      <td>0</td>\n",
       "      <td>0</td>\n",
       "      <td>...</td>\n",
       "      <td>NaN</td>\n",
       "      <td>NaN</td>\n",
       "      <td>NaN</td>\n",
       "      <td>NaN</td>\n",
       "      <td>NaN</td>\n",
       "      <td>NaN</td>\n",
       "      <td>NaN</td>\n",
       "      <td>NaN</td>\n",
       "      <td>NaN</td>\n",
       "      <td>NaN</td>\n",
       "    </tr>\n",
       "  </tbody>\n",
       "</table>\n",
       "<p>1 rows × 14853 columns</p>\n",
       "</div>"
      ],
      "text/plain": [
       "      price  number_of_reviews  number_of_answered_questions  \\\n",
       "9980  49.81                  1                           3.0   \n",
       "\n",
       "      median_sale_price  manufacturer_101  manufacturer_13  \\\n",
       "9980              44.83                 0                0   \n",
       "\n",
       "      manufacturer_16th Birthday 16th Foil Banner - 9ft  \\\n",
       "9980                                                  0   \n",
       "\n",
       "      manufacturer_1st birthday  manufacturer_2-in-1 Chess & Draughts  \\\n",
       "9980                          0                                     0   \n",
       "\n",
       "      manufacturer_24 Game  ...  years ago  years old  yellow  yes  young  \\\n",
       "9980                     0  ...        NaN        NaN     NaN  NaN    NaN   \n",
       "\n",
       "      young children  younger  youngest  yr  yr old  \n",
       "9980             NaN      NaN       NaN NaN     NaN  \n",
       "\n",
       "[1 rows x 14853 columns]"
      ]
     },
     "execution_count": 64,
     "metadata": {},
     "output_type": "execute_result"
    }
   ],
   "source": [
    "#locate specific issues\n",
    "X_test[X_test.isnull().any(axis=1)]"
   ]
  },
  {
   "cell_type": "code",
   "execution_count": 66,
   "metadata": {
    "ExecuteTime": {
     "end_time": "2021-06-18T01:12:16.044597Z",
     "start_time": "2021-06-18T01:12:15.661286Z"
    },
    "scrolled": true
   },
   "outputs": [
    {
     "name": "stderr",
     "output_type": "stream",
     "text": [
      "<ipython-input-66-8ae56830410e>:2: SettingWithCopyWarning: \n",
      "A value is trying to be set on a copy of a slice from a DataFrame\n",
      "\n",
      "See the caveats in the documentation: https://pandas.pydata.org/pandas-docs/stable/user_guide/indexing.html#returning-a-view-versus-a-copy\n",
      "  X_test.dropna(inplace=True)\n"
     ]
    }
   ],
   "source": [
    "#drop the NaN\n",
    "X_test.dropna(inplace=True)"
   ]
  },
  {
   "cell_type": "code",
   "execution_count": 67,
   "metadata": {
    "ExecuteTime": {
     "end_time": "2021-06-18T01:12:31.122262Z",
     "start_time": "2021-06-18T01:12:31.117822Z"
    }
   },
   "outputs": [
    {
     "data": {
      "text/plain": [
       "(2495, 14853)"
      ]
     },
     "execution_count": 67,
     "metadata": {},
     "output_type": "execute_result"
    }
   ],
   "source": [
    "X_test.shape"
   ]
  },
  {
   "cell_type": "code",
   "execution_count": 71,
   "metadata": {
    "ExecuteTime": {
     "end_time": "2021-06-18T01:13:19.100633Z",
     "start_time": "2021-06-18T01:13:19.092813Z"
    }
   },
   "outputs": [
    {
     "data": {
      "text/plain": [
       "(2495,)"
      ]
     },
     "execution_count": 71,
     "metadata": {},
     "output_type": "execute_result"
    }
   ],
   "source": [
    "y_test.shape"
   ]
  },
  {
   "cell_type": "code",
   "execution_count": 70,
   "metadata": {
    "ExecuteTime": {
     "end_time": "2021-06-18T01:13:14.549144Z",
     "start_time": "2021-06-18T01:13:14.543627Z"
    }
   },
   "outputs": [],
   "source": [
    "#drop row from y as well\n",
    "y_test.drop([9980],inplace=True)"
   ]
  },
  {
   "cell_type": "code",
   "execution_count": 65,
   "metadata": {
    "ExecuteTime": {
     "end_time": "2021-06-18T01:11:33.875575Z",
     "start_time": "2021-06-18T01:11:33.558865Z"
    }
   },
   "outputs": [
    {
     "data": {
      "text/plain": [
       "0"
      ]
     },
     "execution_count": 65,
     "metadata": {},
     "output_type": "execute_result"
    }
   ],
   "source": [
    "#check for infinity issues\n",
    "np.isinf(X_test).values.sum()"
   ]
  },
  {
   "cell_type": "markdown",
   "metadata": {},
   "source": [
    "### Get baseline"
   ]
  },
  {
   "cell_type": "markdown",
   "metadata": {},
   "source": [
    "Let's next understand our baseline.\n",
    "\n",
    "For regression problems, it is the mean of our target -- in this case, the average star rating:"
   ]
  },
  {
   "cell_type": "code",
   "execution_count": 56,
   "metadata": {
    "ExecuteTime": {
     "end_time": "2021-06-17T22:46:27.324465Z",
     "start_time": "2021-06-17T22:46:27.311595Z"
    }
   },
   "outputs": [
    {
     "data": {
      "text/plain": [
       "3.172073951863437"
      ]
     },
     "execution_count": 56,
     "metadata": {},
     "output_type": "execute_result"
    }
   ],
   "source": [
    "y_test.mean()"
   ]
  },
  {
   "cell_type": "markdown",
   "metadata": {},
   "source": [
    "### Fit RandomForest Regressor"
   ]
  },
  {
   "cell_type": "code",
   "execution_count": 60,
   "metadata": {
    "ExecuteTime": {
     "end_time": "2021-06-18T00:58:08.150512Z",
     "start_time": "2021-06-17T23:55:32.869583Z"
    }
   },
   "outputs": [
    {
     "data": {
      "text/plain": [
       "RandomForestRegressor(ccp_alpha=0.1, n_estimators=500, random_state=42)"
      ]
     },
     "execution_count": 60,
     "metadata": {},
     "output_type": "execute_result"
    }
   ],
   "source": [
    "#instantiate\n",
    "\n",
    "#note: scaling is not required for RandomForest models\n",
    "\n",
    "rf_regressor = RandomForestRegressor(\n",
    "    n_estimators = 500, random_state = 42, ccp_alpha=.1) #, max_features = 5000)\n",
    "\n",
    "#help our trees with search / split criteria and to make a decision!\n",
    "\n",
    "#1. can try to reduce number of max_features (trying it here)\n",
    "\n",
    "#2. can try something other than the default min_samples_split=2\n",
    "\n",
    "#3. perf initial grid search / prune trees - tune model\n",
    "\n",
    "#4. set ccp_alpha=.1 (trying it here)\n",
    "\n",
    "#fit\n",
    "rf_regressor.fit(X_train, y_train)"
   ]
  },
  {
   "cell_type": "code",
   "execution_count": 72,
   "metadata": {
    "ExecuteTime": {
     "end_time": "2021-06-18T01:13:30.708055Z",
     "start_time": "2021-06-18T01:13:30.203884Z"
    }
   },
   "outputs": [],
   "source": [
    "#get target preds - CAUTION! MUST run cleaning steps above, first!\n",
    "rf_preds = rf_regressor.predict(X_test)  "
   ]
  },
  {
   "cell_type": "markdown",
   "metadata": {},
   "source": [
    "#### Evaluation"
   ]
  },
  {
   "cell_type": "markdown",
   "metadata": {},
   "source": [
    "Given that we are dealing with some 0's or near 0's, some metrics will not work as well as others (as an example, mean absolute percentage error).\n",
    "\n",
    "From the [docstring](https://scikit-learn.org/stable/modules/model_evaluation.html#regression-metrics):\n",
    "\n",
    ">\"The sklearn.metrics module implements several loss, score, and utility functions to measure regression performance. Some of those have been enhanced to handle the multioutput case: mean_squared_error, mean_absolute_error, explained_variance_score and r2_score.\n",
    ">These functions have an multioutput keyword argument which specifies the way the scores or losses for each individual target should be averaged.\""
   ]
  },
  {
   "cell_type": "code",
   "execution_count": 73,
   "metadata": {
    "ExecuteTime": {
     "end_time": "2021-06-18T01:14:07.641319Z",
     "start_time": "2021-06-18T01:14:04.227144Z"
    }
   },
   "outputs": [
    {
     "name": "stdout",
     "output_type": "stream",
     "text": [
      "The R squared using the Random Forest model on our train data is 0.424 and The R squared using the Random Forest model on our test data is 1.0.\n"
     ]
    }
   ],
   "source": [
    "#calculate r sq using sci-kit learn\n",
    "print(f'The R squared using the Random Forest model on our train data is '\\\n",
    "     f'{round(rf_regressor.score(X_train, y_train),4)} and '\\\n",
    "    f'The R squared using the Random Forest model on our test data is '\\\n",
    "      f'{round(rf_regressor.score(X_test, rf_preds),4)}.')"
   ]
  },
  {
   "cell_type": "markdown",
   "metadata": {},
   "source": [
    "Getting a test score of a 1 is _always_ suspect -- we probably have some data leakage and will need to revisit."
   ]
  },
  {
   "cell_type": "code",
   "execution_count": 74,
   "metadata": {
    "ExecuteTime": {
     "end_time": "2021-06-18T01:14:23.334088Z",
     "start_time": "2021-06-18T01:14:23.328356Z"
    }
   },
   "outputs": [
    {
     "name": "stdout",
     "output_type": "stream",
     "text": [
      "The Root Mean Squared Error on our Random Forest model is 0.7289.\n"
     ]
    }
   ],
   "source": [
    "#calculate RMSE using sci-kit learn\n",
    "RMSE = mean_squared_error(y_test, rf_preds)\n",
    "\n",
    "print(f'The Root Mean Squared Error on our Random Forest model is '\\\n",
    "     f'{round(RMSE,4)}.')"
   ]
  },
  {
   "cell_type": "code",
   "execution_count": 75,
   "metadata": {
    "ExecuteTime": {
     "end_time": "2021-06-18T01:14:28.528010Z",
     "start_time": "2021-06-18T01:14:28.186600Z"
    }
   },
   "outputs": [
    {
     "name": "stdout",
     "output_type": "stream",
     "text": [
      "The Mean Absolute Error on our Random Forest model is 0.69 stars.\n"
     ]
    },
    {
     "data": {
      "text/plain": [
       "0.6851"
      ]
     },
     "execution_count": 75,
     "metadata": {},
     "output_type": "execute_result"
    }
   ],
   "source": [
    "#from ref: https://towardsdatascience.com/random-forest-in-python-24d0893d51c0\n",
    "\n",
    "# Calculate the absolute errors\n",
    "errors = abs(rf_preds - y_test)\n",
    "\n",
    "# Print out the mean absolute error (mae)\n",
    "print(f'The Mean Absolute Error on our Random Forest model is '\\\n",
    "      f'{round(np.mean(errors), 2)} stars.')\n",
    "\n",
    "#confirm mean abs error calc using sci-kit learn:\n",
    "mean_absolute_error(y_test, rf_preds).round(4)"
   ]
  },
  {
   "cell_type": "markdown",
   "metadata": {},
   "source": [
    "Let's recall the meaning of these metrics, to help with interpretation (from the documentation):\n",
    "\n",
    ">\"The r2_score function computes the coefficient of determination, usually denoted as R². It represents the proportion of variance (of y) that has been explained by the independent variables in the model. It provides an indication of goodness of fit and therefore a measure of how well unseen samples are likely to be predicted by the model, through the proportion of explained variance.\"\n",
    "\n",
    "The R-squared score is very, very poor, indicating that very little connection indeed exists between our features and target.\n",
    "\n",
    "\n",
    "Further:\n",
    "\n",
    ">\"The mean_absolute_error function computes mean absolute error, a risk metric corresponding to the expected value of the absolute error loss or -norm loss.\"\n",
    "\n",
    "Whereas:\n",
    "\n",
    ">\"The mean_squared_error function computes mean square error, a risk metric corresponding to the expected value of the squared (quadratic) error or loss.\"\n",
    "\n",
    "Our mean absolute error indicates that ___, and the mean squared error that ___.\n",
    "\n",
    "\n",
    "Let's look at some additional metrics."
   ]
  },
  {
   "cell_type": "code",
   "execution_count": 76,
   "metadata": {
    "ExecuteTime": {
     "end_time": "2021-06-18T01:15:01.494619Z",
     "start_time": "2021-06-18T01:15:01.483847Z"
    },
    "scrolled": true
   },
   "outputs": [
    {
     "name": "stdout",
     "output_type": "stream",
     "text": [
      "The explained variance score, using the Random Forest model is 0.437.\n",
      "The max error on the Random Forest model is 1.95.\n"
     ]
    }
   ],
   "source": [
    "#from https://scikit-learn.org/stable/modules/model_evaluation.html#regression-metrics\n",
    "\n",
    "#calculate explained variance regression score\n",
    "#per docstring: best possible score is 1.0, lower values are worse\n",
    "\n",
    "exp_var = explained_variance_score(\n",
    "    y_test, rf_preds, multioutput='variance_weighted')\n",
    "\n",
    "print(\n",
    "    f'The explained variance score, using the Random Forest model' \\\n",
    "f' is {round(exp_var,4)}.')\n",
    "\n",
    "#calculate max error\n",
    "max_err = max_error(y_test, rf_preds)\n",
    "      \n",
    "print(\n",
    "    f'The max error on the Random Forest model is {round(max_err,2)}.')"
   ]
  },
  {
   "cell_type": "markdown",
   "metadata": {},
   "source": [
    "The explained variance is pretty horrific.\n",
    "\n",
    "As for the max score, we see that the error once again is quite high, which only proves that trying to use our training data to predict target performance is going to be highly unreliable here.\n",
    "\n",
    "Recall:\n",
    "\n",
    ">\"The max_error function computes the maximum residual error , a metric that captures the worst case error between the predicted value and the true value. In a perfectly fitted single output regression model, max_error would be 0 on the training set and though this would be highly unlikely in the real world, this metric shows the extent of error that the model had when it was fitted.\""
   ]
  },
  {
   "cell_type": "markdown",
   "metadata": {},
   "source": [
    "#### Feature importances"
   ]
  },
  {
   "cell_type": "code",
   "execution_count": 90,
   "metadata": {
    "ExecuteTime": {
     "end_time": "2021-06-18T02:01:23.111454Z",
     "start_time": "2021-06-18T02:01:22.780217Z"
    }
   },
   "outputs": [],
   "source": [
    "#derive feature importances -- this is the bulk of the interpretation here\n",
    "#look at word pairs\n",
    "#look at project 4 (Helen Meigs's work) - https://git.generalassemb.ly/rileyrobertson/project_4-hackathon/blob/main/helen/modeling_hm.ipynb\n",
    "#consider as spider plot! (ref. own work in FB lab)\n",
    "\n",
    "importances = rf_regressor.feature_importances_"
   ]
  },
  {
   "cell_type": "code",
   "execution_count": 91,
   "metadata": {
    "ExecuteTime": {
     "end_time": "2021-06-18T02:01:28.377169Z",
     "start_time": "2021-06-18T02:01:28.371194Z"
    }
   },
   "outputs": [
    {
     "data": {
      "text/plain": [
       "array([0., 1., 0., ..., 0., 0., 0.])"
      ]
     },
     "execution_count": 91,
     "metadata": {},
     "output_type": "execute_result"
    }
   ],
   "source": [
    "importances"
   ]
  },
  {
   "cell_type": "code",
   "execution_count": 83,
   "metadata": {
    "ExecuteTime": {
     "end_time": "2021-06-18T01:54:14.947158Z",
     "start_time": "2021-06-18T01:54:14.942790Z"
    }
   },
   "outputs": [
    {
     "data": {
      "text/plain": [
       "numpy.ndarray"
      ]
     },
     "execution_count": 83,
     "metadata": {},
     "output_type": "execute_result"
    }
   ],
   "source": [
    "type(importances)"
   ]
  },
  {
   "cell_type": "code",
   "execution_count": 84,
   "metadata": {
    "ExecuteTime": {
     "end_time": "2021-06-18T01:56:44.878613Z",
     "start_time": "2021-06-18T01:56:44.875136Z"
    }
   },
   "outputs": [],
   "source": [
    "#sort importances.sort_values(ascending=False)\n",
    "#importances = np.sort(importances)"
   ]
  },
  {
   "cell_type": "code",
   "execution_count": 92,
   "metadata": {
    "ExecuteTime": {
     "end_time": "2021-06-18T02:01:54.095771Z",
     "start_time": "2021-06-18T02:01:54.090080Z"
    }
   },
   "outputs": [],
   "source": [
    "#from https://scikit-learn.org/stable/auto_examples/ensemble/plot_forest_importances.html\n",
    "forest_importances = pd.Series(importances, index=feature_list)"
   ]
  },
  {
   "cell_type": "code",
   "execution_count": 93,
   "metadata": {
    "ExecuteTime": {
     "end_time": "2021-06-18T02:02:00.954992Z",
     "start_time": "2021-06-18T02:02:00.949644Z"
    }
   },
   "outputs": [
    {
     "data": {
      "text/plain": [
       "pandas.core.series.Series"
      ]
     },
     "execution_count": 93,
     "metadata": {},
     "output_type": "execute_result"
    }
   ],
   "source": [
    "type(forest_importances)"
   ]
  },
  {
   "cell_type": "code",
   "execution_count": null,
   "metadata": {},
   "outputs": [],
   "source": [
    "#forest_importances = np.sort(forest_importances)"
   ]
  },
  {
   "cell_type": "code",
   "execution_count": 103,
   "metadata": {
    "ExecuteTime": {
     "end_time": "2021-06-18T02:15:12.762380Z",
     "start_time": "2021-06-18T02:15:12.745950Z"
    }
   },
   "outputs": [
    {
     "data": {
      "text/html": [
       "<div>\n",
       "<style scoped>\n",
       "    .dataframe tbody tr th:only-of-type {\n",
       "        vertical-align: middle;\n",
       "    }\n",
       "\n",
       "    .dataframe tbody tr th {\n",
       "        vertical-align: top;\n",
       "    }\n",
       "\n",
       "    .dataframe thead th {\n",
       "        text-align: right;\n",
       "    }\n",
       "</style>\n",
       "<table border=\"1\" class=\"dataframe\">\n",
       "  <thead>\n",
       "    <tr style=\"text-align: right;\">\n",
       "      <th></th>\n",
       "      <th>importance</th>\n",
       "    </tr>\n",
       "  </thead>\n",
       "  <tbody>\n",
       "    <tr>\n",
       "      <th>number_of_reviews</th>\n",
       "      <td>1.0</td>\n",
       "    </tr>\n",
       "    <tr>\n",
       "      <th>product_name_Pulp Fiction Funko ReAction Series 1 Action Figure: Vincent Vega</th>\n",
       "      <td>0.0</td>\n",
       "    </tr>\n",
       "    <tr>\n",
       "      <th>product_name_Professor Puzzle Moose Head Construction Kit</th>\n",
       "      <td>0.0</td>\n",
       "    </tr>\n",
       "    <tr>\n",
       "      <th>product_name_Professor Puzzle Praying Mantis Metal Earth 3D Kit</th>\n",
       "      <td>0.0</td>\n",
       "    </tr>\n",
       "    <tr>\n",
       "      <th>product_name_Professor Puzzzle Metal Mayhem The Horseshoes</th>\n",
       "      <td>0.0</td>\n",
       "    </tr>\n",
       "    <tr>\n",
       "      <th>product_name_Proffesor Remus Lupin Character Wand. Harry Potter The Noble Collection</th>\n",
       "      <td>0.0</td>\n",
       "    </tr>\n",
       "    <tr>\n",
       "      <th>product_name_Prom Night Me to You Bear Cards</th>\n",
       "      <td>0.0</td>\n",
       "    </tr>\n",
       "    <tr>\n",
       "      <th>product_name_Prometheus 8.5'' Engineer Chair Suit Series 1 Figure</th>\n",
       "      <td>0.0</td>\n",
       "    </tr>\n",
       "    <tr>\n",
       "      <th>product_name_Promo World Europe from Frozen Anna Figurine</th>\n",
       "      <td>0.0</td>\n",
       "    </tr>\n",
       "    <tr>\n",
       "      <th>product_name_Pub Quiz Drunken Duck</th>\n",
       "      <td>0.0</td>\n",
       "    </tr>\n",
       "    <tr>\n",
       "      <th>product_name_Puella Magi Madoka Magica: Ultimate Madoka 1/8 PVC Figure</th>\n",
       "      <td>0.0</td>\n",
       "    </tr>\n",
       "    <tr>\n",
       "      <th>product_name_Puffin Balloons 12 inch Turquoise 10 pack</th>\n",
       "      <td>0.0</td>\n",
       "    </tr>\n",
       "    <tr>\n",
       "      <th>product_name_Puffin Balloons 12 inch Turquoise 50 pack</th>\n",
       "      <td>0.0</td>\n",
       "    </tr>\n",
       "    <tr>\n",
       "      <th>product_name_Pug Themed Fantasy Cube, Pug Picture Rubix Cube Gift</th>\n",
       "      <td>0.0</td>\n",
       "    </tr>\n",
       "    <tr>\n",
       "      <th>product_name_Punchball Balloons x5</th>\n",
       "      <td>0.0</td>\n",
       "    </tr>\n",
       "    <tr>\n",
       "      <th>product_name_Pathfinder Iron Gods (7) Dice Set</th>\n",
       "      <td>0.0</td>\n",
       "    </tr>\n",
       "    <tr>\n",
       "      <th>product_name_Puppet - PLAY TIME DOG</th>\n",
       "      <td>0.0</td>\n",
       "    </tr>\n",
       "    <tr>\n",
       "      <th>product_name_Puppet Blue huggy monster 26\"/66cm ventriloquist, play, tell stories, educational. Free UK delivery</th>\n",
       "      <td>0.0</td>\n",
       "    </tr>\n",
       "    <tr>\n",
       "      <th>product_name_Puppet Danny bear 15\"/38cm ventriloquist, play, tell stories, educational. moving mouth and hands. Free UK delivery</th>\n",
       "      <td>0.0</td>\n",
       "    </tr>\n",
       "    <tr>\n",
       "      <th>product_name_Puppet Dog Reggie 26\"/66cm ventriloquist, play, tell stories, educational. Free UK delivery</th>\n",
       "      <td>0.0</td>\n",
       "    </tr>\n",
       "    <tr>\n",
       "      <th>product_name_Puppet Pig Percy 15\"/38cm ventriloquist, play, tell stories, educational. moving mouth and hands. Free UK delivery</th>\n",
       "      <td>0.0</td>\n",
       "    </tr>\n",
       "    <tr>\n",
       "      <th>product_name_Puppet Pink huggy monster 26\"/66cm ventriloquist, play, tell stories, educational. Free UK delivery</th>\n",
       "      <td>0.0</td>\n",
       "    </tr>\n",
       "    <tr>\n",
       "      <th>product_name_Puppet Plush Lamb 10\"/25.5cm ventriloquist, play, tell stories, educational. moving hands. Free UK delivery</th>\n",
       "      <td>0.0</td>\n",
       "    </tr>\n",
       "    <tr>\n",
       "      <th>product_name_Puppet Purple huggy monster 26\"/66cm ventriloquist, play, tell stories, educational. Free UK delivery</th>\n",
       "      <td>0.0</td>\n",
       "    </tr>\n",
       "    <tr>\n",
       "      <th>product_name_Puppet Rabbit Alfie 26\"/66cm ventriloquist, play, tell stories, educational. Free UK delivery</th>\n",
       "      <td>0.0</td>\n",
       "    </tr>\n",
       "    <tr>\n",
       "      <th>product_name_Puppet Red Parrot with squeaker 20\", play, tell stories, educational. moving mouth and hands. Free UK delivery</th>\n",
       "      <td>0.0</td>\n",
       "    </tr>\n",
       "    <tr>\n",
       "      <th>product_name_Puppet Skeleton 15\"/38cm ventriloquist, play, tell stories, educational. moving mouth and hands. Free UK delivery</th>\n",
       "      <td>0.0</td>\n",
       "    </tr>\n",
       "    <tr>\n",
       "      <th>product_name_Puppet Witch 15\"/38cm ventriloquist, play, tell stories, educational. moving mouth and hands. Free UK delivery</th>\n",
       "      <td>0.0</td>\n",
       "    </tr>\n",
       "    <tr>\n",
       "      <th>product_name_Professor Puzzle Hanayama Twist</th>\n",
       "      <td>0.0</td>\n",
       "    </tr>\n",
       "    <tr>\n",
       "      <th>product_name_Professor Puzzle - UK Ultimate IQ Test 4 Mini Wooden Puzzles Jigsaw Puzzle</th>\n",
       "      <td>0.0</td>\n",
       "    </tr>\n",
       "    <tr>\n",
       "      <th>product_name_Professional Poker Chips In Tin</th>\n",
       "      <td>0.0</td>\n",
       "    </tr>\n",
       "    <tr>\n",
       "      <th>product_name_Pro Swim, Flipper Swim Safe Water Wings</th>\n",
       "      <td>0.0</td>\n",
       "    </tr>\n",
       "    <tr>\n",
       "      <th>product_name_Preiser 28052 Angler in Boat</th>\n",
       "      <td>0.0</td>\n",
       "    </tr>\n",
       "    <tr>\n",
       "      <th>product_name_Preiser 28067 Verger with Holy Water</th>\n",
       "      <td>0.0</td>\n",
       "    </tr>\n",
       "    <tr>\n",
       "      <th>product_name_Preiser 28069 Photographer</th>\n",
       "      <td>0.0</td>\n",
       "    </tr>\n",
       "    <tr>\n",
       "      <th>product_name_Preiser 28119</th>\n",
       "      <td>0.0</td>\n",
       "    </tr>\n",
       "    <tr>\n",
       "      <th>product_name_Preiser 30411 Horse Drawn Box Wagon</th>\n",
       "      <td>0.0</td>\n",
       "    </tr>\n",
       "    <tr>\n",
       "      <th>product_name_Preiser 30414 Horse Drawn Liquid Manure Wagon</th>\n",
       "      <td>0.0</td>\n",
       "    </tr>\n",
       "    <tr>\n",
       "      <th>product_name_Preiser 30426</th>\n",
       "      <td>0.0</td>\n",
       "    </tr>\n",
       "    <tr>\n",
       "      <th>product_name_Preiser 30468 Horse Drawn Open Farm Cart</th>\n",
       "      <td>0.0</td>\n",
       "    </tr>\n",
       "  </tbody>\n",
       "</table>\n",
       "</div>"
      ],
      "text/plain": [
       "                                                    importance\n",
       "number_of_reviews                                          1.0\n",
       "product_name_Pulp Fiction Funko ReAction Series...         0.0\n",
       "product_name_Professor Puzzle Moose Head Constr...         0.0\n",
       "product_name_Professor Puzzle Praying Mantis Me...         0.0\n",
       "product_name_Professor Puzzzle Metal Mayhem The...         0.0\n",
       "product_name_Proffesor Remus Lupin Character Wa...         0.0\n",
       "product_name_Prom Night Me to You Bear Cards               0.0\n",
       "product_name_Prometheus 8.5'' Engineer Chair Su...         0.0\n",
       "product_name_Promo World Europe from Frozen Ann...         0.0\n",
       "product_name_Pub Quiz Drunken Duck                         0.0\n",
       "product_name_Puella Magi Madoka Magica: Ultimat...         0.0\n",
       "product_name_Puffin Balloons 12 inch Turquoise ...         0.0\n",
       "product_name_Puffin Balloons 12 inch Turquoise ...         0.0\n",
       "product_name_Pug Themed Fantasy Cube, Pug Pictu...         0.0\n",
       "product_name_Punchball Balloons x5                         0.0\n",
       "product_name_Pathfinder Iron Gods (7) Dice Set             0.0\n",
       "product_name_Puppet - PLAY TIME DOG                        0.0\n",
       "product_name_Puppet Blue huggy monster 26\"/66cm...         0.0\n",
       "product_name_Puppet Danny bear 15\"/38cm ventril...         0.0\n",
       "product_name_Puppet Dog Reggie 26\"/66cm ventril...         0.0\n",
       "product_name_Puppet Pig Percy 15\"/38cm ventrilo...         0.0\n",
       "product_name_Puppet Pink huggy monster 26\"/66cm...         0.0\n",
       "product_name_Puppet Plush Lamb 10\"/25.5cm ventr...         0.0\n",
       "product_name_Puppet Purple huggy monster 26\"/66...         0.0\n",
       "product_name_Puppet Rabbit Alfie 26\"/66cm ventr...         0.0\n",
       "product_name_Puppet Red Parrot with squeaker 20...         0.0\n",
       "product_name_Puppet Skeleton 15\"/38cm ventriloq...         0.0\n",
       "product_name_Puppet Witch 15\"/38cm ventriloquis...         0.0\n",
       "product_name_Professor Puzzle Hanayama Twist               0.0\n",
       "product_name_Professor Puzzle - UK Ultimate IQ ...         0.0\n",
       "product_name_Professional Poker Chips In Tin               0.0\n",
       "product_name_Pro Swim, Flipper Swim Safe Water ...         0.0\n",
       "product_name_Preiser 28052 Angler in Boat                  0.0\n",
       "product_name_Preiser 28067 Verger with Holy Water          0.0\n",
       "product_name_Preiser 28069 Photographer                    0.0\n",
       "product_name_Preiser 28119                                 0.0\n",
       "product_name_Preiser 30411 Horse Drawn Box Wagon           0.0\n",
       "product_name_Preiser 30414 Horse Drawn Liquid M...         0.0\n",
       "product_name_Preiser 30426                                 0.0\n",
       "product_name_Preiser 30468 Horse Drawn Open Far...         0.0"
      ]
     },
     "execution_count": 103,
     "metadata": {},
     "output_type": "execute_result"
    }
   ],
   "source": [
    "importance_db = pd.DataFrame(forest_importances, columns = ['importance'])\n",
    "importance_db = importance_db.sort_values(by = 'importance', ascending = False)\n",
    "importance_db.round(4).head(40)"
   ]
  },
  {
   "cell_type": "code",
   "execution_count": 104,
   "metadata": {
    "ExecuteTime": {
     "end_time": "2021-06-18T02:15:28.872251Z",
     "start_time": "2021-06-18T02:15:27.292093Z"
    }
   },
   "outputs": [
    {
     "data": {
      "image/png": "[encoded data removed]",
      "text/plain": [
       "<Figure size 432x288 with 1 Axes>"
      ]
     },
     "metadata": {},
     "output_type": "display_data"
    },
    {
     "data": {
      "image/png": "[encoded data removed]",
      "text/plain": [
       "<Figure size 432x288 with 1 Axes>"
      ]
     },
     "metadata": {},
     "output_type": "display_data"
    }
   ],
   "source": [
    "#plot\n",
    "#fig, ax = plt.subplots()\n",
    "importance_db[:50].plot.bar()\n",
    "ax.set_title(\"Feature importances\")\n",
    "ax.set_ylabel(\"Mean decrease in impurity\")\n",
    "#fig.tight_layout()\n",
    "\n",
    "\n",
    "#to suppress glyph missing warnings: https://www.programmersought.com/article/51155295519/"
   ]
  },
  {
   "cell_type": "markdown",
   "metadata": {},
   "source": [
    "### Fit regularized LR\n",
    "\n",
    "\n",
    "Our Random Forest choked quite a bit on the multi-dimensionality and issues with overfitting.\n",
    "\n",
    "Let's try it with a regularized model. With a regularized model, we will solve the earlier seen issues with line assumption violations. However, we may lose some interpretability.\n",
    "\n",
    "Also recall:\n",
    "\n",
    ">\"Lasso regression stands for Least Absolute Shrinkage and Selection Operator. It adds penalty term to the cost function. The difference between ridge and lasso regression is that it tends to make coefficients to absolute zero as compared to Ridge which never sets the value of coefficient to absolute zero.\" [source](https://www.geeksforgeeks.org/lasso-vs-ridge-vs-elastic-net-ml/#:~:text=Lasso%20regression%20stands%20for%20Least,term%20to%20the%20cost%20function.&text=The%20difference%20between%20ridge%20and,of%20coefficient%20to%20absolute%20zero.)\n",
    "\n",
    "Essentially, we hope get rid of many of the noisy features that may have contributed to the overfitting we saw with Random Forest."
   ]
  },
  {
   "cell_type": "code",
   "execution_count": null,
   "metadata": {
    "ExecuteTime": {
     "end_time": "2021-06-17T22:36:01.410027Z",
     "start_time": "2021-06-17T22:34:03.014Z"
    }
   },
   "outputs": [],
   "source": [
    "#lasso -- tune alpha param / set up grid search\n",
    "#some reference to Amy Giver's code: https://git.generalassemb.ly/agiver/project_2/blob/friday/code/gridsearch.ipynb\n",
    "\n",
    "#instantiate scaler\n",
    "ss = StandardScaler()\n",
    "\n",
    "#apply scaler\n",
    "Xs_train = ss.fit_transform(X_train)\n",
    "Xs_test = ss.transform(X_test)\n",
    "\n",
    "#define hyperparams for model tuning\n",
    "\n",
    "lasso_params = {\n",
    "    'alpha': [.01, .1, 1],\n",
    "    'normalize': [1], #this is to help with convergence:\n",
    "    #from https://stackoverflow.com/questions/20681864/lasso-on-sklearn-does-not-converge\n",
    "    'max_iter': [10_000],\n",
    "    'tol': [1] \n",
    "}\n",
    "\n",
    "#instantiate grid search\n",
    "lasso_gs = GridSearchCV(Lasso(), lasso_params, cv=5, verbose=1)\n",
    "\n",
    "#fit grid search\n",
    "lasso_gs.fit(Xs_train, y_train)\n",
    "\n",
    "#get best score\n",
    "print(lasso_gs.best_score_)\n",
    "\n",
    "#get best params\n",
    "print(lasso_gs.best_params_)\n",
    "\n",
    "#score train and test\n",
    "lasso_gs.score(Xs_train, y_train), lasso_gs.score(Xs_test, y_test)"
   ]
  },
  {
   "cell_type": "markdown",
   "metadata": {},
   "source": [
    "#### Evaluation and interpretation"
   ]
  },
  {
   "cell_type": "markdown",
   "metadata": {},
   "source": [
    "Without any tuning, the scores we get on the Lasso model are:\n",
    "\n",
    "(0.09656655494531563, 0.0570325335256735) for train and test, respectively.\n",
    "\n",
    "With tuning, these become even worse."
   ]
  },
  {
   "cell_type": "code",
   "execution_count": null,
   "metadata": {
    "ExecuteTime": {
     "end_time": "2021-06-17T22:36:01.424840Z",
     "start_time": "2021-06-17T22:34:03.453Z"
    }
   },
   "outputs": [],
   "source": [
    "#coefs / plots"
   ]
  },
  {
   "cell_type": "markdown",
   "metadata": {},
   "source": [
    "### Gradient Boosting Regressor\n",
    "\n",
    "\n",
    "Since our Random Forest and regularized linear regression performed less than stellarly, we will attempt one additional model.\n",
    "\n",
    "A gradient boost regressor starts out as a weak learner but improves as it lears, as opposed to a forest model, which takes all features into account right away, to form an opinion. (Per Heather Robbins, General Assembly data science immersive instructor.)"
   ]
  },
  {
   "cell_type": "code",
   "execution_count": null,
   "metadata": {
    "ExecuteTime": {
     "end_time": "2021-06-17T22:36:01.434512Z",
     "start_time": "2021-06-17T22:34:03.684Z"
    }
   },
   "outputs": [],
   "source": [
    "#from the documentation: https://scikit-learn.org/stable/modules/generated/sklearn.ensemble.GradientBoostingRegressor.html\n",
    "#note: scaling not required for Gradient Boosting regression models: https://quant.stackexchange.com/questions/4434/gradient-tree-boosting-do-input-attributes-need-to-be-scaled\n",
    "\n",
    "#instantiate\n",
    "booster = GradientBoostingRegressor(random_state=0)\n",
    "\n",
    "#fit on training data\n",
    "booster.fit(X_train, y_train) #not on scaled\n",
    "\n",
    "#predict target\n",
    "booster.predict(X_test)"
   ]
  },
  {
   "cell_type": "markdown",
   "metadata": {},
   "source": [
    "#### Evaluation and interpretation"
   ]
  },
  {
   "cell_type": "code",
   "execution_count": null,
   "metadata": {
    "ExecuteTime": {
     "end_time": "2021-06-17T22:36:01.452415Z",
     "start_time": "2021-06-17T22:34:03.909Z"
    }
   },
   "outputs": [],
   "source": [
    "#get R2 score\n",
    "booster.score(X_train, y_train).round(4), booster.score(X_test, y_test).round(4)"
   ]
  },
  {
   "cell_type": "markdown",
   "metadata": {},
   "source": [
    "Hey, that's actually the best score we've gotten thus far!"
   ]
  },
  {
   "cell_type": "code",
   "execution_count": null,
   "metadata": {
    "ExecuteTime": {
     "end_time": "2021-06-17T22:36:01.462776Z",
     "start_time": "2021-06-17T22:34:04.137Z"
    }
   },
   "outputs": [],
   "source": [
    "#pull out coefs!"
   ]
  },
  {
   "cell_type": "markdown",
   "metadata": {},
   "source": [
    "### SVM Regressor\n",
    "\n",
    "The Support Vector Machine algorithm utilizes distances from some plane to determine fit.\n",
    "\n",
    ">\"Our objective, when we are moving on with SVR, is to basically consider the points that are within the decision boundary line. Our best fit line is the hyperplane that has a maximum number of points.\" [source](https://www.analyticsvidhya.com/blog/2020/03/support-vector-regression-tutorial-for-machine-learning/).\n",
    "\n",
    "Several advantages of an SVM model are the ability to use \"kernel tricks\" to add new dimensions in order to find a hyperplane of fit; it also, natually, deals well with multidimensionality and non-linearity. In addition, the model can handle outliers. _Note: some of this is based on material from Sophie \"Sonia\" Tabac, a General Assembly data science immersive lecturer._"
   ]
  },
  {
   "cell_type": "code",
   "execution_count": null,
   "metadata": {
    "ExecuteTime": {
     "end_time": "2021-06-17T22:36:01.469361Z",
     "start_time": "2021-06-17T22:34:04.382Z"
    }
   },
   "outputs": [],
   "source": [
    "#ref: https://www.analyticsvidhya.com/blog/2020/03/support-vector-regression-tutorial-for-machine-learning/\n",
    "#note: grid search advised, to find optimal params due to multiple dims\n",
    "#note: must use standard-scaled features, since dealing w/ distances\n",
    "\n",
    "#set up grid search\n",
    "svr_params = {\n",
    "   # 'kernel': ['rbf'], #default; see doc here: https://scikit-learn.org/stable/modules/generated/sklearn.svm.SVR.html\n",
    "  #  'gamma': [‘scale’, ‘auto’],\n",
    "    'C': [.01, .1, 1],\n",
    "    'tol': [1, .1],\n",
    "  #  'max_iter': [10],\n",
    "    'epsilon' : [.1, .2]\n",
    "}\n",
    "\n",
    "\n",
    "#instantiate and fit regressor\n",
    "#svm_regressor = SVR() \n",
    "#svm_regressor.fit(Xs_train, y_train)\n",
    "\n",
    "#using gs\n",
    "\n",
    "#instantiate grid search\n",
    "svr_gs = GridSearchCV(SVR(), svr_params, cv=5, verbose=1)\n",
    "\n",
    "#fit grid search\n",
    "svr_gs.fit(Xs_train, y_train)\n",
    "\n",
    "#get best score\n",
    "print(svr_gs.best_score_)\n",
    "\n",
    "#get best params\n",
    "print(svr_gs.best_params_)\n",
    "\n",
    "\n",
    "#generate new target predictions\n",
    "svm_preds = svr_gs.predict(Xs_test) #svm_regressor.predict(Xs_test)"
   ]
  },
  {
   "cell_type": "markdown",
   "metadata": {},
   "source": [
    "#### Evaluation\n",
    "\n",
    "Recall that:\n",
    "\n",
    ">\"In linear SVM, the result is a hyperplane that separates the classes as best as possible. The weights represent this hyperplane, by giving you the coordinates of a vector which is orthogonal to the hyperplane - these are the coefficients given by svm. coef_.\" [source](https://stats.stackexchange.com/questions/39243/how-does-one-interpret-svm-feature-weights)"
   ]
  },
  {
   "cell_type": "code",
   "execution_count": null,
   "metadata": {
    "ExecuteTime": {
     "end_time": "2021-06-17T22:36:01.477492Z",
     "start_time": "2021-06-17T22:34:04.610Z"
    },
    "scrolled": true
   },
   "outputs": [],
   "source": [
    "#get R2 score for train and test\n",
    "svr_gs.score(Xs_train, y_train).round(4), svr_gs.score(Xs_test, y_test).round(4)"
   ]
  },
  {
   "cell_type": "markdown",
   "metadata": {},
   "source": [
    "Our train performed pretty decently here (not great), but our test score is still pretty horrific."
   ]
  },
  {
   "cell_type": "code",
   "execution_count": null,
   "metadata": {
    "ExecuteTime": {
     "end_time": "2021-06-17T22:36:01.489900Z",
     "start_time": "2021-06-17T22:34:05.027Z"
    }
   },
   "outputs": [],
   "source": [
    "#pull out coefs only for best model!!\n",
    "#should be model.coef_"
   ]
  },
  {
   "cell_type": "markdown",
   "metadata": {},
   "source": [
    "## Conclusion and next steps"
   ]
  },
  {
   "cell_type": "markdown",
   "metadata": {},
   "source": [
    "We approached a data set with the apptempt to use text data to predict star ratings of an Amazon product.\n",
    "\n",
    "In doing so, we ran into a few challenges with dimensionality.\n",
    "In addition, if we consider the complexity of the problem we've set out to solve, instinctively, predicting an exact numeric average for a product, down to decimal points, is exceedingly hard. In the future, we may try to re-frame the problem as a classification problem and attempt this exercise again on more vague and perhaps subjective targets, such as classifying a score as either \"poor\" (if it is below 3 out of 5 stars), \"good or better\" (if it's 4 stars or above) or \"neutral\".\n",
    "\n",
    "In terms of data, we should mention a bit about potential bias as well. Because the sample was obtained from someone else's scaping results, we are a bit removed from the original source and cannot vouch for 100% accuracy of the data or the extraction methods.\n",
    "\n",
    "One piece missing, for example, is the dates of the purchases (or direct purchase data) or of the reviews themselves; as a result, we are relying on extrapolating popularity from the number of reviews, without any idea of the freshness or recency of the data.\n",
    "\n",
    "In addition, the original prices were in British pounds, so the data may be biased or skewed to a particular region; and the categories appear to may have been filtered down to only games and toy product related, which gives us at best a subset of customer purchases and, thus, possible insights.\n",
    "\n",
    "Further, because no purchase data or product listing age information are available, rather than deducing sales, we can really only look at identifying general product popularity. We must be careful to account for nuances, such as the freshness of a product listing. We do, however, assume a near direct proportion between the number of reviews and a product's purchases; that is to say, each review must come from a purchase (so there are at least that many) because of Amazon's product verification process (i.e., Amazon only allows customer reviews from validated purchases). Therefore, even our few outliers with 1,000+ ratings are presumed to be legitimate purchases.\n",
    "\n",
    "Lastly, a word of caution must be noted on ratings overall. While the subject of scrutiny of papers beyond our scope, ratings are inherently subjective due to their design, and some customers may be confused about how to use them (e.g., think that 1 star is the best rating). We must ignore these kinds of nuances, without the ability here to do qualitative research to question the validity of each rating, but one way to get at this is to ensure, for example, that the sentiment -- e.g. a positive review -- actually corresponds with the rating, e.g. a positive rating (4 stars or better) in the case of a positive review, which we attempt to do with the sentiment analysis tools at our disposal."
   ]
  }
 ],
 "metadata": {
  "kernelspec": {
   "display_name": "Python 3",
   "language": "python",
   "name": "python3"
  },
  "language_info": {
   "codemirror_mode": {
    "name": "ipython",
    "version": 3
   },
   "file_extension": ".py",
   "mimetype": "text/x-python",
   "name": "python",
   "nbconvert_exporter": "python",
   "pygments_lexer": "ipython3",
   "version": "3.8.3"
  },
  "toc": {
   "base_numbering": 1,
   "nav_menu": {},
   "number_sections": true,
   "sideBar": true,
   "skip_h1_title": false,
   "title_cell": "Table of Contents",
   "title_sidebar": "Contents",
   "toc_cell": false,
   "toc_position": {
    "height": "calc(100% - 180px)",
    "left": "10px",
    "top": "150px",
    "width": "290.594px"
   },
   "toc_section_display": true,
   "toc_window_display": true
  },
  "varInspector": {
   "cols": {
    "lenName": 16,
    "lenType": 16,
    "lenVar": 40
   },
   "kernels_config": {
    "python": {
     "delete_cmd_postfix": "",
     "delete_cmd_prefix": "del ",
     "library": "var_list.py",
     "varRefreshCmd": "print(var_dic_list())"
    },
    "r": {
     "delete_cmd_postfix": ") ",
     "delete_cmd_prefix": "rm(",
     "library": "var_list.r",
     "varRefreshCmd": "cat(var_dic_list()) "
    }
   },
   "types_to_exclude": [
    "module",
    "function",
    "builtin_function_or_method",
    "instance",
    "_Feature"
   ],
   "window_display": false
  }
 },
 "nbformat": 4,
 "nbformat_minor": 4
}
