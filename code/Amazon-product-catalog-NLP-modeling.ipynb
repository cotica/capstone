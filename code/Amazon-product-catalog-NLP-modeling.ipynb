{
 "cells": [
  {
   "cell_type": "markdown",
   "metadata": {},
   "source": [
    "_This is a continuation from the first notebook, found [here](../code/Amazon-product-catalog-cleaning-EDA.ipynb)_\n",
    "\n",
    "\n",
    "# Amazon product ratings predictor\n",
    "\n",
    "## Imports"
   ]
  },
  {
   "cell_type": "code",
   "execution_count": 2,
   "metadata": {
    "ExecuteTime": {
     "end_time": "2021-06-11T18:15:49.825773Z",
     "start_time": "2021-06-11T18:15:49.796036Z"
    }
   },
   "outputs": [],
   "source": [
    "#import libraries\n",
    "#basic ops\n",
    "import pandas as pd, numpy as np, matplotlib.pyplot as plt, seaborn as sns, re\n",
    "\n",
    "#other helper functions\n",
    "from pandasql import sqldf\n",
    "from math import pi\n",
    "\n",
    "#show grid on plots\n",
    "sns.set_style('darkgrid')\n",
    "\n",
    "#display tables without ellipsis\n",
    "#pd.set_option('display.max_rows', None)\n",
    "\n",
    "\n",
    "#NLP\n",
    "from nltk.stem import WordNetLemmatizer\n",
    "from nltk.sentiment.vader import SentimentIntensityAnalyzer\n",
    "from nltk.tokenize import RegexpTokenizer\n",
    "\n",
    "#import gensim.downloader as api #allows us to get word2vec anf glove embeddings that we need\n",
    "#from gensim.models.word2vec import Word2Vec\n",
    "#from transformers import pipeline\n",
    "from sklearn.feature_extraction.text import CountVectorizer, TfidfVectorizer\n",
    "\n",
    "#modeling\n",
    "from sklearn.linear_model import LinearRegression, LogisticRegression, \\\n",
    "                                 Ridge, RidgeCV, Lasso, LassoCV\n",
    "from sklearn.model_selection import train_test_split, GridSearchCV, \\\n",
    "                                    cross_val_score\n",
    "\n",
    "from sklearn.preprocessing import StandardScaler\n",
    "from sklearn.metrics import r2_score, mean_squared_error, mean_absolute_error\n",
    "from sklearn.dummy import DummyRegressor"
   ]
  },
  {
   "cell_type": "code",
   "execution_count": 6,
   "metadata": {
    "ExecuteTime": {
     "end_time": "2021-06-11T18:27:49.436996Z",
     "start_time": "2021-06-11T18:27:45.321608Z"
    }
   },
   "outputs": [],
   "source": [
    "#read in data\n",
    "ecom = pd.read_csv('../data/ecom.csv')"
   ]
  },
  {
   "cell_type": "code",
   "execution_count": 49,
   "metadata": {
    "ExecuteTime": {
     "end_time": "2021-06-11T23:08:27.995108Z",
     "start_time": "2021-06-11T23:08:27.987050Z"
    }
   },
   "outputs": [
    {
     "data": {
      "text/plain": [
       "Index(['index', 'uniq_id', 'product_name', 'price',\n",
       "       'number_available_in_stock', 'number_of_reviews',\n",
       "       'number_of_answered_questions', 'average_review_rating',\n",
       "       'customers_who_bought_this_item_also_bought', 'description',\n",
       "       ...\n",
       "       'amazon_category_and_sub_category_Sports Toys & Outdoor > Racket Games',\n",
       "       'amazon_category_and_sub_category_Sports Toys & Outdoor > Target Games',\n",
       "       'amazon_category_and_sub_category_Storage, Cleaning & Ring Sizers > Boxes & Organisers',\n",
       "       'amazon_category_and_sub_category_Supporters' Gear > Football > Memorabilia & Collectibles',\n",
       "       'amazon_category_and_sub_category_Sweets, Chocolate & Gum > Chocolate',\n",
       "       'amazon_category_and_sub_category_Sweets, Chocolate & Gum > Chocolate > Bars > Multipack Bars',\n",
       "       'amazon_category_and_sub_category_Women > Accessories',\n",
       "       'amazon_category_and_sub_category_Women > Accessories > Eyewear & Accessories > Sunglasses',\n",
       "       'amazon_category_and_sub_category_Women > Tops & T-Shirts',\n",
       "       'amazon_category_and_sub_category_Worlds Apart > Kid Venture > Kites'],\n",
       "      dtype='object', length=2918)"
      ]
     },
     "execution_count": 49,
     "metadata": {},
     "output_type": "execute_result"
    }
   ],
   "source": [
    "ecom.columns"
   ]
  },
  {
   "cell_type": "code",
   "execution_count": 7,
   "metadata": {
    "ExecuteTime": {
     "end_time": "2021-06-11T18:27:50.889373Z",
     "start_time": "2021-06-11T18:27:50.854280Z"
    }
   },
   "outputs": [
    {
     "data": {
      "text/html": [
       "<div>\n",
       "<style scoped>\n",
       "    .dataframe tbody tr th:only-of-type {\n",
       "        vertical-align: middle;\n",
       "    }\n",
       "\n",
       "    .dataframe tbody tr th {\n",
       "        vertical-align: top;\n",
       "    }\n",
       "\n",
       "    .dataframe thead th {\n",
       "        text-align: right;\n",
       "    }\n",
       "</style>\n",
       "<table border=\"1\" class=\"dataframe\">\n",
       "  <thead>\n",
       "    <tr style=\"text-align: right;\">\n",
       "      <th></th>\n",
       "      <th>uniq_id</th>\n",
       "      <th>product_name</th>\n",
       "      <th>price</th>\n",
       "      <th>number_available_in_stock</th>\n",
       "      <th>number_of_reviews</th>\n",
       "      <th>number_of_answered_questions</th>\n",
       "      <th>average_review_rating</th>\n",
       "      <th>customers_who_bought_this_item_also_bought</th>\n",
       "      <th>description</th>\n",
       "      <th>product_information</th>\n",
       "      <th>...</th>\n",
       "      <th>amazon_category_and_sub_category_Sports Toys &amp; Outdoor &gt; Racket Games</th>\n",
       "      <th>amazon_category_and_sub_category_Sports Toys &amp; Outdoor &gt; Target Games</th>\n",
       "      <th>amazon_category_and_sub_category_Storage, Cleaning &amp; Ring Sizers &gt; Boxes &amp; Organisers</th>\n",
       "      <th>amazon_category_and_sub_category_Supporters' Gear &gt; Football &gt; Memorabilia &amp; Collectibles</th>\n",
       "      <th>amazon_category_and_sub_category_Sweets, Chocolate &amp; Gum &gt; Chocolate</th>\n",
       "      <th>amazon_category_and_sub_category_Sweets, Chocolate &amp; Gum &gt; Chocolate &gt; Bars &gt; Multipack Bars</th>\n",
       "      <th>amazon_category_and_sub_category_Women &gt; Accessories</th>\n",
       "      <th>amazon_category_and_sub_category_Women &gt; Accessories &gt; Eyewear &amp; Accessories &gt; Sunglasses</th>\n",
       "      <th>amazon_category_and_sub_category_Women &gt; Tops &amp; T-Shirts</th>\n",
       "      <th>amazon_category_and_sub_category_Worlds Apart &gt; Kid Venture &gt; Kites</th>\n",
       "    </tr>\n",
       "  </thead>\n",
       "  <tbody>\n",
       "    <tr>\n",
       "      <th>0</th>\n",
       "      <td>eac7efa5dbd3d667f26eb3d3ab504464</td>\n",
       "      <td>Hornby 2014 Catalogue</td>\n",
       "      <td>3.42</td>\n",
       "      <td>5 new</td>\n",
       "      <td>15</td>\n",
       "      <td>1.0</td>\n",
       "      <td>4.9</td>\n",
       "      <td>http://www.amazon.co.uk/Hornby-R8150-Catalogue...</td>\n",
       "      <td>Product Description Hornby 2014 Catalogue Box ...</td>\n",
       "      <td>Technical Details Item Weight640 g Product Dim...</td>\n",
       "      <td>...</td>\n",
       "      <td>0</td>\n",
       "      <td>0</td>\n",
       "      <td>0</td>\n",
       "      <td>0</td>\n",
       "      <td>0</td>\n",
       "      <td>0</td>\n",
       "      <td>0</td>\n",
       "      <td>0</td>\n",
       "      <td>0</td>\n",
       "      <td>0</td>\n",
       "    </tr>\n",
       "    <tr>\n",
       "      <th>1</th>\n",
       "      <td>b17540ef7e86e461d37f3ae58b7b72ac</td>\n",
       "      <td>FunkyBuys® Large Christmas Holiday Express Fes...</td>\n",
       "      <td>16.99</td>\n",
       "      <td>0</td>\n",
       "      <td>2</td>\n",
       "      <td>1.0</td>\n",
       "      <td>4.0</td>\n",
       "      <td>http://www.amazon.co.uk/Christmas-Holiday-Expr...</td>\n",
       "      <td>Size Name:Large FunkyBuys® Large Christmas Hol...</td>\n",
       "      <td>Technical Details Manufacturer recommended age...</td>\n",
       "      <td>...</td>\n",
       "      <td>0</td>\n",
       "      <td>0</td>\n",
       "      <td>0</td>\n",
       "      <td>0</td>\n",
       "      <td>0</td>\n",
       "      <td>0</td>\n",
       "      <td>0</td>\n",
       "      <td>0</td>\n",
       "      <td>0</td>\n",
       "      <td>0</td>\n",
       "    </tr>\n",
       "    <tr>\n",
       "      <th>2</th>\n",
       "      <td>348f344247b0c1a935b1223072ef9d8a</td>\n",
       "      <td>CLASSIC TOY TRAIN SET TRACK CARRIAGES LIGHT EN...</td>\n",
       "      <td>9.99</td>\n",
       "      <td>2 new</td>\n",
       "      <td>17</td>\n",
       "      <td>2.0</td>\n",
       "      <td>3.9</td>\n",
       "      <td>http://www.amazon.co.uk/Classic-Train-Lights-B...</td>\n",
       "      <td>BIG CLASSIC TOY TRAIN SET TRACK CARRIAGE LIGHT...</td>\n",
       "      <td>Technical Details Manufacturer recommended age...</td>\n",
       "      <td>...</td>\n",
       "      <td>0</td>\n",
       "      <td>0</td>\n",
       "      <td>0</td>\n",
       "      <td>0</td>\n",
       "      <td>0</td>\n",
       "      <td>0</td>\n",
       "      <td>0</td>\n",
       "      <td>0</td>\n",
       "      <td>0</td>\n",
       "      <td>0</td>\n",
       "    </tr>\n",
       "    <tr>\n",
       "      <th>3</th>\n",
       "      <td>e12b92dbb8eaee78b22965d2a9bbbd9f</td>\n",
       "      <td>HORNBY Coach R4410A BR Hawksworth Corridor 3rd</td>\n",
       "      <td>39.99</td>\n",
       "      <td>0</td>\n",
       "      <td>1</td>\n",
       "      <td>2.0</td>\n",
       "      <td>0.0</td>\n",
       "      <td>0</td>\n",
       "      <td>Hornby 00 Gauge BR Hawksworth 3rd Class W 2107...</td>\n",
       "      <td>Technical Details Item Weight259 g Product Dim...</td>\n",
       "      <td>...</td>\n",
       "      <td>0</td>\n",
       "      <td>0</td>\n",
       "      <td>0</td>\n",
       "      <td>0</td>\n",
       "      <td>0</td>\n",
       "      <td>0</td>\n",
       "      <td>0</td>\n",
       "      <td>0</td>\n",
       "      <td>0</td>\n",
       "      <td>0</td>\n",
       "    </tr>\n",
       "    <tr>\n",
       "      <th>4</th>\n",
       "      <td>e33a9adeed5f36840ccc227db4682a36</td>\n",
       "      <td>Hornby 00 Gauge 0-4-0 Gildenlow Salt Co. Steam...</td>\n",
       "      <td>32.19</td>\n",
       "      <td>0</td>\n",
       "      <td>3</td>\n",
       "      <td>2.0</td>\n",
       "      <td>4.7</td>\n",
       "      <td>http://www.amazon.co.uk/Hornby-R6367-RailRoad-...</td>\n",
       "      <td>Product Description Hornby RailRoad 0-4-0 Gild...</td>\n",
       "      <td>Technical Details Item Weight159 g Product Dim...</td>\n",
       "      <td>...</td>\n",
       "      <td>0</td>\n",
       "      <td>0</td>\n",
       "      <td>0</td>\n",
       "      <td>0</td>\n",
       "      <td>0</td>\n",
       "      <td>0</td>\n",
       "      <td>0</td>\n",
       "      <td>0</td>\n",
       "      <td>0</td>\n",
       "      <td>0</td>\n",
       "    </tr>\n",
       "  </tbody>\n",
       "</table>\n",
       "<p>5 rows × 2917 columns</p>\n",
       "</div>"
      ],
      "text/plain": [
       "                            uniq_id  \\\n",
       "0  eac7efa5dbd3d667f26eb3d3ab504464   \n",
       "1  b17540ef7e86e461d37f3ae58b7b72ac   \n",
       "2  348f344247b0c1a935b1223072ef9d8a   \n",
       "3  e12b92dbb8eaee78b22965d2a9bbbd9f   \n",
       "4  e33a9adeed5f36840ccc227db4682a36   \n",
       "\n",
       "                                        product_name  price  \\\n",
       "0                              Hornby 2014 Catalogue   3.42   \n",
       "1  FunkyBuys® Large Christmas Holiday Express Fes...  16.99   \n",
       "2  CLASSIC TOY TRAIN SET TRACK CARRIAGES LIGHT EN...   9.99   \n",
       "3     HORNBY Coach R4410A BR Hawksworth Corridor 3rd  39.99   \n",
       "4  Hornby 00 Gauge 0-4-0 Gildenlow Salt Co. Steam...  32.19   \n",
       "\n",
       "  number_available_in_stock  number_of_reviews  number_of_answered_questions  \\\n",
       "0                     5 new                 15                           1.0   \n",
       "1                         0                  2                           1.0   \n",
       "2                     2 new                 17                           2.0   \n",
       "3                         0                  1                           2.0   \n",
       "4                         0                  3                           2.0   \n",
       "\n",
       "   average_review_rating         customers_who_bought_this_item_also_bought  \\\n",
       "0                    4.9  http://www.amazon.co.uk/Hornby-R8150-Catalogue...   \n",
       "1                    4.0  http://www.amazon.co.uk/Christmas-Holiday-Expr...   \n",
       "2                    3.9  http://www.amazon.co.uk/Classic-Train-Lights-B...   \n",
       "3                    0.0                                                  0   \n",
       "4                    4.7  http://www.amazon.co.uk/Hornby-R6367-RailRoad-...   \n",
       "\n",
       "                                         description  \\\n",
       "0  Product Description Hornby 2014 Catalogue Box ...   \n",
       "1  Size Name:Large FunkyBuys® Large Christmas Hol...   \n",
       "2  BIG CLASSIC TOY TRAIN SET TRACK CARRIAGE LIGHT...   \n",
       "3  Hornby 00 Gauge BR Hawksworth 3rd Class W 2107...   \n",
       "4  Product Description Hornby RailRoad 0-4-0 Gild...   \n",
       "\n",
       "                                 product_information  ...  \\\n",
       "0  Technical Details Item Weight640 g Product Dim...  ...   \n",
       "1  Technical Details Manufacturer recommended age...  ...   \n",
       "2  Technical Details Manufacturer recommended age...  ...   \n",
       "3  Technical Details Item Weight259 g Product Dim...  ...   \n",
       "4  Technical Details Item Weight159 g Product Dim...  ...   \n",
       "\n",
       "  amazon_category_and_sub_category_Sports Toys & Outdoor > Racket Games  \\\n",
       "0                                                  0                      \n",
       "1                                                  0                      \n",
       "2                                                  0                      \n",
       "3                                                  0                      \n",
       "4                                                  0                      \n",
       "\n",
       "  amazon_category_and_sub_category_Sports Toys & Outdoor > Target Games  \\\n",
       "0                                                  0                      \n",
       "1                                                  0                      \n",
       "2                                                  0                      \n",
       "3                                                  0                      \n",
       "4                                                  0                      \n",
       "\n",
       "  amazon_category_and_sub_category_Storage, Cleaning & Ring Sizers > Boxes & Organisers  \\\n",
       "0                                                  0                                      \n",
       "1                                                  0                                      \n",
       "2                                                  0                                      \n",
       "3                                                  0                                      \n",
       "4                                                  0                                      \n",
       "\n",
       "  amazon_category_and_sub_category_Supporters' Gear > Football > Memorabilia & Collectibles  \\\n",
       "0                                                  0                                          \n",
       "1                                                  0                                          \n",
       "2                                                  0                                          \n",
       "3                                                  0                                          \n",
       "4                                                  0                                          \n",
       "\n",
       "  amazon_category_and_sub_category_Sweets, Chocolate & Gum > Chocolate  \\\n",
       "0                                                  0                     \n",
       "1                                                  0                     \n",
       "2                                                  0                     \n",
       "3                                                  0                     \n",
       "4                                                  0                     \n",
       "\n",
       "   amazon_category_and_sub_category_Sweets, Chocolate & Gum > Chocolate > Bars > Multipack Bars  \\\n",
       "0                                                  0                                              \n",
       "1                                                  0                                              \n",
       "2                                                  0                                              \n",
       "3                                                  0                                              \n",
       "4                                                  0                                              \n",
       "\n",
       "   amazon_category_and_sub_category_Women > Accessories  \\\n",
       "0                                                  0      \n",
       "1                                                  0      \n",
       "2                                                  0      \n",
       "3                                                  0      \n",
       "4                                                  0      \n",
       "\n",
       "   amazon_category_and_sub_category_Women > Accessories > Eyewear & Accessories > Sunglasses  \\\n",
       "0                                                  0                                           \n",
       "1                                                  0                                           \n",
       "2                                                  0                                           \n",
       "3                                                  0                                           \n",
       "4                                                  0                                           \n",
       "\n",
       "   amazon_category_and_sub_category_Women > Tops & T-Shirts  \\\n",
       "0                                                  0          \n",
       "1                                                  0          \n",
       "2                                                  0          \n",
       "3                                                  0          \n",
       "4                                                  0          \n",
       "\n",
       "   amazon_category_and_sub_category_Worlds Apart > Kid Venture > Kites  \n",
       "0                                                  0                    \n",
       "1                                                  0                    \n",
       "2                                                  0                    \n",
       "3                                                  0                    \n",
       "4                                                  0                    \n",
       "\n",
       "[5 rows x 2917 columns]"
      ]
     },
     "execution_count": 7,
     "metadata": {},
     "output_type": "execute_result"
    }
   ],
   "source": [
    "ecom.head()"
   ]
  },
  {
   "cell_type": "code",
   "execution_count": 11,
   "metadata": {
    "ExecuteTime": {
     "end_time": "2021-06-11T18:32:34.699338Z",
     "start_time": "2021-06-11T18:32:34.585394Z"
    }
   },
   "outputs": [
    {
     "data": {
      "text/plain": [
       "amazon_category_and_sub_category_Worlds Apart > Kid Venture > Kites    0\n",
       "manufacturer_Hansa                                                     0\n",
       "manufacturer_Hanayama                                                  0\n",
       "manufacturer_Hamleys                                                   0\n",
       "manufacturer_Hama Beads DKL                                            0\n",
       "                                                                      ..\n",
       "manufacturer_Scream                                                    0\n",
       "manufacturer_Scratch                                                   0\n",
       "manufacturer_Scrabble                                                  0\n",
       "manufacturer_Scoot                                                     0\n",
       "uniq_id                                                                0\n",
       "Length: 2917, dtype: int64"
      ]
     },
     "execution_count": 11,
     "metadata": {},
     "output_type": "execute_result"
    }
   ],
   "source": [
    "#check for nulls now that data has been through and export / import process\n",
    "ecom.isna().sum().sort_values(ascending=False)"
   ]
  },
  {
   "cell_type": "code",
   "execution_count": 10,
   "metadata": {
    "ExecuteTime": {
     "end_time": "2021-06-11T18:32:31.388152Z",
     "start_time": "2021-06-11T18:32:31.373332Z"
    }
   },
   "outputs": [],
   "source": [
    "ecom['customer_reviews'] = ecom['customer_reviews'].fillna('')"
   ]
  },
  {
   "cell_type": "markdown",
   "metadata": {},
   "source": [
    "## NLP\n",
    "\n",
    "Open questions:\n",
    "\n",
    "* Sentiment of reviews\n",
    "* Does sentiment correspond to star rating?\n",
    "* Most interesting question bi-grams\n",
    "* Most interesting review bi-grams"
   ]
  },
  {
   "cell_type": "markdown",
   "metadata": {},
   "source": [
    "### Word frequencies"
   ]
  },
  {
   "cell_type": "code",
   "execution_count": 43,
   "metadata": {
    "ExecuteTime": {
     "end_time": "2021-06-11T22:59:17.237424Z",
     "start_time": "2021-06-11T22:59:17.211183Z"
    }
   },
   "outputs": [],
   "source": [
    "#vectorize text. NOTE: Run the RegEx to remove line breaks from customer review and\n",
    "#questions columns, first!\n",
    "\n",
    "#ensure that our inputs are actual strings\n",
    "ecom['customer_reviews'] = ecom['customer_reviews'].astype('string')\n",
    "ecom['customer_questions_and_answers'] = ecom['customer_questions_and_answers'].astype(\n",
    "'string')\n",
    "\n",
    "#instantiate count vec used for word freq analysis\n",
    "cvec = CountVectorizer(stop_words='english', max_features=2000) \n",
    "\n",
    "#define our columns to use in vectorizer functions\n",
    "reviews = ecom['customer_reviews'] \n",
    "questions = ecom['customer_questions_and_answers']\n",
    "\n",
    "#function to vectorize\n",
    "def vectorize(column): #plug in whatever we need to vectorize from df here\n",
    "\n",
    "    transformed_df = cvec.fit_transform(column)\n",
    "\n",
    "    transformed_df = pd.DataFrame(\n",
    "        transformed_df.todense(), columns = cvec.get_feature_names())\n",
    "    \n",
    "    #get most important words\n",
    "    #print('Top 30 most common words in Amazon ' + column)\n",
    "    \n",
    "    freq = pd.DataFrame(transformed_df.sum().sort_values(\n",
    "        ascending=False)[:30], columns=['Frequency'])\n",
    "    \n",
    "    return freq"
   ]
  },
  {
   "cell_type": "code",
   "execution_count": 44,
   "metadata": {
    "ExecuteTime": {
     "end_time": "2021-06-11T22:59:21.923852Z",
     "start_time": "2021-06-11T22:59:20.542328Z"
    }
   },
   "outputs": [
    {
     "data": {
      "text/html": [
       "<div>\n",
       "<style scoped>\n",
       "    .dataframe tbody tr th:only-of-type {\n",
       "        vertical-align: middle;\n",
       "    }\n",
       "\n",
       "    .dataframe tbody tr th {\n",
       "        vertical-align: top;\n",
       "    }\n",
       "\n",
       "    .dataframe thead th {\n",
       "        text-align: right;\n",
       "    }\n",
       "</style>\n",
       "<table border=\"1\" class=\"dataframe\">\n",
       "  <thead>\n",
       "    <tr style=\"text-align: right;\">\n",
       "      <th></th>\n",
       "      <th>Frequency</th>\n",
       "    </tr>\n",
       "  </thead>\n",
       "  <tbody>\n",
       "    <tr>\n",
       "      <th>2015</th>\n",
       "      <td>21272</td>\n",
       "    </tr>\n",
       "    <tr>\n",
       "      <th>2014</th>\n",
       "      <td>14045</td>\n",
       "    </tr>\n",
       "    <tr>\n",
       "      <th>great</th>\n",
       "      <td>11469</td>\n",
       "    </tr>\n",
       "    <tr>\n",
       "      <th>good</th>\n",
       "      <td>11057</td>\n",
       "    </tr>\n",
       "    <tr>\n",
       "      <th>2013</th>\n",
       "      <td>9329</td>\n",
       "    </tr>\n",
       "    <tr>\n",
       "      <th>jan</th>\n",
       "      <td>9225</td>\n",
       "    </tr>\n",
       "    <tr>\n",
       "      <th>dec</th>\n",
       "      <td>7797</td>\n",
       "    </tr>\n",
       "    <tr>\n",
       "      <th>stars</th>\n",
       "      <td>7273</td>\n",
       "    </tr>\n",
       "    <tr>\n",
       "      <th>2016</th>\n",
       "      <td>5876</td>\n",
       "    </tr>\n",
       "    <tr>\n",
       "      <th>nov</th>\n",
       "      <td>5404</td>\n",
       "    </tr>\n",
       "    <tr>\n",
       "      <th>feb</th>\n",
       "      <td>5321</td>\n",
       "    </tr>\n",
       "    <tr>\n",
       "      <th>quality</th>\n",
       "      <td>4916</td>\n",
       "    </tr>\n",
       "    <tr>\n",
       "      <th>oct</th>\n",
       "      <td>4722</td>\n",
       "    </tr>\n",
       "    <tr>\n",
       "      <th>bought</th>\n",
       "      <td>4698</td>\n",
       "    </tr>\n",
       "    <tr>\n",
       "      <th>mar</th>\n",
       "      <td>4433</td>\n",
       "    </tr>\n",
       "    <tr>\n",
       "      <th>little</th>\n",
       "      <td>4268</td>\n",
       "    </tr>\n",
       "    <tr>\n",
       "      <th>really</th>\n",
       "      <td>4199</td>\n",
       "    </tr>\n",
       "    <tr>\n",
       "      <th>fun</th>\n",
       "      <td>4131</td>\n",
       "    </tr>\n",
       "    <tr>\n",
       "      <th>aug</th>\n",
       "      <td>4128</td>\n",
       "    </tr>\n",
       "    <tr>\n",
       "      <th>old</th>\n",
       "      <td>4089</td>\n",
       "    </tr>\n",
       "    <tr>\n",
       "      <th>sept</th>\n",
       "      <td>3937</td>\n",
       "    </tr>\n",
       "    <tr>\n",
       "      <th>july</th>\n",
       "      <td>3849</td>\n",
       "    </tr>\n",
       "    <tr>\n",
       "      <th>just</th>\n",
       "      <td>3781</td>\n",
       "    </tr>\n",
       "    <tr>\n",
       "      <th>april</th>\n",
       "      <td>3708</td>\n",
       "    </tr>\n",
       "    <tr>\n",
       "      <th>2012</th>\n",
       "      <td>3472</td>\n",
       "    </tr>\n",
       "    <tr>\n",
       "      <th>product</th>\n",
       "      <td>3418</td>\n",
       "    </tr>\n",
       "    <tr>\n",
       "      <th>year</th>\n",
       "      <td>3399</td>\n",
       "    </tr>\n",
       "    <tr>\n",
       "      <th>jun</th>\n",
       "      <td>3241</td>\n",
       "    </tr>\n",
       "    <tr>\n",
       "      <th>game</th>\n",
       "      <td>3171</td>\n",
       "    </tr>\n",
       "    <tr>\n",
       "      <th>loves</th>\n",
       "      <td>3159</td>\n",
       "    </tr>\n",
       "  </tbody>\n",
       "</table>\n",
       "</div>"
      ],
      "text/plain": [
       "         Frequency\n",
       "2015         21272\n",
       "2014         14045\n",
       "great        11469\n",
       "good         11057\n",
       "2013          9329\n",
       "jan           9225\n",
       "dec           7797\n",
       "stars         7273\n",
       "2016          5876\n",
       "nov           5404\n",
       "feb           5321\n",
       "quality       4916\n",
       "oct           4722\n",
       "bought        4698\n",
       "mar           4433\n",
       "little        4268\n",
       "really        4199\n",
       "fun           4131\n",
       "aug           4128\n",
       "old           4089\n",
       "sept          3937\n",
       "july          3849\n",
       "just          3781\n",
       "april         3708\n",
       "2012          3472\n",
       "product       3418\n",
       "year          3399\n",
       "jun           3241\n",
       "game          3171\n",
       "loves         3159"
      ]
     },
     "execution_count": 44,
     "metadata": {},
     "output_type": "execute_result"
    }
   ],
   "source": [
    "vectorize(reviews)"
   ]
  },
  {
   "cell_type": "code",
   "execution_count": 45,
   "metadata": {
    "ExecuteTime": {
     "end_time": "2021-06-11T22:59:29.344862Z",
     "start_time": "2021-06-11T22:59:29.100555Z"
    }
   },
   "outputs": [
    {
     "data": {
      "text/html": [
       "<div>\n",
       "<style scoped>\n",
       "    .dataframe tbody tr th:only-of-type {\n",
       "        vertical-align: middle;\n",
       "    }\n",
       "\n",
       "    .dataframe tbody tr th {\n",
       "        vertical-align: top;\n",
       "    }\n",
       "\n",
       "    .dataframe thead th {\n",
       "        text-align: right;\n",
       "    }\n",
       "</style>\n",
       "<table border=\"1\" class=\"dataframe\">\n",
       "  <thead>\n",
       "    <tr style=\"text-align: right;\">\n",
       "      <th></th>\n",
       "      <th>Frequency</th>\n",
       "    </tr>\n",
       "  </thead>\n",
       "  <tbody>\n",
       "    <tr>\n",
       "      <th>does</th>\n",
       "      <td>391</td>\n",
       "    </tr>\n",
       "    <tr>\n",
       "      <th>yes</th>\n",
       "      <td>333</td>\n",
       "    </tr>\n",
       "    <tr>\n",
       "      <th>hi</th>\n",
       "      <td>293</td>\n",
       "    </tr>\n",
       "    <tr>\n",
       "      <th>size</th>\n",
       "      <td>239</td>\n",
       "    </tr>\n",
       "    <tr>\n",
       "      <th>just</th>\n",
       "      <td>216</td>\n",
       "    </tr>\n",
       "    <tr>\n",
       "      <th>cards</th>\n",
       "      <td>195</td>\n",
       "    </tr>\n",
       "    <tr>\n",
       "      <th>box</th>\n",
       "      <td>173</td>\n",
       "    </tr>\n",
       "    <tr>\n",
       "      <th>set</th>\n",
       "      <td>158</td>\n",
       "    </tr>\n",
       "    <tr>\n",
       "      <th>thanks</th>\n",
       "      <td>156</td>\n",
       "    </tr>\n",
       "    <tr>\n",
       "      <th>know</th>\n",
       "      <td>153</td>\n",
       "    </tr>\n",
       "    <tr>\n",
       "      <th>need</th>\n",
       "      <td>148</td>\n",
       "    </tr>\n",
       "    <tr>\n",
       "      <th>old</th>\n",
       "      <td>146</td>\n",
       "    </tr>\n",
       "    <tr>\n",
       "      <th>come</th>\n",
       "      <td>146</td>\n",
       "    </tr>\n",
       "    <tr>\n",
       "      <th>hope</th>\n",
       "      <td>143</td>\n",
       "    </tr>\n",
       "    <tr>\n",
       "      <th>year</th>\n",
       "      <td>140</td>\n",
       "    </tr>\n",
       "    <tr>\n",
       "      <th>use</th>\n",
       "      <td>139</td>\n",
       "    </tr>\n",
       "    <tr>\n",
       "      <th>bought</th>\n",
       "      <td>136</td>\n",
       "    </tr>\n",
       "    <tr>\n",
       "      <th>good</th>\n",
       "      <td>130</td>\n",
       "    </tr>\n",
       "    <tr>\n",
       "      <th>helps</th>\n",
       "      <td>126</td>\n",
       "    </tr>\n",
       "    <tr>\n",
       "      <th>fit</th>\n",
       "      <td>124</td>\n",
       "    </tr>\n",
       "    <tr>\n",
       "      <th>sorry</th>\n",
       "      <td>118</td>\n",
       "    </tr>\n",
       "    <tr>\n",
       "      <th>think</th>\n",
       "      <td>117</td>\n",
       "    </tr>\n",
       "    <tr>\n",
       "      <th>game</th>\n",
       "      <td>116</td>\n",
       "    </tr>\n",
       "    <tr>\n",
       "      <th>buy</th>\n",
       "      <td>114</td>\n",
       "    </tr>\n",
       "    <tr>\n",
       "      <th>don</th>\n",
       "      <td>109</td>\n",
       "    </tr>\n",
       "    <tr>\n",
       "      <th>long</th>\n",
       "      <td>103</td>\n",
       "    </tr>\n",
       "    <tr>\n",
       "      <th>play</th>\n",
       "      <td>102</td>\n",
       "    </tr>\n",
       "    <tr>\n",
       "      <th>small</th>\n",
       "      <td>96</td>\n",
       "    </tr>\n",
       "    <tr>\n",
       "      <th>pack</th>\n",
       "      <td>96</td>\n",
       "    </tr>\n",
       "    <tr>\n",
       "      <th>like</th>\n",
       "      <td>95</td>\n",
       "    </tr>\n",
       "  </tbody>\n",
       "</table>\n",
       "</div>"
      ],
      "text/plain": [
       "        Frequency\n",
       "does          391\n",
       "yes           333\n",
       "hi            293\n",
       "size          239\n",
       "just          216\n",
       "cards         195\n",
       "box           173\n",
       "set           158\n",
       "thanks        156\n",
       "know          153\n",
       "need          148\n",
       "old           146\n",
       "come          146\n",
       "hope          143\n",
       "year          140\n",
       "use           139\n",
       "bought        136\n",
       "good          130\n",
       "helps         126\n",
       "fit           124\n",
       "sorry         118\n",
       "think         117\n",
       "game          116\n",
       "buy           114\n",
       "don           109\n",
       "long          103\n",
       "play          102\n",
       "small          96\n",
       "pack           96\n",
       "like           95"
      ]
     },
     "execution_count": 45,
     "metadata": {},
     "output_type": "execute_result"
    }
   ],
   "source": [
    "vectorize(questions)"
   ]
  },
  {
   "cell_type": "markdown",
   "metadata": {},
   "source": [
    "Among these, words like 'game', 'old' and 'quality' might be of some interest. However, it's a bit tricky to derive very much meaning from standalone words, so we should look at word groups."
   ]
  },
  {
   "cell_type": "markdown",
   "metadata": {},
   "source": [
    "### Bigrams and trigrams\n",
    "\n",
    "#### Bigrams"
   ]
  },
  {
   "cell_type": "code",
   "execution_count": 46,
   "metadata": {
    "ExecuteTime": {
     "end_time": "2021-06-11T23:02:50.563169Z",
     "start_time": "2021-06-11T23:02:08.620624Z"
    }
   },
   "outputs": [
    {
     "data": {
      "text/plain": [
       "jan 2016        3308\n",
       "dec 2015        3184\n",
       "year old        2728\n",
       "jan 2015        2342\n",
       "nov 2015        2219\n",
       "dec 2014        1966\n",
       "oct 2015        1853\n",
       "good quality    1788\n",
       "feb 2015        1600\n",
       "mar 2015        1526\n",
       "dtype: int64"
      ]
     },
     "execution_count": 46,
     "metadata": {},
     "output_type": "execute_result"
    }
   ],
   "source": [
    "#reviews\n",
    "cvec_2 = CountVectorizer(ngram_range=(2,2),stop_words=\"english\") \n",
    "bigrams = cvec_2.fit_transform(reviews)\n",
    "bigrams = pd.DataFrame(\n",
    "    bigrams.todense(), columns=cvec_2.get_feature_names())\n",
    "bigrams.sum().sort_values(ascending=False).head(10)"
   ]
  },
  {
   "cell_type": "code",
   "execution_count": 50,
   "metadata": {
    "ExecuteTime": {
     "end_time": "2021-06-11T23:08:59.481228Z",
     "start_time": "2021-06-11T23:08:57.469895Z"
    }
   },
   "outputs": [
    {
     "data": {
      "text/plain": [
       "hope helps      115\n",
       "year old         97\n",
       "does come        61\n",
       "don know         34\n",
       "hi yes           27\n",
       "yes does         25\n",
       "kind regards     23\n",
       "thanks hi        21\n",
       "sorry don        18\n",
       "does know        17\n",
       "dtype: int64"
      ]
     },
     "execution_count": 50,
     "metadata": {},
     "output_type": "execute_result"
    }
   ],
   "source": [
    "#cust q's\n",
    "cvec_2 = CountVectorizer(ngram_range=(2,2),stop_words=\"english\") \n",
    "bigrams = cvec_2.fit_transform(questions)\n",
    "bigrams = pd.DataFrame(\n",
    "    bigrams.todense(), columns=cvec_2.get_feature_names())\n",
    "bigrams.sum().sort_values(ascending=False).head(10)"
   ]
  },
  {
   "cell_type": "markdown",
   "metadata": {},
   "source": [
    "#### Trigrams"
   ]
  },
  {
   "cell_type": "code",
   "execution_count": 51,
   "metadata": {
    "ExecuteTime": {
     "end_time": "2021-06-11T23:10:04.078004Z",
     "start_time": "2021-06-11T23:09:01.772905Z"
    }
   },
   "outputs": [
    {
     "data": {
      "text/plain": [
       "2015 amazon customer        642\n",
       "2016 amazon customer        423\n",
       "good value money            408\n",
       "year old son                371\n",
       "bought year old             264\n",
       "dec 2015 amazon             250\n",
       "jan 2016 amazon             240\n",
       "people following review     239\n",
       "following review helpful    239\n",
       "year old daughter           234\n",
       "dtype: int64"
      ]
     },
     "execution_count": 51,
     "metadata": {},
     "output_type": "execute_result"
    }
   ],
   "source": [
    "#reviews\n",
    "cvec_3 = CountVectorizer(ngram_range=(3,3),stop_words=\"english\") \n",
    "trigrams = cvec_3.fit_transform(reviews)\n",
    "trigrams = pd.DataFrame(trigrams.todense(), columns=cvec_3.get_feature_names())\n",
    "trigrams.sum().sort_values(ascending=False).head(10)"
   ]
  },
  {
   "cell_type": "code",
   "execution_count": 52,
   "metadata": {
    "ExecuteTime": {
     "end_time": "2021-06-11T23:10:44.513435Z",
     "start_time": "2021-06-11T23:10:42.127807Z"
    }
   },
   "outputs": [
    {
     "data": {
      "text/plain": [
       "sorry don know           15\n",
       "suitable year old        11\n",
       "hope helps does           8\n",
       "does item come            7\n",
       "www amazon uk             6\n",
       "official rainbow loom     5\n",
       "old year old              5\n",
       "amazon uk gp              5\n",
       "year old son              5\n",
       "mega metagross ex         5\n",
       "dtype: int64"
      ]
     },
     "execution_count": 52,
     "metadata": {},
     "output_type": "execute_result"
    }
   ],
   "source": [
    "#cust q's\n",
    "cvec_3 = CountVectorizer(ngram_range=(3,3),stop_words=\"english\") \n",
    "trigrams = cvec_3.fit_transform(questions)\n",
    "trigrams = pd.DataFrame(trigrams.todense(), columns=cvec_3.get_feature_names())\n",
    "trigrams.sum().sort_values(ascending=False).head(10)"
   ]
  },
  {
   "cell_type": "markdown",
   "metadata": {},
   "source": [
    "### Customer review sentiment analysis"
   ]
  },
  {
   "cell_type": "code",
   "execution_count": 15,
   "metadata": {
    "ExecuteTime": {
     "end_time": "2021-06-11T22:35:58.714489Z",
     "start_time": "2021-06-11T22:35:58.669918Z"
    }
   },
   "outputs": [
    {
     "name": "stdout",
     "output_type": "stream",
     "text": [
      "9979\n"
     ]
    },
    {
     "data": {
      "text/plain": [
       "[\"Worth Buying For The Pictures Alone (As Ever)  4.0  6 April 2014  By        Copnovelist   on 6 April 2014  Part of the magic for me growing up as a boy was to buy (or be given) the new Hornby catalogue every year, even if it included 90% of the same products as the previous year.  I've still got my old ones dating back to the 70s and 80s somewhere.  These days the catalogue is especially informative in that it tells you the vintage of the rolling stock which is useful if you are dedicating your railway to one particular era and train company.  Amazing detail fabulous photography.  5.0  11 April 2015  By        richard   on 11 April 2015  Amazing detail, every credit to the photographer in this book, a worthy reference manual, as well as a sales brochure. even if you only have a passing interest in the hobby you will be transported to another time when we were all younger and in awe of the big trains.  'Great Purchase'  5.0  23 April 2014  By        Pinkhandbag   on 23 April 2014  This was purchased on behalf of my Dad. He is always asking me to look up 00 gauge engines online, so this has been a good buy as he can look at it anytime. Would definitely buy the next one 2015!It arrived quickly and in perfect condition :-)  Great Catalogue  5.0  11 Jun. 2014  By        Gary John Mapson   on 11 Jun. 2014  Everything I really needed to see what was on offer from Hornby in the way of trains.  Would not have minded it included an RRP as well though  I collect them all as the glossy pictures are great and it is nice that you can still get ...  5.0  7 Dec. 2014  By        David Baker   on 7 Dec. 2014  I collect them all as the glossy pictures are great and it is nice that you can still get catalogs to collect.  Great catalogue  5.0  20 Mar. 2015  By        John A. Day   on 20 Mar. 2015  What a great book.  Extremely useful insight to all future christmas presents.  Useful  5.0  7 Oct. 2014  By        T. Davies   on 7 Oct. 2014  Useful info for someonelike me starting back into the hobby after many years  hornbys latest catalogue.  5.0  1 Dec. 2014  By        John Butlin   on 1 Dec. 2014  A well produced very good quality catalogue.Super quality pictures.\",\n",
       " 'Four Stars  4.0  18 Dec. 2015  By        kenneth bell   on 18 Dec. 2015  Very happy with the communication with funkybuys  Five Stars  5.0  14 Jan. 2016  By        moosixty   on 14 Jan. 2016  Great buy.',\n",
       " \"**Highly Recommended!**  5.0  26 May 2015  By        Simon.B :-)   on 26 May 2015  Simple & GREAT FUN for 5+My nephews face was amazing when he opened this for his birthday!! His mouth dropped open with surprise! (no joke, it literally did!)It's very easy to connect the plastic track/assemble, it takes 2 mins. It's very easy to connect the trains together and apply to track.All you need is two AA batteries and time to watch your child enjoy themselves!We even added homemade tunnels to this to make it more fun, we simply cut holes in cardboard boxes to put around certain parts of the track!This is brilliant for very young kids if they're very interested in trains. This gets them started in the hobby and doesn't cost much at all!  Excellent product  5.0  29 Jun. 2014  By        Trevor   on 29 Jun. 2014  Excellent product everybody should have one or to of product  excellent  100 percent ok speedy delivery excellent i give it five stars CLASSIC TOY TRAIN SET TRACK CARRIAGES LIGHT ENGINE BOXED BOYS KIDS BATTERYdouble aa battery goes in top of engine  Review book finding love again  5.0  20 Aug. 2015  By        Janet   on 20 Aug. 2015  I was extremely pleased with the train set really good value for money.  I would not recommend this item  1.0  11 Dec. 2015  By        ann milburn   on 11 Dec. 2015  i found this item, not suitable for young children,  very difficult to keep the carriages together and the whole thing kept coming off the track.All very thin plastic. I would not recommend this item.  ... for my young nephew for Christmas I was very disappointed but as it was only £7 it was not ...  1.0  11 Jan. 2016  By        T. F. Snowdon   on 11 Jan. 2016  The Train did not work  and as it was a present for my young nephew for Christmas I was very disappointed but as it was only £7 it was not worth the fuss of ordering another  Better than expected  4.0  22 Dec. 2015  By        Kindle Customer   on 22 Dec. 2015  Better than expected. It has a proper oval of track rather than just a circle. My 2 year old grandsn loves it although he finds it difficult to put on the track.  Brilliant little train  5.0  28 Dec. 2015  By        LorsF   on 28 Dec. 2015  Brilliant little train.  Bought for my son who was looking for a train that looks like the polar express - he was not disappointed.  Great value.  ok train , but carriages kept coming off track  3.0  16 Dec. 2015  By        mrs nice   on 16 Dec. 2015  train carriages kept falling track  of and the connectors not good. better on the floor\",\n",
       " \"I love it  5.0  22 July 2013  By        Lilla Lukacs   on 22 July 2013  I love it. Perfect with the earlier ordered locomotive.Again: I would recommend it to the masters of the topic. It's not just a toy.\",\n",
       " \"Birthday present  5.0  14 April 2014  By        Love my Dog   on 14 April 2014  Bought this for my Grandson's birthday.  He is currently collecting some bits for his train set.  Keeps him away from the TV and computers.  So think it was well worth it.  john burns  4.0  17 Jan. 2014  By        john burns   on 17 Jan. 2014  only four this time i here you say but i still highly recommend this product as it is a very well engineered piece of equipment and a very worth while addition to every railway enthusiasts collection young or old alike even those who are just starting out this is a good place to get started she also has the lines (a good body) she is neat sweet and petite she also came well boxed and securely wrapped she also came in on time and delivered by courteous gentleman  again many thanks  Get that steam up.  5.0  2 Nov. 2015  By        George A. Nott   on 2 Nov. 2015  A beautiful little model engine of years gone by.\",\n",
       " 'Five Stars  5.0  27 Dec. 2014  By        catherine baines   on 27 Dec. 2014  the victorian style added to the character that my husband was trying to acheve with his model train layout  Five Stars  5.0  9 Mar. 2015  By        Wayne Grange   on 9 Mar. 2015  Good value',\n",
       " 'High standard model, well worth the wait. Replaces ...  5.0  3 Oct. 2014  By        Steve Guess   on 3 Oct. 2014  High standard model, well worth the wait.  Replaces a model of a \"Utility Van\" that has been in production by Triang and Hornby since the 1950s!  Four Stars  4.0  7 Aug. 2015  By        Mrs C Alexander   on 7 Aug. 2015  This a good wagon - thanks',\n",
       " 'Beautiful set  5.0  3 Dec. 2015  By        Adam Irwin   on 3 Dec. 2015  This has gone down very well this Christmas. Adults and kids collectively enjoy its appearance from around the Christmas tree.Whilst I use this as effectively a Christmas tree decoration it is nevertheless a quality Hornby OO gauge model in its own right, and could be used year round for a modelling enthusiast.A word of warning would be that the model is delicate and intricate. If you have cats for example they are sure to damage the delicate parts as they seek to derail the train from the track.  and I absolutely love it. It will look amazing under my Christmas ...  5.0  16 Nov. 2015  By        bazza   on 16 Nov. 2015  My 1st Hornby, and I absolutely love it. It will look amazing under my Christmas Tree this year too. Takes minutes to set up, and works great. Smooth, quiet and fantastic.  Santa Claus is coming!  5.0  22 Nov. 2015  By        Mr P.   on 22 Nov. 2015  Excellent value for money and fits around the base of most Christmas trees. My little boy loved it!!  Great Christmas present  5.0  3 Dec. 2015  By        Jen   on 3 Dec. 2015  Perfect Christmas present for the \"big kid\" ordered as a Christmas gift for my dad, he loves trains. It arrived on time and looks great.  Excellent  5.0  1 Dec. 2014  By        P. Batterson   on 1 Dec. 2014  As Usual top quality Hornby quality, lovely cute set which kids of all ages will adore  This was a fantastic item, and has finally made my Christmas village ...  5.0  14 Dec. 2015  By        E.Davies   on 14 Dec. 2015  This was a fantastic item, and has finally made my Christmas village scene for all to enjoy. Thank you very much.  Great price, arrived in good time  5.0  27 Dec. 2015  By        SMC   on 27 Dec. 2015  Great price, arrived in good time, packaged well, appears to be new and original, presentation of train package looks good, the train looks fab (realistic) and works well.  My little boy was thrilled...  Pity it didn\\'t make any sounds...  Faulty item  1.0  23 Dec. 2015  By        Amazon Customer   on 23 Dec. 2015  Really disappointed - train worked twice and then power unit stopped working just in time for Christmas. Son was really excited but the whole controller unit felt flimsy, which seems to have been proved by its decision to conk out.',\n",
       " 'Five Stars  5.0  23 Dec. 2015  By        Mr. K. Waller   on 23 Dec. 2015  Xmas box for grandson,am sure it will be great',\n",
       " \"Chuggers are go!  4.0  11 Jan. 2011  By        J. Negus   on 11 Jan. 2011  We bought this (and 2 others)for our grandsons and they love them. They now have about 7 and it can get a bit noisy if they decide to press the buttons on all of them at once. they are only 3 and 18 months at the moment and don't play unsupervised!  Chuggington  4.0  26 Dec. 2011  By        NM   on 26 Dec. 2011  This product was a gift for my nephew and he is enjoying playing with it with all the other chuggington interactive trains he got for christmas and so far it is doing everything we expected it to.  Bought for grandsons christmas  5.0  17 Jan. 2013  By        Jean   on 17 Jan. 2013  We all loved these chugginton trains and have fun getting them to talk to each other.  My grandson now has six of them and takes them to bed with him.  My daughter love's chuggington  5.0  15 Feb. 2012  By        Kerry Paul   on 15 Feb. 2012  This is a great addition to the interactive train set all the trains interact with each other. My daughter gets hours of play out of them!\",\n",
       " 'steaming good engine!  5.0  11 Jan. 2016  By        Jeremy Joslin   on 11 Jan. 2016  Grandson loved it. Hauls good load',\n",
       " 'Five Stars  5.0  12 Nov. 2014  By        alain HENAUX   on 12 Nov. 2014  Very good product. Thank you.',\n",
       " 'Five Stars  5.0  2 Oct. 2015  By        Mark Ritzmann   on 2 Oct. 2015  very good',\n",
       " 'Gods Wonderful Railway.  5.0  29 Oct. 2014  By        L.J.Wood.   on 29 Oct. 2014  Beautiful model, If your a fan of the G.W.R, this loco is a must have, Just that.  Five Stars  5.0  14 Dec. 2015  By        Mrs S   on 14 Dec. 2015  Christmas gift for him in doors he will love it  good  5.0  4 Aug. 2015  By        Bubs   on 4 Aug. 2015  runs very smooth, good model',\n",
       " 'Kato model engine n gauge  5.0  26 Feb. 2015  By        spiro clinton   on 26 Feb. 2015  Great quality lots of detail run nic and smooth great little engine',\n",
       " 'Five Stars  5.0  31 Aug. 2015  By        Allan Jones   on 31 Aug. 2015  Fantastic little set, beautifully made, and a decent price.',\n",
       " 'As expected  4.0  23 Nov. 2013  By        s fisher   on 23 Nov. 2013  The product is as expected.  The only worry is it looks like the connections will easily break - not robust  Five Stars  5.0  18 Nov. 2014  By        Keith murray   on 18 Nov. 2014  Very happy with product',\n",
       " 'Good fun but not for long  3.0  13 Nov. 2011  By        MrClicky   on 13 Nov. 2011  My 2 year old loves chuggington so we decided to get her this set. To be fair i dont think there is much longevity with it and after a while my daughter played with the train itself rather than the train and track although it does still come out now and again. I had read some reviews that you have to keep building the track as it comes apart easily. I think that depends on if your child is heavy handed or not, i havent had to keep putting it back together but i could see that if a child was a bit heavy handed then you would be up and down all the time. I have taught my 2 year old to try and put it back together on her own and she can mangae to do some bits but does force them together if they are round the wrong way, but time will cure that. Overall yes im glad i got it for her and i dont regret buying it, there are better products out there or might be just worth getting them the trains on there own.  Excellent entertainment set  5.0  11 Feb. 2014  By        Milena Solakova   on 11 Feb. 2014  We have a lot of fun time with my son with this series. It also helps imagination and construction skills as he is building a different rail root every day',\n",
       " 'Four Stars  4.0  17 April 2014  By        Trevor J. Maytum   on 17 April 2014  Lovely quality from Kato.',\n",
       " 'I NOW HAVE A SECOND OF THESE BACHMANN POWERHAULS COMING ...  5.0  18 Dec. 2015  By        mrs margaret i bligh   on 18 Dec. 2015  I NOW HAVE A SECOND OF THESE BACHMANN POWERHAULS COMING AS THEY CAN TAKE REAL TRAINS BETWEEN 20-30 WAGONSOF A HEAVY WEIGHT.']"
      ]
     },
     "execution_count": 15,
     "metadata": {},
     "output_type": "execute_result"
    }
   ],
   "source": [
    "#First, convert to a list of strings; full reference in this entire section to the sentiment analysis lesson from Heather Robbins\n",
    "corpus = list(ecom['customer_reviews'])\n",
    "while(\"\" in corpus) : corpus.remove(\"\") #from: https://www.geeksforgeeks.org/python-remove-empty-strings-from-list-of-strings/\n",
    "print(len(corpus))\n",
    "corpus[:10]"
   ]
  },
  {
   "cell_type": "code",
   "execution_count": 53,
   "metadata": {
    "ExecuteTime": {
     "end_time": "2021-06-11T23:11:40.522979Z",
     "start_time": "2021-06-11T23:11:21.259495Z"
    }
   },
   "outputs": [],
   "source": [
    "#sentiment analysis\n",
    "#instantiate VADER\n",
    "vader = SentimentIntensityAnalyzer()\n",
    "\n",
    "#loop through reviews\n",
    "sentiment = []    \n",
    "\n",
    "for review in corpus:\n",
    "    scores = vader.polarity_scores(review)\n",
    "    scores['customer_review'] = review\n",
    "    sentiment.append(scores)\n",
    "\n",
    "sentiment_df = pd.DataFrame(sentiment)\n",
    "\n",
    "#reset indices to match\n",
    "ecom.reset_index(inplace=True)\n",
    "sentiment_df.reset_index(inplace=True)"
   ]
  },
  {
   "cell_type": "code",
   "execution_count": 65,
   "metadata": {
    "ExecuteTime": {
     "end_time": "2021-06-11T23:27:07.931218Z",
     "start_time": "2021-06-11T23:27:07.873057Z"
    }
   },
   "outputs": [
    {
     "data": {
      "text/html": [
       "<div>\n",
       "<style scoped>\n",
       "    .dataframe tbody tr th:only-of-type {\n",
       "        vertical-align: middle;\n",
       "    }\n",
       "\n",
       "    .dataframe tbody tr th {\n",
       "        vertical-align: top;\n",
       "    }\n",
       "\n",
       "    .dataframe thead th {\n",
       "        text-align: right;\n",
       "    }\n",
       "</style>\n",
       "<table border=\"1\" class=\"dataframe\">\n",
       "  <thead>\n",
       "    <tr style=\"text-align: right;\">\n",
       "      <th></th>\n",
       "      <th>pos</th>\n",
       "      <th>neg</th>\n",
       "      <th>compound</th>\n",
       "      <th>neu</th>\n",
       "    </tr>\n",
       "    <tr>\n",
       "      <th>target</th>\n",
       "      <th></th>\n",
       "      <th></th>\n",
       "      <th></th>\n",
       "      <th></th>\n",
       "    </tr>\n",
       "  </thead>\n",
       "  <tbody>\n",
       "    <tr>\n",
       "      <th>0.0</th>\n",
       "      <td>0.233589</td>\n",
       "      <td>0.019758</td>\n",
       "      <td>0.797526</td>\n",
       "      <td>0.746651</td>\n",
       "    </tr>\n",
       "    <tr>\n",
       "      <th>2.3</th>\n",
       "      <td>0.142000</td>\n",
       "      <td>0.083000</td>\n",
       "      <td>0.873500</td>\n",
       "      <td>0.774000</td>\n",
       "    </tr>\n",
       "    <tr>\n",
       "      <th>3.0</th>\n",
       "      <td>0.124400</td>\n",
       "      <td>0.026200</td>\n",
       "      <td>0.720760</td>\n",
       "      <td>0.849400</td>\n",
       "    </tr>\n",
       "    <tr>\n",
       "      <th>3.3</th>\n",
       "      <td>0.183500</td>\n",
       "      <td>0.031500</td>\n",
       "      <td>0.965550</td>\n",
       "      <td>0.785500</td>\n",
       "    </tr>\n",
       "    <tr>\n",
       "      <th>3.6</th>\n",
       "      <td>0.257000</td>\n",
       "      <td>0.037667</td>\n",
       "      <td>0.825567</td>\n",
       "      <td>0.704667</td>\n",
       "    </tr>\n",
       "    <tr>\n",
       "      <th>3.7</th>\n",
       "      <td>0.121000</td>\n",
       "      <td>0.036000</td>\n",
       "      <td>0.499500</td>\n",
       "      <td>0.843000</td>\n",
       "    </tr>\n",
       "    <tr>\n",
       "      <th>3.8</th>\n",
       "      <td>0.199000</td>\n",
       "      <td>0.028000</td>\n",
       "      <td>0.990500</td>\n",
       "      <td>0.772000</td>\n",
       "    </tr>\n",
       "    <tr>\n",
       "      <th>3.9</th>\n",
       "      <td>0.187000</td>\n",
       "      <td>0.058714</td>\n",
       "      <td>0.959229</td>\n",
       "      <td>0.754429</td>\n",
       "    </tr>\n",
       "    <tr>\n",
       "      <th>4.0</th>\n",
       "      <td>0.223656</td>\n",
       "      <td>0.023537</td>\n",
       "      <td>0.816941</td>\n",
       "      <td>0.752791</td>\n",
       "    </tr>\n",
       "    <tr>\n",
       "      <th>4.1</th>\n",
       "      <td>0.227793</td>\n",
       "      <td>0.034055</td>\n",
       "      <td>0.890468</td>\n",
       "      <td>0.738172</td>\n",
       "    </tr>\n",
       "    <tr>\n",
       "      <th>4.2</th>\n",
       "      <td>0.217650</td>\n",
       "      <td>0.031092</td>\n",
       "      <td>0.872202</td>\n",
       "      <td>0.751336</td>\n",
       "    </tr>\n",
       "    <tr>\n",
       "      <th>4.3</th>\n",
       "      <td>0.220892</td>\n",
       "      <td>0.028781</td>\n",
       "      <td>0.869270</td>\n",
       "      <td>0.750317</td>\n",
       "    </tr>\n",
       "    <tr>\n",
       "      <th>4.4</th>\n",
       "      <td>0.229534</td>\n",
       "      <td>0.026735</td>\n",
       "      <td>0.911380</td>\n",
       "      <td>0.743711</td>\n",
       "    </tr>\n",
       "    <tr>\n",
       "      <th>4.6</th>\n",
       "      <td>0.229959</td>\n",
       "      <td>0.024365</td>\n",
       "      <td>0.890086</td>\n",
       "      <td>0.745673</td>\n",
       "    </tr>\n",
       "    <tr>\n",
       "      <th>4.7</th>\n",
       "      <td>0.236682</td>\n",
       "      <td>0.022989</td>\n",
       "      <td>0.885856</td>\n",
       "      <td>0.740309</td>\n",
       "    </tr>\n",
       "    <tr>\n",
       "      <th>4.8</th>\n",
       "      <td>0.235053</td>\n",
       "      <td>0.022160</td>\n",
       "      <td>0.890650</td>\n",
       "      <td>0.742799</td>\n",
       "    </tr>\n",
       "    <tr>\n",
       "      <th>4.9</th>\n",
       "      <td>0.229190</td>\n",
       "      <td>0.024954</td>\n",
       "      <td>0.865249</td>\n",
       "      <td>0.745861</td>\n",
       "    </tr>\n",
       "  </tbody>\n",
       "</table>\n",
       "</div>"
      ],
      "text/plain": [
       "             pos       neg  compound       neu\n",
       "target                                        \n",
       "0.0     0.233589  0.019758  0.797526  0.746651\n",
       "2.3     0.142000  0.083000  0.873500  0.774000\n",
       "3.0     0.124400  0.026200  0.720760  0.849400\n",
       "3.3     0.183500  0.031500  0.965550  0.785500\n",
       "3.6     0.257000  0.037667  0.825567  0.704667\n",
       "3.7     0.121000  0.036000  0.499500  0.843000\n",
       "3.8     0.199000  0.028000  0.990500  0.772000\n",
       "3.9     0.187000  0.058714  0.959229  0.754429\n",
       "4.0     0.223656  0.023537  0.816941  0.752791\n",
       "4.1     0.227793  0.034055  0.890468  0.738172\n",
       "4.2     0.217650  0.031092  0.872202  0.751336\n",
       "4.3     0.220892  0.028781  0.869270  0.750317\n",
       "4.4     0.229534  0.026735  0.911380  0.743711\n",
       "4.6     0.229959  0.024365  0.890086  0.745673\n",
       "4.7     0.236682  0.022989  0.885856  0.740309\n",
       "4.8     0.235053  0.022160  0.890650  0.742799\n",
       "4.9     0.229190  0.024954  0.865249  0.745861"
      ]
     },
     "execution_count": 65,
     "metadata": {},
     "output_type": "execute_result"
    }
   ],
   "source": [
    "#set target and plot sentiment\n",
    "sentiment_df['target'] =ecom['average_review_rating']\n",
    "\n",
    "#Plot the average positivity, negativity and compound scores for target\n",
    "#plt.figure(figsize=(20,12));\n",
    "sentiments=sentiment_df.groupby(\n",
    "    'target').mean()[['pos', 'neg', 'compound', 'neu']]\n",
    "\n",
    "sentiments"
   ]
  },
  {
   "cell_type": "code",
   "execution_count": 68,
   "metadata": {
    "ExecuteTime": {
     "end_time": "2021-06-11T23:29:33.059388Z",
     "start_time": "2021-06-11T23:29:32.125332Z"
    }
   },
   "outputs": [
    {
     "data": {
      "image/png": "[encoded data removed]",
      "text/plain": [
       "<Figure size 432x288 with 1 Axes>"
      ]
     },
     "metadata": {},
     "output_type": "display_data"
    }
   ],
   "source": [
    "#sentiments.plot(kind='line');\n",
    "\n",
    "sns.regplot(data=sentiments, x=sentiments.index, y = 'pos', color = 'green', label = 'pos')\n",
    "sns.regplot(data=sentiments, x=sentiments.index, y = 'neg', color = 'red', label = 'neg')\n",
    "\n",
    "\n",
    "plt.title('Average Positive, Negative & Compound Scores', size = 15);\n",
    "plt.xticks(size=13);\n",
    "plt.yticks(size=13);\n",
    "plt.ylabel('Sentiment score', size=13);\n",
    "plt.xlabel('Target: Star rating', size=13);\n",
    "plt.savefig('../assets/sentiment.jpg');"
   ]
  },
  {
   "cell_type": "markdown",
   "metadata": {},
   "source": [
    "We can actually see a linear relationship here!"
   ]
  },
  {
   "cell_type": "markdown",
   "metadata": {},
   "source": [
    "## Modeling - linear regression"
   ]
  },
  {
   "cell_type": "code",
   "execution_count": null,
   "metadata": {},
   "outputs": [],
   "source": [
    "#strategy -- lasso, ridge (but may lose some interpretability)"
   ]
  },
  {
   "cell_type": "code",
   "execution_count": null,
   "metadata": {},
   "outputs": [],
   "source": [
    "#reviews\n",
    "#price\n",
    "#category"
   ]
  },
  {
   "cell_type": "markdown",
   "metadata": {},
   "source": [
    "### Evaluation"
   ]
  },
  {
   "cell_type": "code",
   "execution_count": null,
   "metadata": {},
   "outputs": [],
   "source": []
  },
  {
   "cell_type": "markdown",
   "metadata": {},
   "source": [
    "## Conclusion and next steps"
   ]
  },
  {
   "cell_type": "code",
   "execution_count": null,
   "metadata": {},
   "outputs": [],
   "source": []
  }
 ],
 "metadata": {
  "kernelspec": {
   "display_name": "Python 3",
   "language": "python",
   "name": "python3"
  },
  "language_info": {
   "codemirror_mode": {
    "name": "ipython",
    "version": 3
   },
   "file_extension": ".py",
   "mimetype": "text/x-python",
   "name": "python",
   "nbconvert_exporter": "python",
   "pygments_lexer": "ipython3",
   "version": "3.8.3"
  },
  "toc": {
   "base_numbering": 1,
   "nav_menu": {},
   "number_sections": true,
   "sideBar": true,
   "skip_h1_title": false,
   "title_cell": "Table of Contents",
   "title_sidebar": "Contents",
   "toc_cell": false,
   "toc_position": {},
   "toc_section_display": true,
   "toc_window_display": true
  },
  "varInspector": {
   "cols": {
    "lenName": 16,
    "lenType": 16,
    "lenVar": 40
   },
   "kernels_config": {
    "python": {
     "delete_cmd_postfix": "",
     "delete_cmd_prefix": "del ",
     "library": "var_list.py",
     "varRefreshCmd": "print(var_dic_list())"
    },
    "r": {
     "delete_cmd_postfix": ") ",
     "delete_cmd_prefix": "rm(",
     "library": "var_list.r",
     "varRefreshCmd": "cat(var_dic_list()) "
    }
   },
   "types_to_exclude": [
    "module",
    "function",
    "builtin_function_or_method",
    "instance",
    "_Feature"
   ],
   "window_display": false
  }
 },
 "nbformat": 4,
 "nbformat_minor": 4
}
