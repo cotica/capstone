Oh no{
 "cells": [
  {
   "cell_type": "markdown",
   "metadata": {},
   "source": [
    "# Amazon product catalog\n",
    "\n",
    "\n",
    "## Problem scope\n",
    "\n",
    "What do Amazon reviews say about the product, and can reviews be used reliably to predict the product category?\n",
    "\n",
    "## Open questions\n",
    "\n",
    "1. Predict the rating based on item desc.
regression w/ language data
how well reviewed something is
figure out product
product contents, product tags
document per row
+ brand + company type
product category, description
Probability that the thing we labeled is actually in that class?\n",
    "\n",
    "\n",
    "## Data import + cleaning"
   ]
  },
  {
   "cell_type": "code",
   "execution_count": 1,
   "metadata": {
    "ExecuteTime": {
     "end_time": "2021-06-07T18:37:11.962262Z",
     "start_time": "2021-06-07T18:37:06.240369Z"
    }
   },
   "outputs": [],
   "source": [
    "#libraries\n",
    "import pandas as pd, numpy as np, matplotlib.pyplot as plt, \\\n",
    "seaborn as sns"
   ]
  },
  {
   "cell_type": "markdown",
   "metadata": {},
   "source": [
    "### Training data - _to be scrapped_"
   ]
  },
  {
   "cell_type": "code",
   "execution_count": 7,
   "metadata": {
    "ExecuteTime": {
     "end_time": "2021-06-07T18:41:55.200130Z",
     "start_time": "2021-06-07T18:41:55.164115Z"
    }
   },
   "outputs": [],
   "source": [
    "#fetch data for TRAIN\n",
    "orders = pd.read_csv('../data/01-Jan-2008_to_18-May-2021.csv')"
   ]
  },
  {
   "cell_type": "code",
   "execution_count": 17,
   "metadata": {
    "ExecuteTime": {
     "end_time": "2021-06-02T22:24:45.242002Z",
     "start_time": "2021-06-02T22:24:45.208566Z"
    }
   },
   "outputs": [
    {
     "data": {
      "text/html": [
       "<div>\n",
       "<style scoped>\n",
       "    .dataframe tbody tr th:only-of-type {\n",
       "        vertical-align: middle;\n",
       "    }\n",
       "\n",
       "    .dataframe tbody tr th {\n",
       "        vertical-align: top;\n",
       "    }\n",
       "\n",
       "    .dataframe thead th {\n",
       "        text-align: right;\n",
       "    }\n",
       "</style>\n",
       "<table border=\"1\" class=\"dataframe\">\n",
       "  <thead>\n",
       "    <tr style=\"text-align: right;\">\n",
       "      <th></th>\n",
       "      <th>Order Date</th>\n",
       "      <th>Order ID</th>\n",
       "      <th>Title</th>\n",
       "      <th>Category</th>\n",
       "      <th>ASIN/ISBN</th>\n",
       "      <th>UNSPSC Code</th>\n",
       "      <th>Website</th>\n",
       "      <th>Release Date</th>\n",
       "      <th>Condition</th>\n",
       "      <th>Seller</th>\n",
       "      <th>...</th>\n",
       "      <th>Carrier Name &amp; Tracking Number</th>\n",
       "      <th>Item Subtotal</th>\n",
       "      <th>Item Subtotal Tax</th>\n",
       "      <th>Item Total</th>\n",
       "      <th>Tax Exemption Applied</th>\n",
       "      <th>Tax Exemption Type</th>\n",
       "      <th>Exemption Opt-Out</th>\n",
       "      <th>Buyer Name</th>\n",
       "      <th>Currency</th>\n",
       "      <th>Group Name</th>\n",
       "    </tr>\n",
       "  </thead>\n",
       "  <tbody>\n",
       "    <tr>\n",
       "      <th>0</th>\n",
       "      <td>12/15/08</td>\n",
       "      <td>002-9208212-4089021</td>\n",
       "      <td>NaN</td>\n",
       "      <td>NaN</td>\n",
       "      <td>B0006HGNJ4</td>\n",
       "      <td>NaN</td>\n",
       "      <td>Amazon.com</td>\n",
       "      <td>NaN</td>\n",
       "      <td>NaN</td>\n",
       "      <td>Watch Values</td>\n",
       "      <td>...</td>\n",
       "      <td>USPS(9101805213907299379333)</td>\n",
       "      <td>$24.95</td>\n",
       "      <td>$0.00</td>\n",
       "      <td>$24.95</td>\n",
       "      <td>NaN</td>\n",
       "      <td>NaN</td>\n",
       "      <td>NaN</td>\n",
       "      <td>Veronica</td>\n",
       "      <td>USD</td>\n",
       "      <td>NaN</td>\n",
       "    </tr>\n",
       "    <tr>\n",
       "      <th>1</th>\n",
       "      <td>03/23/09</td>\n",
       "      <td>058-3723913-1124538</td>\n",
       "      <td>The Wall</td>\n",
       "      <td>ABIS_MUSIC</td>\n",
       "      <td>B000006TRV</td>\n",
       "      <td>55111512.0</td>\n",
       "      <td>Amazon.com</td>\n",
       "      <td>1994-01-01T00:00</td>\n",
       "      <td>new</td>\n",
       "      <td>megahitrecords</td>\n",
       "      <td>...</td>\n",
       "      <td>NaN</td>\n",
       "      <td>$15.24</td>\n",
       "      <td>$0.00</td>\n",
       "      <td>$15.24</td>\n",
       "      <td>NaN</td>\n",
       "      <td>NaN</td>\n",
       "      <td>NaN</td>\n",
       "      <td>Veronica</td>\n",
       "      <td>USD</td>\n",
       "      <td>NaN</td>\n",
       "    </tr>\n",
       "  </tbody>\n",
       "</table>\n",
       "<p>2 rows × 36 columns</p>\n",
       "</div>"
      ],
      "text/plain": [
       "  Order Date             Order ID     Title    Category   ASIN/ISBN  \\\n",
       "0   12/15/08  002-9208212-4089021       NaN         NaN  B0006HGNJ4   \n",
       "1   03/23/09  058-3723913-1124538  The Wall  ABIS_MUSIC  B000006TRV   \n",
       "\n",
       "   UNSPSC Code     Website      Release Date Condition          Seller  ...  \\\n",
       "0          NaN  Amazon.com               NaN       NaN    Watch Values  ...   \n",
       "1   55111512.0  Amazon.com  1994-01-01T00:00       new  megahitrecords  ...   \n",
       "\n",
       "  Carrier Name & Tracking Number Item Subtotal Item Subtotal Tax  Item Total  \\\n",
       "0   USPS(9101805213907299379333)        $24.95             $0.00      $24.95   \n",
       "1                            NaN        $15.24             $0.00      $15.24   \n",
       "\n",
       "  Tax Exemption Applied  Tax Exemption Type  Exemption Opt-Out Buyer Name  \\\n",
       "0                   NaN                 NaN                NaN   Veronica   \n",
       "1                   NaN                 NaN                NaN   Veronica   \n",
       "\n",
       "  Currency Group Name  \n",
       "0      USD        NaN  \n",
       "1      USD        NaN  \n",
       "\n",
       "[2 rows x 36 columns]"
      ]
     },
     "execution_count": 17,
     "metadata": {},
     "output_type": "execute_result"
    }
   ],
   "source": [
    "#peek at data for TRAIN\n",
    "orders.head(2)"
   ]
  },
  {
   "cell_type": "code",
   "execution_count": 6,
   "metadata": {
    "ExecuteTime": {
     "end_time": "2021-05-18T06:31:55.932996Z",
     "start_time": "2021-05-18T06:31:55.923593Z"
    },
    "scrolled": true
   },
   "outputs": [
    {
     "data": {
      "text/plain": [
       "Index(['Order Date', 'Order ID', 'Title', 'Category', 'ASIN/ISBN',\n",
       "       'UNSPSC Code', 'Website', 'Release Date', 'Condition', 'Seller',\n",
       "       'Seller Credentials', 'List Price Per Unit', 'Purchase Price Per Unit',\n",
       "       'Quantity', 'Payment Instrument Type', 'Purchase Order Number',\n",
       "       'PO Line Number', 'Ordering Customer Email', 'Shipment Date',\n",
       "       'Shipping Address Name', 'Shipping Address Street 1',\n",
       "       'Shipping Address Street 2', 'Shipping Address City',\n",
       "       'Shipping Address State', 'Shipping Address Zip', 'Order Status',\n",
       "       'Carrier Name & Tracking Number', 'Item Subtotal', 'Item Subtotal Tax',\n",
       "       'Item Total', 'Tax Exemption Applied', 'Tax Exemption Type',\n",
       "       'Exemption Opt-Out', 'Buyer Name', 'Currency', 'Group Name'],\n",
       "      dtype='object')"
      ]
     },
     "execution_count": 6,
     "metadata": {},
     "output_type": "execute_result"
    }
   ],
   "source": [
    "#understand prospective features\n",
    "orders.columns"
   ]
  },
  {
   "cell_type": "code",
   "execution_count": 7,
   "metadata": {
    "ExecuteTime": {
     "end_time": "2021-05-18T06:32:02.997397Z",
     "start_time": "2021-05-18T06:32:02.987484Z"
    }
   },
   "outputs": [
    {
     "data": {
      "text/plain": [
       "(2242, 36)"
      ]
     },
     "execution_count": 7,
     "metadata": {},
     "output_type": "execute_result"
    }
   ],
   "source": [
    "#understand size of data\n",
    "orders.shape"
   ]
  },
  {
   "cell_type": "code",
   "execution_count": 8,
   "metadata": {
    "ExecuteTime": {
     "end_time": "2021-05-18T06:33:50.029517Z",
     "start_time": "2021-05-18T06:33:50.001080Z"
    },
    "scrolled": true
   },
   "outputs": [
    {
     "name": "stdout",
     "output_type": "stream",
     "text": [
      "<class 'pandas.core.frame.DataFrame'>\n",
      "RangeIndex: 2242 entries, 0 to 2241\n",
      "Data columns (total 36 columns):\n",
      " #   Column                          Non-Null Count  Dtype  \n",
      "---  ------                          --------------  -----  \n",
      " 0   Order Date                      2242 non-null   object \n",
      " 1   Order ID                        2242 non-null   object \n",
      " 2   Title                           2163 non-null   object \n",
      " 3   Category                        2163 non-null   object \n",
      " 4   ASIN/ISBN                       2242 non-null   object \n",
      " 5   UNSPSC Code                     2163 non-null   float64\n",
      " 6   Website                         2242 non-null   object \n",
      " 7   Release Date                    77 non-null     object \n",
      " 8   Condition                       2241 non-null   object \n",
      " 9   Seller                          2241 non-null   object \n",
      " 10  Seller Credentials              5 non-null      object \n",
      " 11  List Price Per Unit             2242 non-null   object \n",
      " 12  Purchase Price Per Unit         2242 non-null   object \n",
      " 13  Quantity                        2242 non-null   int64  \n",
      " 14  Payment Instrument Type         2242 non-null   object \n",
      " 15  Purchase Order Number           0 non-null      float64\n",
      " 16  PO Line Number                  0 non-null      float64\n",
      " 17  Ordering Customer Email         2242 non-null   object \n",
      " 18  Shipment Date                   2225 non-null   object \n",
      " 19  Shipping Address Name           2242 non-null   object \n",
      " 20  Shipping Address Street 1       2238 non-null   object \n",
      " 21  Shipping Address Street 2       641 non-null    float64\n",
      " 22  Shipping Address City           2238 non-null   object \n",
      " 23  Shipping Address State          2238 non-null   object \n",
      " 24  Shipping Address Zip            2238 non-null   object \n",
      " 25  Order Status                    2225 non-null   object \n",
      " 26  Carrier Name & Tracking Number  2219 non-null   object \n",
      " 27  Item Subtotal                   2242 non-null   object \n",
      " 28  Item Subtotal Tax               2242 non-null   object \n",
      " 29  Item Total                      2242 non-null   object \n",
      " 30  Tax Exemption Applied           228 non-null    object \n",
      " 31  Tax Exemption Type              0 non-null      float64\n",
      " 32  Exemption Opt-Out               228 non-null    object \n",
      " 33  Buyer Name                      2242 non-null   object \n",
      " 34  Currency                        2242 non-null   object \n",
      " 35  Group Name                      0 non-null      float64\n",
      "dtypes: float64(6), int64(1), object(29)\n",
      "memory usage: 630.7+ KB\n"
     ]
    }
   ],
   "source": [
    "#data types we are dealing with and presence of nulls\n",
    "orders.info()"
   ]
  },
  {
   "cell_type": "code",
   "execution_count": 18,
   "metadata": {
    "ExecuteTime": {
     "end_time": "2021-06-02T22:24:58.203525Z",
     "start_time": "2021-06-02T22:24:58.155896Z"
    },
    "scrolled": true
   },
   "outputs": [
    {
     "data": {
      "text/html": [
       "<div>\n",
       "<style scoped>\n",
       "    .dataframe tbody tr th:only-of-type {\n",
       "        vertical-align: middle;\n",
       "    }\n",
       "\n",
       "    .dataframe tbody tr th {\n",
       "        vertical-align: top;\n",
       "    }\n",
       "\n",
       "    .dataframe thead th {\n",
       "        text-align: right;\n",
       "    }\n",
       "</style>\n",
       "<table border=\"1\" class=\"dataframe\">\n",
       "  <thead>\n",
       "    <tr style=\"text-align: right;\">\n",
       "      <th></th>\n",
       "      <th>count</th>\n",
       "      <th>mean</th>\n",
       "      <th>std</th>\n",
       "      <th>min</th>\n",
       "      <th>25%</th>\n",
       "      <th>50%</th>\n",
       "      <th>75%</th>\n",
       "      <th>max</th>\n",
       "    </tr>\n",
       "  </thead>\n",
       "  <tbody>\n",
       "    <tr>\n",
       "      <th>UNSPSC Code</th>\n",
       "      <td>2163.0</td>\n",
       "      <td>4.909079e+07</td>\n",
       "      <td>9.088133e+06</td>\n",
       "      <td>10111300.0</td>\n",
       "      <td>50000000.0</td>\n",
       "      <td>50202300.0</td>\n",
       "      <td>53102500.5</td>\n",
       "      <td>78130000.0</td>\n",
       "    </tr>\n",
       "    <tr>\n",
       "      <th>Quantity</th>\n",
       "      <td>2242.0</td>\n",
       "      <td>1.102600e+00</td>\n",
       "      <td>4.331000e-01</td>\n",
       "      <td>0.0</td>\n",
       "      <td>1.0</td>\n",
       "      <td>1.0</td>\n",
       "      <td>1.0</td>\n",
       "      <td>7.0</td>\n",
       "    </tr>\n",
       "    <tr>\n",
       "      <th>Purchase Order Number</th>\n",
       "      <td>0.0</td>\n",
       "      <td>NaN</td>\n",
       "      <td>NaN</td>\n",
       "      <td>NaN</td>\n",
       "      <td>NaN</td>\n",
       "      <td>NaN</td>\n",
       "      <td>NaN</td>\n",
       "      <td>NaN</td>\n",
       "    </tr>\n",
       "    <tr>\n",
       "      <th>PO Line Number</th>\n",
       "      <td>0.0</td>\n",
       "      <td>NaN</td>\n",
       "      <td>NaN</td>\n",
       "      <td>NaN</td>\n",
       "      <td>NaN</td>\n",
       "      <td>NaN</td>\n",
       "      <td>NaN</td>\n",
       "      <td>NaN</td>\n",
       "    </tr>\n",
       "    <tr>\n",
       "      <th>Shipping Address Street 2</th>\n",
       "      <td>641.0</td>\n",
       "      <td>5.040000e+02</td>\n",
       "      <td>0.000000e+00</td>\n",
       "      <td>504.0</td>\n",
       "      <td>504.0</td>\n",
       "      <td>504.0</td>\n",
       "      <td>504.0</td>\n",
       "      <td>504.0</td>\n",
       "    </tr>\n",
       "    <tr>\n",
       "      <th>Tax Exemption Type</th>\n",
       "      <td>0.0</td>\n",
       "      <td>NaN</td>\n",
       "      <td>NaN</td>\n",
       "      <td>NaN</td>\n",
       "      <td>NaN</td>\n",
       "      <td>NaN</td>\n",
       "      <td>NaN</td>\n",
       "      <td>NaN</td>\n",
       "    </tr>\n",
       "    <tr>\n",
       "      <th>Group Name</th>\n",
       "      <td>0.0</td>\n",
       "      <td>NaN</td>\n",
       "      <td>NaN</td>\n",
       "      <td>NaN</td>\n",
       "      <td>NaN</td>\n",
       "      <td>NaN</td>\n",
       "      <td>NaN</td>\n",
       "      <td>NaN</td>\n",
       "    </tr>\n",
       "  </tbody>\n",
       "</table>\n",
       "</div>"
      ],
      "text/plain": [
       "                            count          mean           std         min  \\\n",
       "UNSPSC Code                2163.0  4.909079e+07  9.088133e+06  10111300.0   \n",
       "Quantity                   2242.0  1.102600e+00  4.331000e-01         0.0   \n",
       "Purchase Order Number         0.0           NaN           NaN         NaN   \n",
       "PO Line Number                0.0           NaN           NaN         NaN   \n",
       "Shipping Address Street 2   641.0  5.040000e+02  0.000000e+00       504.0   \n",
       "Tax Exemption Type            0.0           NaN           NaN         NaN   \n",
       "Group Name                    0.0           NaN           NaN         NaN   \n",
       "\n",
       "                                  25%         50%         75%         max  \n",
       "UNSPSC Code                50000000.0  50202300.0  53102500.5  78130000.0  \n",
       "Quantity                          1.0         1.0         1.0         7.0  \n",
       "Purchase Order Number             NaN         NaN         NaN         NaN  \n",
       "PO Line Number                    NaN         NaN         NaN         NaN  \n",
       "Shipping Address Street 2       504.0       504.0       504.0       504.0  \n",
       "Tax Exemption Type                NaN         NaN         NaN         NaN  \n",
       "Group Name                        NaN         NaN         NaN         NaN  "
      ]
     },
     "execution_count": 18,
     "metadata": {},
     "output_type": "execute_result"
    }
   ],
   "source": [
    "#descriptive stats\n",
    "orders.describe().round(4).T"
   ]
  },
  {
   "cell_type": "markdown",
   "metadata": {},
   "source": [
    "### Product dataset 1"
   ]
  },
  {
   "cell_type": "code",
   "execution_count": 8,
   "metadata": {
    "ExecuteTime": {
     "end_time": "2021-06-07T18:42:00.101782Z",
     "start_time": "2021-06-07T18:41:59.103737Z"
    }
   },
   "outputs": [],
   "source": [
    "#import data from mktg dataset\n",
    "#from https://stackoverflow.com/questions/9652832/how-to-load-a-tsv-file-into-a-pandas-dataframe\n",
    "#read_csv('path_to_file', sep='\\t')\n",
    "products = pd.read_csv(\n",
    "    '../data/marketing_sample_for_amazon_com-amazon_product_data__20200401_20200630__30k_data.tsv',\n",
    "sep='\\t')"
   ]
  },
  {
   "cell_type": "code",
   "execution_count": 19,
   "metadata": {
    "ExecuteTime": {
     "end_time": "2021-06-02T22:26:56.119772Z",
     "start_time": "2021-06-02T22:26:56.062324Z"
    }
   },
   "outputs": [
    {
     "data": {
      "text/html": [
       "<div>\n",
       "<style scoped>\n",
       "    .dataframe tbody tr th:only-of-type {\n",
       "        vertical-align: middle;\n",
       "    }\n",
       "\n",
       "    .dataframe tbody tr th {\n",
       "        vertical-align: top;\n",
       "    }\n",
       "\n",
       "    .dataframe thead th {\n",
       "        text-align: right;\n",
       "    }\n",
       "</style>\n",
       "<table border=\"1\" class=\"dataframe\">\n",
       "  <thead>\n",
       "    <tr style=\"text-align: right;\">\n",
       "      <th></th>\n",
       "      <th>Uniq Id</th>\n",
       "      <th>Crawl Timestamp</th>\n",
       "      <th>Dataset Origin</th>\n",
       "      <th>Product Id</th>\n",
       "      <th>Product Barcode</th>\n",
       "      <th>Product Company Type Source</th>\n",
       "      <th>Product Brand Source</th>\n",
       "      <th>Product Brand Normalised Source</th>\n",
       "      <th>Product Name Source</th>\n",
       "      <th>Match Rank</th>\n",
       "      <th>...</th>\n",
       "      <th>Product Currency</th>\n",
       "      <th>Product Available Inventory</th>\n",
       "      <th>Product Image Url</th>\n",
       "      <th>Product Model Number</th>\n",
       "      <th>Product Tags</th>\n",
       "      <th>Product Contents</th>\n",
       "      <th>Product Rating</th>\n",
       "      <th>Product Reviews Count</th>\n",
       "      <th>Bsr</th>\n",
       "      <th>Joining Key</th>\n",
       "    </tr>\n",
       "  </thead>\n",
       "  <tbody>\n",
       "    <tr>\n",
       "      <th>0</th>\n",
       "      <td>690e47123b04e15df768a9f54f1654e8</td>\n",
       "      <td>2020-05-13 11:02:04 +0000</td>\n",
       "      <td>NaN</td>\n",
       "      <td>ed177532df52b8b2fdba6cff731b9d00</td>\n",
       "      <td>NaN</td>\n",
       "      <td>Competitor</td>\n",
       "      <td>NaN</td>\n",
       "      <td>NaN</td>\n",
       "      <td>NaN</td>\n",
       "      <td>NaN</td>\n",
       "      <td>...</td>\n",
       "      <td>USD</td>\n",
       "      <td>999999999</td>\n",
       "      <td>https://images-na.ssl-images-amazon.com/images...</td>\n",
       "      <td>NaN</td>\n",
       "      <td>100% Linen Table Runner 14x90 Tailored with Mi...</td>\n",
       "      <td>100% Pure Linen Imported 100% Pure Linen table...</td>\n",
       "      <td>3.5</td>\n",
       "      <td>4</td>\n",
       "      <td>#83,321 in Kitchen &amp; Dining (See Top 100 in Ki...</td>\n",
       "      <td>78af1f66f1e365647484688360621e5e</td>\n",
       "    </tr>\n",
       "    <tr>\n",
       "      <th>1</th>\n",
       "      <td>b02a91cfdae2c5596b568e771b402176</td>\n",
       "      <td>2020-06-27 15:31:29 +0000</td>\n",
       "      <td>NaN</td>\n",
       "      <td>8756f065784790599a218174bc932395</td>\n",
       "      <td>UPC: 799460760240</td>\n",
       "      <td>Competitor</td>\n",
       "      <td>NaN</td>\n",
       "      <td>NaN</td>\n",
       "      <td>NaN</td>\n",
       "      <td>NaN</td>\n",
       "      <td>...</td>\n",
       "      <td>USD</td>\n",
       "      <td>999999999</td>\n",
       "      <td>https://images-na.ssl-images-amazon.com/images...</td>\n",
       "      <td>NL-F-5-2</td>\n",
       "      <td>2 pcs/set LONG Home Sauna Spa Exfoliating Nylo...</td>\n",
       "      <td>The nylon exfoliating cloth is the best bath p...</td>\n",
       "      <td>0.0</td>\n",
       "      <td>0</td>\n",
       "      <td>#175,862 in Beauty &amp; Personal Care (See Top 10...</td>\n",
       "      <td>83e8d81095fe218d5bb580194669e0c4</td>\n",
       "    </tr>\n",
       "  </tbody>\n",
       "</table>\n",
       "<p>2 rows × 32 columns</p>\n",
       "</div>"
      ],
      "text/plain": [
       "                            Uniq Id            Crawl Timestamp  \\\n",
       "0  690e47123b04e15df768a9f54f1654e8  2020-05-13 11:02:04 +0000   \n",
       "1  b02a91cfdae2c5596b568e771b402176  2020-06-27 15:31:29 +0000   \n",
       "\n",
       "   Dataset Origin                        Product Id    Product Barcode  \\\n",
       "0             NaN  ed177532df52b8b2fdba6cff731b9d00                NaN   \n",
       "1             NaN  8756f065784790599a218174bc932395  UPC: 799460760240   \n",
       "\n",
       "  Product Company Type Source Product Brand Source  \\\n",
       "0                  Competitor                  NaN   \n",
       "1                  Competitor                  NaN   \n",
       "\n",
       "  Product Brand Normalised Source Product Name Source  Match Rank  ...  \\\n",
       "0                             NaN                 NaN         NaN  ...   \n",
       "1                             NaN                 NaN         NaN  ...   \n",
       "\n",
       "   Product Currency  Product Available Inventory  \\\n",
       "0               USD                    999999999   \n",
       "1               USD                    999999999   \n",
       "\n",
       "                                   Product Image Url Product Model Number  \\\n",
       "0  https://images-na.ssl-images-amazon.com/images...                  NaN   \n",
       "1  https://images-na.ssl-images-amazon.com/images...             NL-F-5-2   \n",
       "\n",
       "                                        Product Tags  \\\n",
       "0  100% Linen Table Runner 14x90 Tailored with Mi...   \n",
       "1  2 pcs/set LONG Home Sauna Spa Exfoliating Nylo...   \n",
       "\n",
       "                                    Product Contents  Product Rating  \\\n",
       "0  100% Pure Linen Imported 100% Pure Linen table...             3.5   \n",
       "1  The nylon exfoliating cloth is the best bath p...             0.0   \n",
       "\n",
       "  Product Reviews Count                                                Bsr  \\\n",
       "0                     4  #83,321 in Kitchen & Dining (See Top 100 in Ki...   \n",
       "1                     0  #175,862 in Beauty & Personal Care (See Top 10...   \n",
       "\n",
       "                        Joining Key  \n",
       "0  78af1f66f1e365647484688360621e5e  \n",
       "1  83e8d81095fe218d5bb580194669e0c4  \n",
       "\n",
       "[2 rows x 32 columns]"
      ]
     },
     "execution_count": 19,
     "metadata": {},
     "output_type": "execute_result"
    }
   ],
   "source": [
    "#peek\n",
    "products.head(2)"
   ]
  },
  {
   "cell_type": "code",
   "execution_count": 8,
   "metadata": {
    "ExecuteTime": {
     "end_time": "2021-06-02T22:11:13.612079Z",
     "start_time": "2021-06-02T22:11:13.602866Z"
    },
    "scrolled": false
   },
   "outputs": [
    {
     "data": {
      "text/plain": [
       "Index(['Uniq Id', 'Crawl Timestamp', 'Dataset Origin', 'Product Id',\n",
       "       'Product Barcode', 'Product Company Type Source',\n",
       "       'Product Brand Source', 'Product Brand Normalised Source',\n",
       "       'Product Name Source', 'Match Rank', 'Match Score', 'Match Type',\n",
       "       'Retailer', 'Product Category', 'Product Brand', 'Product Name',\n",
       "       'Product Price', 'Sku', 'Upc', 'Product Url', 'Market',\n",
       "       'Product Description', 'Product Currency',\n",
       "       'Product Available Inventory', 'Product Image Url',\n",
       "       'Product Model Number', 'Product Tags', 'Product Contents',\n",
       "       'Product Rating', 'Product Reviews Count', 'Bsr', 'Joining Key'],\n",
       "      dtype='object')"
      ]
     },
     "execution_count": 8,
     "metadata": {},
     "output_type": "execute_result"
    }
   ],
   "source": [
    "products.columns"
   ]
  },
  {
   "cell_type": "code",
   "execution_count": 11,
   "metadata": {
    "ExecuteTime": {
     "end_time": "2021-06-02T22:18:32.962345Z",
     "start_time": "2021-06-02T22:18:32.955628Z"
    }
   },
   "outputs": [
    {
     "data": {
      "text/plain": [
       "(29984, 32)"
      ]
     },
     "execution_count": 11,
     "metadata": {},
     "output_type": "execute_result"
    }
   ],
   "source": [
    "products.shape"
   ]
  },
  {
   "cell_type": "code",
   "execution_count": 13,
   "metadata": {
    "ExecuteTime": {
     "end_time": "2021-06-02T22:18:43.604368Z",
     "start_time": "2021-06-02T22:18:43.450470Z"
    },
    "scrolled": true
   },
   "outputs": [
    {
     "name": "stdout",
     "output_type": "stream",
     "text": [
      "<class 'pandas.core.frame.DataFrame'>\n",
      "RangeIndex: 29984 entries, 0 to 29983\n",
      "Data columns (total 32 columns):\n",
      " #   Column                           Non-Null Count  Dtype  \n",
      "---  ------                           --------------  -----  \n",
      " 0   Uniq Id                          29984 non-null  object \n",
      " 1   Crawl Timestamp                  29984 non-null  object \n",
      " 2   Dataset Origin                   0 non-null      float64\n",
      " 3   Product Id                       29984 non-null  object \n",
      " 4   Product Barcode                  6291 non-null   object \n",
      " 5   Product Company Type Source      29984 non-null  object \n",
      " 6   Product Brand Source             71 non-null     object \n",
      " 7   Product Brand Normalised Source  71 non-null     object \n",
      " 8   Product Name Source              71 non-null     object \n",
      " 9   Match Rank                       0 non-null      float64\n",
      " 10  Match Score                      0 non-null      float64\n",
      " 11  Match Type                       0 non-null      float64\n",
      " 12  Retailer                         29984 non-null  object \n",
      " 13  Product Category                 29935 non-null  object \n",
      " 14  Product Brand                    29976 non-null  object \n",
      " 15  Product Name                     29984 non-null  object \n",
      " 16  Product Price                    23553 non-null  float64\n",
      " 17  Sku                              29984 non-null  object \n",
      " 18  Upc                              5795 non-null   object \n",
      " 19  Product Url                      29984 non-null  object \n",
      " 20  Market                           29984 non-null  object \n",
      " 21  Product Description              26539 non-null  object \n",
      " 22  Product Currency                 29984 non-null  object \n",
      " 23  Product Available Inventory      29984 non-null  int64  \n",
      " 24  Product Image Url                29965 non-null  object \n",
      " 25  Product Model Number             14141 non-null  object \n",
      " 26  Product Tags                     29984 non-null  object \n",
      " 27  Product Contents                 28652 non-null  object \n",
      " 28  Product Rating                   29984 non-null  float64\n",
      " 29  Product Reviews Count            29984 non-null  int64  \n",
      " 30  Bsr                              25054 non-null  object \n",
      " 31  Joining Key                      29984 non-null  object \n",
      "dtypes: float64(6), int64(2), object(24)\n",
      "memory usage: 7.3+ MB\n"
     ]
    }
   ],
   "source": [
    "products.info()"
   ]
  },
  {
   "cell_type": "code",
   "execution_count": 15,
   "metadata": {
    "ExecuteTime": {
     "end_time": "2021-06-02T22:22:41.762449Z",
     "start_time": "2021-06-02T22:22:41.682649Z"
    }
   },
   "outputs": [
    {
     "data": {
      "text/html": [
       "<div>\n",
       "<style scoped>\n",
       "    .dataframe tbody tr th:only-of-type {\n",
       "        vertical-align: middle;\n",
       "    }\n",
       "\n",
       "    .dataframe tbody tr th {\n",
       "        vertical-align: top;\n",
       "    }\n",
       "\n",
       "    .dataframe thead th {\n",
       "        text-align: right;\n",
       "    }\n",
       "</style>\n",
       "<table border=\"1\" class=\"dataframe\">\n",
       "  <thead>\n",
       "    <tr style=\"text-align: right;\">\n",
       "      <th></th>\n",
       "      <th>count</th>\n",
       "      <th>mean</th>\n",
       "      <th>std</th>\n",
       "      <th>min</th>\n",
       "      <th>25%</th>\n",
       "      <th>50%</th>\n",
       "      <th>75%</th>\n",
       "      <th>max</th>\n",
       "    </tr>\n",
       "  </thead>\n",
       "  <tbody>\n",
       "    <tr>\n",
       "      <th>Dataset Origin</th>\n",
       "      <td>0.0</td>\n",
       "      <td>NaN</td>\n",
       "      <td>NaN</td>\n",
       "      <td>NaN</td>\n",
       "      <td>NaN</td>\n",
       "      <td>NaN</td>\n",
       "      <td>NaN</td>\n",
       "      <td>NaN</td>\n",
       "    </tr>\n",
       "    <tr>\n",
       "      <th>Match Rank</th>\n",
       "      <td>0.0</td>\n",
       "      <td>NaN</td>\n",
       "      <td>NaN</td>\n",
       "      <td>NaN</td>\n",
       "      <td>NaN</td>\n",
       "      <td>NaN</td>\n",
       "      <td>NaN</td>\n",
       "      <td>NaN</td>\n",
       "    </tr>\n",
       "    <tr>\n",
       "      <th>Match Score</th>\n",
       "      <td>0.0</td>\n",
       "      <td>NaN</td>\n",
       "      <td>NaN</td>\n",
       "      <td>NaN</td>\n",
       "      <td>NaN</td>\n",
       "      <td>NaN</td>\n",
       "      <td>NaN</td>\n",
       "      <td>NaN</td>\n",
       "    </tr>\n",
       "    <tr>\n",
       "      <th>Match Type</th>\n",
       "      <td>0.0</td>\n",
       "      <td>NaN</td>\n",
       "      <td>NaN</td>\n",
       "      <td>NaN</td>\n",
       "      <td>NaN</td>\n",
       "      <td>NaN</td>\n",
       "      <td>NaN</td>\n",
       "      <td>NaN</td>\n",
       "    </tr>\n",
       "    <tr>\n",
       "      <th>Product Price</th>\n",
       "      <td>23553.0</td>\n",
       "      <td>4.128903e+01</td>\n",
       "      <td>1.211586e+02</td>\n",
       "      <td>1.000000e-02</td>\n",
       "      <td>1.129000e+01</td>\n",
       "      <td>18.5</td>\n",
       "      <td>3.499000e+01</td>\n",
       "      <td>7400.0</td>\n",
       "    </tr>\n",
       "    <tr>\n",
       "      <th>Product Available Inventory</th>\n",
       "      <td>29984.0</td>\n",
       "      <td>9.099964e+08</td>\n",
       "      <td>2.681509e+08</td>\n",
       "      <td>1.111111e+08</td>\n",
       "      <td>1.000000e+09</td>\n",
       "      <td>999999999.0</td>\n",
       "      <td>1.000000e+09</td>\n",
       "      <td>999999999.0</td>\n",
       "    </tr>\n",
       "    <tr>\n",
       "      <th>Product Rating</th>\n",
       "      <td>29984.0</td>\n",
       "      <td>3.122762e+00</td>\n",
       "      <td>1.978487e+00</td>\n",
       "      <td>0.000000e+00</td>\n",
       "      <td>0.000000e+00</td>\n",
       "      <td>4.1</td>\n",
       "      <td>4.600000e+00</td>\n",
       "      <td>5.0</td>\n",
       "    </tr>\n",
       "    <tr>\n",
       "      <th>Product Reviews Count</th>\n",
       "      <td>29984.0</td>\n",
       "      <td>5.356103e+01</td>\n",
       "      <td>3.419812e+02</td>\n",
       "      <td>0.000000e+00</td>\n",
       "      <td>0.000000e+00</td>\n",
       "      <td>3.0</td>\n",
       "      <td>2.000000e+01</td>\n",
       "      <td>24231.0</td>\n",
       "    </tr>\n",
       "  </tbody>\n",
       "</table>\n",
       "</div>"
      ],
      "text/plain": [
       "                               count          mean           std  \\\n",
       "Dataset Origin                   0.0           NaN           NaN   \n",
       "Match Rank                       0.0           NaN           NaN   \n",
       "Match Score                      0.0           NaN           NaN   \n",
       "Match Type                       0.0           NaN           NaN   \n",
       "Product Price                23553.0  4.128903e+01  1.211586e+02   \n",
       "Product Available Inventory  29984.0  9.099964e+08  2.681509e+08   \n",
       "Product Rating               29984.0  3.122762e+00  1.978487e+00   \n",
       "Product Reviews Count        29984.0  5.356103e+01  3.419812e+02   \n",
       "\n",
       "                                      min           25%          50%  \\\n",
       "Dataset Origin                        NaN           NaN          NaN   \n",
       "Match Rank                            NaN           NaN          NaN   \n",
       "Match Score                           NaN           NaN          NaN   \n",
       "Match Type                            NaN           NaN          NaN   \n",
       "Product Price                1.000000e-02  1.129000e+01         18.5   \n",
       "Product Available Inventory  1.111111e+08  1.000000e+09  999999999.0   \n",
       "Product Rating               0.000000e+00  0.000000e+00          4.1   \n",
       "Product Reviews Count        0.000000e+00  0.000000e+00          3.0   \n",
       "\n",
       "                                      75%          max  \n",
       "Dataset Origin                        NaN          NaN  \n",
       "Match Rank                            NaN          NaN  \n",
       "Match Score                           NaN          NaN  \n",
       "Match Type                            NaN          NaN  \n",
       "Product Price                3.499000e+01       7400.0  \n",
       "Product Available Inventory  1.000000e+09  999999999.0  \n",
       "Product Rating               4.600000e+00          5.0  \n",
       "Product Reviews Count        2.000000e+01      24231.0  "
      ]
     },
     "execution_count": 15,
     "metadata": {},
     "output_type": "execute_result"
    }
   ],
   "source": [
    "products.describe().T"
   ]
  },
  {
   "cell_type": "markdown",
   "metadata": {},
   "source": [
    "### Product dataset 2"
   ]
  },
  {
   "cell_type": "code",
   "execution_count": 2,
   "metadata": {
    "ExecuteTime": {
     "end_time": "2021-06-07T18:37:31.273897Z",
     "start_time": "2021-06-07T18:37:30.832554Z"
    }
   },
   "outputs": [],
   "source": [
    "#import ecom dataset\n",
    "ecom = pd.read_csv('../data/amazon_co-ecommerce_sample.csv')"
   ]
  },
  {
   "cell_type": "code",
   "execution_count": 3,
   "metadata": {
    "ExecuteTime": {
     "end_time": "2021-06-07T18:37:36.595720Z",
     "start_time": "2021-06-07T18:37:36.583287Z"
    }
   },
   "outputs": [
    {
     "data": {
      "text/plain": [
       "(10000, 17)"
      ]
     },
     "execution_count": 3,
     "metadata": {},
     "output_type": "execute_result"
    }
   ],
   "source": [
    "ecom.shape"
   ]
  },
  {
   "cell_type": "code",
   "execution_count": 12,
   "metadata": {
    "ExecuteTime": {
     "end_time": "2021-06-07T18:42:57.639140Z",
     "start_time": "2021-06-07T18:42:57.616313Z"
    }
   },
   "outputs": [
    {
     "name": "stdout",
     "output_type": "stream",
     "text": [
      "<class 'pandas.core.frame.DataFrame'>\n",
      "RangeIndex: 10000 entries, 0 to 9999\n",
      "Data columns (total 17 columns):\n",
      " #   Column                                       Non-Null Count  Dtype  \n",
      "---  ------                                       --------------  -----  \n",
      " 0   uniq_id                                      10000 non-null  object \n",
      " 1   product_name                                 10000 non-null  object \n",
      " 2   manufacturer                                 9993 non-null   object \n",
      " 3   price                                        8565 non-null   object \n",
      " 4   number_available_in_stock                    7500 non-null   object \n",
      " 5   number_of_reviews                            9982 non-null   object \n",
      " 6   number_of_answered_questions                 9235 non-null   float64\n",
      " 7   average_review_rating                        9982 non-null   object \n",
      " 8   amazon_category_and_sub_category             9310 non-null   object \n",
      " 9   customers_who_bought_this_item_also_bought   8938 non-null   object \n",
      " 10  description                                  9349 non-null   object \n",
      " 11  product_information                          9942 non-null   object \n",
      " 12  product_description                          9349 non-null   object \n",
      " 13  items_customers_buy_after_viewing_this_item  6935 non-null   object \n",
      " 14  customer_questions_and_answers               914 non-null    object \n",
      " 15  customer_reviews                             9979 non-null   object \n",
      " 16  sellers                                      6918 non-null   object \n",
      "dtypes: float64(1), object(16)\n",
      "memory usage: 1.3+ MB\n"
     ]
    }
   ],
   "source": [
    "ecom.info()"
   ]
  },
  {
   "cell_type": "code",
   "execution_count": 5,
   "metadata": {
    "ExecuteTime": {
     "end_time": "2021-06-07T18:37:50.067460Z",
     "start_time": "2021-06-07T18:37:50.037924Z"
    },
    "scrolled": true
   },
   "outputs": [
    {
     "data": {
      "text/html": [
       "<div>\n",
       "<style scoped>\n",
       "    .dataframe tbody tr th:only-of-type {\n",
       "        vertical-align: middle;\n",
       "    }\n",
       "\n",
       "    .dataframe tbody tr th {\n",
       "        vertical-align: top;\n",
       "    }\n",
       "\n",
       "    .dataframe thead th {\n",
       "        text-align: right;\n",
       "    }\n",
       "</style>\n",
       "<table border=\"1\" class=\"dataframe\">\n",
       "  <thead>\n",
       "    <tr style=\"text-align: right;\">\n",
       "      <th></th>\n",
       "      <th>uniq_id</th>\n",
       "      <th>product_name</th>\n",
       "      <th>manufacturer</th>\n",
       "      <th>price</th>\n",
       "      <th>number_available_in_stock</th>\n",
       "      <th>number_of_reviews</th>\n",
       "      <th>number_of_answered_questions</th>\n",
       "      <th>average_review_rating</th>\n",
       "      <th>amazon_category_and_sub_category</th>\n",
       "      <th>customers_who_bought_this_item_also_bought</th>\n",
       "      <th>description</th>\n",
       "      <th>product_information</th>\n",
       "      <th>product_description</th>\n",
       "      <th>items_customers_buy_after_viewing_this_item</th>\n",
       "      <th>customer_questions_and_answers</th>\n",
       "      <th>customer_reviews</th>\n",
       "      <th>sellers</th>\n",
       "    </tr>\n",
       "  </thead>\n",
       "  <tbody>\n",
       "    <tr>\n",
       "      <th>0</th>\n",
       "      <td>eac7efa5dbd3d667f26eb3d3ab504464</td>\n",
       "      <td>Hornby 2014 Catalogue</td>\n",
       "      <td>Hornby</td>\n",
       "      <td>£3.42</td>\n",
       "      <td>5 new</td>\n",
       "      <td>15</td>\n",
       "      <td>1.0</td>\n",
       "      <td>4.9 out of 5 stars</td>\n",
       "      <td>Hobbies &gt; Model Trains &amp; Railway Sets &gt; Rail V...</td>\n",
       "      <td>http://www.amazon.co.uk/Hornby-R8150-Catalogue...</td>\n",
       "      <td>Product Description Hornby 2014 Catalogue Box ...</td>\n",
       "      <td>Technical Details Item Weight640 g Product Dim...</td>\n",
       "      <td>Product Description Hornby 2014 Catalogue Box ...</td>\n",
       "      <td>http://www.amazon.co.uk/Hornby-R8150-Catalogue...</td>\n",
       "      <td>Does this catalogue detail all the previous Ho...</td>\n",
       "      <td>Worth Buying For The Pictures Alone (As Ever) ...</td>\n",
       "      <td>{\"seller\"=&gt;[{\"Seller_name_1\"=&gt;\"Amazon.co.uk\", ...</td>\n",
       "    </tr>\n",
       "    <tr>\n",
       "      <th>1</th>\n",
       "      <td>b17540ef7e86e461d37f3ae58b7b72ac</td>\n",
       "      <td>FunkyBuys® Large Christmas Holiday Express Fes...</td>\n",
       "      <td>FunkyBuys</td>\n",
       "      <td>£16.99</td>\n",
       "      <td>NaN</td>\n",
       "      <td>2</td>\n",
       "      <td>1.0</td>\n",
       "      <td>4.5 out of 5 stars</td>\n",
       "      <td>Hobbies &gt; Model Trains &amp; Railway Sets &gt; Rail V...</td>\n",
       "      <td>http://www.amazon.co.uk/Christmas-Holiday-Expr...</td>\n",
       "      <td>Size Name:Large FunkyBuys® Large Christmas Hol...</td>\n",
       "      <td>Technical Details Manufacturer recommended age...</td>\n",
       "      <td>Size Name:Large FunkyBuys® Large Christmas Hol...</td>\n",
       "      <td>http://www.amazon.co.uk/Christmas-Holiday-Expr...</td>\n",
       "      <td>can you turn off sounds // hi no you cant turn...</td>\n",
       "      <td>Four Stars // 4.0 // 18 Dec. 2015 // By\\n    \\...</td>\n",
       "      <td>{\"seller\"=&gt;{\"Seller_name_1\"=&gt;\"UHD WHOLESALE\", ...</td>\n",
       "    </tr>\n",
       "    <tr>\n",
       "      <th>2</th>\n",
       "      <td>348f344247b0c1a935b1223072ef9d8a</td>\n",
       "      <td>CLASSIC TOY TRAIN SET TRACK CARRIAGES LIGHT EN...</td>\n",
       "      <td>ccf</td>\n",
       "      <td>£9.99</td>\n",
       "      <td>2 new</td>\n",
       "      <td>17</td>\n",
       "      <td>2.0</td>\n",
       "      <td>3.9 out of 5 stars</td>\n",
       "      <td>Hobbies &gt; Model Trains &amp; Railway Sets &gt; Rail V...</td>\n",
       "      <td>http://www.amazon.co.uk/Classic-Train-Lights-B...</td>\n",
       "      <td>BIG CLASSIC TOY TRAIN SET TRACK CARRIAGE LIGHT...</td>\n",
       "      <td>Technical Details Manufacturer recommended age...</td>\n",
       "      <td>BIG CLASSIC TOY TRAIN SET TRACK CARRIAGE LIGHT...</td>\n",
       "      <td>http://www.amazon.co.uk/Train-With-Tracks-Batt...</td>\n",
       "      <td>What is the gauge of the track // Hi Paul.Trut...</td>\n",
       "      <td>**Highly Recommended!** // 5.0 // 26 May 2015 ...</td>\n",
       "      <td>{\"seller\"=&gt;[{\"Seller_name_1\"=&gt;\"DEAL-BOX\", \"Sel...</td>\n",
       "    </tr>\n",
       "    <tr>\n",
       "      <th>3</th>\n",
       "      <td>e12b92dbb8eaee78b22965d2a9bbbd9f</td>\n",
       "      <td>HORNBY Coach R4410A BR Hawksworth Corridor 3rd</td>\n",
       "      <td>Hornby</td>\n",
       "      <td>£39.99</td>\n",
       "      <td>NaN</td>\n",
       "      <td>1</td>\n",
       "      <td>2.0</td>\n",
       "      <td>5.0 out of 5 stars</td>\n",
       "      <td>Hobbies &gt; Model Trains &amp; Railway Sets &gt; Rail V...</td>\n",
       "      <td>NaN</td>\n",
       "      <td>Hornby 00 Gauge BR Hawksworth 3rd Class W 2107...</td>\n",
       "      <td>Technical Details Item Weight259 g Product Dim...</td>\n",
       "      <td>Hornby 00 Gauge BR Hawksworth 3rd Class W 2107...</td>\n",
       "      <td>NaN</td>\n",
       "      <td>NaN</td>\n",
       "      <td>I love it // 5.0 // 22 July 2013 // By\\n    \\n...</td>\n",
       "      <td>NaN</td>\n",
       "    </tr>\n",
       "    <tr>\n",
       "      <th>4</th>\n",
       "      <td>e33a9adeed5f36840ccc227db4682a36</td>\n",
       "      <td>Hornby 00 Gauge 0-4-0 Gildenlow Salt Co. Steam...</td>\n",
       "      <td>Hornby</td>\n",
       "      <td>£32.19</td>\n",
       "      <td>NaN</td>\n",
       "      <td>3</td>\n",
       "      <td>2.0</td>\n",
       "      <td>4.7 out of 5 stars</td>\n",
       "      <td>Hobbies &gt; Model Trains &amp; Railway Sets &gt; Rail V...</td>\n",
       "      <td>http://www.amazon.co.uk/Hornby-R6367-RailRoad-...</td>\n",
       "      <td>Product Description Hornby RailRoad 0-4-0 Gild...</td>\n",
       "      <td>Technical Details Item Weight159 g Product Dim...</td>\n",
       "      <td>Product Description Hornby RailRoad 0-4-0 Gild...</td>\n",
       "      <td>http://www.amazon.co.uk/Hornby-R2672-RailRoad-...</td>\n",
       "      <td>NaN</td>\n",
       "      <td>Birthday present // 5.0 // 14 April 2014 // By...</td>\n",
       "      <td>NaN</td>\n",
       "    </tr>\n",
       "  </tbody>\n",
       "</table>\n",
       "</div>"
      ],
      "text/plain": [
       "                            uniq_id  \\\n",
       "0  eac7efa5dbd3d667f26eb3d3ab504464   \n",
       "1  b17540ef7e86e461d37f3ae58b7b72ac   \n",
       "2  348f344247b0c1a935b1223072ef9d8a   \n",
       "3  e12b92dbb8eaee78b22965d2a9bbbd9f   \n",
       "4  e33a9adeed5f36840ccc227db4682a36   \n",
       "\n",
       "                                        product_name manufacturer   price  \\\n",
       "0                              Hornby 2014 Catalogue       Hornby   £3.42   \n",
       "1  FunkyBuys® Large Christmas Holiday Express Fes...    FunkyBuys  £16.99   \n",
       "2  CLASSIC TOY TRAIN SET TRACK CARRIAGES LIGHT EN...          ccf   £9.99   \n",
       "3     HORNBY Coach R4410A BR Hawksworth Corridor 3rd       Hornby  £39.99   \n",
       "4  Hornby 00 Gauge 0-4-0 Gildenlow Salt Co. Steam...       Hornby  £32.19   \n",
       "\n",
       "  number_available_in_stock number_of_reviews  number_of_answered_questions  \\\n",
       "0                     5 new                15                           1.0   \n",
       "1                       NaN                 2                           1.0   \n",
       "2                     2 new                17                           2.0   \n",
       "3                       NaN                 1                           2.0   \n",
       "4                       NaN                 3                           2.0   \n",
       "\n",
       "  average_review_rating                   amazon_category_and_sub_category  \\\n",
       "0    4.9 out of 5 stars  Hobbies > Model Trains & Railway Sets > Rail V...   \n",
       "1    4.5 out of 5 stars  Hobbies > Model Trains & Railway Sets > Rail V...   \n",
       "2    3.9 out of 5 stars  Hobbies > Model Trains & Railway Sets > Rail V...   \n",
       "3    5.0 out of 5 stars  Hobbies > Model Trains & Railway Sets > Rail V...   \n",
       "4    4.7 out of 5 stars  Hobbies > Model Trains & Railway Sets > Rail V...   \n",
       "\n",
       "          customers_who_bought_this_item_also_bought  \\\n",
       "0  http://www.amazon.co.uk/Hornby-R8150-Catalogue...   \n",
       "1  http://www.amazon.co.uk/Christmas-Holiday-Expr...   \n",
       "2  http://www.amazon.co.uk/Classic-Train-Lights-B...   \n",
       "3                                                NaN   \n",
       "4  http://www.amazon.co.uk/Hornby-R6367-RailRoad-...   \n",
       "\n",
       "                                         description  \\\n",
       "0  Product Description Hornby 2014 Catalogue Box ...   \n",
       "1  Size Name:Large FunkyBuys® Large Christmas Hol...   \n",
       "2  BIG CLASSIC TOY TRAIN SET TRACK CARRIAGE LIGHT...   \n",
       "3  Hornby 00 Gauge BR Hawksworth 3rd Class W 2107...   \n",
       "4  Product Description Hornby RailRoad 0-4-0 Gild...   \n",
       "\n",
       "                                 product_information  \\\n",
       "0  Technical Details Item Weight640 g Product Dim...   \n",
       "1  Technical Details Manufacturer recommended age...   \n",
       "2  Technical Details Manufacturer recommended age...   \n",
       "3  Technical Details Item Weight259 g Product Dim...   \n",
       "4  Technical Details Item Weight159 g Product Dim...   \n",
       "\n",
       "                                 product_description  \\\n",
       "0  Product Description Hornby 2014 Catalogue Box ...   \n",
       "1  Size Name:Large FunkyBuys® Large Christmas Hol...   \n",
       "2  BIG CLASSIC TOY TRAIN SET TRACK CARRIAGE LIGHT...   \n",
       "3  Hornby 00 Gauge BR Hawksworth 3rd Class W 2107...   \n",
       "4  Product Description Hornby RailRoad 0-4-0 Gild...   \n",
       "\n",
       "         items_customers_buy_after_viewing_this_item  \\\n",
       "0  http://www.amazon.co.uk/Hornby-R8150-Catalogue...   \n",
       "1  http://www.amazon.co.uk/Christmas-Holiday-Expr...   \n",
       "2  http://www.amazon.co.uk/Train-With-Tracks-Batt...   \n",
       "3                                                NaN   \n",
       "4  http://www.amazon.co.uk/Hornby-R2672-RailRoad-...   \n",
       "\n",
       "                      customer_questions_and_answers  \\\n",
       "0  Does this catalogue detail all the previous Ho...   \n",
       "1  can you turn off sounds // hi no you cant turn...   \n",
       "2  What is the gauge of the track // Hi Paul.Trut...   \n",
       "3                                                NaN   \n",
       "4                                                NaN   \n",
       "\n",
       "                                    customer_reviews  \\\n",
       "0  Worth Buying For The Pictures Alone (As Ever) ...   \n",
       "1  Four Stars // 4.0 // 18 Dec. 2015 // By\\n    \\...   \n",
       "2  **Highly Recommended!** // 5.0 // 26 May 2015 ...   \n",
       "3  I love it // 5.0 // 22 July 2013 // By\\n    \\n...   \n",
       "4  Birthday present // 5.0 // 14 April 2014 // By...   \n",
       "\n",
       "                                             sellers  \n",
       "0  {\"seller\"=>[{\"Seller_name_1\"=>\"Amazon.co.uk\", ...  \n",
       "1  {\"seller\"=>{\"Seller_name_1\"=>\"UHD WHOLESALE\", ...  \n",
       "2  {\"seller\"=>[{\"Seller_name_1\"=>\"DEAL-BOX\", \"Sel...  \n",
       "3                                                NaN  \n",
       "4                                                NaN  "
      ]
     },
     "execution_count": 5,
     "metadata": {},
     "output_type": "execute_result"
    }
   ],
   "source": [
    "ecom.head()"
   ]
  },
  {
   "cell_type": "markdown",
   "metadata": {},
   "source": [
    "## EDA"
   ]
  },
  {
   "cell_type": "code",
   "execution_count": 9,
   "metadata": {
    "ExecuteTime": {
     "end_time": "2021-06-07T18:42:04.251852Z",
     "start_time": "2021-06-07T18:42:04.230391Z"
    },
    "scrolled": true
   },
   "outputs": [
    {
     "data": {
      "text/plain": [
       "GROCERY                             170\n",
       "VEGETABLE                           132\n",
       "FRUIT                                83\n",
       "SKIN_CLEANING_AGENT                  81\n",
       "ABIS_BOOK                            66\n",
       "INCONTINENCE_PROTECTOR               66\n",
       "DAIRY_BASED_DRINK                    64\n",
       "HEALTH_PERSONAL_CARE                 56\n",
       "BABY_PRODUCT                         53\n",
       "SKIN_CLEANING_WIPE                   50\n",
       "PAPER_TOWEL                          37\n",
       "BREAD                                37\n",
       "MEAT                                 34\n",
       "DAIRY_BASED_CHEESE                   33\n",
       "BEAUTY                               31\n",
       "NUTRITIONAL_SUPPLEMENT               30\n",
       "TOILET_PAPER                         30\n",
       "LAUNDRY_DETERGENT                    29\n",
       "SKIN_MOISTURIZER                     26\n",
       "PANTS                                25\n",
       "CONDITIONER                          24\n",
       "WASTE_BAG                            24\n",
       "SHOES                                22\n",
       "UNDERPANTS                           22\n",
       "TOOTH_CLEANING_AGENT                 21\n",
       "SHAMPOO                              20\n",
       "POULTRY                              19\n",
       "HERB                                 17\n",
       "TOY_FIGURE                           16\n",
       "SHIRT                                15\n",
       "MEDICATION                           15\n",
       "SAFETY_MASK                          15\n",
       "HEADPHONES                           14\n",
       "HOME                                 14\n",
       "DISHWASHER_DETERGENT                 13\n",
       "SOCKS                                13\n",
       "BATTERY                              12\n",
       "PORTABLE_ELECTRONIC_DEVICE_STAND     12\n",
       "SCREEN_PROTECTOR                     12\n",
       "SHORTS                               12\n",
       "NUT_AND_SEED                         11\n",
       "TOYS_AND_GAMES                       11\n",
       "WATER                                11\n",
       "HERBAL_SUPPLEMENT                    10\n",
       "VITAMIN                              10\n",
       "DAIRY_BASED_CREAM                    10\n",
       "CLEANING_AGENT                       10\n",
       "BREAKFAST_CEREAL                      9\n",
       "ELECTRONIC_CABLE                      9\n",
       "MINERAL_SUPPLEMENT                    8\n",
       "Name: Category, dtype: int64"
      ]
     },
     "execution_count": 9,
     "metadata": {},
     "output_type": "execute_result"
    }
   ],
   "source": [
    "#let's analyze the categories\n",
    "orders['Category'].value_counts()[:50]"
   ]
  },
  {
   "cell_type": "code",
   "execution_count": null,
   "metadata": {},
   "outputs": [],
   "source": [
    "ecom['']"
   ]
  },
  {
   "cell_type": "markdown",
   "metadata": {},
   "source": [
    "## NLP"
   ]
  },
  {
   "cell_type": "code",
   "execution_count": null,
   "metadata": {},
   "outputs": [],
   "source": []
  },
  {
   "cell_type": "markdown",
   "metadata": {},
   "source": [
    "## Modeling"
   ]
  },
  {
   "cell_type": "code",
   "execution_count": null,
   "metadata": {},
   "outputs": [],
   "source": [
    "#reviews\n",
    "#price\n",
    "#category"
   ]
  },
  {
   "cell_type": "markdown",
   "metadata": {},
   "source": [
    "## Evaluation"
   ]
  },
  {
   "cell_type": "code",
   "execution_count": null,
   "metadata": {},
   "outputs": [],
   "source": []
  },
  {
   "cell_type": "markdown",
   "metadata": {},
   "source": [
    "## Conclusions & next steps"
   ]
  },
  {
   "cell_type": "code",
   "execution_count": null,
   "metadata": {},
   "outputs": [],
   "source": []
  }
 ],
 "metadata": {
  "kernelspec": {
   "display_name": "Python 3",
   "language": "python",
   "name": "python3"
  },
  "language_info": {
   "codemirror_mode": {
    "name": "ipython",
    "version": 3
   },
   "file_extension": ".py",
   "mimetype": "text/x-python",
   "name": "python",
   "nbconvert_exporter": "python",
   "pygments_lexer": "ipython3",
   "version": "3.8.3"
  },
  "toc": {
   "base_numbering": 1,
   "nav_menu": {},
   "number_sections": true,
   "sideBar": true,
   "skip_h1_title": false,
   "title_cell": "Table of Contents",
   "title_sidebar": "Contents",
   "toc_cell": false,
   "toc_position": {},
   "toc_section_display": true,
   "toc_window_display": true
  },
  "varInspector": {
   "cols": {
    "lenName": 16,
    "lenType": 16,
    "lenVar": 40
   },
   "kernels_config": {
    "python": {
     "delete_cmd_postfix": "",
     "delete_cmd_prefix": "del ",
     "library": "var_list.py",
     "varRefreshCmd": "print(var_dic_list())"
    },
    "r": {
     "delete_cmd_postfix": ") ",
     "delete_cmd_prefix": "rm(",
     "library": "var_list.r",
     "varRefreshCmd": "cat(var_dic_list()) "
    }
   },
   "types_to_exclude": [
    "module",
    "function",
    "builtin_function_or_method",
    "instance",
    "_Feature"
   ],
   "window_display": false
  }
 },
 "nbformat": 4,
 "nbformat_minor": 4
}
