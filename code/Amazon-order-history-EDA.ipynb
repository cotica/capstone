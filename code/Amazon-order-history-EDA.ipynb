{
 "cells": [
  {
   "cell_type": "markdown",
   "metadata": {},
   "source": [
    "# Amazon product catalog: understanding ratings\n",
    "\n",
    "\n",
    "## Problem scope\n",
    "\n",
    "What do Amazon reviews say about the product, and can reviews be used reliably to predict the product category?\n",
    "\n",
    "## Open questions / workflow\n",
    "\n",
    "1. Predict the rating based on item desc.: regression w/ language data\n",
    "\n",
    "2. How well reviewed something is\n",
    "\n",
    "3. Figure out product, product contents, product tags, document per row + brand + company type, product category, description\n",
    "\n",
    "4. Probability that the thing we labeled is actually in that class?\n",
    "\n",
    "\n",
    "## Data imports\n",
    "\n",
    "### Libraries"
   ]
  },
  {
   "cell_type": "code",
   "execution_count": 171,
   "metadata": {
    "ExecuteTime": {
     "end_time": "2021-06-11T08:59:21.110143Z",
     "start_time": "2021-06-11T08:59:21.086217Z"
    }
   },
   "outputs": [],
   "source": [
    "#basic ops\n",
    "import pandas as pd, numpy as np, matplotlib.pyplot as plt, seaborn as sns, re\n",
    "\n",
    "#other helper functions\n",
    "from pandasql import sqldf\n",
    "from math import pi\n",
    "\n",
    "#show grid on plots\n",
    "sns.set_style('darkgrid')\n",
    "\n",
    "#display tables without ellipsis\n",
    "pd.set_option('display.max_rows', None)\n",
    "\n",
    "\n",
    "#NLP\n",
    "from nltk.stem import WordNetLemmatizer\n",
    "from nltk.sentiment.vader import SentimentIntensityAnalyzer\n",
    "from nltk.tokenize import RegexpTokenizer\n",
    "\n",
    "import gensim.downloader as api #allows us to get word2vec anf glove embeddings that we need\n",
    "from gensim.models.word2vec import Word2Vec\n",
    "from transformers import pipeline\n",
    "from sklearn.feature_extraction.text import CountVectorizer, TfidfVectorizer\n",
    "\n",
    "#modeling\n",
    "from sklearn.linear_model import LinearRegression, LogisticRegression\n",
    "from sklearn.model_selection import train_test_split, GridSearchCV, \\\n",
    "                                    cross_val_score"
   ]
  },
  {
   "cell_type": "markdown",
   "metadata": {},
   "source": [
    "### Product dataset"
   ]
  },
  {
   "cell_type": "code",
   "execution_count": 2,
   "metadata": {
    "ExecuteTime": {
     "end_time": "2021-06-11T00:21:42.355919Z",
     "start_time": "2021-06-11T00:21:41.298187Z"
    }
   },
   "outputs": [],
   "source": [
    "#import ecom dataset\n",
    "ecom = pd.read_csv('../data/amazon_co-ecommerce_sample.csv')"
   ]
  },
  {
   "cell_type": "code",
   "execution_count": 3,
   "metadata": {
    "ExecuteTime": {
     "end_time": "2021-06-11T00:21:42.388712Z",
     "start_time": "2021-06-11T00:21:42.358257Z"
    }
   },
   "outputs": [
    {
     "data": {
      "text/plain": [
       "(10000, 17)"
      ]
     },
     "execution_count": 3,
     "metadata": {},
     "output_type": "execute_result"
    }
   ],
   "source": [
    "#check data size\n",
    "ecom.shape"
   ]
  },
  {
   "cell_type": "code",
   "execution_count": 4,
   "metadata": {
    "ExecuteTime": {
     "end_time": "2021-06-11T00:21:42.727488Z",
     "start_time": "2021-06-11T00:21:42.433665Z"
    }
   },
   "outputs": [
    {
     "name": "stdout",
     "output_type": "stream",
     "text": [
      "<class 'pandas.core.frame.DataFrame'>\n",
      "RangeIndex: 10000 entries, 0 to 9999\n",
      "Data columns (total 17 columns):\n",
      " #   Column                                       Non-Null Count  Dtype  \n",
      "---  ------                                       --------------  -----  \n",
      " 0   uniq_id                                      10000 non-null  object \n",
      " 1   product_name                                 10000 non-null  object \n",
      " 2   manufacturer                                 9993 non-null   object \n",
      " 3   price                                        8565 non-null   object \n",
      " 4   number_available_in_stock                    7500 non-null   object \n",
      " 5   number_of_reviews                            9982 non-null   object \n",
      " 6   number_of_answered_questions                 9235 non-null   float64\n",
      " 7   average_review_rating                        9982 non-null   object \n",
      " 8   amazon_category_and_sub_category             9310 non-null   object \n",
      " 9   customers_who_bought_this_item_also_bought   8938 non-null   object \n",
      " 10  description                                  9349 non-null   object \n",
      " 11  product_information                          9942 non-null   object \n",
      " 12  product_description                          9349 non-null   object \n",
      " 13  items_customers_buy_after_viewing_this_item  6935 non-null   object \n",
      " 14  customer_questions_and_answers               914 non-null    object \n",
      " 15  customer_reviews                             9979 non-null   object \n",
      " 16  sellers                                      6918 non-null   object \n",
      "dtypes: float64(1), object(16)\n",
      "memory usage: 1.3+ MB\n"
     ]
    }
   ],
   "source": [
    "#check data types\n",
    "ecom.info()"
   ]
  },
  {
   "cell_type": "code",
   "execution_count": 5,
   "metadata": {
    "ExecuteTime": {
     "end_time": "2021-06-11T00:21:42.830026Z",
     "start_time": "2021-06-11T00:21:42.733134Z"
    },
    "scrolled": true
   },
   "outputs": [
    {
     "data": {
      "text/html": [
       "<div>\n",
       "<style scoped>\n",
       "    .dataframe tbody tr th:only-of-type {\n",
       "        vertical-align: middle;\n",
       "    }\n",
       "\n",
       "    .dataframe tbody tr th {\n",
       "        vertical-align: top;\n",
       "    }\n",
       "\n",
       "    .dataframe thead th {\n",
       "        text-align: right;\n",
       "    }\n",
       "</style>\n",
       "<table border=\"1\" class=\"dataframe\">\n",
       "  <thead>\n",
       "    <tr style=\"text-align: right;\">\n",
       "      <th></th>\n",
       "      <th>uniq_id</th>\n",
       "      <th>product_name</th>\n",
       "      <th>manufacturer</th>\n",
       "      <th>price</th>\n",
       "      <th>number_available_in_stock</th>\n",
       "      <th>number_of_reviews</th>\n",
       "      <th>number_of_answered_questions</th>\n",
       "      <th>average_review_rating</th>\n",
       "      <th>amazon_category_and_sub_category</th>\n",
       "      <th>customers_who_bought_this_item_also_bought</th>\n",
       "      <th>description</th>\n",
       "      <th>product_information</th>\n",
       "      <th>product_description</th>\n",
       "      <th>items_customers_buy_after_viewing_this_item</th>\n",
       "      <th>customer_questions_and_answers</th>\n",
       "      <th>customer_reviews</th>\n",
       "      <th>sellers</th>\n",
       "    </tr>\n",
       "  </thead>\n",
       "  <tbody>\n",
       "    <tr>\n",
       "      <th>0</th>\n",
       "      <td>eac7efa5dbd3d667f26eb3d3ab504464</td>\n",
       "      <td>Hornby 2014 Catalogue</td>\n",
       "      <td>Hornby</td>\n",
       "      <td>£3.42</td>\n",
       "      <td>5 new</td>\n",
       "      <td>15</td>\n",
       "      <td>1.0</td>\n",
       "      <td>4.9 out of 5 stars</td>\n",
       "      <td>Hobbies &gt; Model Trains &amp; Railway Sets &gt; Rail V...</td>\n",
       "      <td>http://www.amazon.co.uk/Hornby-R8150-Catalogue...</td>\n",
       "      <td>Product Description Hornby 2014 Catalogue Box ...</td>\n",
       "      <td>Technical Details Item Weight640 g Product Dim...</td>\n",
       "      <td>Product Description Hornby 2014 Catalogue Box ...</td>\n",
       "      <td>http://www.amazon.co.uk/Hornby-R8150-Catalogue...</td>\n",
       "      <td>Does this catalogue detail all the previous Ho...</td>\n",
       "      <td>Worth Buying For The Pictures Alone (As Ever) ...</td>\n",
       "      <td>{\"seller\"=&gt;[{\"Seller_name_1\"=&gt;\"Amazon.co.uk\", ...</td>\n",
       "    </tr>\n",
       "    <tr>\n",
       "      <th>1</th>\n",
       "      <td>b17540ef7e86e461d37f3ae58b7b72ac</td>\n",
       "      <td>FunkyBuys® Large Christmas Holiday Express Fes...</td>\n",
       "      <td>FunkyBuys</td>\n",
       "      <td>£16.99</td>\n",
       "      <td>NaN</td>\n",
       "      <td>2</td>\n",
       "      <td>1.0</td>\n",
       "      <td>4.5 out of 5 stars</td>\n",
       "      <td>Hobbies &gt; Model Trains &amp; Railway Sets &gt; Rail V...</td>\n",
       "      <td>http://www.amazon.co.uk/Christmas-Holiday-Expr...</td>\n",
       "      <td>Size Name:Large FunkyBuys® Large Christmas Hol...</td>\n",
       "      <td>Technical Details Manufacturer recommended age...</td>\n",
       "      <td>Size Name:Large FunkyBuys® Large Christmas Hol...</td>\n",
       "      <td>http://www.amazon.co.uk/Christmas-Holiday-Expr...</td>\n",
       "      <td>can you turn off sounds // hi no you cant turn...</td>\n",
       "      <td>Four Stars // 4.0 // 18 Dec. 2015 // By\\n    \\...</td>\n",
       "      <td>{\"seller\"=&gt;{\"Seller_name_1\"=&gt;\"UHD WHOLESALE\", ...</td>\n",
       "    </tr>\n",
       "    <tr>\n",
       "      <th>2</th>\n",
       "      <td>348f344247b0c1a935b1223072ef9d8a</td>\n",
       "      <td>CLASSIC TOY TRAIN SET TRACK CARRIAGES LIGHT EN...</td>\n",
       "      <td>ccf</td>\n",
       "      <td>£9.99</td>\n",
       "      <td>2 new</td>\n",
       "      <td>17</td>\n",
       "      <td>2.0</td>\n",
       "      <td>3.9 out of 5 stars</td>\n",
       "      <td>Hobbies &gt; Model Trains &amp; Railway Sets &gt; Rail V...</td>\n",
       "      <td>http://www.amazon.co.uk/Classic-Train-Lights-B...</td>\n",
       "      <td>BIG CLASSIC TOY TRAIN SET TRACK CARRIAGE LIGHT...</td>\n",
       "      <td>Technical Details Manufacturer recommended age...</td>\n",
       "      <td>BIG CLASSIC TOY TRAIN SET TRACK CARRIAGE LIGHT...</td>\n",
       "      <td>http://www.amazon.co.uk/Train-With-Tracks-Batt...</td>\n",
       "      <td>What is the gauge of the track // Hi Paul.Trut...</td>\n",
       "      <td>**Highly Recommended!** // 5.0 // 26 May 2015 ...</td>\n",
       "      <td>{\"seller\"=&gt;[{\"Seller_name_1\"=&gt;\"DEAL-BOX\", \"Sel...</td>\n",
       "    </tr>\n",
       "    <tr>\n",
       "      <th>3</th>\n",
       "      <td>e12b92dbb8eaee78b22965d2a9bbbd9f</td>\n",
       "      <td>HORNBY Coach R4410A BR Hawksworth Corridor 3rd</td>\n",
       "      <td>Hornby</td>\n",
       "      <td>£39.99</td>\n",
       "      <td>NaN</td>\n",
       "      <td>1</td>\n",
       "      <td>2.0</td>\n",
       "      <td>5.0 out of 5 stars</td>\n",
       "      <td>Hobbies &gt; Model Trains &amp; Railway Sets &gt; Rail V...</td>\n",
       "      <td>NaN</td>\n",
       "      <td>Hornby 00 Gauge BR Hawksworth 3rd Class W 2107...</td>\n",
       "      <td>Technical Details Item Weight259 g Product Dim...</td>\n",
       "      <td>Hornby 00 Gauge BR Hawksworth 3rd Class W 2107...</td>\n",
       "      <td>NaN</td>\n",
       "      <td>NaN</td>\n",
       "      <td>I love it // 5.0 // 22 July 2013 // By\\n    \\n...</td>\n",
       "      <td>NaN</td>\n",
       "    </tr>\n",
       "    <tr>\n",
       "      <th>4</th>\n",
       "      <td>e33a9adeed5f36840ccc227db4682a36</td>\n",
       "      <td>Hornby 00 Gauge 0-4-0 Gildenlow Salt Co. Steam...</td>\n",
       "      <td>Hornby</td>\n",
       "      <td>£32.19</td>\n",
       "      <td>NaN</td>\n",
       "      <td>3</td>\n",
       "      <td>2.0</td>\n",
       "      <td>4.7 out of 5 stars</td>\n",
       "      <td>Hobbies &gt; Model Trains &amp; Railway Sets &gt; Rail V...</td>\n",
       "      <td>http://www.amazon.co.uk/Hornby-R6367-RailRoad-...</td>\n",
       "      <td>Product Description Hornby RailRoad 0-4-0 Gild...</td>\n",
       "      <td>Technical Details Item Weight159 g Product Dim...</td>\n",
       "      <td>Product Description Hornby RailRoad 0-4-0 Gild...</td>\n",
       "      <td>http://www.amazon.co.uk/Hornby-R2672-RailRoad-...</td>\n",
       "      <td>NaN</td>\n",
       "      <td>Birthday present // 5.0 // 14 April 2014 // By...</td>\n",
       "      <td>NaN</td>\n",
       "    </tr>\n",
       "  </tbody>\n",
       "</table>\n",
       "</div>"
      ],
      "text/plain": [
       "                            uniq_id  \\\n",
       "0  eac7efa5dbd3d667f26eb3d3ab504464   \n",
       "1  b17540ef7e86e461d37f3ae58b7b72ac   \n",
       "2  348f344247b0c1a935b1223072ef9d8a   \n",
       "3  e12b92dbb8eaee78b22965d2a9bbbd9f   \n",
       "4  e33a9adeed5f36840ccc227db4682a36   \n",
       "\n",
       "                                        product_name manufacturer   price  \\\n",
       "0                              Hornby 2014 Catalogue       Hornby   £3.42   \n",
       "1  FunkyBuys® Large Christmas Holiday Express Fes...    FunkyBuys  £16.99   \n",
       "2  CLASSIC TOY TRAIN SET TRACK CARRIAGES LIGHT EN...          ccf   £9.99   \n",
       "3     HORNBY Coach R4410A BR Hawksworth Corridor 3rd       Hornby  £39.99   \n",
       "4  Hornby 00 Gauge 0-4-0 Gildenlow Salt Co. Steam...       Hornby  £32.19   \n",
       "\n",
       "  number_available_in_stock number_of_reviews  number_of_answered_questions  \\\n",
       "0                     5 new                15                           1.0   \n",
       "1                       NaN                 2                           1.0   \n",
       "2                     2 new                17                           2.0   \n",
       "3                       NaN                 1                           2.0   \n",
       "4                       NaN                 3                           2.0   \n",
       "\n",
       "  average_review_rating                   amazon_category_and_sub_category  \\\n",
       "0    4.9 out of 5 stars  Hobbies > Model Trains & Railway Sets > Rail V...   \n",
       "1    4.5 out of 5 stars  Hobbies > Model Trains & Railway Sets > Rail V...   \n",
       "2    3.9 out of 5 stars  Hobbies > Model Trains & Railway Sets > Rail V...   \n",
       "3    5.0 out of 5 stars  Hobbies > Model Trains & Railway Sets > Rail V...   \n",
       "4    4.7 out of 5 stars  Hobbies > Model Trains & Railway Sets > Rail V...   \n",
       "\n",
       "          customers_who_bought_this_item_also_bought  \\\n",
       "0  http://www.amazon.co.uk/Hornby-R8150-Catalogue...   \n",
       "1  http://www.amazon.co.uk/Christmas-Holiday-Expr...   \n",
       "2  http://www.amazon.co.uk/Classic-Train-Lights-B...   \n",
       "3                                                NaN   \n",
       "4  http://www.amazon.co.uk/Hornby-R6367-RailRoad-...   \n",
       "\n",
       "                                         description  \\\n",
       "0  Product Description Hornby 2014 Catalogue Box ...   \n",
       "1  Size Name:Large FunkyBuys® Large Christmas Hol...   \n",
       "2  BIG CLASSIC TOY TRAIN SET TRACK CARRIAGE LIGHT...   \n",
       "3  Hornby 00 Gauge BR Hawksworth 3rd Class W 2107...   \n",
       "4  Product Description Hornby RailRoad 0-4-0 Gild...   \n",
       "\n",
       "                                 product_information  \\\n",
       "0  Technical Details Item Weight640 g Product Dim...   \n",
       "1  Technical Details Manufacturer recommended age...   \n",
       "2  Technical Details Manufacturer recommended age...   \n",
       "3  Technical Details Item Weight259 g Product Dim...   \n",
       "4  Technical Details Item Weight159 g Product Dim...   \n",
       "\n",
       "                                 product_description  \\\n",
       "0  Product Description Hornby 2014 Catalogue Box ...   \n",
       "1  Size Name:Large FunkyBuys® Large Christmas Hol...   \n",
       "2  BIG CLASSIC TOY TRAIN SET TRACK CARRIAGE LIGHT...   \n",
       "3  Hornby 00 Gauge BR Hawksworth 3rd Class W 2107...   \n",
       "4  Product Description Hornby RailRoad 0-4-0 Gild...   \n",
       "\n",
       "         items_customers_buy_after_viewing_this_item  \\\n",
       "0  http://www.amazon.co.uk/Hornby-R8150-Catalogue...   \n",
       "1  http://www.amazon.co.uk/Christmas-Holiday-Expr...   \n",
       "2  http://www.amazon.co.uk/Train-With-Tracks-Batt...   \n",
       "3                                                NaN   \n",
       "4  http://www.amazon.co.uk/Hornby-R2672-RailRoad-...   \n",
       "\n",
       "                      customer_questions_and_answers  \\\n",
       "0  Does this catalogue detail all the previous Ho...   \n",
       "1  can you turn off sounds // hi no you cant turn...   \n",
       "2  What is the gauge of the track // Hi Paul.Trut...   \n",
       "3                                                NaN   \n",
       "4                                                NaN   \n",
       "\n",
       "                                    customer_reviews  \\\n",
       "0  Worth Buying For The Pictures Alone (As Ever) ...   \n",
       "1  Four Stars // 4.0 // 18 Dec. 2015 // By\\n    \\...   \n",
       "2  **Highly Recommended!** // 5.0 // 26 May 2015 ...   \n",
       "3  I love it // 5.0 // 22 July 2013 // By\\n    \\n...   \n",
       "4  Birthday present // 5.0 // 14 April 2014 // By...   \n",
       "\n",
       "                                             sellers  \n",
       "0  {\"seller\"=>[{\"Seller_name_1\"=>\"Amazon.co.uk\", ...  \n",
       "1  {\"seller\"=>{\"Seller_name_1\"=>\"UHD WHOLESALE\", ...  \n",
       "2  {\"seller\"=>[{\"Seller_name_1\"=>\"DEAL-BOX\", \"Sel...  \n",
       "3                                                NaN  \n",
       "4                                                NaN  "
      ]
     },
     "execution_count": 5,
     "metadata": {},
     "output_type": "execute_result"
    }
   ],
   "source": [
    "#peek at dataframe\n",
    "ecom.head()"
   ]
  },
  {
   "cell_type": "markdown",
   "metadata": {},
   "source": [
    "## Cleaning"
   ]
  },
  {
   "cell_type": "markdown",
   "metadata": {},
   "source": [
    "Let's clean up our columns, including price, so that they can converge properly.\n",
    "\n",
    "### Remove extraneous characters\n",
    "\n",
    "From the pound signs in the prices, to prices listed as ranges, we have some issues in our data formats. Let's fix these.\n",
    "\n",
    "For price ranges, I will merely consume the lower bound of the price."
   ]
  },
  {
   "cell_type": "code",
   "execution_count": 6,
   "metadata": {
    "ExecuteTime": {
     "end_time": "2021-06-11T00:21:42.879058Z",
     "start_time": "2021-06-11T00:21:42.851870Z"
    }
   },
   "outputs": [],
   "source": [
    "#Substantial datatype conversion help here from https://pbpython.com/currency-cleanup.html\n",
    "\n",
    "def clean_price(x):\n",
    "    \n",
    "    if isinstance(x, str):\n",
    "#If the value is a string, then remove currency symbol, delimiters and anything \n",
    "#else following the price; otherwise, the value is numeric and can be converted as is.\n",
    "        \n",
    "        return(x.replace('£', '').replace(',', '').split(' - ')[0])\n",
    "    #strip price of the pound sign\n",
    "    #we need to get rid of price ranges. I will just consume the LOWER BOUND in case of a price range.\n",
    "\n",
    "    return(x)"
   ]
  },
  {
   "cell_type": "code",
   "execution_count": 7,
   "metadata": {
    "ExecuteTime": {
     "end_time": "2021-06-11T00:21:42.964380Z",
     "start_time": "2021-06-11T00:21:42.881705Z"
    }
   },
   "outputs": [],
   "source": [
    "#apply my price function to convert the price column type\n",
    "ecom['price'] = ecom['price'].apply(clean_price).astype('float')"
   ]
  },
  {
   "cell_type": "code",
   "execution_count": 8,
   "metadata": {
    "ExecuteTime": {
     "end_time": "2021-06-11T00:21:43.061347Z",
     "start_time": "2021-06-11T00:21:42.980214Z"
    }
   },
   "outputs": [
    {
     "data": {
      "text/plain": [
       "0    4.9\n",
       "1     4.\n",
       "Name: average_review_rating, dtype: object"
      ]
     },
     "execution_count": 8,
     "metadata": {},
     "output_type": "execute_result"
    }
   ],
   "source": [
    "#strip out \"out of 5 stars\" from average_review_rating\n",
    "ecom['average_review_rating'] = ecom['average_review_rating'].str.strip(' out of 5 stars')\n",
    "ecom['average_review_rating'].head(2)"
   ]
  },
  {
   "cell_type": "code",
   "execution_count": 9,
   "metadata": {
    "ExecuteTime": {
     "end_time": "2021-06-11T00:21:43.082100Z",
     "start_time": "2021-06-11T00:21:43.075473Z"
    }
   },
   "outputs": [],
   "source": [
    "#strip out the word \"new\" from number_available_in_stock; we'll handle this during feature eng"
   ]
  },
  {
   "cell_type": "code",
   "execution_count": 10,
   "metadata": {
    "ExecuteTime": {
     "end_time": "2021-06-11T00:21:43.116033Z",
     "start_time": "2021-06-11T00:21:43.086308Z"
    }
   },
   "outputs": [],
   "source": [
    "#strip out commas from number_of_reviews column\n",
    "ecom['number_of_reviews'] = ecom['number_of_reviews'].str.replace(\",\", \"\")"
   ]
  },
  {
   "cell_type": "code",
   "execution_count": 11,
   "metadata": {
    "ExecuteTime": {
     "end_time": "2021-06-11T00:21:43.147049Z",
     "start_time": "2021-06-11T00:21:43.119414Z"
    }
   },
   "outputs": [
    {
     "data": {
      "text/plain": [
       "3182    99\n",
       "7179    99\n",
       "1541    98\n",
       "6616    98\n",
       "133     97\n",
       "4153    97\n",
       "9434    97\n",
       "6642    96\n",
       "6552    96\n",
       "3305    95\n",
       "5166    95\n",
       "6878    95\n",
       "7183    95\n",
       "1678    94\n",
       "9476    94\n",
       "6066    93\n",
       "792     92\n",
       "664     92\n",
       "1812    92\n",
       "7326    92\n",
       "9441    91\n",
       "4280    91\n",
       "7422    91\n",
       "9830    91\n",
       "7219    91\n",
       "9945    91\n",
       "3840    90\n",
       "4688     9\n",
       "2207     9\n",
       "159      9\n",
       "Name: number_of_reviews, dtype: object"
      ]
     },
     "execution_count": 11,
     "metadata": {},
     "output_type": "execute_result"
    }
   ],
   "source": [
    "ecom['number_of_reviews'].sort_values(ascending=False)[:30]"
   ]
  },
  {
   "cell_type": "code",
   "execution_count": 12,
   "metadata": {
    "ExecuteTime": {
     "end_time": "2021-06-11T00:21:43.231103Z",
     "start_time": "2021-06-11T00:21:43.150003Z"
    },
    "scrolled": true
   },
   "outputs": [
    {
     "data": {
      "text/html": [
       "<div>\n",
       "<style scoped>\n",
       "    .dataframe tbody tr th:only-of-type {\n",
       "        vertical-align: middle;\n",
       "    }\n",
       "\n",
       "    .dataframe tbody tr th {\n",
       "        vertical-align: top;\n",
       "    }\n",
       "\n",
       "    .dataframe thead th {\n",
       "        text-align: right;\n",
       "    }\n",
       "</style>\n",
       "<table border=\"1\" class=\"dataframe\">\n",
       "  <thead>\n",
       "    <tr style=\"text-align: right;\">\n",
       "      <th></th>\n",
       "      <th>uniq_id</th>\n",
       "      <th>product_name</th>\n",
       "      <th>manufacturer</th>\n",
       "      <th>price</th>\n",
       "      <th>number_available_in_stock</th>\n",
       "      <th>number_of_reviews</th>\n",
       "      <th>number_of_answered_questions</th>\n",
       "      <th>average_review_rating</th>\n",
       "      <th>amazon_category_and_sub_category</th>\n",
       "      <th>customers_who_bought_this_item_also_bought</th>\n",
       "      <th>description</th>\n",
       "      <th>product_information</th>\n",
       "      <th>product_description</th>\n",
       "      <th>items_customers_buy_after_viewing_this_item</th>\n",
       "      <th>customer_questions_and_answers</th>\n",
       "      <th>customer_reviews</th>\n",
       "      <th>sellers</th>\n",
       "    </tr>\n",
       "  </thead>\n",
       "  <tbody>\n",
       "    <tr>\n",
       "      <th>8872</th>\n",
       "      <td>c751a76dd7668f78b4222b5547e7249b</td>\n",
       "      <td>TOMY Pop-Up Pirate</td>\n",
       "      <td>Tomy</td>\n",
       "      <td>9.99</td>\n",
       "      <td>59 new</td>\n",
       "      <td>1040</td>\n",
       "      <td>11.0</td>\n",
       "      <td>4.</td>\n",
       "      <td>Characters &amp; Brands &gt; Tomy</td>\n",
       "      <td>http://www.amazon.co.uk/Hungry-Hippos-Elefun-F...</td>\n",
       "      <td>Style Name:Pop-Up-Pirate/T7028 Product Descrip...</td>\n",
       "      <td>Technical Details Brand Tomy Model NumberT7028...</td>\n",
       "      <td>Style Name:Pop-Up-Pirate/T7028 Product Descrip...</td>\n",
       "      <td>NaN</td>\n",
       "      <td>Is this good for 5 and 6 year old kids? // Hi ...</td>\n",
       "      <td>Crazy fun // 4.0 // 9 Sept. 2007 // By\\n    \\n...</td>\n",
       "      <td>{\"seller\"=&gt;[{\"Seller_name_1\"=&gt;\"Amazon.co.uk\", ...</td>\n",
       "    </tr>\n",
       "  </tbody>\n",
       "</table>\n",
       "</div>"
      ],
      "text/plain": [
       "                               uniq_id        product_name manufacturer  \\\n",
       "8872  c751a76dd7668f78b4222b5547e7249b  TOMY Pop-Up Pirate         Tomy   \n",
       "\n",
       "      price number_available_in_stock number_of_reviews  \\\n",
       "8872   9.99                    59 new              1040   \n",
       "\n",
       "      number_of_answered_questions average_review_rating  \\\n",
       "8872                          11.0                    4.   \n",
       "\n",
       "     amazon_category_and_sub_category  \\\n",
       "8872       Characters & Brands > Tomy   \n",
       "\n",
       "             customers_who_bought_this_item_also_bought  \\\n",
       "8872  http://www.amazon.co.uk/Hungry-Hippos-Elefun-F...   \n",
       "\n",
       "                                            description  \\\n",
       "8872  Style Name:Pop-Up-Pirate/T7028 Product Descrip...   \n",
       "\n",
       "                                    product_information  \\\n",
       "8872  Technical Details Brand Tomy Model NumberT7028...   \n",
       "\n",
       "                                    product_description  \\\n",
       "8872  Style Name:Pop-Up-Pirate/T7028 Product Descrip...   \n",
       "\n",
       "     items_customers_buy_after_viewing_this_item  \\\n",
       "8872                                         NaN   \n",
       "\n",
       "                         customer_questions_and_answers  \\\n",
       "8872  Is this good for 5 and 6 year old kids? // Hi ...   \n",
       "\n",
       "                                       customer_reviews  \\\n",
       "8872  Crazy fun // 4.0 // 9 Sept. 2007 // By\\n    \\n...   \n",
       "\n",
       "                                                sellers  \n",
       "8872  {\"seller\"=>[{\"Seller_name_1\"=>\"Amazon.co.uk\", ...  "
      ]
     },
     "execution_count": 12,
     "metadata": {},
     "output_type": "execute_result"
    }
   ],
   "source": [
    "#double check that our digits converted correctly\n",
    "ecom.loc[ecom['number_of_reviews']=='1040']"
   ]
  },
  {
   "cell_type": "markdown",
   "metadata": {},
   "source": [
    "### Converting object columns to numeric where applicable\n",
    "\n",
    "We had 4 columns originally that seemed like good candidates for conversion to numeric:\n",
    "\n",
    "* price\n",
    "* number_of_reviews\n",
    "* number_of_answered_questions\n",
    "* average_review_rating"
   ]
  },
  {
   "cell_type": "code",
   "execution_count": 13,
   "metadata": {
    "ExecuteTime": {
     "end_time": "2021-06-11T00:21:43.269303Z",
     "start_time": "2021-06-11T00:21:43.245898Z"
    }
   },
   "outputs": [],
   "source": [
    "#force num type on number_of_reviews, number_of_answered_questions, price, average_review_rating\n",
    "ecom['number_of_answered_questions'] = ecom[['number_of_answered_questions']].apply(pd.to_numeric)"
   ]
  },
  {
   "cell_type": "code",
   "execution_count": 14,
   "metadata": {
    "ExecuteTime": {
     "end_time": "2021-06-11T00:21:43.289331Z",
     "start_time": "2021-06-11T00:21:43.274507Z"
    }
   },
   "outputs": [],
   "source": [
    "ecom['average_review_rating'] = ecom['average_review_rating'].astype(float)"
   ]
  },
  {
   "cell_type": "code",
   "execution_count": 15,
   "metadata": {
    "ExecuteTime": {
     "end_time": "2021-06-11T00:21:43.336519Z",
     "start_time": "2021-06-11T00:21:43.296707Z"
    }
   },
   "outputs": [],
   "source": [
    "#first remove nulls for this to work\n",
    "ecom.dropna(subset=['number_of_reviews'], inplace=True)\n",
    "\n",
    "#convert\n",
    "ecom['number_of_reviews'] = ecom['number_of_reviews'].astype(int)"
   ]
  },
  {
   "cell_type": "code",
   "execution_count": 16,
   "metadata": {
    "ExecuteTime": {
     "end_time": "2021-06-11T00:21:43.356729Z",
     "start_time": "2021-06-11T00:21:43.341696Z"
    }
   },
   "outputs": [
    {
     "data": {
      "text/plain": [
       "uniq_id                                         object\n",
       "product_name                                    object\n",
       "manufacturer                                    object\n",
       "price                                          float64\n",
       "number_available_in_stock                       object\n",
       "number_of_reviews                                int64\n",
       "number_of_answered_questions                   float64\n",
       "average_review_rating                          float64\n",
       "amazon_category_and_sub_category                object\n",
       "customers_who_bought_this_item_also_bought      object\n",
       "description                                     object\n",
       "product_information                             object\n",
       "product_description                             object\n",
       "items_customers_buy_after_viewing_this_item     object\n",
       "customer_questions_and_answers                  object\n",
       "customer_reviews                                object\n",
       "sellers                                         object\n",
       "dtype: object"
      ]
     },
     "execution_count": 16,
     "metadata": {},
     "output_type": "execute_result"
    }
   ],
   "source": [
    "#confirm conversions\n",
    "ecom.dtypes"
   ]
  },
  {
   "cell_type": "markdown",
   "metadata": {},
   "source": [
    "### Convert price"
   ]
  },
  {
   "cell_type": "markdown",
   "metadata": {},
   "source": [
    "A nuance observed here is that we have a complicating issue in our data set in that some prices are displayed as ranges.\n",
    "\n",
    "There were two places where we could look at price: the price column, which we have now reduced to the lower bound for simplicity, as well as the seller column.\n",
    "\n",
    "One way to think of the price variability is that each seller can charge a different price. However, the wild variability can also be explained by product condition.\n",
    "\n",
    "For simplicity, we are going to look at the average price, and create a new column we can reuse, with that information:"
   ]
  },
  {
   "cell_type": "code",
   "execution_count": 17,
   "metadata": {
    "ExecuteTime": {
     "end_time": "2021-06-11T00:21:45.320433Z",
     "start_time": "2021-06-11T00:21:43.359183Z"
    }
   },
   "outputs": [
    {
     "name": "stderr",
     "output_type": "stream",
     "text": [
      "/opt/anaconda3/lib/python3.8/site-packages/numpy/core/fromnumeric.py:3372: RuntimeWarning: Mean of empty slice.\n",
      "  return _methods._mean(a, axis=axis, dtype=dtype,\n",
      "/opt/anaconda3/lib/python3.8/site-packages/numpy/core/_methods.py:170: RuntimeWarning: invalid value encountered in double_scalars\n",
      "  ret = ret.dtype.type(ret / rcount)\n"
     ]
    }
   ],
   "source": [
    "#Gwen's code -- map avg. price to column\n",
    "\n",
    "def median_sale_price(x):\n",
    "    if pd.isna(x):\n",
    "        return np.nan\n",
    "    \n",
    "    try:\n",
    "        return np.median(\n",
    "            [float(y.split('\"')[0]) for y in list(x.split('£')[1:])])\n",
    "    \n",
    "    except:\n",
    "        nos = []\n",
    "        for y in list(x.split('£')[1:]):\n",
    "            try:\n",
    "                nos.append(float(y.split('\"')[0]))\n",
    "            except:\n",
    "                pass\n",
    "        return np.median(nos)\n",
    "    \n",
    "ecom['median_sale_price'] = ecom['sellers'].map(median_sale_price)"
   ]
  },
  {
   "cell_type": "markdown",
   "metadata": {},
   "source": [
    "### Imputing nulls\n",
    "\n",
    "For most of the fields, imputing with a 0 seems to make sense -- no reviews is no different than 0 reviews.\n",
    "\n",
    "For price, however, we'll want to impute with the mean, now that we've successfully converted it to numeric.\n",
    "\n",
    "As for average review rating, in the absence of one, we will simply drop those few observations since that's a valuable column and I'd want to be careful extending any kind of mean to it, since it is possibly our target."
   ]
  },
  {
   "cell_type": "code",
   "execution_count": 18,
   "metadata": {
    "ExecuteTime": {
     "end_time": "2021-06-11T00:21:45.400639Z",
     "start_time": "2021-06-11T00:21:45.325539Z"
    }
   },
   "outputs": [],
   "source": [
    "#`dropna.()` nulls without an average_review_rating since we need those for training, and there are few\n",
    "ecom.dropna(\n",
    "    subset=['average_review_rating'], inplace=True)"
   ]
  },
  {
   "cell_type": "code",
   "execution_count": 19,
   "metadata": {
    "ExecuteTime": {
     "end_time": "2021-06-11T00:21:45.426129Z",
     "start_time": "2021-06-11T00:21:45.407032Z"
    }
   },
   "outputs": [],
   "source": [
    "#fill price with average of column\n",
    "ecom['price'] = ecom['price'].fillna(\n",
    "    ecom['price'].mean())"
   ]
  },
  {
   "cell_type": "code",
   "execution_count": 20,
   "metadata": {
    "ExecuteTime": {
     "end_time": "2021-06-11T00:21:45.686757Z",
     "start_time": "2021-06-11T00:21:45.445531Z"
    },
    "scrolled": true
   },
   "outputs": [
    {
     "data": {
      "text/html": [
       "<div>\n",
       "<style scoped>\n",
       "    .dataframe tbody tr th:only-of-type {\n",
       "        vertical-align: middle;\n",
       "    }\n",
       "\n",
       "    .dataframe tbody tr th {\n",
       "        vertical-align: top;\n",
       "    }\n",
       "\n",
       "    .dataframe thead th {\n",
       "        text-align: right;\n",
       "    }\n",
       "</style>\n",
       "<table border=\"1\" class=\"dataframe\">\n",
       "  <thead>\n",
       "    <tr style=\"text-align: right;\">\n",
       "      <th></th>\n",
       "      <th>uniq_id</th>\n",
       "      <th>product_name</th>\n",
       "      <th>manufacturer</th>\n",
       "      <th>price</th>\n",
       "      <th>number_available_in_stock</th>\n",
       "      <th>number_of_reviews</th>\n",
       "      <th>number_of_answered_questions</th>\n",
       "      <th>average_review_rating</th>\n",
       "      <th>amazon_category_and_sub_category</th>\n",
       "      <th>customers_who_bought_this_item_also_bought</th>\n",
       "      <th>description</th>\n",
       "      <th>product_information</th>\n",
       "      <th>product_description</th>\n",
       "      <th>items_customers_buy_after_viewing_this_item</th>\n",
       "      <th>customer_questions_and_answers</th>\n",
       "      <th>customer_reviews</th>\n",
       "      <th>sellers</th>\n",
       "      <th>median_sale_price</th>\n",
       "    </tr>\n",
       "  </thead>\n",
       "  <tbody>\n",
       "    <tr>\n",
       "      <th>0</th>\n",
       "      <td>eac7efa5dbd3d667f26eb3d3ab504464</td>\n",
       "      <td>Hornby 2014 Catalogue</td>\n",
       "      <td>Hornby</td>\n",
       "      <td>3.42</td>\n",
       "      <td>5 new</td>\n",
       "      <td>15</td>\n",
       "      <td>1.0</td>\n",
       "      <td>4.9</td>\n",
       "      <td>Hobbies &gt; Model Trains &amp; Railway Sets &gt; Rail V...</td>\n",
       "      <td>http://www.amazon.co.uk/Hornby-R8150-Catalogue...</td>\n",
       "      <td>Product Description Hornby 2014 Catalogue Box ...</td>\n",
       "      <td>Technical Details Item Weight640 g Product Dim...</td>\n",
       "      <td>Product Description Hornby 2014 Catalogue Box ...</td>\n",
       "      <td>http://www.amazon.co.uk/Hornby-R8150-Catalogue...</td>\n",
       "      <td>Does this catalogue detail all the previous Ho...</td>\n",
       "      <td>Worth Buying For The Pictures Alone (As Ever) ...</td>\n",
       "      <td>{\"seller\"=&gt;[{\"Seller_name_1\"=&gt;\"Amazon.co.uk\", ...</td>\n",
       "      <td>8.000</td>\n",
       "    </tr>\n",
       "    <tr>\n",
       "      <th>1</th>\n",
       "      <td>b17540ef7e86e461d37f3ae58b7b72ac</td>\n",
       "      <td>FunkyBuys® Large Christmas Holiday Express Fes...</td>\n",
       "      <td>FunkyBuys</td>\n",
       "      <td>16.99</td>\n",
       "      <td>0</td>\n",
       "      <td>2</td>\n",
       "      <td>1.0</td>\n",
       "      <td>4.0</td>\n",
       "      <td>Hobbies &gt; Model Trains &amp; Railway Sets &gt; Rail V...</td>\n",
       "      <td>http://www.amazon.co.uk/Christmas-Holiday-Expr...</td>\n",
       "      <td>Size Name:Large FunkyBuys® Large Christmas Hol...</td>\n",
       "      <td>Technical Details Manufacturer recommended age...</td>\n",
       "      <td>Size Name:Large FunkyBuys® Large Christmas Hol...</td>\n",
       "      <td>http://www.amazon.co.uk/Christmas-Holiday-Expr...</td>\n",
       "      <td>can you turn off sounds // hi no you cant turn...</td>\n",
       "      <td>Four Stars // 4.0 // 18 Dec. 2015 // By\\n    \\...</td>\n",
       "      <td>{\"seller\"=&gt;{\"Seller_name_1\"=&gt;\"UHD WHOLESALE\", ...</td>\n",
       "      <td>16.990</td>\n",
       "    </tr>\n",
       "    <tr>\n",
       "      <th>2</th>\n",
       "      <td>348f344247b0c1a935b1223072ef9d8a</td>\n",
       "      <td>CLASSIC TOY TRAIN SET TRACK CARRIAGES LIGHT EN...</td>\n",
       "      <td>ccf</td>\n",
       "      <td>9.99</td>\n",
       "      <td>2 new</td>\n",
       "      <td>17</td>\n",
       "      <td>2.0</td>\n",
       "      <td>3.9</td>\n",
       "      <td>Hobbies &gt; Model Trains &amp; Railway Sets &gt; Rail V...</td>\n",
       "      <td>http://www.amazon.co.uk/Classic-Train-Lights-B...</td>\n",
       "      <td>BIG CLASSIC TOY TRAIN SET TRACK CARRIAGE LIGHT...</td>\n",
       "      <td>Technical Details Manufacturer recommended age...</td>\n",
       "      <td>BIG CLASSIC TOY TRAIN SET TRACK CARRIAGE LIGHT...</td>\n",
       "      <td>http://www.amazon.co.uk/Train-With-Tracks-Batt...</td>\n",
       "      <td>What is the gauge of the track // Hi Paul.Trut...</td>\n",
       "      <td>**Highly Recommended!** // 5.0 // 26 May 2015 ...</td>\n",
       "      <td>{\"seller\"=&gt;[{\"Seller_name_1\"=&gt;\"DEAL-BOX\", \"Sel...</td>\n",
       "      <td>19.945</td>\n",
       "    </tr>\n",
       "  </tbody>\n",
       "</table>\n",
       "</div>"
      ],
      "text/plain": [
       "                            uniq_id  \\\n",
       "0  eac7efa5dbd3d667f26eb3d3ab504464   \n",
       "1  b17540ef7e86e461d37f3ae58b7b72ac   \n",
       "2  348f344247b0c1a935b1223072ef9d8a   \n",
       "\n",
       "                                        product_name manufacturer  price  \\\n",
       "0                              Hornby 2014 Catalogue       Hornby   3.42   \n",
       "1  FunkyBuys® Large Christmas Holiday Express Fes...    FunkyBuys  16.99   \n",
       "2  CLASSIC TOY TRAIN SET TRACK CARRIAGES LIGHT EN...          ccf   9.99   \n",
       "\n",
       "  number_available_in_stock  number_of_reviews  number_of_answered_questions  \\\n",
       "0                     5 new                 15                           1.0   \n",
       "1                         0                  2                           1.0   \n",
       "2                     2 new                 17                           2.0   \n",
       "\n",
       "   average_review_rating                   amazon_category_and_sub_category  \\\n",
       "0                    4.9  Hobbies > Model Trains & Railway Sets > Rail V...   \n",
       "1                    4.0  Hobbies > Model Trains & Railway Sets > Rail V...   \n",
       "2                    3.9  Hobbies > Model Trains & Railway Sets > Rail V...   \n",
       "\n",
       "          customers_who_bought_this_item_also_bought  \\\n",
       "0  http://www.amazon.co.uk/Hornby-R8150-Catalogue...   \n",
       "1  http://www.amazon.co.uk/Christmas-Holiday-Expr...   \n",
       "2  http://www.amazon.co.uk/Classic-Train-Lights-B...   \n",
       "\n",
       "                                         description  \\\n",
       "0  Product Description Hornby 2014 Catalogue Box ...   \n",
       "1  Size Name:Large FunkyBuys® Large Christmas Hol...   \n",
       "2  BIG CLASSIC TOY TRAIN SET TRACK CARRIAGE LIGHT...   \n",
       "\n",
       "                                 product_information  \\\n",
       "0  Technical Details Item Weight640 g Product Dim...   \n",
       "1  Technical Details Manufacturer recommended age...   \n",
       "2  Technical Details Manufacturer recommended age...   \n",
       "\n",
       "                                 product_description  \\\n",
       "0  Product Description Hornby 2014 Catalogue Box ...   \n",
       "1  Size Name:Large FunkyBuys® Large Christmas Hol...   \n",
       "2  BIG CLASSIC TOY TRAIN SET TRACK CARRIAGE LIGHT...   \n",
       "\n",
       "         items_customers_buy_after_viewing_this_item  \\\n",
       "0  http://www.amazon.co.uk/Hornby-R8150-Catalogue...   \n",
       "1  http://www.amazon.co.uk/Christmas-Holiday-Expr...   \n",
       "2  http://www.amazon.co.uk/Train-With-Tracks-Batt...   \n",
       "\n",
       "                      customer_questions_and_answers  \\\n",
       "0  Does this catalogue detail all the previous Ho...   \n",
       "1  can you turn off sounds // hi no you cant turn...   \n",
       "2  What is the gauge of the track // Hi Paul.Trut...   \n",
       "\n",
       "                                    customer_reviews  \\\n",
       "0  Worth Buying For The Pictures Alone (As Ever) ...   \n",
       "1  Four Stars // 4.0 // 18 Dec. 2015 // By\\n    \\...   \n",
       "2  **Highly Recommended!** // 5.0 // 26 May 2015 ...   \n",
       "\n",
       "                                             sellers  median_sale_price  \n",
       "0  {\"seller\"=>[{\"Seller_name_1\"=>\"Amazon.co.uk\", ...              8.000  \n",
       "1  {\"seller\"=>{\"Seller_name_1\"=>\"UHD WHOLESALE\", ...             16.990  \n",
       "2  {\"seller\"=>[{\"Seller_name_1\"=>\"DEAL-BOX\", \"Sel...             19.945  "
      ]
     },
     "execution_count": 20,
     "metadata": {},
     "output_type": "execute_result"
    }
   ],
   "source": [
    "#fill in NaN's with 0's for everything else\n",
    "ecom = ecom.fillna(0)\n",
    "ecom.head(3)"
   ]
  },
  {
   "cell_type": "code",
   "execution_count": 21,
   "metadata": {
    "ExecuteTime": {
     "end_time": "2021-06-11T00:21:45.853429Z",
     "start_time": "2021-06-11T00:21:45.721170Z"
    }
   },
   "outputs": [
    {
     "data": {
      "text/plain": [
       "uniq_id                                        0\n",
       "product_name                                   0\n",
       "manufacturer                                   0\n",
       "price                                          0\n",
       "number_available_in_stock                      0\n",
       "number_of_reviews                              0\n",
       "number_of_answered_questions                   0\n",
       "average_review_rating                          0\n",
       "amazon_category_and_sub_category               0\n",
       "customers_who_bought_this_item_also_bought     0\n",
       "description                                    0\n",
       "product_information                            0\n",
       "product_description                            0\n",
       "items_customers_buy_after_viewing_this_item    0\n",
       "customer_questions_and_answers                 0\n",
       "customer_reviews                               0\n",
       "sellers                                        0\n",
       "median_sale_price                              0\n",
       "dtype: int64"
      ]
     },
     "execution_count": 21,
     "metadata": {},
     "output_type": "execute_result"
    }
   ],
   "source": [
    "ecom.isnull().sum()"
   ]
  },
  {
   "cell_type": "markdown",
   "metadata": {},
   "source": [
    "## EDA\n",
    "\n",
    "Interesting possible questions for exploration:\n",
    "\n",
    "* Is there a correlation between number of reviews and number of questions?\n",
    "* Is there a relationship between the number of sellers and the star rating?\n",
    "* Is there a relationship between the star rating and the number of reviews?\n",
    "* Is there a relationship between the product description and the star rating?\n",
    "* Is there a relationship between a product being sold as new vs. used and its rating?\n",
    "* Is there a relaionship between the product price and average rating?\n",
    "* Do certain categories rank higher than others?"
   ]
  },
  {
   "cell_type": "code",
   "execution_count": 68,
   "metadata": {
    "ExecuteTime": {
     "end_time": "2021-06-11T01:09:53.939058Z",
     "start_time": "2021-06-11T01:09:53.930279Z"
    },
    "scrolled": true
   },
   "outputs": [
    {
     "data": {
      "text/plain": [
       "Index(['uniq_id', 'product_name', 'manufacturer', 'price',\n",
       "       'number_available_in_stock', 'number_of_reviews',\n",
       "       'number_of_answered_questions', 'average_review_rating',\n",
       "       'amazon_category_and_sub_category',\n",
       "       'customers_who_bought_this_item_also_bought', 'description',\n",
       "       'product_information', 'product_description',\n",
       "       'items_customers_buy_after_viewing_this_item',\n",
       "       'customer_questions_and_answers', 'customer_reviews', 'sellers',\n",
       "       'median_sale_price', 'review_to_q_ratio'],\n",
       "      dtype='object')"
      ]
     },
     "execution_count": 68,
     "metadata": {},
     "output_type": "execute_result"
    }
   ],
   "source": [
    "#what can we analyze, again?\n",
    "ecom.columns"
   ]
  },
  {
   "cell_type": "markdown",
   "metadata": {},
   "source": [
    "What is the central tendency for the numeric columns in our dataset?"
   ]
  },
  {
   "cell_type": "code",
   "execution_count": 70,
   "metadata": {
    "ExecuteTime": {
     "end_time": "2021-06-11T01:10:04.112901Z",
     "start_time": "2021-06-11T01:10:04.075082Z"
    },
    "scrolled": true
   },
   "outputs": [
    {
     "data": {
      "text/html": [
       "<div>\n",
       "<style scoped>\n",
       "    .dataframe tbody tr th:only-of-type {\n",
       "        vertical-align: middle;\n",
       "    }\n",
       "\n",
       "    .dataframe tbody tr th {\n",
       "        vertical-align: top;\n",
       "    }\n",
       "\n",
       "    .dataframe thead th {\n",
       "        text-align: right;\n",
       "    }\n",
       "</style>\n",
       "<table border=\"1\" class=\"dataframe\">\n",
       "  <thead>\n",
       "    <tr style=\"text-align: right;\">\n",
       "      <th></th>\n",
       "      <th>count</th>\n",
       "      <th>mean</th>\n",
       "      <th>std</th>\n",
       "      <th>min</th>\n",
       "      <th>25%</th>\n",
       "      <th>50%</th>\n",
       "      <th>75%</th>\n",
       "      <th>max</th>\n",
       "    </tr>\n",
       "  </thead>\n",
       "  <tbody>\n",
       "    <tr>\n",
       "      <th>price</th>\n",
       "      <td>9982.0</td>\n",
       "      <td>20.27</td>\n",
       "      <td>42.91</td>\n",
       "      <td>0.01</td>\n",
       "      <td>5.95</td>\n",
       "      <td>12.99</td>\n",
       "      <td>20.27</td>\n",
       "      <td>2439.92</td>\n",
       "    </tr>\n",
       "    <tr>\n",
       "      <th>number_of_reviews</th>\n",
       "      <td>9982.0</td>\n",
       "      <td>9.14</td>\n",
       "      <td>33.73</td>\n",
       "      <td>1.00</td>\n",
       "      <td>1.00</td>\n",
       "      <td>2.00</td>\n",
       "      <td>6.00</td>\n",
       "      <td>1399.00</td>\n",
       "    </tr>\n",
       "    <tr>\n",
       "      <th>number_of_answered_questions</th>\n",
       "      <td>9982.0</td>\n",
       "      <td>1.69</td>\n",
       "      <td>2.47</td>\n",
       "      <td>0.00</td>\n",
       "      <td>1.00</td>\n",
       "      <td>1.00</td>\n",
       "      <td>2.00</td>\n",
       "      <td>39.00</td>\n",
       "    </tr>\n",
       "    <tr>\n",
       "      <th>average_review_rating</th>\n",
       "      <td>9982.0</td>\n",
       "      <td>2.10</td>\n",
       "      <td>2.17</td>\n",
       "      <td>0.00</td>\n",
       "      <td>0.00</td>\n",
       "      <td>0.00</td>\n",
       "      <td>4.20</td>\n",
       "      <td>4.90</td>\n",
       "    </tr>\n",
       "    <tr>\n",
       "      <th>median_sale_price</th>\n",
       "      <td>9982.0</td>\n",
       "      <td>19.70</td>\n",
       "      <td>47.50</td>\n",
       "      <td>0.00</td>\n",
       "      <td>0.00</td>\n",
       "      <td>6.78</td>\n",
       "      <td>19.70</td>\n",
       "      <td>995.11</td>\n",
       "    </tr>\n",
       "    <tr>\n",
       "      <th>review_to_q_ratio</th>\n",
       "      <td>9982.0</td>\n",
       "      <td>inf</td>\n",
       "      <td>NaN</td>\n",
       "      <td>0.03</td>\n",
       "      <td>1.00</td>\n",
       "      <td>2.00</td>\n",
       "      <td>7.00</td>\n",
       "      <td>inf</td>\n",
       "    </tr>\n",
       "  </tbody>\n",
       "</table>\n",
       "</div>"
      ],
      "text/plain": [
       "                               count   mean    std   min   25%    50%    75%  \\\n",
       "price                         9982.0  20.27  42.91  0.01  5.95  12.99  20.27   \n",
       "number_of_reviews             9982.0   9.14  33.73  1.00  1.00   2.00   6.00   \n",
       "number_of_answered_questions  9982.0   1.69   2.47  0.00  1.00   1.00   2.00   \n",
       "average_review_rating         9982.0   2.10   2.17  0.00  0.00   0.00   4.20   \n",
       "median_sale_price             9982.0  19.70  47.50  0.00  0.00   6.78  19.70   \n",
       "review_to_q_ratio             9982.0    inf    NaN  0.03  1.00   2.00   7.00   \n",
       "\n",
       "                                  max  \n",
       "price                         2439.92  \n",
       "number_of_reviews             1399.00  \n",
       "number_of_answered_questions    39.00  \n",
       "average_review_rating            4.90  \n",
       "median_sale_price              995.11  \n",
       "review_to_q_ratio                 inf  "
      ]
     },
     "execution_count": 70,
     "metadata": {},
     "output_type": "execute_result"
    }
   ],
   "source": [
    "#look at central tendency\n",
    "ecom.describe().round(2).T"
   ]
  },
  {
   "cell_type": "markdown",
   "metadata": {},
   "source": [
    "From the basic descriptive stats, we can conclude the following: \n",
    "\n",
    "* The average product price is 20 British pounds, while the most expensive item is north of 2K\n",
    "* Most products have about 9 product reviews and 1-2 customer questions\n",
    "* The average rating is a mere 2 stars"
   ]
  },
  {
   "cell_type": "markdown",
   "metadata": {},
   "source": [
    "### Reviews"
   ]
  },
  {
   "cell_type": "markdown",
   "metadata": {},
   "source": [
    "Taking a look at our data, all of the customer reviews appear to actually be compacted into each observation:"
   ]
  },
  {
   "cell_type": "code",
   "execution_count": 24,
   "metadata": {
    "ExecuteTime": {
     "end_time": "2021-06-11T00:21:46.162520Z",
     "start_time": "2021-06-11T00:21:46.126589Z"
    }
   },
   "outputs": [
    {
     "data": {
      "text/plain": [
       "\"Worth Buying For The Pictures Alone (As Ever) // 4.0 // 6 April 2014 // By\\n    \\n    Copnovelist\\n  \\n on 6 April 2014 // Part of the magic for me growing up as a boy was to buy (or be given) the new Hornby catalogue every year, even if it included 90% of the same products as the previous year.  I've still got my old ones dating back to the 70s and 80s somewhere.  These days the catalogue is especially informative in that it tells you the vintage of the rolling stock which is useful if you are dedicating your railway to one particular era and train company. | Amazing detail fabulous photography. // 5.0 // 11 April 2015 // By\\n    \\n    richard\\n  \\n on 11 April 2015 // Amazing detail, every credit to the photographer in this book, a worthy reference manual, as well as a sales brochure. even if you only have a passing interest in the hobby you will be transported to another time when we were all younger and in awe of the big trains. | 'Great Purchase' // 5.0 // 23 April 2014 // By\\n    \\n    Pinkhandbag\\n  \\n on 23 April 2014 // This was purchased on behalf of my Dad. He is always asking me to look up 00 gauge engines online, so this has been a good buy as he can look at it anytime. Would definitely buy the next one 2015!It arrived quickly and in perfect condition :-) | Great Catalogue // 5.0 // 11 Jun. 2014 // By\\n    \\n    Gary John Mapson\\n  \\n on 11 Jun. 2014 // Everything I really needed to see what was on offer from Hornby in the way of trains.  Would not have minded it included an RRP as well though | I collect them all as the glossy pictures are great and it is nice that you can still get ... // 5.0 // 7 Dec. 2014 // By\\n    \\n    David Baker\\n  \\n on 7 Dec. 2014 // I collect them all as the glossy pictures are great and it is nice that you can still get catalogs to collect. | Great catalogue // 5.0 // 20 Mar. 2015 // By\\n    \\n    John A. Day\\n  \\n on 20 Mar. 2015 // What a great book.  Extremely useful insight to all future christmas presents. | Useful // 5.0 // 7 Oct. 2014 // By\\n    \\n    T. Davies\\n  \\n on 7 Oct. 2014 // Useful info for someonelike me starting back into the hobby after many years | hornbys latest catalogue. // 5.0 // 1 Dec. 2014 // By\\n    \\n    John Butlin\\n  \\n on 1 Dec. 2014 // A well produced very good quality catalogue.Super quality pictures.\""
      ]
     },
     "execution_count": 24,
     "metadata": {},
     "output_type": "execute_result"
    }
   ],
   "source": [
    "#look at single review\n",
    "ecom['customer_reviews'][0]"
   ]
  },
  {
   "cell_type": "code",
   "execution_count": 25,
   "metadata": {
    "ExecuteTime": {
     "end_time": "2021-06-11T00:21:48.527408Z",
     "start_time": "2021-06-11T00:21:46.179882Z"
    },
    "scrolled": true
   },
   "outputs": [
    {
     "name": "stdout",
     "output_type": "stream",
     "text": [
      "                             uniq_id  num_reviews\n",
      "0   0cf4f986c7e016bb40c1c345b47f29c4       2011.0\n",
      "1   d27f5bc691982a54530fd90a783af499       1968.0\n",
      "2   d8b0afd4f60e8fd6a87f8c3c77a76d11        100.0\n",
      "3   9f14f55617be8d4a08931c2bdb37bf24        100.0\n",
      "4   846f50a781257b94a435e9838767f290        100.0\n",
      "5   61e4fde30376dfcf8e7e0905aa01acc5        100.0\n",
      "6   ac257efe47e231d2fd370a2a8e3ece34         90.0\n",
      "7   79f7f62211d8b3974e6f72f7554165d4         89.0\n",
      "8   f8fd253748fcf1b05b2a84b7827a2062         70.0\n",
      "9   799c1d5cd768c598a96c5902523a77fc         70.0\n",
      "10  081f0016c0e604dc51bb586f51f441bd         70.0\n",
      "11  7c98c780e7c96218946ca2f850709066         65.0\n",
      "12  ad6905dd8a9fd1e4326421c7b1f5f6e8         60.0\n",
      "13  3358231aff038ed8e4187c013744ba06         53.0\n",
      "14  f3e5295e98323373ed11734dac92f8c8         40.0\n"
     ]
    },
    {
     "data": {
      "text/html": [
       "<div>\n",
       "<style scoped>\n",
       "    .dataframe tbody tr th:only-of-type {\n",
       "        vertical-align: middle;\n",
       "    }\n",
       "\n",
       "    .dataframe tbody tr th {\n",
       "        vertical-align: top;\n",
       "    }\n",
       "\n",
       "    .dataframe thead th {\n",
       "        text-align: right;\n",
       "    }\n",
       "</style>\n",
       "<table border=\"1\" class=\"dataframe\">\n",
       "  <thead>\n",
       "    <tr style=\"text-align: right;\">\n",
       "      <th></th>\n",
       "      <th>number_of_reviews</th>\n",
       "    </tr>\n",
       "    <tr>\n",
       "      <th>uniq_id</th>\n",
       "      <th></th>\n",
       "    </tr>\n",
       "  </thead>\n",
       "  <tbody>\n",
       "    <tr>\n",
       "      <th>c30905e0fd0f5af84be16f794180559d</th>\n",
       "      <td>1399</td>\n",
       "    </tr>\n",
       "    <tr>\n",
       "      <th>c751a76dd7668f78b4222b5547e7249b</th>\n",
       "      <td>1040</td>\n",
       "    </tr>\n",
       "    <tr>\n",
       "      <th>26e96b522b70dac00d7069de2f42bef2</th>\n",
       "      <td>802</td>\n",
       "    </tr>\n",
       "    <tr>\n",
       "      <th>45e1f2e14affc729b8c5a78d14eaf9b8</th>\n",
       "      <td>690</td>\n",
       "    </tr>\n",
       "    <tr>\n",
       "      <th>f157293c89ba2e116475d555992c778a</th>\n",
       "      <td>649</td>\n",
       "    </tr>\n",
       "    <tr>\n",
       "      <th>...</th>\n",
       "      <td>...</td>\n",
       "    </tr>\n",
       "    <tr>\n",
       "      <th>891150e9ab22be99f16a6496ec478c06</th>\n",
       "      <td>1</td>\n",
       "    </tr>\n",
       "    <tr>\n",
       "      <th>892430f4fd981c85cf2cf07f87c2f289</th>\n",
       "      <td>1</td>\n",
       "    </tr>\n",
       "    <tr>\n",
       "      <th>892e643defb2acdfc1a4e2d204714a00</th>\n",
       "      <td>1</td>\n",
       "    </tr>\n",
       "    <tr>\n",
       "      <th>892fb3297999fda6e4754fc83e58d8e6</th>\n",
       "      <td>1</td>\n",
       "    </tr>\n",
       "    <tr>\n",
       "      <th>0016eb63fa6c7a5e8930bc7732b13116</th>\n",
       "      <td>1</td>\n",
       "    </tr>\n",
       "  </tbody>\n",
       "</table>\n",
       "<p>9982 rows × 1 columns</p>\n",
       "</div>"
      ],
      "text/plain": [
       "                                  number_of_reviews\n",
       "uniq_id                                            \n",
       "c30905e0fd0f5af84be16f794180559d               1399\n",
       "c751a76dd7668f78b4222b5547e7249b               1040\n",
       "26e96b522b70dac00d7069de2f42bef2                802\n",
       "45e1f2e14affc729b8c5a78d14eaf9b8                690\n",
       "f157293c89ba2e116475d555992c778a                649\n",
       "...                                             ...\n",
       "891150e9ab22be99f16a6496ec478c06                  1\n",
       "892430f4fd981c85cf2cf07f87c2f289                  1\n",
       "892e643defb2acdfc1a4e2d204714a00                  1\n",
       "892fb3297999fda6e4754fc83e58d8e6                  1\n",
       "0016eb63fa6c7a5e8930bc7732b13116                  1\n",
       "\n",
       "[9982 rows x 1 columns]"
      ]
     },
     "execution_count": 25,
     "metadata": {},
     "output_type": "execute_result"
    }
   ],
   "source": [
    "#groupby product ID to reveal number of verbal reviews per product ID\n",
    "#use uniq_id, customer_reviews\n",
    "\n",
    "#first get count of distinct user IDs\n",
    "\n",
    "#let's use some SQL, baby\n",
    "#docstring: https://pypi.org/project/pandasql/\n",
    "\n",
    "#from Gwen:\n",
    "#For customer_reviews column:\n",
    "#-strip /s, \\r and \\n s, digits, punctuation (in that order), maybe also months since they're easy\n",
    "\n",
    "\n",
    "from pandasql import sqldf\n",
    "pysqldf = lambda q: sqldf(q, globals())\n",
    "\n",
    "def pysqldf(q):\n",
    "    #add this to your script if you get tired of calling locals()\n",
    "    return sqldf(q, globals())\n",
    "\n",
    "df = ecom\n",
    "\n",
    "\n",
    "#group reviews by product ID\n",
    "\n",
    "q = \"\"\"\n",
    "    SELECT DISTINCT uniq_id, SUM(customer_reviews) AS num_reviews\n",
    "    -- count gets number obs., sum is what we actually want\n",
    "           FROM df\n",
    "           GROUP BY uniq_id\n",
    "           ORDER BY num_reviews DESC\n",
    "              \n",
    "\"\"\"\n",
    "\n",
    "print(pysqldf(q).head(15))\n",
    "\n",
    "#compare to what's reported as number of reviews per product\n",
    "pd.DataFrame(\n",
    "    ecom.groupby('uniq_id').sum(\n",
    "    )['number_of_reviews'].sort_values(ascending=False))"
   ]
  },
  {
   "cell_type": "markdown",
   "metadata": {},
   "source": [
    "Let's take a look visually at the distribution of customer reviews for a given product.\n",
    "\n",
    "While not 100% predictive, this is one gauge or proxy we have about sales as a popularity indicator (with the actual rating being the other)."
   ]
  },
  {
   "cell_type": "code",
   "execution_count": 26,
   "metadata": {
    "ExecuteTime": {
     "end_time": "2021-06-11T00:21:49.431160Z",
     "start_time": "2021-06-11T00:21:48.548099Z"
    }
   },
   "outputs": [
    {
     "data": {
      "image/png": "[encoded data removed]",
      "text/plain": [
       "<Figure size 864x576 with 1 Axes>"
      ]
     },
     "metadata": {},
     "output_type": "display_data"
    }
   ],
   "source": [
    "plt.figure(figsize=(12,8))\n",
    "plt.title('Distribution of product reviews for 150 random products', size=15)\n",
    "plt.yticks([5, 10, 15, 20, 30, 40, 50, 100], size = 12)\n",
    "plt.ylabel('Number of reviews', size=14)\n",
    "plt.xlabel('Density = concentration of reviews per product', size=14)\n",
    "ecom['number_of_reviews'][:150].plot(kind='box');\n",
    "plt.savefig('../assets/concentration_reviews.jpg')"
   ]
  },
  {
   "cell_type": "code",
   "execution_count": 30,
   "metadata": {
    "ExecuteTime": {
     "end_time": "2021-06-11T00:21:51.127718Z",
     "start_time": "2021-06-11T00:21:50.972889Z"
    },
    "scrolled": true
   },
   "outputs": [
    {
     "data": {
      "text/html": [
       "<div>\n",
       "<style scoped>\n",
       "    .dataframe tbody tr th:only-of-type {\n",
       "        vertical-align: middle;\n",
       "    }\n",
       "\n",
       "    .dataframe tbody tr th {\n",
       "        vertical-align: top;\n",
       "    }\n",
       "\n",
       "    .dataframe thead th {\n",
       "        text-align: right;\n",
       "    }\n",
       "</style>\n",
       "<table border=\"1\" class=\"dataframe\">\n",
       "  <thead>\n",
       "    <tr style=\"text-align: right;\">\n",
       "      <th></th>\n",
       "      <th>review_to_q_ratio</th>\n",
       "    </tr>\n",
       "  </thead>\n",
       "  <tbody>\n",
       "    <tr>\n",
       "      <th>1.000000</th>\n",
       "      <td>3071</td>\n",
       "    </tr>\n",
       "    <tr>\n",
       "      <th>2.000000</th>\n",
       "      <td>1022</td>\n",
       "    </tr>\n",
       "    <tr>\n",
       "      <th>inf</th>\n",
       "      <td>764</td>\n",
       "    </tr>\n",
       "    <tr>\n",
       "      <th>0.500000</th>\n",
       "      <td>657</td>\n",
       "    </tr>\n",
       "    <tr>\n",
       "      <th>3.000000</th>\n",
       "      <td>557</td>\n",
       "    </tr>\n",
       "    <tr>\n",
       "      <th>4.000000</th>\n",
       "      <td>384</td>\n",
       "    </tr>\n",
       "    <tr>\n",
       "      <th>5.000000</th>\n",
       "      <td>273</td>\n",
       "    </tr>\n",
       "    <tr>\n",
       "      <th>0.333333</th>\n",
       "      <td>250</td>\n",
       "    </tr>\n",
       "    <tr>\n",
       "      <th>6.000000</th>\n",
       "      <td>215</td>\n",
       "    </tr>\n",
       "    <tr>\n",
       "      <th>8.000000</th>\n",
       "      <td>152</td>\n",
       "    </tr>\n",
       "    <tr>\n",
       "      <th>7.000000</th>\n",
       "      <td>147</td>\n",
       "    </tr>\n",
       "    <tr>\n",
       "      <th>9.000000</th>\n",
       "      <td>122</td>\n",
       "    </tr>\n",
       "    <tr>\n",
       "      <th>1.500000</th>\n",
       "      <td>116</td>\n",
       "    </tr>\n",
       "    <tr>\n",
       "      <th>0.250000</th>\n",
       "      <td>90</td>\n",
       "    </tr>\n",
       "    <tr>\n",
       "      <th>0.666667</th>\n",
       "      <td>83</td>\n",
       "    </tr>\n",
       "    <tr>\n",
       "      <th>12.000000</th>\n",
       "      <td>77</td>\n",
       "    </tr>\n",
       "    <tr>\n",
       "      <th>10.000000</th>\n",
       "      <td>76</td>\n",
       "    </tr>\n",
       "    <tr>\n",
       "      <th>11.000000</th>\n",
       "      <td>68</td>\n",
       "    </tr>\n",
       "    <tr>\n",
       "      <th>13.000000</th>\n",
       "      <td>66</td>\n",
       "    </tr>\n",
       "    <tr>\n",
       "      <th>0.200000</th>\n",
       "      <td>64</td>\n",
       "    </tr>\n",
       "    <tr>\n",
       "      <th>14.000000</th>\n",
       "      <td>55</td>\n",
       "    </tr>\n",
       "    <tr>\n",
       "      <th>16.000000</th>\n",
       "      <td>53</td>\n",
       "    </tr>\n",
       "    <tr>\n",
       "      <th>15.000000</th>\n",
       "      <td>48</td>\n",
       "    </tr>\n",
       "  </tbody>\n",
       "</table>\n",
       "</div>"
      ],
      "text/plain": [
       "           review_to_q_ratio\n",
       "1.000000                3071\n",
       "2.000000                1022\n",
       "inf                      764\n",
       "0.500000                 657\n",
       "3.000000                 557\n",
       "4.000000                 384\n",
       "5.000000                 273\n",
       "0.333333                 250\n",
       "6.000000                 215\n",
       "8.000000                 152\n",
       "7.000000                 147\n",
       "9.000000                 122\n",
       "1.500000                 116\n",
       "0.250000                  90\n",
       "0.666667                  83\n",
       "12.000000                 77\n",
       "10.000000                 76\n",
       "11.000000                 68\n",
       "13.000000                 66\n",
       "0.200000                  64\n",
       "14.000000                 55\n",
       "16.000000                 53\n",
       "15.000000                 48"
      ]
     },
     "execution_count": 30,
     "metadata": {},
     "output_type": "execute_result"
    }
   ],
   "source": [
    "#map no. reviews vs. no customer q's as ratio\n",
    "ecom['review_to_q_ratio'] = ecom['number_of_reviews']/ecom['number_of_answered_questions']\n",
    "pd.DataFrame(ecom['review_to_q_ratio'].value_counts())[:15]"
   ]
  },
  {
   "cell_type": "markdown",
   "metadata": {},
   "source": [
    "### Categories"
   ]
  },
  {
   "cell_type": "code",
   "execution_count": 27,
   "metadata": {
    "ExecuteTime": {
     "end_time": "2021-06-11T00:21:49.489126Z",
     "start_time": "2021-06-11T00:21:49.440549Z"
    }
   },
   "outputs": [
    {
     "name": "stdout",
     "output_type": "stream",
     "text": [
      "amazon_category_and_sub_category    256\n",
      "dtype: int64\n"
     ]
    },
    {
     "data": {
      "text/html": [
       "<div>\n",
       "<style scoped>\n",
       "    .dataframe tbody tr th:only-of-type {\n",
       "        vertical-align: middle;\n",
       "    }\n",
       "\n",
       "    .dataframe tbody tr th {\n",
       "        vertical-align: top;\n",
       "    }\n",
       "\n",
       "    .dataframe thead th {\n",
       "        text-align: right;\n",
       "    }\n",
       "</style>\n",
       "<table border=\"1\" class=\"dataframe\">\n",
       "  <thead>\n",
       "    <tr style=\"text-align: right;\">\n",
       "      <th></th>\n",
       "      <th>amazon_category_and_sub_category</th>\n",
       "    </tr>\n",
       "  </thead>\n",
       "  <tbody>\n",
       "    <tr>\n",
       "      <th>Die-Cast &amp; Toy Vehicles &gt; Toy Vehicles &amp; Accessories &gt; Scaled Models &gt; Vehicles</th>\n",
       "      <td>880</td>\n",
       "    </tr>\n",
       "    <tr>\n",
       "      <th>0</th>\n",
       "      <td>684</td>\n",
       "    </tr>\n",
       "    <tr>\n",
       "      <th>Figures &amp; Playsets &gt; Science Fiction &amp; Fantasy</th>\n",
       "      <td>483</td>\n",
       "    </tr>\n",
       "    <tr>\n",
       "      <th>Arts &amp; Crafts &gt; Children's Craft Kits &gt; Bead Art &amp; Jewellery-Making</th>\n",
       "      <td>368</td>\n",
       "    </tr>\n",
       "    <tr>\n",
       "      <th>Characters &amp; Brands &gt; Disney &gt; Toys</th>\n",
       "      <td>346</td>\n",
       "    </tr>\n",
       "    <tr>\n",
       "      <th>Hobbies &gt; Trading Cards &amp; Accessories &gt; Packs &amp; Sets</th>\n",
       "      <td>317</td>\n",
       "    </tr>\n",
       "    <tr>\n",
       "      <th>Games &gt; Dice &amp; Dice Games</th>\n",
       "      <td>297</td>\n",
       "    </tr>\n",
       "    <tr>\n",
       "      <th>Party Supplies &gt; Decorations &gt; Balloons</th>\n",
       "      <td>293</td>\n",
       "    </tr>\n",
       "    <tr>\n",
       "      <th>Party Supplies &gt; Banners, Stickers &amp; Confetti &gt; Banners</th>\n",
       "      <td>278</td>\n",
       "    </tr>\n",
       "    <tr>\n",
       "      <th>Games &gt; Card Games</th>\n",
       "      <td>242</td>\n",
       "    </tr>\n",
       "    <tr>\n",
       "      <th>Puppets &amp; Puppet Theatres &gt; Hand Puppets</th>\n",
       "      <td>241</td>\n",
       "    </tr>\n",
       "    <tr>\n",
       "      <th>Characters &amp; Brands &gt; Star Wars &gt; Toys</th>\n",
       "      <td>213</td>\n",
       "    </tr>\n",
       "    <tr>\n",
       "      <th>Figures &amp; Playsets &gt; Accessories</th>\n",
       "      <td>189</td>\n",
       "    </tr>\n",
       "    <tr>\n",
       "      <th>Fancy Dress &gt; Accessories &gt; Masks</th>\n",
       "      <td>188</td>\n",
       "    </tr>\n",
       "    <tr>\n",
       "      <th>Dolls &amp; Accessories &gt; Dolls' House Dolls &amp; Accessories &gt; Dolls' House Accessories</th>\n",
       "      <td>172</td>\n",
       "    </tr>\n",
       "    <tr>\n",
       "      <th>Hobbies &gt; Model Trains &amp; Railway Sets &gt; Rail Vehicles &gt; Trains</th>\n",
       "      <td>170</td>\n",
       "    </tr>\n",
       "    <tr>\n",
       "      <th>Fancy Dress &gt; Costumes &gt; Adults</th>\n",
       "      <td>169</td>\n",
       "    </tr>\n",
       "    <tr>\n",
       "      <th>Dolls &amp; Accessories &gt; Soft Dolls</th>\n",
       "      <td>151</td>\n",
       "    </tr>\n",
       "    <tr>\n",
       "      <th>Jigsaws &amp; Puzzles &gt; Jigsaws</th>\n",
       "      <td>149</td>\n",
       "    </tr>\n",
       "    <tr>\n",
       "      <th>Figures &amp; Playsets &gt; Knights &amp; Castles</th>\n",
       "      <td>148</td>\n",
       "    </tr>\n",
       "    <tr>\n",
       "      <th>Arts &amp; Crafts &gt; Paper &amp; Stickers</th>\n",
       "      <td>148</td>\n",
       "    </tr>\n",
       "    <tr>\n",
       "      <th>Sports Toys &amp; Outdoor &gt; Kites &amp; Flight Toys</th>\n",
       "      <td>141</td>\n",
       "    </tr>\n",
       "    <tr>\n",
       "      <th>Hobbies &gt; Model Building Kits &gt; Tanks</th>\n",
       "      <td>140</td>\n",
       "    </tr>\n",
       "    <tr>\n",
       "      <th>Fancy Dress &gt; Accessories &gt; Temporary Tattoos</th>\n",
       "      <td>138</td>\n",
       "    </tr>\n",
       "    <tr>\n",
       "      <th>Characters &amp; Brands &gt; Hasbro</th>\n",
       "      <td>136</td>\n",
       "    </tr>\n",
       "    <tr>\n",
       "      <th>Hobbies &gt; Remote Controlled Devices &gt; Parts &amp; Accessories</th>\n",
       "      <td>130</td>\n",
       "    </tr>\n",
       "    <tr>\n",
       "      <th>Die-Cast &amp; Toy Vehicles &gt; Toy Trains &amp; Accessories &gt; Toy Trains &amp; Sets</th>\n",
       "      <td>114</td>\n",
       "    </tr>\n",
       "    <tr>\n",
       "      <th>Games &gt; Educational Games</th>\n",
       "      <td>113</td>\n",
       "    </tr>\n",
       "    <tr>\n",
       "      <th>Figures &amp; Playsets &gt; Pirates</th>\n",
       "      <td>104</td>\n",
       "    </tr>\n",
       "    <tr>\n",
       "      <th>Hobbies &gt; Slot Cars, Race Tracks &amp; Accessories &gt; Slot Cars</th>\n",
       "      <td>103</td>\n",
       "    </tr>\n",
       "    <tr>\n",
       "      <th>Hobbies &gt; Model Trains &amp; Railway Sets &gt; Rail Vehicles &gt; Locomotives</th>\n",
       "      <td>88</td>\n",
       "    </tr>\n",
       "    <tr>\n",
       "      <th>Games &gt; Chess</th>\n",
       "      <td>86</td>\n",
       "    </tr>\n",
       "    <tr>\n",
       "      <th>Die-Cast &amp; Toy Vehicles &gt; Toy Vehicles &amp; Accessories &gt; Toy Cars &amp; Trucks</th>\n",
       "      <td>84</td>\n",
       "    </tr>\n",
       "    <tr>\n",
       "      <th>Games &gt; Dominoes &amp; Tile Games</th>\n",
       "      <td>84</td>\n",
       "    </tr>\n",
       "    <tr>\n",
       "      <th>Figures &amp; Playsets &gt; Dinosaurs</th>\n",
       "      <td>82</td>\n",
       "    </tr>\n",
       "    <tr>\n",
       "      <th>Jigsaws &amp; Puzzles &gt; Brain Teasers</th>\n",
       "      <td>78</td>\n",
       "    </tr>\n",
       "    <tr>\n",
       "      <th>Sports Toys &amp; Outdoor &gt; Beach Toys &gt; Paddling Pools</th>\n",
       "      <td>77</td>\n",
       "    </tr>\n",
       "    <tr>\n",
       "      <th>Arts &amp; Crafts &gt; Colouring Pens &amp; Markers</th>\n",
       "      <td>75</td>\n",
       "    </tr>\n",
       "    <tr>\n",
       "      <th>Arts &amp; Crafts &gt; Art Sand</th>\n",
       "      <td>69</td>\n",
       "    </tr>\n",
       "    <tr>\n",
       "      <th>Games &gt; Trivia &amp; Quiz Games</th>\n",
       "      <td>69</td>\n",
       "    </tr>\n",
       "    <tr>\n",
       "      <th>Die-Cast &amp; Toy Vehicles &gt; Toy Vehicles &amp; Accessories &gt; Scaled Models</th>\n",
       "      <td>67</td>\n",
       "    </tr>\n",
       "    <tr>\n",
       "      <th>Hobbies &gt; Collectible Figures &amp; Memorabilia &gt; Bobbleheads &amp; Busts</th>\n",
       "      <td>65</td>\n",
       "    </tr>\n",
       "    <tr>\n",
       "      <th>Hobbies &gt; Remote Controlled Devices &gt; Helicopters &amp; Quadcopters</th>\n",
       "      <td>61</td>\n",
       "    </tr>\n",
       "    <tr>\n",
       "      <th>Arts &amp; Crafts &gt; Children's Craft Kits</th>\n",
       "      <td>58</td>\n",
       "    </tr>\n",
       "    <tr>\n",
       "      <th>Fancy Dress &gt; Accessories &gt; Sets &amp; Kits</th>\n",
       "      <td>56</td>\n",
       "    </tr>\n",
       "    <tr>\n",
       "      <th>Hobbies &gt; Slot Cars, Race Tracks &amp; Accessories &gt; Race Tracks</th>\n",
       "      <td>51</td>\n",
       "    </tr>\n",
       "    <tr>\n",
       "      <th>Hobbies &gt; Collectible Figures &amp; Memorabilia &gt; Collectible Figures &amp; Accessories</th>\n",
       "      <td>47</td>\n",
       "    </tr>\n",
       "    <tr>\n",
       "      <th>Jigsaws &amp; Puzzles &gt; 3-D Puzzles</th>\n",
       "      <td>45</td>\n",
       "    </tr>\n",
       "    <tr>\n",
       "      <th>Characters &amp; Brands &gt; Tomy</th>\n",
       "      <td>44</td>\n",
       "    </tr>\n",
       "    <tr>\n",
       "      <th>Pretend Play &gt; Shops &amp; Accessories</th>\n",
       "      <td>44</td>\n",
       "    </tr>\n",
       "  </tbody>\n",
       "</table>\n",
       "</div>"
      ],
      "text/plain": [
       "                                                    amazon_category_and_sub_category\n",
       "Die-Cast & Toy Vehicles > Toy Vehicles & Access...                               880\n",
       "0                                                                                684\n",
       "Figures & Playsets > Science Fiction & Fantasy                                   483\n",
       "Arts & Crafts > Children's Craft Kits > Bead Ar...                               368\n",
       "Characters & Brands > Disney > Toys                                              346\n",
       "Hobbies > Trading Cards & Accessories > Packs &...                               317\n",
       "Games > Dice & Dice Games                                                        297\n",
       "Party Supplies > Decorations > Balloons                                          293\n",
       "Party Supplies > Banners, Stickers & Confetti >...                               278\n",
       "Games > Card Games                                                               242\n",
       "Puppets & Puppet Theatres > Hand Puppets                                         241\n",
       "Characters & Brands > Star Wars > Toys                                           213\n",
       "Figures & Playsets > Accessories                                                 189\n",
       "Fancy Dress > Accessories > Masks                                                188\n",
       "Dolls & Accessories > Dolls' House Dolls & Acce...                               172\n",
       "Hobbies > Model Trains & Railway Sets > Rail Ve...                               170\n",
       "Fancy Dress > Costumes > Adults                                                  169\n",
       "Dolls & Accessories > Soft Dolls                                                 151\n",
       "Jigsaws & Puzzles > Jigsaws                                                      149\n",
       "Figures & Playsets > Knights & Castles                                           148\n",
       "Arts & Crafts > Paper & Stickers                                                 148\n",
       "Sports Toys & Outdoor > Kites & Flight Toys                                      141\n",
       "Hobbies > Model Building Kits > Tanks                                            140\n",
       "Fancy Dress > Accessories > Temporary Tattoos                                    138\n",
       "Characters & Brands > Hasbro                                                     136\n",
       "Hobbies > Remote Controlled Devices > Parts & A...                               130\n",
       "Die-Cast & Toy Vehicles > Toy Trains & Accessor...                               114\n",
       "Games > Educational Games                                                        113\n",
       "Figures & Playsets > Pirates                                                     104\n",
       "Hobbies > Slot Cars, Race Tracks & Accessories ...                               103\n",
       "Hobbies > Model Trains & Railway Sets > Rail Ve...                                88\n",
       "Games > Chess                                                                     86\n",
       "Die-Cast & Toy Vehicles > Toy Vehicles & Access...                                84\n",
       "Games > Dominoes & Tile Games                                                     84\n",
       "Figures & Playsets > Dinosaurs                                                    82\n",
       "Jigsaws & Puzzles > Brain Teasers                                                 78\n",
       "Sports Toys & Outdoor > Beach Toys > Paddling P...                                77\n",
       "Arts & Crafts > Colouring Pens & Markers                                          75\n",
       "Arts & Crafts > Art Sand                                                          69\n",
       "Games > Trivia & Quiz Games                                                       69\n",
       "Die-Cast & Toy Vehicles > Toy Vehicles & Access...                                67\n",
       "Hobbies > Collectible Figures & Memorabilia > B...                                65\n",
       "Hobbies > Remote Controlled Devices > Helicopte...                                61\n",
       "Arts & Crafts > Children's Craft Kits                                             58\n",
       "Fancy Dress > Accessories > Sets & Kits                                           56\n",
       "Hobbies > Slot Cars, Race Tracks & Accessories ...                                51\n",
       "Hobbies > Collectible Figures & Memorabilia > C...                                47\n",
       "Jigsaws & Puzzles > 3-D Puzzles                                                   45\n",
       "Characters & Brands > Tomy                                                        44\n",
       "Pretend Play > Shops & Accessories                                                44"
      ]
     },
     "execution_count": 27,
     "metadata": {},
     "output_type": "execute_result"
    }
   ],
   "source": [
    "#categories -- now we do not know, how the data were filtered\n",
    "#during the scrape\n",
    "cats = pd.DataFrame(\n",
    "    ecom['amazon_category_and_sub_category'].value_counts())\n",
    "print(cats.count())\n",
    "cats[:50]"
   ]
  },
  {
   "cell_type": "markdown",
   "metadata": {},
   "source": [
    "_It looks like this dataset favors toys. It is possible -- since we do not have the methodology used during scraping availed to us -- that the products have already been filtered for specific categories._"
   ]
  },
  {
   "cell_type": "code",
   "execution_count": 145,
   "metadata": {
    "ExecuteTime": {
     "end_time": "2021-06-11T08:17:43.604552Z",
     "start_time": "2021-06-11T08:17:43.256849Z"
    }
   },
   "outputs": [
    {
     "name": "stdout",
     "output_type": "stream",
     "text": [
      "Top rated categories\n"
     ]
    },
    {
     "data": {
      "text/html": [
       "<div>\n",
       "<style scoped>\n",
       "    .dataframe tbody tr th:only-of-type {\n",
       "        vertical-align: middle;\n",
       "    }\n",
       "\n",
       "    .dataframe tbody tr th {\n",
       "        vertical-align: top;\n",
       "    }\n",
       "\n",
       "    .dataframe thead th {\n",
       "        text-align: right;\n",
       "    }\n",
       "</style>\n",
       "<table border=\"1\" class=\"dataframe\">\n",
       "  <thead>\n",
       "    <tr style=\"text-align: right;\">\n",
       "      <th></th>\n",
       "      <th>star_rating</th>\n",
       "    </tr>\n",
       "    <tr>\n",
       "      <th>category</th>\n",
       "      <th></th>\n",
       "    </tr>\n",
       "  </thead>\n",
       "  <tbody>\n",
       "    <tr>\n",
       "      <th>Sports Toys &amp; Outdoor &gt; Bikes, Trikes &amp; Ride-ons &gt; Children's Bikes</th>\n",
       "      <td>4.9</td>\n",
       "    </tr>\n",
       "    <tr>\n",
       "      <th>Party Supplies &gt; Banners, Stickers &amp; Confetti &gt; Garlands</th>\n",
       "      <td>4.9</td>\n",
       "    </tr>\n",
       "    <tr>\n",
       "      <th>Party Supplies &gt; Banners, Stickers &amp; Confetti &gt; Confetti</th>\n",
       "      <td>4.9</td>\n",
       "    </tr>\n",
       "    <tr>\n",
       "      <th>Hobbies &gt; Slot Cars, Race Tracks &amp; Accessories &gt; Slot Cars</th>\n",
       "      <td>4.9</td>\n",
       "    </tr>\n",
       "    <tr>\n",
       "      <th>Hobbies &gt; Slot Cars, Race Tracks &amp; Accessories &gt; Service &amp; Tuning Parts</th>\n",
       "      <td>4.9</td>\n",
       "    </tr>\n",
       "    <tr>\n",
       "      <th>Hobbies &gt; Model Trains &amp; Railway Sets &gt; Rail Vehicles &gt; Trains</th>\n",
       "      <td>4.9</td>\n",
       "    </tr>\n",
       "    <tr>\n",
       "      <th>Hobbies &gt; Model Building Kits</th>\n",
       "      <td>4.9</td>\n",
       "    </tr>\n",
       "    <tr>\n",
       "      <th>Games &gt; Casino Equipment &gt; Game Layouts &gt; Poker Layouts</th>\n",
       "      <td>4.9</td>\n",
       "    </tr>\n",
       "    <tr>\n",
       "      <th>Games &gt; Casino Equipment &gt; Bingo Equipment</th>\n",
       "      <td>4.9</td>\n",
       "    </tr>\n",
       "    <tr>\n",
       "      <th>Games &gt; Card Games</th>\n",
       "      <td>4.9</td>\n",
       "    </tr>\n",
       "    <tr>\n",
       "      <th>Figures &amp; Playsets &gt; Farm &amp; Animals</th>\n",
       "      <td>4.9</td>\n",
       "    </tr>\n",
       "    <tr>\n",
       "      <th>Cooking &amp; Dining &gt; Kitchen Tools &amp; Gadgets &gt; Barware &gt; Ice Cube Moulds &amp; Trays</th>\n",
       "      <td>4.9</td>\n",
       "    </tr>\n",
       "    <tr>\n",
       "      <th>Characters &amp; Brands &gt; Ravensburger &gt; Games</th>\n",
       "      <td>4.9</td>\n",
       "    </tr>\n",
       "    <tr>\n",
       "      <th>Characters &amp; Brands &gt; Bob the Builder &gt; Toys</th>\n",
       "      <td>4.9</td>\n",
       "    </tr>\n",
       "    <tr>\n",
       "      <th>Baby &amp; Toddler Toys &gt; Rocking Horses</th>\n",
       "      <td>4.9</td>\n",
       "    </tr>\n",
       "  </tbody>\n",
       "</table>\n",
       "</div>"
      ],
      "text/plain": [
       "                                                    star_rating\n",
       "category                                                       \n",
       "Sports Toys & Outdoor > Bikes, Trikes & Ride-on...          4.9\n",
       "Party Supplies > Banners, Stickers & Confetti >...          4.9\n",
       "Party Supplies > Banners, Stickers & Confetti >...          4.9\n",
       "Hobbies > Slot Cars, Race Tracks & Accessories ...          4.9\n",
       "Hobbies > Slot Cars, Race Tracks & Accessories ...          4.9\n",
       "Hobbies > Model Trains & Railway Sets > Rail Ve...          4.9\n",
       "Hobbies > Model Building Kits                               4.9\n",
       "Games > Casino Equipment > Game Layouts > Poker...          4.9\n",
       "Games > Casino Equipment > Bingo Equipment                  4.9\n",
       "Games > Card Games                                          4.9\n",
       "Figures & Playsets > Farm & Animals                         4.9\n",
       "Cooking & Dining > Kitchen Tools & Gadgets > Ba...          4.9\n",
       "Characters & Brands > Ravensburger > Games                  4.9\n",
       "Characters & Brands > Bob the Builder > Toys                4.9\n",
       "Baby & Toddler Toys > Rocking Horses                        4.9"
      ]
     },
     "execution_count": 145,
     "metadata": {},
     "output_type": "execute_result"
    }
   ],
   "source": [
    "#Do certain categories rank higher than others? - SPIDER CHART THIS!\n",
    "q = \"\"\"\n",
    "    SELECT DISTINCT amazon_category_and_sub_category AS category,\n",
    "        average_review_rating AS star_rating\n",
    "           FROM df\n",
    "           WHERE star_rating <> 0\n",
    "           GROUP BY category\n",
    "           ORDER BY star_rating DESC\n",
    "              \n",
    "\"\"\"\n",
    "\n",
    "rating_by_cat = pd.DataFrame(pysqldf(q))\n",
    "\n",
    "print('Top rated categories')\n",
    "rating_by_cat.set_index('category')[:15]"
   ]
  },
  {
   "cell_type": "code",
   "execution_count": 146,
   "metadata": {
    "ExecuteTime": {
     "end_time": "2021-06-11T08:17:49.232553Z",
     "start_time": "2021-06-11T08:17:49.220932Z"
    }
   },
   "outputs": [
    {
     "name": "stdout",
     "output_type": "stream",
     "text": [
      "Lowest rated categories\n"
     ]
    },
    {
     "data": {
      "text/html": [
       "<div>\n",
       "<style scoped>\n",
       "    .dataframe tbody tr th:only-of-type {\n",
       "        vertical-align: middle;\n",
       "    }\n",
       "\n",
       "    .dataframe tbody tr th {\n",
       "        vertical-align: top;\n",
       "    }\n",
       "\n",
       "    .dataframe thead th {\n",
       "        text-align: right;\n",
       "    }\n",
       "</style>\n",
       "<table border=\"1\" class=\"dataframe\">\n",
       "  <thead>\n",
       "    <tr style=\"text-align: right;\">\n",
       "      <th></th>\n",
       "      <th>star_rating</th>\n",
       "    </tr>\n",
       "    <tr>\n",
       "      <th>category</th>\n",
       "      <th></th>\n",
       "    </tr>\n",
       "  </thead>\n",
       "  <tbody>\n",
       "    <tr>\n",
       "      <th>Characters &amp; Brands &gt; Harry Potter &gt; Toys</th>\n",
       "      <td>4.0</td>\n",
       "    </tr>\n",
       "    <tr>\n",
       "      <th>Characters &amp; Brands &gt; Crayola</th>\n",
       "      <td>4.0</td>\n",
       "    </tr>\n",
       "    <tr>\n",
       "      <th>Characters &amp; Brands &gt; Barbie &gt; Barbie Dolls &amp; Accessories</th>\n",
       "      <td>4.0</td>\n",
       "    </tr>\n",
       "    <tr>\n",
       "      <th>Characters &amp; Brands &gt; Barbie</th>\n",
       "      <td>4.0</td>\n",
       "    </tr>\n",
       "    <tr>\n",
       "      <th>Characters &amp; Brands &gt; Action Man &gt; Toys</th>\n",
       "      <td>4.0</td>\n",
       "    </tr>\n",
       "    <tr>\n",
       "      <th>Baby &amp; Toddler Toys &gt; Rattles</th>\n",
       "      <td>4.0</td>\n",
       "    </tr>\n",
       "    <tr>\n",
       "      <th>Baby &amp; Toddler Toys &gt; Pushchair Toys</th>\n",
       "      <td>4.0</td>\n",
       "    </tr>\n",
       "    <tr>\n",
       "      <th>Arts &amp; Crafts &gt; Paper &amp; Stickers</th>\n",
       "      <td>4.0</td>\n",
       "    </tr>\n",
       "    <tr>\n",
       "      <th>Arts &amp; Crafts &gt; Drawing &amp; Painting Supplies &gt; Paints &gt; Poster Paints</th>\n",
       "      <td>4.0</td>\n",
       "    </tr>\n",
       "    <tr>\n",
       "      <th>Arts &amp; Crafts &gt; Doll Making</th>\n",
       "      <td>4.0</td>\n",
       "    </tr>\n",
       "    <tr>\n",
       "      <th>Arts &amp; Crafts &gt; Colouring Pens &amp; Markers</th>\n",
       "      <td>4.0</td>\n",
       "    </tr>\n",
       "    <tr>\n",
       "      <th>Arts &amp; Crafts &gt; Children's Craft Kits &gt; Bead Art &amp; Jewellery-Making</th>\n",
       "      <td>4.0</td>\n",
       "    </tr>\n",
       "    <tr>\n",
       "      <th>Arts &amp; Crafts &gt; Children's Chalk</th>\n",
       "      <td>4.0</td>\n",
       "    </tr>\n",
       "    <tr>\n",
       "      <th>Electronic Toys &gt; Robots</th>\n",
       "      <td>3.0</td>\n",
       "    </tr>\n",
       "    <tr>\n",
       "      <th>Die-Cast &amp; Toy Vehicles &gt; Toy Vehicles &amp; Accessories &gt; Scaled Models &gt; Trains</th>\n",
       "      <td>3.0</td>\n",
       "    </tr>\n",
       "  </tbody>\n",
       "</table>\n",
       "</div>"
      ],
      "text/plain": [
       "                                                    star_rating\n",
       "category                                                       \n",
       "Characters & Brands > Harry Potter > Toys                   4.0\n",
       "Characters & Brands > Crayola                               4.0\n",
       "Characters & Brands > Barbie > Barbie Dolls & A...          4.0\n",
       "Characters & Brands > Barbie                                4.0\n",
       "Characters & Brands > Action Man > Toys                     4.0\n",
       "Baby & Toddler Toys > Rattles                               4.0\n",
       "Baby & Toddler Toys > Pushchair Toys                        4.0\n",
       "Arts & Crafts > Paper & Stickers                            4.0\n",
       "Arts & Crafts > Drawing & Painting Supplies > P...          4.0\n",
       "Arts & Crafts > Doll Making                                 4.0\n",
       "Arts & Crafts > Colouring Pens & Markers                    4.0\n",
       "Arts & Crafts > Children's Craft Kits > Bead Ar...          4.0\n",
       "Arts & Crafts > Children's Chalk                            4.0\n",
       "Electronic Toys > Robots                                    3.0\n",
       "Die-Cast & Toy Vehicles > Toy Vehicles & Access...          3.0"
      ]
     },
     "execution_count": 146,
     "metadata": {},
     "output_type": "execute_result"
    }
   ],
   "source": [
    "print('Lowest rated categories')\n",
    "rating_by_cat.set_index('category').tail(15)"
   ]
  },
  {
   "cell_type": "markdown",
   "metadata": {},
   "source": [
    "### Manufacturers"
   ]
  },
  {
   "cell_type": "code",
   "execution_count": 28,
   "metadata": {
    "ExecuteTime": {
     "end_time": "2021-06-11T00:21:49.573358Z",
     "start_time": "2021-06-11T00:21:49.491115Z"
    },
    "scrolled": true
   },
   "outputs": [
    {
     "name": "stdout",
     "output_type": "stream",
     "text": [
      "manufacturer    2646\n",
      "dtype: int64\n"
     ]
    },
    {
     "data": {
      "text/html": [
       "<div>\n",
       "<style scoped>\n",
       "    .dataframe tbody tr th:only-of-type {\n",
       "        vertical-align: middle;\n",
       "    }\n",
       "\n",
       "    .dataframe tbody tr th {\n",
       "        vertical-align: top;\n",
       "    }\n",
       "\n",
       "    .dataframe thead th {\n",
       "        text-align: right;\n",
       "    }\n",
       "</style>\n",
       "<table border=\"1\" class=\"dataframe\">\n",
       "  <thead>\n",
       "    <tr style=\"text-align: right;\">\n",
       "      <th></th>\n",
       "      <th>manufacturer</th>\n",
       "    </tr>\n",
       "  </thead>\n",
       "  <tbody>\n",
       "    <tr>\n",
       "      <th>LEGO</th>\n",
       "      <td>171</td>\n",
       "    </tr>\n",
       "    <tr>\n",
       "      <th>Disney</th>\n",
       "      <td>167</td>\n",
       "    </tr>\n",
       "    <tr>\n",
       "      <th>Oxford Diecast</th>\n",
       "      <td>156</td>\n",
       "    </tr>\n",
       "    <tr>\n",
       "      <th>Playmobil</th>\n",
       "      <td>144</td>\n",
       "    </tr>\n",
       "    <tr>\n",
       "      <th>Star Wars</th>\n",
       "      <td>120</td>\n",
       "    </tr>\n",
       "    <tr>\n",
       "      <th>Mattel</th>\n",
       "      <td>114</td>\n",
       "    </tr>\n",
       "    <tr>\n",
       "      <th>Hasbro</th>\n",
       "      <td>110</td>\n",
       "    </tr>\n",
       "    <tr>\n",
       "      <th>The Puppet Company</th>\n",
       "      <td>109</td>\n",
       "    </tr>\n",
       "    <tr>\n",
       "      <th>MyTinyWorld</th>\n",
       "      <td>93</td>\n",
       "    </tr>\n",
       "    <tr>\n",
       "      <th>Corgi</th>\n",
       "      <td>90</td>\n",
       "    </tr>\n",
       "    <tr>\n",
       "      <th>Hornby</th>\n",
       "      <td>87</td>\n",
       "    </tr>\n",
       "    <tr>\n",
       "      <th>Scalextric</th>\n",
       "      <td>76</td>\n",
       "    </tr>\n",
       "    <tr>\n",
       "      <th>Pokémon</th>\n",
       "      <td>69</td>\n",
       "    </tr>\n",
       "    <tr>\n",
       "      <th>Schleich</th>\n",
       "      <td>68</td>\n",
       "    </tr>\n",
       "    <tr>\n",
       "      <th>Amscan</th>\n",
       "      <td>65</td>\n",
       "    </tr>\n",
       "    <tr>\n",
       "      <th>Every-occasion-party-supplies</th>\n",
       "      <td>62</td>\n",
       "    </tr>\n",
       "    <tr>\n",
       "      <th>FunKo</th>\n",
       "      <td>59</td>\n",
       "    </tr>\n",
       "    <tr>\n",
       "      <th>Melissa &amp; Doug</th>\n",
       "      <td>59</td>\n",
       "    </tr>\n",
       "    <tr>\n",
       "      <th>Papo</th>\n",
       "      <td>58</td>\n",
       "    </tr>\n",
       "    <tr>\n",
       "      <th>Ravensburger</th>\n",
       "      <td>56</td>\n",
       "    </tr>\n",
       "    <tr>\n",
       "      <th>Tamiya</th>\n",
       "      <td>56</td>\n",
       "    </tr>\n",
       "    <tr>\n",
       "      <th>Bristol Novelties</th>\n",
       "      <td>53</td>\n",
       "    </tr>\n",
       "    <tr>\n",
       "      <th>Intex</th>\n",
       "      <td>52</td>\n",
       "    </tr>\n",
       "    <tr>\n",
       "      <th>Hot Wheels</th>\n",
       "      <td>50</td>\n",
       "    </tr>\n",
       "    <tr>\n",
       "      <th>Tobar</th>\n",
       "      <td>49</td>\n",
       "    </tr>\n",
       "  </tbody>\n",
       "</table>\n",
       "</div>"
      ],
      "text/plain": [
       "                               manufacturer\n",
       "LEGO                                    171\n",
       "Disney                                  167\n",
       "Oxford Diecast                          156\n",
       "Playmobil                               144\n",
       "Star Wars                               120\n",
       "Mattel                                  114\n",
       "Hasbro                                  110\n",
       "The Puppet Company                      109\n",
       "MyTinyWorld                              93\n",
       "Corgi                                    90\n",
       "Hornby                                   87\n",
       "Scalextric                               76\n",
       "Pokémon                                  69\n",
       "Schleich                                 68\n",
       "Amscan                                   65\n",
       "Every-occasion-party-supplies            62\n",
       "FunKo                                    59\n",
       "Melissa & Doug                           59\n",
       "Papo                                     58\n",
       "Ravensburger                             56\n",
       "Tamiya                                   56\n",
       "Bristol Novelties                        53\n",
       "Intex                                    52\n",
       "Hot Wheels                               50\n",
       "Tobar                                    49"
      ]
     },
     "execution_count": 28,
     "metadata": {},
     "output_type": "execute_result"
    }
   ],
   "source": [
    "#manufs\n",
    "manufs = pd.DataFrame(ecom['manufacturer'].value_counts())\n",
    "print(manufs.count())\n",
    "manufs[:25]"
   ]
  },
  {
   "cell_type": "markdown",
   "metadata": {},
   "source": [
    "_As with categories, we see a predominance / prepondrance of gaming items here._"
   ]
  },
  {
   "cell_type": "markdown",
   "metadata": {},
   "source": [
    "### Price"
   ]
  },
  {
   "cell_type": "code",
   "execution_count": 120,
   "metadata": {
    "ExecuteTime": {
     "end_time": "2021-06-11T07:21:39.740096Z",
     "start_time": "2021-06-11T07:21:38.987917Z"
    }
   },
   "outputs": [
    {
     "data": {
      "image/png": "[encoded data removed]",
      "text/plain": [
       "<Figure size 432x288 with 1 Axes>"
      ]
     },
     "metadata": {},
     "output_type": "display_data"
    }
   ],
   "source": [
    "#look at price per manuf\n",
    "def pysqldf(q):\n",
    "    #add this to your script if you get tired of calling locals()\n",
    "    return sqldf(q, globals())\n",
    "\n",
    "df = ecom\n",
    "\n",
    "\n",
    "q = \"\"\"\n",
    "    SELECT DISTINCT manufacturer, AVG(median_sale_price) AS avg_price\n",
    "           FROM df\n",
    "           GROUP BY manufacturer\n",
    "           ORDER BY avg_price DESC\n",
    "              \n",
    "\"\"\"\n",
    "\n",
    "price_by_manuf = pd.DataFrame(pysqldf(q))\n",
    "\n",
    "price_by_manuf.set_index(\n",
    "    'manufacturer')[:15].plot(kind = 'barh');\n",
    "plt.title(\n",
    "    'Top 15 priciest Amazon toy/game manufacturers (sample)',\n",
    "size=15)\n",
    "plt.xlabel('Price', size=14);\n",
    "plt.ylabel('Manufacturer', size=14)\n",
    "plt.yticks(size=12, rotation=45);\n",
    "plt.savefig('../assets/top_manuf_by_price.jpg')"
   ]
  },
  {
   "cell_type": "code",
   "execution_count": 29,
   "metadata": {
    "ExecuteTime": {
     "end_time": "2021-06-11T00:21:50.963554Z",
     "start_time": "2021-06-11T00:21:49.645662Z"
    },
    "scrolled": true
   },
   "outputs": [
    {
     "data": {
      "image/png": "[encoded data removed]",
      "text/plain": [
       "<Figure size 864x576 with 1 Axes>"
      ]
     },
     "metadata": {},
     "output_type": "display_data"
    }
   ],
   "source": [
    "#price dist -- although might be more meaningful to do per category or manuf\n",
    "plt.figure(figsize=(12,8))\n",
    "ecom['price'][:150].plot(kind='box');\n",
    "plt.xticks([]);\n",
    "plt.ylabel('Price', size = 14)\n",
    "plt.yticks(size=12)\n",
    "plt.xlabel('Density = concentration of products', size=14)\n",
    "plt.title('Price distribution of a random sample of Amazon items (in BP)', size=15);\n",
    "plt.savefig('../assets/price_concentrate.jpg')"
   ]
  },
  {
   "cell_type": "markdown",
   "metadata": {},
   "source": [
    "### New vs used items\n",
    "\n",
    "NOTE: this is the number of product listings that show at least one new and at least one used product."
   ]
  },
  {
   "cell_type": "code",
   "execution_count": 31,
   "metadata": {
    "ExecuteTime": {
     "end_time": "2021-06-11T00:21:51.345117Z",
     "start_time": "2021-06-11T00:21:51.132320Z"
    }
   },
   "outputs": [
    {
     "name": "stdout",
     "output_type": "stream",
     "text": [
      "There are 7309 new items sold and 161 used\n"
     ]
    }
   ],
   "source": [
    "ecom['number_available_in_stock'].value_counts()[:10]\n",
    "#replace w/ a search for ~like new, ~like used, and then get a count: use `string.find()`\n",
    "\n",
    "#Gwen: use `str.contains()` rather than `str.find`, which looks for index\n",
    "\n",
    "new = ecom['number_available_in_stock'].str.contains('new').sum()\n",
    "used = ecom['number_available_in_stock'].str.contains('used').sum()\n",
    "\n",
    "print(f'There are {new} new items sold and {used} used')"
   ]
  },
  {
   "cell_type": "code",
   "execution_count": 32,
   "metadata": {
    "ExecuteTime": {
     "end_time": "2021-06-11T00:21:51.359463Z",
     "start_time": "2021-06-11T00:21:51.349650Z"
    }
   },
   "outputs": [],
   "source": [
    "#new vs used (once new / used are split)\n",
    "#sns.displot(data=ecom, x='number_of_reviews', kde=True, hue=''); #fill in w/ new vs used"
   ]
  },
  {
   "cell_type": "markdown",
   "metadata": {},
   "source": [
    "### Sellers"
   ]
  },
  {
   "cell_type": "code",
   "execution_count": 33,
   "metadata": {
    "ExecuteTime": {
     "end_time": "2021-06-11T00:21:51.534246Z",
     "start_time": "2021-06-11T00:21:51.365978Z"
    },
    "scrolled": true
   },
   "outputs": [
    {
     "data": {
      "text/html": [
       "<div>\n",
       "<style scoped>\n",
       "    .dataframe tbody tr th:only-of-type {\n",
       "        vertical-align: middle;\n",
       "    }\n",
       "\n",
       "    .dataframe tbody tr th {\n",
       "        vertical-align: top;\n",
       "    }\n",
       "\n",
       "    .dataframe thead th {\n",
       "        text-align: right;\n",
       "    }\n",
       "</style>\n",
       "<table border=\"1\" class=\"dataframe\">\n",
       "  <thead>\n",
       "    <tr style=\"text-align: right;\">\n",
       "      <th></th>\n",
       "      <th>uniq_id</th>\n",
       "      <th>product_name</th>\n",
       "      <th>manufacturer</th>\n",
       "      <th>price</th>\n",
       "      <th>number_available_in_stock</th>\n",
       "      <th>number_of_reviews</th>\n",
       "      <th>number_of_answered_questions</th>\n",
       "      <th>average_review_rating</th>\n",
       "      <th>amazon_category_and_sub_category</th>\n",
       "      <th>customers_who_bought_this_item_also_bought</th>\n",
       "      <th>description</th>\n",
       "      <th>product_information</th>\n",
       "      <th>product_description</th>\n",
       "      <th>items_customers_buy_after_viewing_this_item</th>\n",
       "      <th>customer_questions_and_answers</th>\n",
       "      <th>customer_reviews</th>\n",
       "      <th>median_sale_price</th>\n",
       "      <th>review_to_q_ratio</th>\n",
       "    </tr>\n",
       "    <tr>\n",
       "      <th>sellers</th>\n",
       "      <th></th>\n",
       "      <th></th>\n",
       "      <th></th>\n",
       "      <th></th>\n",
       "      <th></th>\n",
       "      <th></th>\n",
       "      <th></th>\n",
       "      <th></th>\n",
       "      <th></th>\n",
       "      <th></th>\n",
       "      <th></th>\n",
       "      <th></th>\n",
       "      <th></th>\n",
       "      <th></th>\n",
       "      <th></th>\n",
       "      <th></th>\n",
       "      <th></th>\n",
       "      <th></th>\n",
       "    </tr>\n",
       "  </thead>\n",
       "  <tbody>\n",
       "    <tr>\n",
       "      <th>0</th>\n",
       "      <td>3080</td>\n",
       "      <td>3080</td>\n",
       "      <td>3080</td>\n",
       "      <td>3080</td>\n",
       "      <td>3080</td>\n",
       "      <td>3080</td>\n",
       "      <td>3080</td>\n",
       "      <td>3080</td>\n",
       "      <td>3080</td>\n",
       "      <td>3080</td>\n",
       "      <td>3080</td>\n",
       "      <td>3080</td>\n",
       "      <td>3080</td>\n",
       "      <td>3080</td>\n",
       "      <td>3080</td>\n",
       "      <td>3080</td>\n",
       "      <td>3080</td>\n",
       "      <td>3080</td>\n",
       "    </tr>\n",
       "    <tr>\n",
       "      <th>{\"seller\"=&gt;[{\"Seller_name_1\"=&gt;\"**Steves Collectables**Fast Dispatch**UK Seller**\", \"Seller_price_1\"=&gt;\"£0.38\"}, {\"Seller_name_2\"=&gt;\"M and N Media US\", \"Seller_price_2\"=&gt;\"£48.97\"}]}</th>\n",
       "      <td>1</td>\n",
       "      <td>1</td>\n",
       "      <td>1</td>\n",
       "      <td>1</td>\n",
       "      <td>1</td>\n",
       "      <td>1</td>\n",
       "      <td>1</td>\n",
       "      <td>1</td>\n",
       "      <td>1</td>\n",
       "      <td>1</td>\n",
       "      <td>1</td>\n",
       "      <td>1</td>\n",
       "      <td>1</td>\n",
       "      <td>1</td>\n",
       "      <td>1</td>\n",
       "      <td>1</td>\n",
       "      <td>1</td>\n",
       "      <td>1</td>\n",
       "    </tr>\n",
       "    <tr>\n",
       "      <th>{\"seller\"=&gt;[{\"Seller_name_1\"=&gt;\"**Steves Collectables**Fast Dispatch**UK Seller**\", \"Seller_price_1\"=&gt;\"£1.95\"}, {\"Seller_name_2\"=&gt;\"Amazon.co.uk\", \"Seller_price_2\"=&gt;\"£6.99\"}, {\"Seller_name_3\"=&gt;\"a1 Toys\", \"Seller_price_3\"=&gt;\"£11.32\"}, {\"Seller_name_4\"=&gt;\"Beanie Games\", \"Seller_price_4\"=&gt;\"£6.99\"}]}</th>\n",
       "      <td>1</td>\n",
       "      <td>1</td>\n",
       "      <td>1</td>\n",
       "      <td>1</td>\n",
       "      <td>1</td>\n",
       "      <td>1</td>\n",
       "      <td>1</td>\n",
       "      <td>1</td>\n",
       "      <td>1</td>\n",
       "      <td>1</td>\n",
       "      <td>1</td>\n",
       "      <td>1</td>\n",
       "      <td>1</td>\n",
       "      <td>1</td>\n",
       "      <td>1</td>\n",
       "      <td>1</td>\n",
       "      <td>1</td>\n",
       "      <td>1</td>\n",
       "    </tr>\n",
       "    <tr>\n",
       "      <th>{\"seller\"=&gt;[{\"Seller_name_1\"=&gt;\"**Steves Collectables**Fast Dispatch**UK Seller**\", \"Seller_price_1\"=&gt;\"£10.34\"}, {\"Seller_name_2\"=&gt;\"ARGOSYTOYS home delivery service UK and Worldwide. Established 1947.\", \"Seller_price_2\"=&gt;\"£14.97\"}, {\"Seller_name_3\"=&gt;\"DALY store\", \"Seller_price_3\"=&gt;\"£52.95\"}]}</th>\n",
       "      <td>1</td>\n",
       "      <td>1</td>\n",
       "      <td>1</td>\n",
       "      <td>1</td>\n",
       "      <td>1</td>\n",
       "      <td>1</td>\n",
       "      <td>1</td>\n",
       "      <td>1</td>\n",
       "      <td>1</td>\n",
       "      <td>1</td>\n",
       "      <td>1</td>\n",
       "      <td>1</td>\n",
       "      <td>1</td>\n",
       "      <td>1</td>\n",
       "      <td>1</td>\n",
       "      <td>1</td>\n",
       "      <td>1</td>\n",
       "      <td>1</td>\n",
       "    </tr>\n",
       "    <tr>\n",
       "      <th>{\"seller\"=&gt;[{\"Seller_name_1\"=&gt;\"**Steves Collectables**Fast Dispatch**UK Seller**\", \"Seller_price_1\"=&gt;\"£12.95\"}, {\"Seller_name_2\"=&gt;\"Firestorm Cards\", \"Seller_price_2\"=&gt;\"£21.99\"}, {\"Seller_name_3\"=&gt;\"M and N Media US\", \"Seller_price_3\"=&gt;\"£23.54\"}]}</th>\n",
       "      <td>1</td>\n",
       "      <td>1</td>\n",
       "      <td>1</td>\n",
       "      <td>1</td>\n",
       "      <td>1</td>\n",
       "      <td>1</td>\n",
       "      <td>1</td>\n",
       "      <td>1</td>\n",
       "      <td>1</td>\n",
       "      <td>1</td>\n",
       "      <td>1</td>\n",
       "      <td>1</td>\n",
       "      <td>1</td>\n",
       "      <td>1</td>\n",
       "      <td>1</td>\n",
       "      <td>1</td>\n",
       "      <td>1</td>\n",
       "      <td>1</td>\n",
       "    </tr>\n",
       "    <tr>\n",
       "      <th>...</th>\n",
       "      <td>...</td>\n",
       "      <td>...</td>\n",
       "      <td>...</td>\n",
       "      <td>...</td>\n",
       "      <td>...</td>\n",
       "      <td>...</td>\n",
       "      <td>...</td>\n",
       "      <td>...</td>\n",
       "      <td>...</td>\n",
       "      <td>...</td>\n",
       "      <td>...</td>\n",
       "      <td>...</td>\n",
       "      <td>...</td>\n",
       "      <td>...</td>\n",
       "      <td>...</td>\n",
       "      <td>...</td>\n",
       "      <td>...</td>\n",
       "      <td>...</td>\n",
       "    </tr>\n",
       "    <tr>\n",
       "      <th>{\"seller\"=&gt;{\"Seller_name_1\"=&gt;\"verkauf1\", \"Seller_price_1\"=&gt;\"£69.99\"}}</th>\n",
       "      <td>1</td>\n",
       "      <td>1</td>\n",
       "      <td>1</td>\n",
       "      <td>1</td>\n",
       "      <td>1</td>\n",
       "      <td>1</td>\n",
       "      <td>1</td>\n",
       "      <td>1</td>\n",
       "      <td>1</td>\n",
       "      <td>1</td>\n",
       "      <td>1</td>\n",
       "      <td>1</td>\n",
       "      <td>1</td>\n",
       "      <td>1</td>\n",
       "      <td>1</td>\n",
       "      <td>1</td>\n",
       "      <td>1</td>\n",
       "      <td>1</td>\n",
       "    </tr>\n",
       "    <tr>\n",
       "      <th>{\"seller\"=&gt;{\"Seller_name_1\"=&gt;\"verkauf1\", \"Seller_price_1\"=&gt;\"£74.99\"}}</th>\n",
       "      <td>1</td>\n",
       "      <td>1</td>\n",
       "      <td>1</td>\n",
       "      <td>1</td>\n",
       "      <td>1</td>\n",
       "      <td>1</td>\n",
       "      <td>1</td>\n",
       "      <td>1</td>\n",
       "      <td>1</td>\n",
       "      <td>1</td>\n",
       "      <td>1</td>\n",
       "      <td>1</td>\n",
       "      <td>1</td>\n",
       "      <td>1</td>\n",
       "      <td>1</td>\n",
       "      <td>1</td>\n",
       "      <td>1</td>\n",
       "      <td>1</td>\n",
       "    </tr>\n",
       "    <tr>\n",
       "      <th>{\"seller\"=&gt;{\"Seller_name_1\"=&gt;\"verkauf1\", \"Seller_price_1\"=&gt;\"£90.99\"}}</th>\n",
       "      <td>1</td>\n",
       "      <td>1</td>\n",
       "      <td>1</td>\n",
       "      <td>1</td>\n",
       "      <td>1</td>\n",
       "      <td>1</td>\n",
       "      <td>1</td>\n",
       "      <td>1</td>\n",
       "      <td>1</td>\n",
       "      <td>1</td>\n",
       "      <td>1</td>\n",
       "      <td>1</td>\n",
       "      <td>1</td>\n",
       "      <td>1</td>\n",
       "      <td>1</td>\n",
       "      <td>1</td>\n",
       "      <td>1</td>\n",
       "      <td>1</td>\n",
       "    </tr>\n",
       "    <tr>\n",
       "      <th>{\"seller\"=&gt;{\"Seller_name_1\"=&gt;\"wmdservices\", \"Seller_price_1\"=&gt;\"£35.98\"}}</th>\n",
       "      <td>1</td>\n",
       "      <td>1</td>\n",
       "      <td>1</td>\n",
       "      <td>1</td>\n",
       "      <td>1</td>\n",
       "      <td>1</td>\n",
       "      <td>1</td>\n",
       "      <td>1</td>\n",
       "      <td>1</td>\n",
       "      <td>1</td>\n",
       "      <td>1</td>\n",
       "      <td>1</td>\n",
       "      <td>1</td>\n",
       "      <td>1</td>\n",
       "      <td>1</td>\n",
       "      <td>1</td>\n",
       "      <td>1</td>\n",
       "      <td>1</td>\n",
       "    </tr>\n",
       "    <tr>\n",
       "      <th>{\"seller\"=&gt;{\"Seller_name_1\"=&gt;\"woopcrafts\", \"Seller_price_1\"=&gt;\"£26.00\"}}</th>\n",
       "      <td>1</td>\n",
       "      <td>1</td>\n",
       "      <td>1</td>\n",
       "      <td>1</td>\n",
       "      <td>1</td>\n",
       "      <td>1</td>\n",
       "      <td>1</td>\n",
       "      <td>1</td>\n",
       "      <td>1</td>\n",
       "      <td>1</td>\n",
       "      <td>1</td>\n",
       "      <td>1</td>\n",
       "      <td>1</td>\n",
       "      <td>1</td>\n",
       "      <td>1</td>\n",
       "      <td>1</td>\n",
       "      <td>1</td>\n",
       "      <td>1</td>\n",
       "    </tr>\n",
       "  </tbody>\n",
       "</table>\n",
       "<p>6566 rows × 18 columns</p>\n",
       "</div>"
      ],
      "text/plain": [
       "                                                    uniq_id  product_name  \\\n",
       "sellers                                                                     \n",
       "0                                                      3080          3080   \n",
       "{\"seller\"=>[{\"Seller_name_1\"=>\"**Steves Collect...        1             1   \n",
       "{\"seller\"=>[{\"Seller_name_1\"=>\"**Steves Collect...        1             1   \n",
       "{\"seller\"=>[{\"Seller_name_1\"=>\"**Steves Collect...        1             1   \n",
       "{\"seller\"=>[{\"Seller_name_1\"=>\"**Steves Collect...        1             1   \n",
       "...                                                     ...           ...   \n",
       "{\"seller\"=>{\"Seller_name_1\"=>\"verkauf1\", \"Selle...        1             1   \n",
       "{\"seller\"=>{\"Seller_name_1\"=>\"verkauf1\", \"Selle...        1             1   \n",
       "{\"seller\"=>{\"Seller_name_1\"=>\"verkauf1\", \"Selle...        1             1   \n",
       "{\"seller\"=>{\"Seller_name_1\"=>\"wmdservices\", \"Se...        1             1   \n",
       "{\"seller\"=>{\"Seller_name_1\"=>\"woopcrafts\", \"Sel...        1             1   \n",
       "\n",
       "                                                    manufacturer  price  \\\n",
       "sellers                                                                   \n",
       "0                                                           3080   3080   \n",
       "{\"seller\"=>[{\"Seller_name_1\"=>\"**Steves Collect...             1      1   \n",
       "{\"seller\"=>[{\"Seller_name_1\"=>\"**Steves Collect...             1      1   \n",
       "{\"seller\"=>[{\"Seller_name_1\"=>\"**Steves Collect...             1      1   \n",
       "{\"seller\"=>[{\"Seller_name_1\"=>\"**Steves Collect...             1      1   \n",
       "...                                                          ...    ...   \n",
       "{\"seller\"=>{\"Seller_name_1\"=>\"verkauf1\", \"Selle...             1      1   \n",
       "{\"seller\"=>{\"Seller_name_1\"=>\"verkauf1\", \"Selle...             1      1   \n",
       "{\"seller\"=>{\"Seller_name_1\"=>\"verkauf1\", \"Selle...             1      1   \n",
       "{\"seller\"=>{\"Seller_name_1\"=>\"wmdservices\", \"Se...             1      1   \n",
       "{\"seller\"=>{\"Seller_name_1\"=>\"woopcrafts\", \"Sel...             1      1   \n",
       "\n",
       "                                                    number_available_in_stock  \\\n",
       "sellers                                                                         \n",
       "0                                                                        3080   \n",
       "{\"seller\"=>[{\"Seller_name_1\"=>\"**Steves Collect...                          1   \n",
       "{\"seller\"=>[{\"Seller_name_1\"=>\"**Steves Collect...                          1   \n",
       "{\"seller\"=>[{\"Seller_name_1\"=>\"**Steves Collect...                          1   \n",
       "{\"seller\"=>[{\"Seller_name_1\"=>\"**Steves Collect...                          1   \n",
       "...                                                                       ...   \n",
       "{\"seller\"=>{\"Seller_name_1\"=>\"verkauf1\", \"Selle...                          1   \n",
       "{\"seller\"=>{\"Seller_name_1\"=>\"verkauf1\", \"Selle...                          1   \n",
       "{\"seller\"=>{\"Seller_name_1\"=>\"verkauf1\", \"Selle...                          1   \n",
       "{\"seller\"=>{\"Seller_name_1\"=>\"wmdservices\", \"Se...                          1   \n",
       "{\"seller\"=>{\"Seller_name_1\"=>\"woopcrafts\", \"Sel...                          1   \n",
       "\n",
       "                                                    number_of_reviews  \\\n",
       "sellers                                                                 \n",
       "0                                                                3080   \n",
       "{\"seller\"=>[{\"Seller_name_1\"=>\"**Steves Collect...                  1   \n",
       "{\"seller\"=>[{\"Seller_name_1\"=>\"**Steves Collect...                  1   \n",
       "{\"seller\"=>[{\"Seller_name_1\"=>\"**Steves Collect...                  1   \n",
       "{\"seller\"=>[{\"Seller_name_1\"=>\"**Steves Collect...                  1   \n",
       "...                                                               ...   \n",
       "{\"seller\"=>{\"Seller_name_1\"=>\"verkauf1\", \"Selle...                  1   \n",
       "{\"seller\"=>{\"Seller_name_1\"=>\"verkauf1\", \"Selle...                  1   \n",
       "{\"seller\"=>{\"Seller_name_1\"=>\"verkauf1\", \"Selle...                  1   \n",
       "{\"seller\"=>{\"Seller_name_1\"=>\"wmdservices\", \"Se...                  1   \n",
       "{\"seller\"=>{\"Seller_name_1\"=>\"woopcrafts\", \"Sel...                  1   \n",
       "\n",
       "                                                    number_of_answered_questions  \\\n",
       "sellers                                                                            \n",
       "0                                                                           3080   \n",
       "{\"seller\"=>[{\"Seller_name_1\"=>\"**Steves Collect...                             1   \n",
       "{\"seller\"=>[{\"Seller_name_1\"=>\"**Steves Collect...                             1   \n",
       "{\"seller\"=>[{\"Seller_name_1\"=>\"**Steves Collect...                             1   \n",
       "{\"seller\"=>[{\"Seller_name_1\"=>\"**Steves Collect...                             1   \n",
       "...                                                                          ...   \n",
       "{\"seller\"=>{\"Seller_name_1\"=>\"verkauf1\", \"Selle...                             1   \n",
       "{\"seller\"=>{\"Seller_name_1\"=>\"verkauf1\", \"Selle...                             1   \n",
       "{\"seller\"=>{\"Seller_name_1\"=>\"verkauf1\", \"Selle...                             1   \n",
       "{\"seller\"=>{\"Seller_name_1\"=>\"wmdservices\", \"Se...                             1   \n",
       "{\"seller\"=>{\"Seller_name_1\"=>\"woopcrafts\", \"Sel...                             1   \n",
       "\n",
       "                                                    average_review_rating  \\\n",
       "sellers                                                                     \n",
       "0                                                                    3080   \n",
       "{\"seller\"=>[{\"Seller_name_1\"=>\"**Steves Collect...                      1   \n",
       "{\"seller\"=>[{\"Seller_name_1\"=>\"**Steves Collect...                      1   \n",
       "{\"seller\"=>[{\"Seller_name_1\"=>\"**Steves Collect...                      1   \n",
       "{\"seller\"=>[{\"Seller_name_1\"=>\"**Steves Collect...                      1   \n",
       "...                                                                   ...   \n",
       "{\"seller\"=>{\"Seller_name_1\"=>\"verkauf1\", \"Selle...                      1   \n",
       "{\"seller\"=>{\"Seller_name_1\"=>\"verkauf1\", \"Selle...                      1   \n",
       "{\"seller\"=>{\"Seller_name_1\"=>\"verkauf1\", \"Selle...                      1   \n",
       "{\"seller\"=>{\"Seller_name_1\"=>\"wmdservices\", \"Se...                      1   \n",
       "{\"seller\"=>{\"Seller_name_1\"=>\"woopcrafts\", \"Sel...                      1   \n",
       "\n",
       "                                                    amazon_category_and_sub_category  \\\n",
       "sellers                                                                                \n",
       "0                                                                               3080   \n",
       "{\"seller\"=>[{\"Seller_name_1\"=>\"**Steves Collect...                                 1   \n",
       "{\"seller\"=>[{\"Seller_name_1\"=>\"**Steves Collect...                                 1   \n",
       "{\"seller\"=>[{\"Seller_name_1\"=>\"**Steves Collect...                                 1   \n",
       "{\"seller\"=>[{\"Seller_name_1\"=>\"**Steves Collect...                                 1   \n",
       "...                                                                              ...   \n",
       "{\"seller\"=>{\"Seller_name_1\"=>\"verkauf1\", \"Selle...                                 1   \n",
       "{\"seller\"=>{\"Seller_name_1\"=>\"verkauf1\", \"Selle...                                 1   \n",
       "{\"seller\"=>{\"Seller_name_1\"=>\"verkauf1\", \"Selle...                                 1   \n",
       "{\"seller\"=>{\"Seller_name_1\"=>\"wmdservices\", \"Se...                                 1   \n",
       "{\"seller\"=>{\"Seller_name_1\"=>\"woopcrafts\", \"Sel...                                 1   \n",
       "\n",
       "                                                    customers_who_bought_this_item_also_bought  \\\n",
       "sellers                                                                                          \n",
       "0                                                                                         3080   \n",
       "{\"seller\"=>[{\"Seller_name_1\"=>\"**Steves Collect...                                           1   \n",
       "{\"seller\"=>[{\"Seller_name_1\"=>\"**Steves Collect...                                           1   \n",
       "{\"seller\"=>[{\"Seller_name_1\"=>\"**Steves Collect...                                           1   \n",
       "{\"seller\"=>[{\"Seller_name_1\"=>\"**Steves Collect...                                           1   \n",
       "...                                                                                        ...   \n",
       "{\"seller\"=>{\"Seller_name_1\"=>\"verkauf1\", \"Selle...                                           1   \n",
       "{\"seller\"=>{\"Seller_name_1\"=>\"verkauf1\", \"Selle...                                           1   \n",
       "{\"seller\"=>{\"Seller_name_1\"=>\"verkauf1\", \"Selle...                                           1   \n",
       "{\"seller\"=>{\"Seller_name_1\"=>\"wmdservices\", \"Se...                                           1   \n",
       "{\"seller\"=>{\"Seller_name_1\"=>\"woopcrafts\", \"Sel...                                           1   \n",
       "\n",
       "                                                    description  \\\n",
       "sellers                                                           \n",
       "0                                                          3080   \n",
       "{\"seller\"=>[{\"Seller_name_1\"=>\"**Steves Collect...            1   \n",
       "{\"seller\"=>[{\"Seller_name_1\"=>\"**Steves Collect...            1   \n",
       "{\"seller\"=>[{\"Seller_name_1\"=>\"**Steves Collect...            1   \n",
       "{\"seller\"=>[{\"Seller_name_1\"=>\"**Steves Collect...            1   \n",
       "...                                                         ...   \n",
       "{\"seller\"=>{\"Seller_name_1\"=>\"verkauf1\", \"Selle...            1   \n",
       "{\"seller\"=>{\"Seller_name_1\"=>\"verkauf1\", \"Selle...            1   \n",
       "{\"seller\"=>{\"Seller_name_1\"=>\"verkauf1\", \"Selle...            1   \n",
       "{\"seller\"=>{\"Seller_name_1\"=>\"wmdservices\", \"Se...            1   \n",
       "{\"seller\"=>{\"Seller_name_1\"=>\"woopcrafts\", \"Sel...            1   \n",
       "\n",
       "                                                    product_information  \\\n",
       "sellers                                                                   \n",
       "0                                                                  3080   \n",
       "{\"seller\"=>[{\"Seller_name_1\"=>\"**Steves Collect...                    1   \n",
       "{\"seller\"=>[{\"Seller_name_1\"=>\"**Steves Collect...                    1   \n",
       "{\"seller\"=>[{\"Seller_name_1\"=>\"**Steves Collect...                    1   \n",
       "{\"seller\"=>[{\"Seller_name_1\"=>\"**Steves Collect...                    1   \n",
       "...                                                                 ...   \n",
       "{\"seller\"=>{\"Seller_name_1\"=>\"verkauf1\", \"Selle...                    1   \n",
       "{\"seller\"=>{\"Seller_name_1\"=>\"verkauf1\", \"Selle...                    1   \n",
       "{\"seller\"=>{\"Seller_name_1\"=>\"verkauf1\", \"Selle...                    1   \n",
       "{\"seller\"=>{\"Seller_name_1\"=>\"wmdservices\", \"Se...                    1   \n",
       "{\"seller\"=>{\"Seller_name_1\"=>\"woopcrafts\", \"Sel...                    1   \n",
       "\n",
       "                                                    product_description  \\\n",
       "sellers                                                                   \n",
       "0                                                                  3080   \n",
       "{\"seller\"=>[{\"Seller_name_1\"=>\"**Steves Collect...                    1   \n",
       "{\"seller\"=>[{\"Seller_name_1\"=>\"**Steves Collect...                    1   \n",
       "{\"seller\"=>[{\"Seller_name_1\"=>\"**Steves Collect...                    1   \n",
       "{\"seller\"=>[{\"Seller_name_1\"=>\"**Steves Collect...                    1   \n",
       "...                                                                 ...   \n",
       "{\"seller\"=>{\"Seller_name_1\"=>\"verkauf1\", \"Selle...                    1   \n",
       "{\"seller\"=>{\"Seller_name_1\"=>\"verkauf1\", \"Selle...                    1   \n",
       "{\"seller\"=>{\"Seller_name_1\"=>\"verkauf1\", \"Selle...                    1   \n",
       "{\"seller\"=>{\"Seller_name_1\"=>\"wmdservices\", \"Se...                    1   \n",
       "{\"seller\"=>{\"Seller_name_1\"=>\"woopcrafts\", \"Sel...                    1   \n",
       "\n",
       "                                                    items_customers_buy_after_viewing_this_item  \\\n",
       "sellers                                                                                           \n",
       "0                                                                                          3080   \n",
       "{\"seller\"=>[{\"Seller_name_1\"=>\"**Steves Collect...                                            1   \n",
       "{\"seller\"=>[{\"Seller_name_1\"=>\"**Steves Collect...                                            1   \n",
       "{\"seller\"=>[{\"Seller_name_1\"=>\"**Steves Collect...                                            1   \n",
       "{\"seller\"=>[{\"Seller_name_1\"=>\"**Steves Collect...                                            1   \n",
       "...                                                                                         ...   \n",
       "{\"seller\"=>{\"Seller_name_1\"=>\"verkauf1\", \"Selle...                                            1   \n",
       "{\"seller\"=>{\"Seller_name_1\"=>\"verkauf1\", \"Selle...                                            1   \n",
       "{\"seller\"=>{\"Seller_name_1\"=>\"verkauf1\", \"Selle...                                            1   \n",
       "{\"seller\"=>{\"Seller_name_1\"=>\"wmdservices\", \"Se...                                            1   \n",
       "{\"seller\"=>{\"Seller_name_1\"=>\"woopcrafts\", \"Sel...                                            1   \n",
       "\n",
       "                                                    customer_questions_and_answers  \\\n",
       "sellers                                                                              \n",
       "0                                                                             3080   \n",
       "{\"seller\"=>[{\"Seller_name_1\"=>\"**Steves Collect...                               1   \n",
       "{\"seller\"=>[{\"Seller_name_1\"=>\"**Steves Collect...                               1   \n",
       "{\"seller\"=>[{\"Seller_name_1\"=>\"**Steves Collect...                               1   \n",
       "{\"seller\"=>[{\"Seller_name_1\"=>\"**Steves Collect...                               1   \n",
       "...                                                                            ...   \n",
       "{\"seller\"=>{\"Seller_name_1\"=>\"verkauf1\", \"Selle...                               1   \n",
       "{\"seller\"=>{\"Seller_name_1\"=>\"verkauf1\", \"Selle...                               1   \n",
       "{\"seller\"=>{\"Seller_name_1\"=>\"verkauf1\", \"Selle...                               1   \n",
       "{\"seller\"=>{\"Seller_name_1\"=>\"wmdservices\", \"Se...                               1   \n",
       "{\"seller\"=>{\"Seller_name_1\"=>\"woopcrafts\", \"Sel...                               1   \n",
       "\n",
       "                                                    customer_reviews  \\\n",
       "sellers                                                                \n",
       "0                                                               3080   \n",
       "{\"seller\"=>[{\"Seller_name_1\"=>\"**Steves Collect...                 1   \n",
       "{\"seller\"=>[{\"Seller_name_1\"=>\"**Steves Collect...                 1   \n",
       "{\"seller\"=>[{\"Seller_name_1\"=>\"**Steves Collect...                 1   \n",
       "{\"seller\"=>[{\"Seller_name_1\"=>\"**Steves Collect...                 1   \n",
       "...                                                              ...   \n",
       "{\"seller\"=>{\"Seller_name_1\"=>\"verkauf1\", \"Selle...                 1   \n",
       "{\"seller\"=>{\"Seller_name_1\"=>\"verkauf1\", \"Selle...                 1   \n",
       "{\"seller\"=>{\"Seller_name_1\"=>\"verkauf1\", \"Selle...                 1   \n",
       "{\"seller\"=>{\"Seller_name_1\"=>\"wmdservices\", \"Se...                 1   \n",
       "{\"seller\"=>{\"Seller_name_1\"=>\"woopcrafts\", \"Sel...                 1   \n",
       "\n",
       "                                                    median_sale_price  \\\n",
       "sellers                                                                 \n",
       "0                                                                3080   \n",
       "{\"seller\"=>[{\"Seller_name_1\"=>\"**Steves Collect...                  1   \n",
       "{\"seller\"=>[{\"Seller_name_1\"=>\"**Steves Collect...                  1   \n",
       "{\"seller\"=>[{\"Seller_name_1\"=>\"**Steves Collect...                  1   \n",
       "{\"seller\"=>[{\"Seller_name_1\"=>\"**Steves Collect...                  1   \n",
       "...                                                               ...   \n",
       "{\"seller\"=>{\"Seller_name_1\"=>\"verkauf1\", \"Selle...                  1   \n",
       "{\"seller\"=>{\"Seller_name_1\"=>\"verkauf1\", \"Selle...                  1   \n",
       "{\"seller\"=>{\"Seller_name_1\"=>\"verkauf1\", \"Selle...                  1   \n",
       "{\"seller\"=>{\"Seller_name_1\"=>\"wmdservices\", \"Se...                  1   \n",
       "{\"seller\"=>{\"Seller_name_1\"=>\"woopcrafts\", \"Sel...                  1   \n",
       "\n",
       "                                                    review_to_q_ratio  \n",
       "sellers                                                                \n",
       "0                                                                3080  \n",
       "{\"seller\"=>[{\"Seller_name_1\"=>\"**Steves Collect...                  1  \n",
       "{\"seller\"=>[{\"Seller_name_1\"=>\"**Steves Collect...                  1  \n",
       "{\"seller\"=>[{\"Seller_name_1\"=>\"**Steves Collect...                  1  \n",
       "{\"seller\"=>[{\"Seller_name_1\"=>\"**Steves Collect...                  1  \n",
       "...                                                               ...  \n",
       "{\"seller\"=>{\"Seller_name_1\"=>\"verkauf1\", \"Selle...                  1  \n",
       "{\"seller\"=>{\"Seller_name_1\"=>\"verkauf1\", \"Selle...                  1  \n",
       "{\"seller\"=>{\"Seller_name_1\"=>\"verkauf1\", \"Selle...                  1  \n",
       "{\"seller\"=>{\"Seller_name_1\"=>\"wmdservices\", \"Se...                  1  \n",
       "{\"seller\"=>{\"Seller_name_1\"=>\"woopcrafts\", \"Sel...                  1  \n",
       "\n",
       "[6566 rows x 18 columns]"
      ]
     },
     "execution_count": 33,
     "metadata": {},
     "output_type": "execute_result"
    }
   ],
   "source": [
    "#count of sellers\n",
    "ecom.groupby(['sellers']).count() #REDO this as a dict comp if desired"
   ]
  },
  {
   "cell_type": "code",
   "execution_count": 34,
   "metadata": {
    "ExecuteTime": {
     "end_time": "2021-06-11T00:21:51.568854Z",
     "start_time": "2021-06-11T00:21:51.548658Z"
    }
   },
   "outputs": [
    {
     "data": {
      "text/plain": [
       "'5'"
      ]
     },
     "execution_count": 34,
     "metadata": {},
     "output_type": "execute_result"
    }
   ],
   "source": [
    "##Gwen's code - number of different sellers for a single product:\n",
    "ecom['sellers'][0].split('Seller_price_')[-1][0]"
   ]
  },
  {
   "cell_type": "code",
   "execution_count": 35,
   "metadata": {
    "ExecuteTime": {
     "end_time": "2021-06-11T00:21:51.701856Z",
     "start_time": "2021-06-11T00:21:51.617016Z"
    }
   },
   "outputs": [
    {
     "data": {
      "text/plain": [
       "[3.42, 0.19, 9.99, 8.0, 37.62]"
      ]
     },
     "execution_count": 35,
     "metadata": {},
     "output_type": "execute_result"
    }
   ],
   "source": [
    "#Gwen's code\n",
    "# all the prices for a single item\n",
    "# map to create column\n",
    "[float(x.split(\n",
    "    '\"')[0].replace(\n",
    "    \"'\",'')) for x in ecom['sellers'][0].split('£')[1:]]"
   ]
  },
  {
   "cell_type": "markdown",
   "metadata": {},
   "source": [
    "_Diff. conditions._"
   ]
  },
  {
   "cell_type": "code",
   "execution_count": 36,
   "metadata": {
    "ExecuteTime": {
     "end_time": "2021-06-11T00:21:51.866545Z",
     "start_time": "2021-06-11T00:21:51.858951Z"
    }
   },
   "outputs": [],
   "source": [
    "#of ratings per seller?"
   ]
  },
  {
   "cell_type": "markdown",
   "metadata": {},
   "source": [
    "### Customers also bought..."
   ]
  },
  {
   "cell_type": "code",
   "execution_count": 37,
   "metadata": {
    "ExecuteTime": {
     "end_time": "2021-06-11T00:21:51.884230Z",
     "start_time": "2021-06-11T00:21:51.870183Z"
    }
   },
   "outputs": [],
   "source": [
    "#whether ratings affect also bought products? but need to extract url..."
   ]
  },
  {
   "cell_type": "markdown",
   "metadata": {},
   "source": [
    "### Relationships"
   ]
  },
  {
   "cell_type": "code",
   "execution_count": 134,
   "metadata": {
    "ExecuteTime": {
     "end_time": "2021-06-11T08:00:15.994504Z",
     "start_time": "2021-06-11T07:59:42.718874Z"
    }
   },
   "outputs": [
    {
     "name": "stderr",
     "output_type": "stream",
     "text": [
      "/opt/anaconda3/lib/python3.8/site-packages/seaborn/distributions.py:306: UserWarning: Dataset has 0 variance; skipping density estimate.\n",
      "  warnings.warn(msg, UserWarning)\n",
      "/opt/anaconda3/lib/python3.8/site-packages/seaborn/distributions.py:306: UserWarning: Dataset has 0 variance; skipping density estimate.\n",
      "  warnings.warn(msg, UserWarning)\n",
      "/opt/anaconda3/lib/python3.8/site-packages/seaborn/distributions.py:306: UserWarning: Dataset has 0 variance; skipping density estimate.\n",
      "  warnings.warn(msg, UserWarning)\n",
      "/opt/anaconda3/lib/python3.8/site-packages/seaborn/distributions.py:306: UserWarning: Dataset has 0 variance; skipping density estimate.\n",
      "  warnings.warn(msg, UserWarning)\n",
      "/opt/anaconda3/lib/python3.8/site-packages/seaborn/distributions.py:306: UserWarning: Dataset has 0 variance; skipping density estimate.\n",
      "  warnings.warn(msg, UserWarning)\n"
     ]
    },
    {
     "data": {
      "image/png": "[encoded data removed]",
      "text/plain": [
       "<Figure size 1009.75x900 with 30 Axes>"
      ]
     },
     "metadata": {},
     "output_type": "display_data"
    }
   ],
   "source": [
    "sns.pairplot(data=ecom, hue ='average_review_rating');\n",
    "plt.title('Relationships between products and ratings')\n",
    "plt.savefig('../assets/pairplot.jpg')"
   ]
  },
  {
   "cell_type": "code",
   "execution_count": 155,
   "metadata": {
    "ExecuteTime": {
     "end_time": "2021-06-11T08:34:46.297403Z",
     "start_time": "2021-06-11T08:34:46.281102Z"
    },
    "scrolled": true
   },
   "outputs": [
    {
     "data": {
      "text/html": [
       "<div>\n",
       "<style scoped>\n",
       "    .dataframe tbody tr th:only-of-type {\n",
       "        vertical-align: middle;\n",
       "    }\n",
       "\n",
       "    .dataframe tbody tr th {\n",
       "        vertical-align: top;\n",
       "    }\n",
       "\n",
       "    .dataframe thead th {\n",
       "        text-align: right;\n",
       "    }\n",
       "</style>\n",
       "<table border=\"1\" class=\"dataframe\">\n",
       "  <thead>\n",
       "    <tr style=\"text-align: right;\">\n",
       "      <th></th>\n",
       "      <th>price</th>\n",
       "      <th>number_of_reviews</th>\n",
       "      <th>number_of_answered_questions</th>\n",
       "      <th>average_review_rating</th>\n",
       "      <th>median_sale_price</th>\n",
       "      <th>review_to_q_ratio</th>\n",
       "    </tr>\n",
       "  </thead>\n",
       "  <tbody>\n",
       "    <tr>\n",
       "      <th>price</th>\n",
       "      <td>1.00</td>\n",
       "      <td>-0.02</td>\n",
       "      <td>0.01</td>\n",
       "      <td>-0.05</td>\n",
       "      <td>0.49</td>\n",
       "      <td>-0.03</td>\n",
       "    </tr>\n",
       "    <tr>\n",
       "      <th>number_of_reviews</th>\n",
       "      <td>-0.02</td>\n",
       "      <td>1.00</td>\n",
       "      <td>0.11</td>\n",
       "      <td>0.24</td>\n",
       "      <td>-0.02</td>\n",
       "      <td>0.82</td>\n",
       "    </tr>\n",
       "    <tr>\n",
       "      <th>number_of_answered_questions</th>\n",
       "      <td>0.01</td>\n",
       "      <td>0.11</td>\n",
       "      <td>1.00</td>\n",
       "      <td>0.04</td>\n",
       "      <td>0.02</td>\n",
       "      <td>-0.05</td>\n",
       "    </tr>\n",
       "    <tr>\n",
       "      <th>average_review_rating</th>\n",
       "      <td>-0.05</td>\n",
       "      <td>0.24</td>\n",
       "      <td>0.04</td>\n",
       "      <td>1.00</td>\n",
       "      <td>-0.02</td>\n",
       "      <td>0.22</td>\n",
       "    </tr>\n",
       "    <tr>\n",
       "      <th>median_sale_price</th>\n",
       "      <td>0.49</td>\n",
       "      <td>-0.02</td>\n",
       "      <td>0.02</td>\n",
       "      <td>-0.02</td>\n",
       "      <td>1.00</td>\n",
       "      <td>-0.03</td>\n",
       "    </tr>\n",
       "    <tr>\n",
       "      <th>review_to_q_ratio</th>\n",
       "      <td>-0.03</td>\n",
       "      <td>0.82</td>\n",
       "      <td>-0.05</td>\n",
       "      <td>0.22</td>\n",
       "      <td>-0.03</td>\n",
       "      <td>1.00</td>\n",
       "    </tr>\n",
       "  </tbody>\n",
       "</table>\n",
       "</div>"
      ],
      "text/plain": [
       "                              price  number_of_reviews  \\\n",
       "price                          1.00              -0.02   \n",
       "number_of_reviews             -0.02               1.00   \n",
       "number_of_answered_questions   0.01               0.11   \n",
       "average_review_rating         -0.05               0.24   \n",
       "median_sale_price              0.49              -0.02   \n",
       "review_to_q_ratio             -0.03               0.82   \n",
       "\n",
       "                              number_of_answered_questions  \\\n",
       "price                                                 0.01   \n",
       "number_of_reviews                                     0.11   \n",
       "number_of_answered_questions                          1.00   \n",
       "average_review_rating                                 0.04   \n",
       "median_sale_price                                     0.02   \n",
       "review_to_q_ratio                                    -0.05   \n",
       "\n",
       "                              average_review_rating  median_sale_price  \\\n",
       "price                                         -0.05               0.49   \n",
       "number_of_reviews                              0.24              -0.02   \n",
       "number_of_answered_questions                   0.04               0.02   \n",
       "average_review_rating                          1.00              -0.02   \n",
       "median_sale_price                             -0.02               1.00   \n",
       "review_to_q_ratio                              0.22              -0.03   \n",
       "\n",
       "                              review_to_q_ratio  \n",
       "price                                     -0.03  \n",
       "number_of_reviews                          0.82  \n",
       "number_of_answered_questions              -0.05  \n",
       "average_review_rating                      0.22  \n",
       "median_sale_price                         -0.03  \n",
       "review_to_q_ratio                          1.00  "
      ]
     },
     "execution_count": 155,
     "metadata": {},
     "output_type": "execute_result"
    }
   ],
   "source": [
    "#corr\n",
    "corr = ecom.corr()\n",
    "corr.round(2)"
   ]
  },
  {
   "cell_type": "code",
   "execution_count": 170,
   "metadata": {
    "ExecuteTime": {
     "end_time": "2021-06-11T08:53:19.384343Z",
     "start_time": "2021-06-11T08:53:18.951649Z"
    }
   },
   "outputs": [
    {
     "data": {
      "image/png": "[encoded data removed]",
      "text/plain": [
       "<Figure size 792x648 with 2 Axes>"
      ]
     },
     "metadata": {},
     "output_type": "display_data"
    }
   ],
   "source": [
    "#corr plot\n",
    "#ref from https://seaborn.pydata.org/examples/many_pairwise_correlations.html\n",
    "\n",
    "sns.set_theme(style=\"white\")\n",
    "\n",
    "# Generate a mask for the upper triangle\n",
    "mask = np.triu(np.ones_like(corr, dtype=bool))\n",
    "\n",
    "# Set up the matplotlib figure\n",
    "f, ax = plt.subplots(figsize=(11, 9))\n",
    "\n",
    "# Generate a custom diverging colormap\n",
    "cmap = sns.diverging_palette(230, 20, as_cmap=True)\n",
    "\n",
    "# Draw the heatmap with the mask and correct aspect ratio\n",
    "sns.heatmap(corr, mask=mask, cmap=cmap, vmax=.3, center=0,\n",
    "            square=True, annot=True, linewidths=.5)\n",
    "\n",
    "plt.title(\n",
    "    'Correlation between the star rating and other product attributes',\n",
    "size = 15);\n",
    "plt.xticks(size=12, rotation=55);\n",
    "plt.yticks(size=12);\n",
    "plt.savefig('../assets/Corr.jpg');"
   ]
  },
  {
   "cell_type": "markdown",
   "metadata": {},
   "source": [
    "## Feature engineering\n",
    "\n",
    "We need to convert things like ratings so that the modeling works correctly.\n",
    "\n",
    "The plan:\n",
    "\n",
    "* The ratings column is our target\n",
    "* We need to categorize manufacturers and / or categories"
   ]
  },
  {
   "cell_type": "code",
   "execution_count": 172,
   "metadata": {
    "ExecuteTime": {
     "end_time": "2021-06-11T09:00:07.797131Z",
     "start_time": "2021-06-11T09:00:07.787776Z"
    }
   },
   "outputs": [
    {
     "data": {
      "text/plain": [
       "(9982, 19)"
      ]
     },
     "execution_count": 172,
     "metadata": {},
     "output_type": "execute_result"
    }
   ],
   "source": [
    "#current shape\n",
    "ecom.shape"
   ]
  },
  {
   "cell_type": "code",
   "execution_count": 39,
   "metadata": {
    "ExecuteTime": {
     "end_time": "2021-06-11T00:21:51.935517Z",
     "start_time": "2021-06-11T00:21:51.932559Z"
    }
   },
   "outputs": [],
   "source": [
    "#one-hot encode manufs and product categories\n",
    "\n",
    "ecom = pd.get_dummies(ecom, columns = [\n",
    "    'manufacturer', #manufs\n",
    "    'amazon_category_and_sub_category' #product categories\n",
    "],drop_first=True)\n",
    "ecom.head().T"
   ]
  },
  {
   "cell_type": "code",
   "execution_count": null,
   "metadata": {},
   "outputs": [],
   "source": [
    "#NOW check shape...\n",
    "ecom.shape"
   ]
  },
  {
   "cell_type": "code",
   "execution_count": 40,
   "metadata": {
    "ExecuteTime": {
     "end_time": "2021-06-11T00:21:51.950075Z",
     "start_time": "2021-06-11T00:21:51.945254Z"
    }
   },
   "outputs": [],
   "source": [
    "#move out new vs. used items into sep. columns (binarize as new_only);\n",
    "#or can merely filter by ..."
   ]
  },
  {
   "cell_type": "markdown",
   "metadata": {},
   "source": [
    "## NLP\n",
    "\n",
    "Open questions:\n",
    "\n",
    "* Sentiment of reviews\n",
    "* Does sentiment correspond to star rating?\n",
    "* Most interesting question bi-grams\n",
    "* Most interesting review bi-grams"
   ]
  },
  {
   "cell_type": "code",
   "execution_count": 41,
   "metadata": {
    "ExecuteTime": {
     "end_time": "2021-06-11T00:21:51.977004Z",
     "start_time": "2021-06-11T00:21:51.966891Z"
    }
   },
   "outputs": [],
   "source": [
    "#vectorize text"
   ]
  },
  {
   "cell_type": "code",
   "execution_count": null,
   "metadata": {},
   "outputs": [],
   "source": [
    "#NOW check shape\n",
    "ecom.shape"
   ]
  },
  {
   "cell_type": "markdown",
   "metadata": {},
   "source": [
    "### Sentiment analysis"
   ]
  },
  {
   "cell_type": "code",
   "execution_count": null,
   "metadata": {},
   "outputs": [],
   "source": []
  },
  {
   "cell_type": "markdown",
   "metadata": {},
   "source": [
    "## Modeling - linear regression"
   ]
  },
  {
   "cell_type": "code",
   "execution_count": 42,
   "metadata": {
    "ExecuteTime": {
     "end_time": "2021-06-11T00:21:51.988367Z",
     "start_time": "2021-06-11T00:21:51.985105Z"
    }
   },
   "outputs": [],
   "source": [
    "#reviews\n",
    "#price\n",
    "#category"
   ]
  },
  {
   "cell_type": "markdown",
   "metadata": {},
   "source": [
    "## Evaluation"
   ]
  },
  {
   "cell_type": "code",
   "execution_count": null,
   "metadata": {},
   "outputs": [],
   "source": []
  },
  {
   "cell_type": "markdown",
   "metadata": {},
   "source": [
    "## Conclusions & next steps"
   ]
  },
  {
   "cell_type": "code",
   "execution_count": null,
   "metadata": {},
   "outputs": [],
   "source": []
  }
 ],
 "metadata": {
  "kernelspec": {
   "display_name": "Python 3",
   "language": "python",
   "name": "python3"
  },
  "language_info": {
   "codemirror_mode": {
    "name": "ipython",
    "version": 3
   },
   "file_extension": ".py",
   "mimetype": "text/x-python",
   "name": "python",
   "nbconvert_exporter": "python",
   "pygments_lexer": "ipython3",
   "version": "3.8.3"
  },
  "toc": {
   "base_numbering": 1,
   "nav_menu": {},
   "number_sections": true,
   "sideBar": true,
   "skip_h1_title": false,
   "title_cell": "Table of Contents",
   "title_sidebar": "Contents",
   "toc_cell": false,
   "toc_position": {
    "height": "calc(100% - 180px)",
    "left": "10px",
    "top": "150px",
    "width": "310.391px"
   },
   "toc_section_display": true,
   "toc_window_display": true
  },
  "varInspector": {
   "cols": {
    "lenName": 16,
    "lenType": 16,
    "lenVar": 40
   },
   "kernels_config": {
    "python": {
     "delete_cmd_postfix": "",
     "delete_cmd_prefix": "del ",
     "library": "var_list.py",
     "varRefreshCmd": "print(var_dic_list())"
    },
    "r": {
     "delete_cmd_postfix": ") ",
     "delete_cmd_prefix": "rm(",
     "library": "var_list.r",
     "varRefreshCmd": "cat(var_dic_list()) "
    }
   },
   "types_to_exclude": [
    "module",
    "function",
    "builtin_function_or_method",
    "instance",
    "_Feature"
   ],
   "window_display": false
  }
 },
 "nbformat": 4,
 "nbformat_minor": 4
}
