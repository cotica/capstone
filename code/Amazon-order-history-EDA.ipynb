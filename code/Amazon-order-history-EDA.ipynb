{
 "cells": [
  {
   "cell_type": "markdown",
   "metadata": {},
   "source": [
    "# Amazon product catalog\n",
    "\n",
    "\n",
    "## Problem scope\n",
    "\n",
    "What do Amazon reviews say about the product, and can reviews be used reliably to predict the product category?\n",
    "\n",
    "## Open questions / workflow\n",
    "\n",
    "1. Predict the rating based on item desc.: regression w/ language data\n",
    "\n",
    "2. How well reviewed something is\n",
    "\n",
    "3. Figure out product, product contents, product tags, document per row + brand + company type, product category, description\n",
    "\n",
    "4. Probability that the thing we labeled is actually in that class?\n",
    "\n",
    "\n",
    "## Data imports"
   ]
  },
  {
   "cell_type": "code",
   "execution_count": 1,
   "metadata": {
    "ExecuteTime": {
     "end_time": "2021-06-08T23:37:00.109441Z",
     "start_time": "2021-06-08T23:36:55.295791Z"
    }
   },
   "outputs": [],
   "source": [
    "#libraries\n",
    "import pandas as pd, numpy as np, matplotlib.pyplot as plt, seaborn as sns, re"
   ]
  },
  {
   "cell_type": "markdown",
   "metadata": {},
   "source": [
    "### Product dataset"
   ]
  },
  {
   "cell_type": "code",
   "execution_count": 2,
   "metadata": {
    "ExecuteTime": {
     "end_time": "2021-06-08T23:37:00.761248Z",
     "start_time": "2021-06-08T23:37:00.112540Z"
    }
   },
   "outputs": [],
   "source": [
    "#import ecom dataset\n",
    "ecom = pd.read_csv('../data/amazon_co-ecommerce_sample.csv')"
   ]
  },
  {
   "cell_type": "code",
   "execution_count": 3,
   "metadata": {
    "ExecuteTime": {
     "end_time": "2021-06-08T23:37:00.783169Z",
     "start_time": "2021-06-08T23:37:00.764089Z"
    }
   },
   "outputs": [
    {
     "data": {
      "text/plain": [
       "(10000, 17)"
      ]
     },
     "execution_count": 3,
     "metadata": {},
     "output_type": "execute_result"
    }
   ],
   "source": [
    "#check data size\n",
    "ecom.shape"
   ]
  },
  {
   "cell_type": "code",
   "execution_count": 4,
   "metadata": {
    "ExecuteTime": {
     "end_time": "2021-06-08T23:37:00.848968Z",
     "start_time": "2021-06-08T23:37:00.790318Z"
    }
   },
   "outputs": [
    {
     "name": "stdout",
     "output_type": "stream",
     "text": [
      "<class 'pandas.core.frame.DataFrame'>\n",
      "RangeIndex: 10000 entries, 0 to 9999\n",
      "Data columns (total 17 columns):\n",
      " #   Column                                       Non-Null Count  Dtype  \n",
      "---  ------                                       --------------  -----  \n",
      " 0   uniq_id                                      10000 non-null  object \n",
      " 1   product_name                                 10000 non-null  object \n",
      " 2   manufacturer                                 9993 non-null   object \n",
      " 3   price                                        8565 non-null   object \n",
      " 4   number_available_in_stock                    7500 non-null   object \n",
      " 5   number_of_reviews                            9982 non-null   object \n",
      " 6   number_of_answered_questions                 9235 non-null   float64\n",
      " 7   average_review_rating                        9982 non-null   object \n",
      " 8   amazon_category_and_sub_category             9310 non-null   object \n",
      " 9   customers_who_bought_this_item_also_bought   8938 non-null   object \n",
      " 10  description                                  9349 non-null   object \n",
      " 11  product_information                          9942 non-null   object \n",
      " 12  product_description                          9349 non-null   object \n",
      " 13  items_customers_buy_after_viewing_this_item  6935 non-null   object \n",
      " 14  customer_questions_and_answers               914 non-null    object \n",
      " 15  customer_reviews                             9979 non-null   object \n",
      " 16  sellers                                      6918 non-null   object \n",
      "dtypes: float64(1), object(16)\n",
      "memory usage: 1.3+ MB\n"
     ]
    }
   ],
   "source": [
    "#check data types\n",
    "ecom.info()"
   ]
  },
  {
   "cell_type": "code",
   "execution_count": 5,
   "metadata": {
    "ExecuteTime": {
     "end_time": "2021-06-08T23:37:00.906506Z",
     "start_time": "2021-06-08T23:37:00.854355Z"
    },
    "scrolled": true
   },
   "outputs": [
    {
     "data": {
      "text/html": [
       "<div>\n",
       "<style scoped>\n",
       "    .dataframe tbody tr th:only-of-type {\n",
       "        vertical-align: middle;\n",
       "    }\n",
       "\n",
       "    .dataframe tbody tr th {\n",
       "        vertical-align: top;\n",
       "    }\n",
       "\n",
       "    .dataframe thead th {\n",
       "        text-align: right;\n",
       "    }\n",
       "</style>\n",
       "<table border=\"1\" class=\"dataframe\">\n",
       "  <thead>\n",
       "    <tr style=\"text-align: right;\">\n",
       "      <th></th>\n",
       "      <th>uniq_id</th>\n",
       "      <th>product_name</th>\n",
       "      <th>manufacturer</th>\n",
       "      <th>price</th>\n",
       "      <th>number_available_in_stock</th>\n",
       "      <th>number_of_reviews</th>\n",
       "      <th>number_of_answered_questions</th>\n",
       "      <th>average_review_rating</th>\n",
       "      <th>amazon_category_and_sub_category</th>\n",
       "      <th>customers_who_bought_this_item_also_bought</th>\n",
       "      <th>description</th>\n",
       "      <th>product_information</th>\n",
       "      <th>product_description</th>\n",
       "      <th>items_customers_buy_after_viewing_this_item</th>\n",
       "      <th>customer_questions_and_answers</th>\n",
       "      <th>customer_reviews</th>\n",
       "      <th>sellers</th>\n",
       "    </tr>\n",
       "  </thead>\n",
       "  <tbody>\n",
       "    <tr>\n",
       "      <th>0</th>\n",
       "      <td>eac7efa5dbd3d667f26eb3d3ab504464</td>\n",
       "      <td>Hornby 2014 Catalogue</td>\n",
       "      <td>Hornby</td>\n",
       "      <td>£3.42</td>\n",
       "      <td>5 new</td>\n",
       "      <td>15</td>\n",
       "      <td>1.0</td>\n",
       "      <td>4.9 out of 5 stars</td>\n",
       "      <td>Hobbies &gt; Model Trains &amp; Railway Sets &gt; Rail V...</td>\n",
       "      <td>http://www.amazon.co.uk/Hornby-R8150-Catalogue...</td>\n",
       "      <td>Product Description Hornby 2014 Catalogue Box ...</td>\n",
       "      <td>Technical Details Item Weight640 g Product Dim...</td>\n",
       "      <td>Product Description Hornby 2014 Catalogue Box ...</td>\n",
       "      <td>http://www.amazon.co.uk/Hornby-R8150-Catalogue...</td>\n",
       "      <td>Does this catalogue detail all the previous Ho...</td>\n",
       "      <td>Worth Buying For The Pictures Alone (As Ever) ...</td>\n",
       "      <td>{\"seller\"=&gt;[{\"Seller_name_1\"=&gt;\"Amazon.co.uk\", ...</td>\n",
       "    </tr>\n",
       "    <tr>\n",
       "      <th>1</th>\n",
       "      <td>b17540ef7e86e461d37f3ae58b7b72ac</td>\n",
       "      <td>FunkyBuys® Large Christmas Holiday Express Fes...</td>\n",
       "      <td>FunkyBuys</td>\n",
       "      <td>£16.99</td>\n",
       "      <td>NaN</td>\n",
       "      <td>2</td>\n",
       "      <td>1.0</td>\n",
       "      <td>4.5 out of 5 stars</td>\n",
       "      <td>Hobbies &gt; Model Trains &amp; Railway Sets &gt; Rail V...</td>\n",
       "      <td>http://www.amazon.co.uk/Christmas-Holiday-Expr...</td>\n",
       "      <td>Size Name:Large FunkyBuys® Large Christmas Hol...</td>\n",
       "      <td>Technical Details Manufacturer recommended age...</td>\n",
       "      <td>Size Name:Large FunkyBuys® Large Christmas Hol...</td>\n",
       "      <td>http://www.amazon.co.uk/Christmas-Holiday-Expr...</td>\n",
       "      <td>can you turn off sounds // hi no you cant turn...</td>\n",
       "      <td>Four Stars // 4.0 // 18 Dec. 2015 // By\\n    \\...</td>\n",
       "      <td>{\"seller\"=&gt;{\"Seller_name_1\"=&gt;\"UHD WHOLESALE\", ...</td>\n",
       "    </tr>\n",
       "    <tr>\n",
       "      <th>2</th>\n",
       "      <td>348f344247b0c1a935b1223072ef9d8a</td>\n",
       "      <td>CLASSIC TOY TRAIN SET TRACK CARRIAGES LIGHT EN...</td>\n",
       "      <td>ccf</td>\n",
       "      <td>£9.99</td>\n",
       "      <td>2 new</td>\n",
       "      <td>17</td>\n",
       "      <td>2.0</td>\n",
       "      <td>3.9 out of 5 stars</td>\n",
       "      <td>Hobbies &gt; Model Trains &amp; Railway Sets &gt; Rail V...</td>\n",
       "      <td>http://www.amazon.co.uk/Classic-Train-Lights-B...</td>\n",
       "      <td>BIG CLASSIC TOY TRAIN SET TRACK CARRIAGE LIGHT...</td>\n",
       "      <td>Technical Details Manufacturer recommended age...</td>\n",
       "      <td>BIG CLASSIC TOY TRAIN SET TRACK CARRIAGE LIGHT...</td>\n",
       "      <td>http://www.amazon.co.uk/Train-With-Tracks-Batt...</td>\n",
       "      <td>What is the gauge of the track // Hi Paul.Trut...</td>\n",
       "      <td>**Highly Recommended!** // 5.0 // 26 May 2015 ...</td>\n",
       "      <td>{\"seller\"=&gt;[{\"Seller_name_1\"=&gt;\"DEAL-BOX\", \"Sel...</td>\n",
       "    </tr>\n",
       "    <tr>\n",
       "      <th>3</th>\n",
       "      <td>e12b92dbb8eaee78b22965d2a9bbbd9f</td>\n",
       "      <td>HORNBY Coach R4410A BR Hawksworth Corridor 3rd</td>\n",
       "      <td>Hornby</td>\n",
       "      <td>£39.99</td>\n",
       "      <td>NaN</td>\n",
       "      <td>1</td>\n",
       "      <td>2.0</td>\n",
       "      <td>5.0 out of 5 stars</td>\n",
       "      <td>Hobbies &gt; Model Trains &amp; Railway Sets &gt; Rail V...</td>\n",
       "      <td>NaN</td>\n",
       "      <td>Hornby 00 Gauge BR Hawksworth 3rd Class W 2107...</td>\n",
       "      <td>Technical Details Item Weight259 g Product Dim...</td>\n",
       "      <td>Hornby 00 Gauge BR Hawksworth 3rd Class W 2107...</td>\n",
       "      <td>NaN</td>\n",
       "      <td>NaN</td>\n",
       "      <td>I love it // 5.0 // 22 July 2013 // By\\n    \\n...</td>\n",
       "      <td>NaN</td>\n",
       "    </tr>\n",
       "    <tr>\n",
       "      <th>4</th>\n",
       "      <td>e33a9adeed5f36840ccc227db4682a36</td>\n",
       "      <td>Hornby 00 Gauge 0-4-0 Gildenlow Salt Co. Steam...</td>\n",
       "      <td>Hornby</td>\n",
       "      <td>£32.19</td>\n",
       "      <td>NaN</td>\n",
       "      <td>3</td>\n",
       "      <td>2.0</td>\n",
       "      <td>4.7 out of 5 stars</td>\n",
       "      <td>Hobbies &gt; Model Trains &amp; Railway Sets &gt; Rail V...</td>\n",
       "      <td>http://www.amazon.co.uk/Hornby-R6367-RailRoad-...</td>\n",
       "      <td>Product Description Hornby RailRoad 0-4-0 Gild...</td>\n",
       "      <td>Technical Details Item Weight159 g Product Dim...</td>\n",
       "      <td>Product Description Hornby RailRoad 0-4-0 Gild...</td>\n",
       "      <td>http://www.amazon.co.uk/Hornby-R2672-RailRoad-...</td>\n",
       "      <td>NaN</td>\n",
       "      <td>Birthday present // 5.0 // 14 April 2014 // By...</td>\n",
       "      <td>NaN</td>\n",
       "    </tr>\n",
       "  </tbody>\n",
       "</table>\n",
       "</div>"
      ],
      "text/plain": [
       "                            uniq_id  \\\n",
       "0  eac7efa5dbd3d667f26eb3d3ab504464   \n",
       "1  b17540ef7e86e461d37f3ae58b7b72ac   \n",
       "2  348f344247b0c1a935b1223072ef9d8a   \n",
       "3  e12b92dbb8eaee78b22965d2a9bbbd9f   \n",
       "4  e33a9adeed5f36840ccc227db4682a36   \n",
       "\n",
       "                                        product_name manufacturer   price  \\\n",
       "0                              Hornby 2014 Catalogue       Hornby   £3.42   \n",
       "1  FunkyBuys® Large Christmas Holiday Express Fes...    FunkyBuys  £16.99   \n",
       "2  CLASSIC TOY TRAIN SET TRACK CARRIAGES LIGHT EN...          ccf   £9.99   \n",
       "3     HORNBY Coach R4410A BR Hawksworth Corridor 3rd       Hornby  £39.99   \n",
       "4  Hornby 00 Gauge 0-4-0 Gildenlow Salt Co. Steam...       Hornby  £32.19   \n",
       "\n",
       "  number_available_in_stock number_of_reviews  number_of_answered_questions  \\\n",
       "0                     5 new                15                           1.0   \n",
       "1                       NaN                 2                           1.0   \n",
       "2                     2 new                17                           2.0   \n",
       "3                       NaN                 1                           2.0   \n",
       "4                       NaN                 3                           2.0   \n",
       "\n",
       "  average_review_rating                   amazon_category_and_sub_category  \\\n",
       "0    4.9 out of 5 stars  Hobbies > Model Trains & Railway Sets > Rail V...   \n",
       "1    4.5 out of 5 stars  Hobbies > Model Trains & Railway Sets > Rail V...   \n",
       "2    3.9 out of 5 stars  Hobbies > Model Trains & Railway Sets > Rail V...   \n",
       "3    5.0 out of 5 stars  Hobbies > Model Trains & Railway Sets > Rail V...   \n",
       "4    4.7 out of 5 stars  Hobbies > Model Trains & Railway Sets > Rail V...   \n",
       "\n",
       "          customers_who_bought_this_item_also_bought  \\\n",
       "0  http://www.amazon.co.uk/Hornby-R8150-Catalogue...   \n",
       "1  http://www.amazon.co.uk/Christmas-Holiday-Expr...   \n",
       "2  http://www.amazon.co.uk/Classic-Train-Lights-B...   \n",
       "3                                                NaN   \n",
       "4  http://www.amazon.co.uk/Hornby-R6367-RailRoad-...   \n",
       "\n",
       "                                         description  \\\n",
       "0  Product Description Hornby 2014 Catalogue Box ...   \n",
       "1  Size Name:Large FunkyBuys® Large Christmas Hol...   \n",
       "2  BIG CLASSIC TOY TRAIN SET TRACK CARRIAGE LIGHT...   \n",
       "3  Hornby 00 Gauge BR Hawksworth 3rd Class W 2107...   \n",
       "4  Product Description Hornby RailRoad 0-4-0 Gild...   \n",
       "\n",
       "                                 product_information  \\\n",
       "0  Technical Details Item Weight640 g Product Dim...   \n",
       "1  Technical Details Manufacturer recommended age...   \n",
       "2  Technical Details Manufacturer recommended age...   \n",
       "3  Technical Details Item Weight259 g Product Dim...   \n",
       "4  Technical Details Item Weight159 g Product Dim...   \n",
       "\n",
       "                                 product_description  \\\n",
       "0  Product Description Hornby 2014 Catalogue Box ...   \n",
       "1  Size Name:Large FunkyBuys® Large Christmas Hol...   \n",
       "2  BIG CLASSIC TOY TRAIN SET TRACK CARRIAGE LIGHT...   \n",
       "3  Hornby 00 Gauge BR Hawksworth 3rd Class W 2107...   \n",
       "4  Product Description Hornby RailRoad 0-4-0 Gild...   \n",
       "\n",
       "         items_customers_buy_after_viewing_this_item  \\\n",
       "0  http://www.amazon.co.uk/Hornby-R8150-Catalogue...   \n",
       "1  http://www.amazon.co.uk/Christmas-Holiday-Expr...   \n",
       "2  http://www.amazon.co.uk/Train-With-Tracks-Batt...   \n",
       "3                                                NaN   \n",
       "4  http://www.amazon.co.uk/Hornby-R2672-RailRoad-...   \n",
       "\n",
       "                      customer_questions_and_answers  \\\n",
       "0  Does this catalogue detail all the previous Ho...   \n",
       "1  can you turn off sounds // hi no you cant turn...   \n",
       "2  What is the gauge of the track // Hi Paul.Trut...   \n",
       "3                                                NaN   \n",
       "4                                                NaN   \n",
       "\n",
       "                                    customer_reviews  \\\n",
       "0  Worth Buying For The Pictures Alone (As Ever) ...   \n",
       "1  Four Stars // 4.0 // 18 Dec. 2015 // By\\n    \\...   \n",
       "2  **Highly Recommended!** // 5.0 // 26 May 2015 ...   \n",
       "3  I love it // 5.0 // 22 July 2013 // By\\n    \\n...   \n",
       "4  Birthday present // 5.0 // 14 April 2014 // By...   \n",
       "\n",
       "                                             sellers  \n",
       "0  {\"seller\"=>[{\"Seller_name_1\"=>\"Amazon.co.uk\", ...  \n",
       "1  {\"seller\"=>{\"Seller_name_1\"=>\"UHD WHOLESALE\", ...  \n",
       "2  {\"seller\"=>[{\"Seller_name_1\"=>\"DEAL-BOX\", \"Sel...  \n",
       "3                                                NaN  \n",
       "4                                                NaN  "
      ]
     },
     "execution_count": 5,
     "metadata": {},
     "output_type": "execute_result"
    }
   ],
   "source": [
    "#peek at dataframe\n",
    "ecom.head()"
   ]
  },
  {
   "cell_type": "markdown",
   "metadata": {},
   "source": [
    "## Cleaning"
   ]
  },
  {
   "cell_type": "markdown",
   "metadata": {},
   "source": [
    "Let's clean up our columns, including price, so that they can converge properly.\n",
    "\n",
    "### Remove extraneous characters\n",
    "\n",
    "From the pound signs in the prices, to prices listed as ranges, we have some issues in our data formats. Let's fix these.\n",
    "\n",
    "For price ranges, I will merely consume the lower bound of the price."
   ]
  },
  {
   "cell_type": "code",
   "execution_count": 6,
   "metadata": {
    "ExecuteTime": {
     "end_time": "2021-06-08T23:37:00.917076Z",
     "start_time": "2021-06-08T23:37:00.911422Z"
    }
   },
   "outputs": [],
   "source": [
    "#Substantial datatype conversion help here from https://pbpython.com/currency-cleanup.html\n",
    "\n",
    "def clean_price(x):\n",
    "    \n",
    "    if isinstance(x, str):\n",
    "#If the value is a string, then remove currency symbol, delimiters and anything \n",
    "#else following the price; otherwise, the value is numeric and can be converted as is.\n",
    "        \n",
    "        return(x.replace('£', '').replace(',', '').split(' - ')[0])\n",
    "    #strip price of the pound sign\n",
    "    #we need to get rid of price ranges. I will just consume the LOWER BOUND in case of a price range.\n",
    "\n",
    "    return(x)"
   ]
  },
  {
   "cell_type": "code",
   "execution_count": 7,
   "metadata": {
    "ExecuteTime": {
     "end_time": "2021-06-08T23:37:00.942348Z",
     "start_time": "2021-06-08T23:37:00.921083Z"
    }
   },
   "outputs": [],
   "source": [
    "#apply my price function to convert the price column type\n",
    "ecom['price'] = ecom['price'].apply(clean_price).astype('float')"
   ]
  },
  {
   "cell_type": "code",
   "execution_count": 8,
   "metadata": {
    "ExecuteTime": {
     "end_time": "2021-06-08T23:37:00.962798Z",
     "start_time": "2021-06-08T23:37:00.945128Z"
    }
   },
   "outputs": [
    {
     "data": {
      "text/plain": [
       "0    4.9\n",
       "1     4.\n",
       "Name: average_review_rating, dtype: object"
      ]
     },
     "execution_count": 8,
     "metadata": {},
     "output_type": "execute_result"
    }
   ],
   "source": [
    "#strip out \"out of 5 stars\" from average_review_rating\n",
    "ecom['average_review_rating'] = ecom['average_review_rating'].str.strip(' out of 5 stars')\n",
    "ecom['average_review_rating'].head(2)"
   ]
  },
  {
   "cell_type": "code",
   "execution_count": 9,
   "metadata": {
    "ExecuteTime": {
     "end_time": "2021-06-08T23:37:00.967992Z",
     "start_time": "2021-06-08T23:37:00.965129Z"
    }
   },
   "outputs": [],
   "source": [
    "#strip out the word \"new\" from number_available_in_stock; we'll handle this during feature eng"
   ]
  },
  {
   "cell_type": "code",
   "execution_count": 10,
   "metadata": {
    "ExecuteTime": {
     "end_time": "2021-06-08T23:37:00.981902Z",
     "start_time": "2021-06-08T23:37:00.970340Z"
    }
   },
   "outputs": [],
   "source": [
    "#strip out commas from number_of_reviews column\n",
    "ecom['number_of_reviews'] = ecom['number_of_reviews'].str.replace(\",\", \"\")"
   ]
  },
  {
   "cell_type": "code",
   "execution_count": 11,
   "metadata": {
    "ExecuteTime": {
     "end_time": "2021-06-08T23:37:01.000449Z",
     "start_time": "2021-06-08T23:37:00.985153Z"
    }
   },
   "outputs": [
    {
     "data": {
      "text/plain": [
       "3182    99\n",
       "7179    99\n",
       "1541    98\n",
       "6616    98\n",
       "133     97\n",
       "4153    97\n",
       "9434    97\n",
       "6642    96\n",
       "6552    96\n",
       "3305    95\n",
       "5166    95\n",
       "6878    95\n",
       "7183    95\n",
       "1678    94\n",
       "9476    94\n",
       "6066    93\n",
       "792     92\n",
       "664     92\n",
       "1812    92\n",
       "7326    92\n",
       "9441    91\n",
       "4280    91\n",
       "7422    91\n",
       "9830    91\n",
       "7219    91\n",
       "9945    91\n",
       "3840    90\n",
       "4688     9\n",
       "2207     9\n",
       "159      9\n",
       "Name: number_of_reviews, dtype: object"
      ]
     },
     "execution_count": 11,
     "metadata": {},
     "output_type": "execute_result"
    }
   ],
   "source": [
    "ecom['number_of_reviews'].sort_values(ascending=False)[:30]"
   ]
  },
  {
   "cell_type": "code",
   "execution_count": 12,
   "metadata": {
    "ExecuteTime": {
     "end_time": "2021-06-08T23:37:01.152453Z",
     "start_time": "2021-06-08T23:37:01.002473Z"
    },
    "scrolled": true
   },
   "outputs": [
    {
     "data": {
      "text/html": [
       "<div>\n",
       "<style scoped>\n",
       "    .dataframe tbody tr th:only-of-type {\n",
       "        vertical-align: middle;\n",
       "    }\n",
       "\n",
       "    .dataframe tbody tr th {\n",
       "        vertical-align: top;\n",
       "    }\n",
       "\n",
       "    .dataframe thead th {\n",
       "        text-align: right;\n",
       "    }\n",
       "</style>\n",
       "<table border=\"1\" class=\"dataframe\">\n",
       "  <thead>\n",
       "    <tr style=\"text-align: right;\">\n",
       "      <th></th>\n",
       "      <th>uniq_id</th>\n",
       "      <th>product_name</th>\n",
       "      <th>manufacturer</th>\n",
       "      <th>price</th>\n",
       "      <th>number_available_in_stock</th>\n",
       "      <th>number_of_reviews</th>\n",
       "      <th>number_of_answered_questions</th>\n",
       "      <th>average_review_rating</th>\n",
       "      <th>amazon_category_and_sub_category</th>\n",
       "      <th>customers_who_bought_this_item_also_bought</th>\n",
       "      <th>description</th>\n",
       "      <th>product_information</th>\n",
       "      <th>product_description</th>\n",
       "      <th>items_customers_buy_after_viewing_this_item</th>\n",
       "      <th>customer_questions_and_answers</th>\n",
       "      <th>customer_reviews</th>\n",
       "      <th>sellers</th>\n",
       "    </tr>\n",
       "  </thead>\n",
       "  <tbody>\n",
       "    <tr>\n",
       "      <th>8872</th>\n",
       "      <td>c751a76dd7668f78b4222b5547e7249b</td>\n",
       "      <td>TOMY Pop-Up Pirate</td>\n",
       "      <td>Tomy</td>\n",
       "      <td>9.99</td>\n",
       "      <td>59 new</td>\n",
       "      <td>1040</td>\n",
       "      <td>11.0</td>\n",
       "      <td>4.</td>\n",
       "      <td>Characters &amp; Brands &gt; Tomy</td>\n",
       "      <td>http://www.amazon.co.uk/Hungry-Hippos-Elefun-F...</td>\n",
       "      <td>Style Name:Pop-Up-Pirate/T7028 Product Descrip...</td>\n",
       "      <td>Technical Details Brand Tomy Model NumberT7028...</td>\n",
       "      <td>Style Name:Pop-Up-Pirate/T7028 Product Descrip...</td>\n",
       "      <td>NaN</td>\n",
       "      <td>Is this good for 5 and 6 year old kids? // Hi ...</td>\n",
       "      <td>Crazy fun // 4.0 // 9 Sept. 2007 // By\\n    \\n...</td>\n",
       "      <td>{\"seller\"=&gt;[{\"Seller_name_1\"=&gt;\"Amazon.co.uk\", ...</td>\n",
       "    </tr>\n",
       "  </tbody>\n",
       "</table>\n",
       "</div>"
      ],
      "text/plain": [
       "                               uniq_id        product_name manufacturer  \\\n",
       "8872  c751a76dd7668f78b4222b5547e7249b  TOMY Pop-Up Pirate         Tomy   \n",
       "\n",
       "      price number_available_in_stock number_of_reviews  \\\n",
       "8872   9.99                    59 new              1040   \n",
       "\n",
       "      number_of_answered_questions average_review_rating  \\\n",
       "8872                          11.0                    4.   \n",
       "\n",
       "     amazon_category_and_sub_category  \\\n",
       "8872       Characters & Brands > Tomy   \n",
       "\n",
       "             customers_who_bought_this_item_also_bought  \\\n",
       "8872  http://www.amazon.co.uk/Hungry-Hippos-Elefun-F...   \n",
       "\n",
       "                                            description  \\\n",
       "8872  Style Name:Pop-Up-Pirate/T7028 Product Descrip...   \n",
       "\n",
       "                                    product_information  \\\n",
       "8872  Technical Details Brand Tomy Model NumberT7028...   \n",
       "\n",
       "                                    product_description  \\\n",
       "8872  Style Name:Pop-Up-Pirate/T7028 Product Descrip...   \n",
       "\n",
       "     items_customers_buy_after_viewing_this_item  \\\n",
       "8872                                         NaN   \n",
       "\n",
       "                         customer_questions_and_answers  \\\n",
       "8872  Is this good for 5 and 6 year old kids? // Hi ...   \n",
       "\n",
       "                                       customer_reviews  \\\n",
       "8872  Crazy fun // 4.0 // 9 Sept. 2007 // By\\n    \\n...   \n",
       "\n",
       "                                                sellers  \n",
       "8872  {\"seller\"=>[{\"Seller_name_1\"=>\"Amazon.co.uk\", ...  "
      ]
     },
     "execution_count": 12,
     "metadata": {},
     "output_type": "execute_result"
    }
   ],
   "source": [
    "#double check that our digits converted correctly\n",
    "ecom.loc[ecom['number_of_reviews']=='1040']"
   ]
  },
  {
   "cell_type": "markdown",
   "metadata": {},
   "source": [
    "### Converting object columns to numeric where applicable\n",
    "\n",
    "We had 4 columns originally that seemed like good candidates for conversion to numeric:\n",
    "\n",
    "* price\n",
    "* number_of_reviews\n",
    "* number_of_answered_questions\n",
    "* average_review_rating"
   ]
  },
  {
   "cell_type": "code",
   "execution_count": 13,
   "metadata": {
    "ExecuteTime": {
     "end_time": "2021-06-08T23:37:01.171281Z",
     "start_time": "2021-06-08T23:37:01.157454Z"
    }
   },
   "outputs": [],
   "source": [
    "#force num type on number_of_reviews, number_of_answered_questions, price, average_review_rating\n",
    "ecom['number_of_answered_questions'] = ecom[['number_of_answered_questions']].apply(pd.to_numeric)"
   ]
  },
  {
   "cell_type": "code",
   "execution_count": 14,
   "metadata": {
    "ExecuteTime": {
     "end_time": "2021-06-08T23:37:01.186314Z",
     "start_time": "2021-06-08T23:37:01.173580Z"
    }
   },
   "outputs": [],
   "source": [
    "ecom['average_review_rating'] = ecom['average_review_rating'].astype(float)"
   ]
  },
  {
   "cell_type": "code",
   "execution_count": 15,
   "metadata": {
    "ExecuteTime": {
     "end_time": "2021-06-08T23:37:01.218619Z",
     "start_time": "2021-06-08T23:37:01.188244Z"
    }
   },
   "outputs": [],
   "source": [
    "#first remove nulls for this to work\n",
    "ecom.dropna(subset=['number_of_reviews'], inplace=True)\n",
    "\n",
    "#convert\n",
    "ecom['number_of_reviews'] = ecom['number_of_reviews'].astype(int)"
   ]
  },
  {
   "cell_type": "code",
   "execution_count": 16,
   "metadata": {
    "ExecuteTime": {
     "end_time": "2021-06-08T23:37:01.233198Z",
     "start_time": "2021-06-08T23:37:01.222127Z"
    }
   },
   "outputs": [
    {
     "data": {
      "text/plain": [
       "uniq_id                                         object\n",
       "product_name                                    object\n",
       "manufacturer                                    object\n",
       "price                                          float64\n",
       "number_available_in_stock                       object\n",
       "number_of_reviews                                int64\n",
       "number_of_answered_questions                   float64\n",
       "average_review_rating                          float64\n",
       "amazon_category_and_sub_category                object\n",
       "customers_who_bought_this_item_also_bought      object\n",
       "description                                     object\n",
       "product_information                             object\n",
       "product_description                             object\n",
       "items_customers_buy_after_viewing_this_item     object\n",
       "customer_questions_and_answers                  object\n",
       "customer_reviews                                object\n",
       "sellers                                         object\n",
       "dtype: object"
      ]
     },
     "execution_count": 16,
     "metadata": {},
     "output_type": "execute_result"
    }
   ],
   "source": [
    "#confirm conversions\n",
    "ecom.dtypes"
   ]
  },
  {
   "cell_type": "markdown",
   "metadata": {},
   "source": [
    "### Imputing nulls\n",
    "\n",
    "For most of the fields, imputing with a 0 seems to make sense -- no reviews is no different than 0 reviews.\n",
    "\n",
    "For price, however, we'll want to impute with the mean, now that we've successfully converted it to numeric.\n",
    "\n",
    "As for average review rating, in the absence of one, we will simply drop those few observations since that's a valuable column and I'd want to be careful extending any kind of mean to it, since it is possibly our target."
   ]
  },
  {
   "cell_type": "code",
   "execution_count": 17,
   "metadata": {
    "ExecuteTime": {
     "end_time": "2021-06-08T23:37:01.253222Z",
     "start_time": "2021-06-08T23:37:01.236945Z"
    }
   },
   "outputs": [],
   "source": [
    "#`dropna.()` nulls without an average_review_rating since we need those for training, and there are few\n",
    "ecom.dropna(subset=['average_review_rating'], inplace=True)"
   ]
  },
  {
   "cell_type": "code",
   "execution_count": 18,
   "metadata": {
    "ExecuteTime": {
     "end_time": "2021-06-08T23:37:01.263399Z",
     "start_time": "2021-06-08T23:37:01.258045Z"
    }
   },
   "outputs": [],
   "source": [
    "#fill price with average of column\n",
    "ecom['price'] = ecom['price'].fillna(ecom['price'].mean())"
   ]
  },
  {
   "cell_type": "code",
   "execution_count": 19,
   "metadata": {
    "ExecuteTime": {
     "end_time": "2021-06-08T23:37:01.328791Z",
     "start_time": "2021-06-08T23:37:01.269084Z"
    },
    "scrolled": true
   },
   "outputs": [
    {
     "data": {
      "text/html": [
       "<div>\n",
       "<style scoped>\n",
       "    .dataframe tbody tr th:only-of-type {\n",
       "        vertical-align: middle;\n",
       "    }\n",
       "\n",
       "    .dataframe tbody tr th {\n",
       "        vertical-align: top;\n",
       "    }\n",
       "\n",
       "    .dataframe thead th {\n",
       "        text-align: right;\n",
       "    }\n",
       "</style>\n",
       "<table border=\"1\" class=\"dataframe\">\n",
       "  <thead>\n",
       "    <tr style=\"text-align: right;\">\n",
       "      <th></th>\n",
       "      <th>uniq_id</th>\n",
       "      <th>product_name</th>\n",
       "      <th>manufacturer</th>\n",
       "      <th>price</th>\n",
       "      <th>number_available_in_stock</th>\n",
       "      <th>number_of_reviews</th>\n",
       "      <th>number_of_answered_questions</th>\n",
       "      <th>average_review_rating</th>\n",
       "      <th>amazon_category_and_sub_category</th>\n",
       "      <th>customers_who_bought_this_item_also_bought</th>\n",
       "      <th>description</th>\n",
       "      <th>product_information</th>\n",
       "      <th>product_description</th>\n",
       "      <th>items_customers_buy_after_viewing_this_item</th>\n",
       "      <th>customer_questions_and_answers</th>\n",
       "      <th>customer_reviews</th>\n",
       "      <th>sellers</th>\n",
       "    </tr>\n",
       "  </thead>\n",
       "  <tbody>\n",
       "    <tr>\n",
       "      <th>0</th>\n",
       "      <td>eac7efa5dbd3d667f26eb3d3ab504464</td>\n",
       "      <td>Hornby 2014 Catalogue</td>\n",
       "      <td>Hornby</td>\n",
       "      <td>3.42</td>\n",
       "      <td>5 new</td>\n",
       "      <td>15</td>\n",
       "      <td>1.0</td>\n",
       "      <td>4.9</td>\n",
       "      <td>Hobbies &gt; Model Trains &amp; Railway Sets &gt; Rail V...</td>\n",
       "      <td>http://www.amazon.co.uk/Hornby-R8150-Catalogue...</td>\n",
       "      <td>Product Description Hornby 2014 Catalogue Box ...</td>\n",
       "      <td>Technical Details Item Weight640 g Product Dim...</td>\n",
       "      <td>Product Description Hornby 2014 Catalogue Box ...</td>\n",
       "      <td>http://www.amazon.co.uk/Hornby-R8150-Catalogue...</td>\n",
       "      <td>Does this catalogue detail all the previous Ho...</td>\n",
       "      <td>Worth Buying For The Pictures Alone (As Ever) ...</td>\n",
       "      <td>{\"seller\"=&gt;[{\"Seller_name_1\"=&gt;\"Amazon.co.uk\", ...</td>\n",
       "    </tr>\n",
       "    <tr>\n",
       "      <th>1</th>\n",
       "      <td>b17540ef7e86e461d37f3ae58b7b72ac</td>\n",
       "      <td>FunkyBuys® Large Christmas Holiday Express Fes...</td>\n",
       "      <td>FunkyBuys</td>\n",
       "      <td>16.99</td>\n",
       "      <td>0</td>\n",
       "      <td>2</td>\n",
       "      <td>1.0</td>\n",
       "      <td>4.0</td>\n",
       "      <td>Hobbies &gt; Model Trains &amp; Railway Sets &gt; Rail V...</td>\n",
       "      <td>http://www.amazon.co.uk/Christmas-Holiday-Expr...</td>\n",
       "      <td>Size Name:Large FunkyBuys® Large Christmas Hol...</td>\n",
       "      <td>Technical Details Manufacturer recommended age...</td>\n",
       "      <td>Size Name:Large FunkyBuys® Large Christmas Hol...</td>\n",
       "      <td>http://www.amazon.co.uk/Christmas-Holiday-Expr...</td>\n",
       "      <td>can you turn off sounds // hi no you cant turn...</td>\n",
       "      <td>Four Stars // 4.0 // 18 Dec. 2015 // By\\n    \\...</td>\n",
       "      <td>{\"seller\"=&gt;{\"Seller_name_1\"=&gt;\"UHD WHOLESALE\", ...</td>\n",
       "    </tr>\n",
       "    <tr>\n",
       "      <th>2</th>\n",
       "      <td>348f344247b0c1a935b1223072ef9d8a</td>\n",
       "      <td>CLASSIC TOY TRAIN SET TRACK CARRIAGES LIGHT EN...</td>\n",
       "      <td>ccf</td>\n",
       "      <td>9.99</td>\n",
       "      <td>2 new</td>\n",
       "      <td>17</td>\n",
       "      <td>2.0</td>\n",
       "      <td>3.9</td>\n",
       "      <td>Hobbies &gt; Model Trains &amp; Railway Sets &gt; Rail V...</td>\n",
       "      <td>http://www.amazon.co.uk/Classic-Train-Lights-B...</td>\n",
       "      <td>BIG CLASSIC TOY TRAIN SET TRACK CARRIAGE LIGHT...</td>\n",
       "      <td>Technical Details Manufacturer recommended age...</td>\n",
       "      <td>BIG CLASSIC TOY TRAIN SET TRACK CARRIAGE LIGHT...</td>\n",
       "      <td>http://www.amazon.co.uk/Train-With-Tracks-Batt...</td>\n",
       "      <td>What is the gauge of the track // Hi Paul.Trut...</td>\n",
       "      <td>**Highly Recommended!** // 5.0 // 26 May 2015 ...</td>\n",
       "      <td>{\"seller\"=&gt;[{\"Seller_name_1\"=&gt;\"DEAL-BOX\", \"Sel...</td>\n",
       "    </tr>\n",
       "  </tbody>\n",
       "</table>\n",
       "</div>"
      ],
      "text/plain": [
       "                            uniq_id  \\\n",
       "0  eac7efa5dbd3d667f26eb3d3ab504464   \n",
       "1  b17540ef7e86e461d37f3ae58b7b72ac   \n",
       "2  348f344247b0c1a935b1223072ef9d8a   \n",
       "\n",
       "                                        product_name manufacturer  price  \\\n",
       "0                              Hornby 2014 Catalogue       Hornby   3.42   \n",
       "1  FunkyBuys® Large Christmas Holiday Express Fes...    FunkyBuys  16.99   \n",
       "2  CLASSIC TOY TRAIN SET TRACK CARRIAGES LIGHT EN...          ccf   9.99   \n",
       "\n",
       "  number_available_in_stock  number_of_reviews  number_of_answered_questions  \\\n",
       "0                     5 new                 15                           1.0   \n",
       "1                         0                  2                           1.0   \n",
       "2                     2 new                 17                           2.0   \n",
       "\n",
       "   average_review_rating                   amazon_category_and_sub_category  \\\n",
       "0                    4.9  Hobbies > Model Trains & Railway Sets > Rail V...   \n",
       "1                    4.0  Hobbies > Model Trains & Railway Sets > Rail V...   \n",
       "2                    3.9  Hobbies > Model Trains & Railway Sets > Rail V...   \n",
       "\n",
       "          customers_who_bought_this_item_also_bought  \\\n",
       "0  http://www.amazon.co.uk/Hornby-R8150-Catalogue...   \n",
       "1  http://www.amazon.co.uk/Christmas-Holiday-Expr...   \n",
       "2  http://www.amazon.co.uk/Classic-Train-Lights-B...   \n",
       "\n",
       "                                         description  \\\n",
       "0  Product Description Hornby 2014 Catalogue Box ...   \n",
       "1  Size Name:Large FunkyBuys® Large Christmas Hol...   \n",
       "2  BIG CLASSIC TOY TRAIN SET TRACK CARRIAGE LIGHT...   \n",
       "\n",
       "                                 product_information  \\\n",
       "0  Technical Details Item Weight640 g Product Dim...   \n",
       "1  Technical Details Manufacturer recommended age...   \n",
       "2  Technical Details Manufacturer recommended age...   \n",
       "\n",
       "                                 product_description  \\\n",
       "0  Product Description Hornby 2014 Catalogue Box ...   \n",
       "1  Size Name:Large FunkyBuys® Large Christmas Hol...   \n",
       "2  BIG CLASSIC TOY TRAIN SET TRACK CARRIAGE LIGHT...   \n",
       "\n",
       "         items_customers_buy_after_viewing_this_item  \\\n",
       "0  http://www.amazon.co.uk/Hornby-R8150-Catalogue...   \n",
       "1  http://www.amazon.co.uk/Christmas-Holiday-Expr...   \n",
       "2  http://www.amazon.co.uk/Train-With-Tracks-Batt...   \n",
       "\n",
       "                      customer_questions_and_answers  \\\n",
       "0  Does this catalogue detail all the previous Ho...   \n",
       "1  can you turn off sounds // hi no you cant turn...   \n",
       "2  What is the gauge of the track // Hi Paul.Trut...   \n",
       "\n",
       "                                    customer_reviews  \\\n",
       "0  Worth Buying For The Pictures Alone (As Ever) ...   \n",
       "1  Four Stars // 4.0 // 18 Dec. 2015 // By\\n    \\...   \n",
       "2  **Highly Recommended!** // 5.0 // 26 May 2015 ...   \n",
       "\n",
       "                                             sellers  \n",
       "0  {\"seller\"=>[{\"Seller_name_1\"=>\"Amazon.co.uk\", ...  \n",
       "1  {\"seller\"=>{\"Seller_name_1\"=>\"UHD WHOLESALE\", ...  \n",
       "2  {\"seller\"=>[{\"Seller_name_1\"=>\"DEAL-BOX\", \"Sel...  "
      ]
     },
     "execution_count": 19,
     "metadata": {},
     "output_type": "execute_result"
    }
   ],
   "source": [
    "#fill in NaN's with 0's for everything else\n",
    "ecom = ecom.fillna(0)\n",
    "ecom.head(3)"
   ]
  },
  {
   "cell_type": "code",
   "execution_count": 20,
   "metadata": {
    "ExecuteTime": {
     "end_time": "2021-06-08T23:37:01.367995Z",
     "start_time": "2021-06-08T23:37:01.330663Z"
    }
   },
   "outputs": [
    {
     "data": {
      "text/plain": [
       "uniq_id                                        0\n",
       "product_name                                   0\n",
       "manufacturer                                   0\n",
       "price                                          0\n",
       "number_available_in_stock                      0\n",
       "number_of_reviews                              0\n",
       "number_of_answered_questions                   0\n",
       "average_review_rating                          0\n",
       "amazon_category_and_sub_category               0\n",
       "customers_who_bought_this_item_also_bought     0\n",
       "description                                    0\n",
       "product_information                            0\n",
       "product_description                            0\n",
       "items_customers_buy_after_viewing_this_item    0\n",
       "customer_questions_and_answers                 0\n",
       "customer_reviews                               0\n",
       "sellers                                        0\n",
       "dtype: int64"
      ]
     },
     "execution_count": 20,
     "metadata": {},
     "output_type": "execute_result"
    }
   ],
   "source": [
    "ecom.isnull().sum()"
   ]
  },
  {
   "cell_type": "markdown",
   "metadata": {},
   "source": [
    "## EDA\n",
    "\n",
    "Interesting possible questions for exploration:\n",
    "\n",
    "* Is there a correlation between number of reviews and number of questions?\n",
    "* Is there a relationship between the number of sellers and the star rating?\n",
    "* Is there a relationship between the star rating and the number of reviews?\n",
    "* Is there a relationship between the product description and the star rating?\n",
    "* Is there a relationship between a product being sold as new vs. used and its rating?\n",
    "* Is there a relaionship between the product price and average rating?\n",
    "* Do certain categories rank higher than others?"
   ]
  },
  {
   "cell_type": "code",
   "execution_count": 21,
   "metadata": {
    "ExecuteTime": {
     "end_time": "2021-06-08T23:37:01.383420Z",
     "start_time": "2021-06-08T23:37:01.370080Z"
    },
    "scrolled": true
   },
   "outputs": [
    {
     "data": {
      "text/plain": [
       "Index(['uniq_id', 'product_name', 'manufacturer', 'price',\n",
       "       'number_available_in_stock', 'number_of_reviews',\n",
       "       'number_of_answered_questions', 'average_review_rating',\n",
       "       'amazon_category_and_sub_category',\n",
       "       'customers_who_bought_this_item_also_bought', 'description',\n",
       "       'product_information', 'product_description',\n",
       "       'items_customers_buy_after_viewing_this_item',\n",
       "       'customer_questions_and_answers', 'customer_reviews', 'sellers'],\n",
       "      dtype='object')"
      ]
     },
     "execution_count": 21,
     "metadata": {},
     "output_type": "execute_result"
    }
   ],
   "source": [
    "ecom.columns"
   ]
  },
  {
   "cell_type": "code",
   "execution_count": 22,
   "metadata": {
    "ExecuteTime": {
     "end_time": "2021-06-08T23:37:01.413053Z",
     "start_time": "2021-06-08T23:37:01.388967Z"
    }
   },
   "outputs": [
    {
     "data": {
      "text/plain": [
       "20.265209    1432\n",
       "9.990000      189\n",
       "4.990000      140\n",
       "14.990000     132\n",
       "5.990000      126\n",
       "6.990000      125\n",
       "7.990000      125\n",
       "12.990000     123\n",
       "2.990000      118\n",
       "3.990000      114\n",
       "19.990000     112\n",
       "11.990000      89\n",
       "8.990000       82\n",
       "1.990000       78\n",
       "10.990000      77\n",
       "24.990000      69\n",
       "13.990000      62\n",
       "29.990000      61\n",
       "16.990000      52\n",
       "17.990000      42\n",
       "15.990000      41\n",
       "7.950000       41\n",
       "9.950000       40\n",
       "0.990000       39\n",
       "39.990000      39\n",
       "15.000000      37\n",
       "Name: price, dtype: int64"
      ]
     },
     "execution_count": 22,
     "metadata": {},
     "output_type": "execute_result"
    }
   ],
   "source": [
    "ecom['price'].value_counts().sort_values(ascending=False)[:15]\n",
    "#do as dist, instead"
   ]
  },
  {
   "cell_type": "code",
   "execution_count": 23,
   "metadata": {
    "ExecuteTime": {
     "end_time": "2021-06-08T23:37:01.470615Z",
     "start_time": "2021-06-08T23:37:01.415854Z"
    }
   },
   "outputs": [
    {
     "data": {
      "text/html": [
       "<div>\n",
       "<style scoped>\n",
       "    .dataframe tbody tr th:only-of-type {\n",
       "        vertical-align: middle;\n",
       "    }\n",
       "\n",
       "    .dataframe tbody tr th {\n",
       "        vertical-align: top;\n",
       "    }\n",
       "\n",
       "    .dataframe thead th {\n",
       "        text-align: right;\n",
       "    }\n",
       "</style>\n",
       "<table border=\"1\" class=\"dataframe\">\n",
       "  <thead>\n",
       "    <tr style=\"text-align: right;\">\n",
       "      <th></th>\n",
       "      <th>price</th>\n",
       "      <th>number_of_reviews</th>\n",
       "      <th>number_of_answered_questions</th>\n",
       "      <th>average_review_rating</th>\n",
       "    </tr>\n",
       "  </thead>\n",
       "  <tbody>\n",
       "    <tr>\n",
       "      <th>count</th>\n",
       "      <td>9982.000000</td>\n",
       "      <td>9982.000000</td>\n",
       "      <td>9982.000000</td>\n",
       "      <td>9982.000000</td>\n",
       "    </tr>\n",
       "    <tr>\n",
       "      <th>mean</th>\n",
       "      <td>20.265209</td>\n",
       "      <td>9.139952</td>\n",
       "      <td>1.694250</td>\n",
       "      <td>2.096584</td>\n",
       "    </tr>\n",
       "    <tr>\n",
       "      <th>std</th>\n",
       "      <td>42.911606</td>\n",
       "      <td>33.728145</td>\n",
       "      <td>2.469224</td>\n",
       "      <td>2.173103</td>\n",
       "    </tr>\n",
       "    <tr>\n",
       "      <th>min</th>\n",
       "      <td>0.010000</td>\n",
       "      <td>1.000000</td>\n",
       "      <td>0.000000</td>\n",
       "      <td>0.000000</td>\n",
       "    </tr>\n",
       "    <tr>\n",
       "      <th>25%</th>\n",
       "      <td>5.950000</td>\n",
       "      <td>1.000000</td>\n",
       "      <td>1.000000</td>\n",
       "      <td>0.000000</td>\n",
       "    </tr>\n",
       "    <tr>\n",
       "      <th>50%</th>\n",
       "      <td>12.990000</td>\n",
       "      <td>2.000000</td>\n",
       "      <td>1.000000</td>\n",
       "      <td>0.000000</td>\n",
       "    </tr>\n",
       "    <tr>\n",
       "      <th>75%</th>\n",
       "      <td>20.265209</td>\n",
       "      <td>6.000000</td>\n",
       "      <td>2.000000</td>\n",
       "      <td>4.200000</td>\n",
       "    </tr>\n",
       "    <tr>\n",
       "      <th>max</th>\n",
       "      <td>2439.920000</td>\n",
       "      <td>1399.000000</td>\n",
       "      <td>39.000000</td>\n",
       "      <td>4.900000</td>\n",
       "    </tr>\n",
       "  </tbody>\n",
       "</table>\n",
       "</div>"
      ],
      "text/plain": [
       "             price  number_of_reviews  number_of_answered_questions  \\\n",
       "count  9982.000000        9982.000000                   9982.000000   \n",
       "mean     20.265209           9.139952                      1.694250   \n",
       "std      42.911606          33.728145                      2.469224   \n",
       "min       0.010000           1.000000                      0.000000   \n",
       "25%       5.950000           1.000000                      1.000000   \n",
       "50%      12.990000           2.000000                      1.000000   \n",
       "75%      20.265209           6.000000                      2.000000   \n",
       "max    2439.920000        1399.000000                     39.000000   \n",
       "\n",
       "       average_review_rating  \n",
       "count            9982.000000  \n",
       "mean                2.096584  \n",
       "std                 2.173103  \n",
       "min                 0.000000  \n",
       "25%                 0.000000  \n",
       "50%                 0.000000  \n",
       "75%                 4.200000  \n",
       "max                 4.900000  "
      ]
     },
     "execution_count": 23,
     "metadata": {},
     "output_type": "execute_result"
    }
   ],
   "source": [
    "ecom.describe()"
   ]
  },
  {
   "cell_type": "code",
   "execution_count": 24,
   "metadata": {
    "ExecuteTime": {
     "end_time": "2021-06-08T23:37:01.485397Z",
     "start_time": "2021-06-08T23:37:01.472743Z"
    }
   },
   "outputs": [
    {
     "data": {
      "text/plain": [
       "1      4315\n",
       "2      1427\n",
       "3       768\n",
       "4       524\n",
       "5       351\n",
       "       ... \n",
       "379       1\n",
       "108       1\n",
       "124       1\n",
       "132       1\n",
       "243       1\n",
       "Name: number_of_reviews, Length: 194, dtype: int64"
      ]
     },
     "execution_count": 24,
     "metadata": {},
     "output_type": "execute_result"
    }
   ],
   "source": [
    "ecom['number_of_reviews'].value_counts()"
   ]
  },
  {
   "cell_type": "code",
   "execution_count": 25,
   "metadata": {
    "ExecuteTime": {
     "end_time": "2021-06-08T23:37:01.502228Z",
     "start_time": "2021-06-08T23:37:01.489928Z"
    }
   },
   "outputs": [
    {
     "data": {
      "text/plain": [
       "0        2497\n",
       "2 new    1336\n",
       "3 new     980\n",
       "4 new     752\n",
       "5 new     589\n",
       "6 new     475\n",
       "1 new     403\n",
       "7 new     369\n",
       "8 new     292\n",
       "9 new     207\n",
       "Name: number_available_in_stock, dtype: int64"
      ]
     },
     "execution_count": 25,
     "metadata": {},
     "output_type": "execute_result"
    }
   ],
   "source": [
    "ecom['number_available_in_stock'].value_counts()[:10]\n",
    "#replace w/ a search for ~like new, ~like used, and then get a count"
   ]
  },
  {
   "cell_type": "code",
   "execution_count": 26,
   "metadata": {
    "ExecuteTime": {
     "end_time": "2021-06-08T23:37:01.511375Z",
     "start_time": "2021-06-08T23:37:01.506729Z"
    }
   },
   "outputs": [],
   "source": [
    "#groupby product ID to reveal number of verbal reviews"
   ]
  },
  {
   "cell_type": "markdown",
   "metadata": {},
   "source": [
    "## Feature engineering\n",
    "\n",
    "We need to convert things like ratings so that the modeling works correctly.\n",
    "\n",
    "The plan:\n",
    "\n",
    "* Categorize / one hot encode the ratings column "
   ]
  },
  {
   "cell_type": "code",
   "execution_count": 27,
   "metadata": {
    "ExecuteTime": {
     "end_time": "2021-06-08T23:37:01.523710Z",
     "start_time": "2021-06-08T23:37:01.517224Z"
    }
   },
   "outputs": [],
   "source": [
    "#one-hot encode ratings column on a scale of 1-5? Or is target?"
   ]
  },
  {
   "cell_type": "code",
   "execution_count": 28,
   "metadata": {
    "ExecuteTime": {
     "end_time": "2021-06-08T23:37:01.531021Z",
     "start_time": "2021-06-08T23:37:01.526243Z"
    }
   },
   "outputs": [],
   "source": [
    "#move out new vs. used items into sep. columns (binarize)"
   ]
  },
  {
   "cell_type": "markdown",
   "metadata": {},
   "source": [
    "## NLP\n",
    "\n",
    "Open questions:\n",
    "\n",
    "* Sentiment of reviews\n",
    "* Does sentiment correspond to star rating?"
   ]
  },
  {
   "cell_type": "code",
   "execution_count": 29,
   "metadata": {
    "ExecuteTime": {
     "end_time": "2021-06-08T23:37:01.544010Z",
     "start_time": "2021-06-08T23:37:01.537710Z"
    }
   },
   "outputs": [],
   "source": [
    "#vectorize text"
   ]
  },
  {
   "cell_type": "code",
   "execution_count": null,
   "metadata": {},
   "outputs": [],
   "source": []
  },
  {
   "cell_type": "markdown",
   "metadata": {},
   "source": [
    "## Modeling - classifier"
   ]
  },
  {
   "cell_type": "code",
   "execution_count": 30,
   "metadata": {
    "ExecuteTime": {
     "end_time": "2021-06-08T23:37:01.551620Z",
     "start_time": "2021-06-08T23:37:01.547231Z"
    }
   },
   "outputs": [],
   "source": [
    "#reviews\n",
    "#price\n",
    "#category"
   ]
  },
  {
   "cell_type": "markdown",
   "metadata": {},
   "source": [
    "## Evaluation"
   ]
  },
  {
   "cell_type": "code",
   "execution_count": null,
   "metadata": {},
   "outputs": [],
   "source": []
  },
  {
   "cell_type": "markdown",
   "metadata": {},
   "source": [
    "## Conclusions & next steps"
   ]
  },
  {
   "cell_type": "code",
   "execution_count": null,
   "metadata": {},
   "outputs": [],
   "source": []
  }
 ],
 "metadata": {
  "kernelspec": {
   "display_name": "Python 3",
   "language": "python",
   "name": "python3"
  },
  "language_info": {
   "codemirror_mode": {
    "name": "ipython",
    "version": 3
   },
   "file_extension": ".py",
   "mimetype": "text/x-python",
   "name": "python",
   "nbconvert_exporter": "python",
   "pygments_lexer": "ipython3",
   "version": "3.8.3"
  },
  "toc": {
   "base_numbering": 1,
   "nav_menu": {},
   "number_sections": true,
   "sideBar": true,
   "skip_h1_title": false,
   "title_cell": "Table of Contents",
   "title_sidebar": "Contents",
   "toc_cell": false,
   "toc_position": {},
   "toc_section_display": true,
   "toc_window_display": true
  },
  "varInspector": {
   "cols": {
    "lenName": 16,
    "lenType": 16,
    "lenVar": 40
   },
   "kernels_config": {
    "python": {
     "delete_cmd_postfix": "",
     "delete_cmd_prefix": "del ",
     "library": "var_list.py",
     "varRefreshCmd": "print(var_dic_list())"
    },
    "r": {
     "delete_cmd_postfix": ") ",
     "delete_cmd_prefix": "rm(",
     "library": "var_list.r",
     "varRefreshCmd": "cat(var_dic_list()) "
    }
   },
   "types_to_exclude": [
    "module",
    "function",
    "builtin_function_or_method",
    "instance",
    "_Feature"
   ],
   "window_display": false
  }
 },
 "nbformat": 4,
 "nbformat_minor": 4
}
