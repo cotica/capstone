{
 "cells": [
  {
   "cell_type": "markdown",
   "metadata": {},
   "source": [
    "# Amazon recommender\n",
    "\n",
    "## Data import + cleaning"
   ]
  },
  {
   "cell_type": "code",
   "execution_count": 2,
   "metadata": {
    "ExecuteTime": {
     "end_time": "2021-05-18T06:31:17.093953Z",
     "start_time": "2021-05-18T06:31:12.966908Z"
    }
   },
   "outputs": [],
   "source": [
    "#libraries\n",
    "import pandas as pd, numpy as np, matplotlib.pyplot as plt, \\\n",
    "seaborn as sns"
   ]
  },
  {
   "cell_type": "code",
   "execution_count": 4,
   "metadata": {
    "ExecuteTime": {
     "end_time": "2021-05-18T06:31:32.902709Z",
     "start_time": "2021-05-18T06:31:32.830609Z"
    }
   },
   "outputs": [],
   "source": [
    "#fetch data\n",
    "orders = pd.read_csv('../data/01-Jan-2008_to_18-May-2021.csv')"
   ]
  },
  {
   "cell_type": "code",
   "execution_count": 5,
   "metadata": {
    "ExecuteTime": {
     "end_time": "2021-05-18T06:31:40.508273Z",
     "start_time": "2021-05-18T06:31:40.461662Z"
    }
   },
   "outputs": [
    {
     "data": {
      "text/html": [
       "<div>\n",
       "<style scoped>\n",
       "    .dataframe tbody tr th:only-of-type {\n",
       "        vertical-align: middle;\n",
       "    }\n",
       "\n",
       "    .dataframe tbody tr th {\n",
       "        vertical-align: top;\n",
       "    }\n",
       "\n",
       "    .dataframe thead th {\n",
       "        text-align: right;\n",
       "    }\n",
       "</style>\n",
       "<table border=\"1\" class=\"dataframe\">\n",
       "  <thead>\n",
       "    <tr style=\"text-align: right;\">\n",
       "      <th></th>\n",
       "      <th>Order Date</th>\n",
       "      <th>Order ID</th>\n",
       "      <th>Title</th>\n",
       "      <th>Category</th>\n",
       "      <th>ASIN/ISBN</th>\n",
       "      <th>UNSPSC Code</th>\n",
       "      <th>Website</th>\n",
       "      <th>Release Date</th>\n",
       "      <th>Condition</th>\n",
       "      <th>Seller</th>\n",
       "      <th>...</th>\n",
       "      <th>Carrier Name &amp; Tracking Number</th>\n",
       "      <th>Item Subtotal</th>\n",
       "      <th>Item Subtotal Tax</th>\n",
       "      <th>Item Total</th>\n",
       "      <th>Tax Exemption Applied</th>\n",
       "      <th>Tax Exemption Type</th>\n",
       "      <th>Exemption Opt-Out</th>\n",
       "      <th>Buyer Name</th>\n",
       "      <th>Currency</th>\n",
       "      <th>Group Name</th>\n",
       "    </tr>\n",
       "  </thead>\n",
       "  <tbody>\n",
       "    <tr>\n",
       "      <th>0</th>\n",
       "      <td>12/15/08</td>\n",
       "      <td>002-9208212-4089021</td>\n",
       "      <td>NaN</td>\n",
       "      <td>NaN</td>\n",
       "      <td>B0006HGNJ4</td>\n",
       "      <td>NaN</td>\n",
       "      <td>Amazon.com</td>\n",
       "      <td>NaN</td>\n",
       "      <td>NaN</td>\n",
       "      <td>Watch Values</td>\n",
       "      <td>...</td>\n",
       "      <td>USPS(9101805213907299379333)</td>\n",
       "      <td>$24.95</td>\n",
       "      <td>$0.00</td>\n",
       "      <td>$24.95</td>\n",
       "      <td>NaN</td>\n",
       "      <td>NaN</td>\n",
       "      <td>NaN</td>\n",
       "      <td>Veronica</td>\n",
       "      <td>USD</td>\n",
       "      <td>NaN</td>\n",
       "    </tr>\n",
       "    <tr>\n",
       "      <th>1</th>\n",
       "      <td>03/23/09</td>\n",
       "      <td>058-3723913-1124538</td>\n",
       "      <td>The Wall</td>\n",
       "      <td>ABIS_MUSIC</td>\n",
       "      <td>B000006TRV</td>\n",
       "      <td>55111512.0</td>\n",
       "      <td>Amazon.com</td>\n",
       "      <td>1994-01-01T00:00</td>\n",
       "      <td>new</td>\n",
       "      <td>megahitrecords</td>\n",
       "      <td>...</td>\n",
       "      <td>NaN</td>\n",
       "      <td>$15.24</td>\n",
       "      <td>$0.00</td>\n",
       "      <td>$15.24</td>\n",
       "      <td>NaN</td>\n",
       "      <td>NaN</td>\n",
       "      <td>NaN</td>\n",
       "      <td>Veronica</td>\n",
       "      <td>USD</td>\n",
       "      <td>NaN</td>\n",
       "    </tr>\n",
       "    <tr>\n",
       "      <th>2</th>\n",
       "      <td>01/07/10</td>\n",
       "      <td>105-6872349-1957028</td>\n",
       "      <td>Dreamland</td>\n",
       "      <td>ABIS_MUSIC</td>\n",
       "      <td>B000002VRQ</td>\n",
       "      <td>55111512.0</td>\n",
       "      <td>Amazon.com</td>\n",
       "      <td>1996-07-30T00:00:01</td>\n",
       "      <td>new</td>\n",
       "      <td>Amazon.com</td>\n",
       "      <td>...</td>\n",
       "      <td>USPS(9102001206749319387592)</td>\n",
       "      <td>$6.99</td>\n",
       "      <td>$0.66</td>\n",
       "      <td>$7.65</td>\n",
       "      <td>NaN</td>\n",
       "      <td>NaN</td>\n",
       "      <td>NaN</td>\n",
       "      <td>Veronica</td>\n",
       "      <td>USD</td>\n",
       "      <td>NaN</td>\n",
       "    </tr>\n",
       "    <tr>\n",
       "      <th>3</th>\n",
       "      <td>06/01/10</td>\n",
       "      <td>102-2903451-7921061</td>\n",
       "      <td>Neotech Accordion Harness, Original - Padded S...</td>\n",
       "      <td>INSTRUMENT_PARTS_AND_ACCESSORIES</td>\n",
       "      <td>B000E2F3UQ</td>\n",
       "      <td>60131500.0</td>\n",
       "      <td>Amazon.com</td>\n",
       "      <td>NaN</td>\n",
       "      <td>new</td>\n",
       "      <td>Hairy Harry's Music</td>\n",
       "      <td>...</td>\n",
       "      <td>USPS(9101150134711197827330)</td>\n",
       "      <td>$38.95</td>\n",
       "      <td>$0.00</td>\n",
       "      <td>$38.95</td>\n",
       "      <td>NaN</td>\n",
       "      <td>NaN</td>\n",
       "      <td>NaN</td>\n",
       "      <td>Veronica</td>\n",
       "      <td>USD</td>\n",
       "      <td>NaN</td>\n",
       "    </tr>\n",
       "    <tr>\n",
       "      <th>4</th>\n",
       "      <td>12/19/10</td>\n",
       "      <td>104-0250440-8561850</td>\n",
       "      <td>Vista International 9200S Silver Bubble Umbrella</td>\n",
       "      <td>BAG</td>\n",
       "      <td>B00383QNIO</td>\n",
       "      <td>53102505.0</td>\n",
       "      <td>Amazon.com</td>\n",
       "      <td>NaN</td>\n",
       "      <td>new</td>\n",
       "      <td>Better Canes and Umbrellas Inc.</td>\n",
       "      <td>...</td>\n",
       "      <td>UPS(1Z437Y5W0348615590)</td>\n",
       "      <td>$22.00</td>\n",
       "      <td>$0.00</td>\n",
       "      <td>$22.00</td>\n",
       "      <td>NaN</td>\n",
       "      <td>NaN</td>\n",
       "      <td>NaN</td>\n",
       "      <td>Veronica</td>\n",
       "      <td>USD</td>\n",
       "      <td>NaN</td>\n",
       "    </tr>\n",
       "  </tbody>\n",
       "</table>\n",
       "<p>5 rows × 36 columns</p>\n",
       "</div>"
      ],
      "text/plain": [
       "  Order Date             Order ID  \\\n",
       "0   12/15/08  002-9208212-4089021   \n",
       "1   03/23/09  058-3723913-1124538   \n",
       "2   01/07/10  105-6872349-1957028   \n",
       "3   06/01/10  102-2903451-7921061   \n",
       "4   12/19/10  104-0250440-8561850   \n",
       "\n",
       "                                               Title  \\\n",
       "0                                                NaN   \n",
       "1                                           The Wall   \n",
       "2                                          Dreamland   \n",
       "3  Neotech Accordion Harness, Original - Padded S...   \n",
       "4   Vista International 9200S Silver Bubble Umbrella   \n",
       "\n",
       "                           Category   ASIN/ISBN  UNSPSC Code     Website  \\\n",
       "0                               NaN  B0006HGNJ4          NaN  Amazon.com   \n",
       "1                        ABIS_MUSIC  B000006TRV   55111512.0  Amazon.com   \n",
       "2                        ABIS_MUSIC  B000002VRQ   55111512.0  Amazon.com   \n",
       "3  INSTRUMENT_PARTS_AND_ACCESSORIES  B000E2F3UQ   60131500.0  Amazon.com   \n",
       "4                               BAG  B00383QNIO   53102505.0  Amazon.com   \n",
       "\n",
       "          Release Date Condition                           Seller  ...  \\\n",
       "0                  NaN       NaN                     Watch Values  ...   \n",
       "1     1994-01-01T00:00       new                   megahitrecords  ...   \n",
       "2  1996-07-30T00:00:01       new                       Amazon.com  ...   \n",
       "3                  NaN       new              Hairy Harry's Music  ...   \n",
       "4                  NaN       new  Better Canes and Umbrellas Inc.  ...   \n",
       "\n",
       "  Carrier Name & Tracking Number Item Subtotal Item Subtotal Tax  Item Total  \\\n",
       "0   USPS(9101805213907299379333)        $24.95             $0.00      $24.95   \n",
       "1                            NaN        $15.24             $0.00      $15.24   \n",
       "2   USPS(9102001206749319387592)         $6.99             $0.66       $7.65   \n",
       "3   USPS(9101150134711197827330)        $38.95             $0.00      $38.95   \n",
       "4        UPS(1Z437Y5W0348615590)        $22.00             $0.00      $22.00   \n",
       "\n",
       "  Tax Exemption Applied  Tax Exemption Type  Exemption Opt-Out Buyer Name  \\\n",
       "0                   NaN                 NaN                NaN   Veronica   \n",
       "1                   NaN                 NaN                NaN   Veronica   \n",
       "2                   NaN                 NaN                NaN   Veronica   \n",
       "3                   NaN                 NaN                NaN   Veronica   \n",
       "4                   NaN                 NaN                NaN   Veronica   \n",
       "\n",
       "  Currency Group Name  \n",
       "0      USD        NaN  \n",
       "1      USD        NaN  \n",
       "2      USD        NaN  \n",
       "3      USD        NaN  \n",
       "4      USD        NaN  \n",
       "\n",
       "[5 rows x 36 columns]"
      ]
     },
     "execution_count": 5,
     "metadata": {},
     "output_type": "execute_result"
    }
   ],
   "source": [
    "#peek at data\n",
    "orders.head()"
   ]
  },
  {
   "cell_type": "code",
   "execution_count": 6,
   "metadata": {
    "ExecuteTime": {
     "end_time": "2021-05-18T06:31:55.932996Z",
     "start_time": "2021-05-18T06:31:55.923593Z"
    },
    "scrolled": true
   },
   "outputs": [
    {
     "data": {
      "text/plain": [
       "Index(['Order Date', 'Order ID', 'Title', 'Category', 'ASIN/ISBN',\n",
       "       'UNSPSC Code', 'Website', 'Release Date', 'Condition', 'Seller',\n",
       "       'Seller Credentials', 'List Price Per Unit', 'Purchase Price Per Unit',\n",
       "       'Quantity', 'Payment Instrument Type', 'Purchase Order Number',\n",
       "       'PO Line Number', 'Ordering Customer Email', 'Shipment Date',\n",
       "       'Shipping Address Name', 'Shipping Address Street 1',\n",
       "       'Shipping Address Street 2', 'Shipping Address City',\n",
       "       'Shipping Address State', 'Shipping Address Zip', 'Order Status',\n",
       "       'Carrier Name & Tracking Number', 'Item Subtotal', 'Item Subtotal Tax',\n",
       "       'Item Total', 'Tax Exemption Applied', 'Tax Exemption Type',\n",
       "       'Exemption Opt-Out', 'Buyer Name', 'Currency', 'Group Name'],\n",
       "      dtype='object')"
      ]
     },
     "execution_count": 6,
     "metadata": {},
     "output_type": "execute_result"
    }
   ],
   "source": [
    "#understand prospective features\n",
    "orders.columns"
   ]
  },
  {
   "cell_type": "code",
   "execution_count": 7,
   "metadata": {
    "ExecuteTime": {
     "end_time": "2021-05-18T06:32:02.997397Z",
     "start_time": "2021-05-18T06:32:02.987484Z"
    }
   },
   "outputs": [
    {
     "data": {
      "text/plain": [
       "(2242, 36)"
      ]
     },
     "execution_count": 7,
     "metadata": {},
     "output_type": "execute_result"
    }
   ],
   "source": [
    "#understand size of data\n",
    "orders.shape"
   ]
  },
  {
   "cell_type": "code",
   "execution_count": 8,
   "metadata": {
    "ExecuteTime": {
     "end_time": "2021-05-18T06:33:50.029517Z",
     "start_time": "2021-05-18T06:33:50.001080Z"
    },
    "scrolled": true
   },
   "outputs": [
    {
     "name": "stdout",
     "output_type": "stream",
     "text": [
      "<class 'pandas.core.frame.DataFrame'>\n",
      "RangeIndex: 2242 entries, 0 to 2241\n",
      "Data columns (total 36 columns):\n",
      " #   Column                          Non-Null Count  Dtype  \n",
      "---  ------                          --------------  -----  \n",
      " 0   Order Date                      2242 non-null   object \n",
      " 1   Order ID                        2242 non-null   object \n",
      " 2   Title                           2163 non-null   object \n",
      " 3   Category                        2163 non-null   object \n",
      " 4   ASIN/ISBN                       2242 non-null   object \n",
      " 5   UNSPSC Code                     2163 non-null   float64\n",
      " 6   Website                         2242 non-null   object \n",
      " 7   Release Date                    77 non-null     object \n",
      " 8   Condition                       2241 non-null   object \n",
      " 9   Seller                          2241 non-null   object \n",
      " 10  Seller Credentials              5 non-null      object \n",
      " 11  List Price Per Unit             2242 non-null   object \n",
      " 12  Purchase Price Per Unit         2242 non-null   object \n",
      " 13  Quantity                        2242 non-null   int64  \n",
      " 14  Payment Instrument Type         2242 non-null   object \n",
      " 15  Purchase Order Number           0 non-null      float64\n",
      " 16  PO Line Number                  0 non-null      float64\n",
      " 17  Ordering Customer Email         2242 non-null   object \n",
      " 18  Shipment Date                   2225 non-null   object \n",
      " 19  Shipping Address Name           2242 non-null   object \n",
      " 20  Shipping Address Street 1       2238 non-null   object \n",
      " 21  Shipping Address Street 2       641 non-null    float64\n",
      " 22  Shipping Address City           2238 non-null   object \n",
      " 23  Shipping Address State          2238 non-null   object \n",
      " 24  Shipping Address Zip            2238 non-null   object \n",
      " 25  Order Status                    2225 non-null   object \n",
      " 26  Carrier Name & Tracking Number  2219 non-null   object \n",
      " 27  Item Subtotal                   2242 non-null   object \n",
      " 28  Item Subtotal Tax               2242 non-null   object \n",
      " 29  Item Total                      2242 non-null   object \n",
      " 30  Tax Exemption Applied           228 non-null    object \n",
      " 31  Tax Exemption Type              0 non-null      float64\n",
      " 32  Exemption Opt-Out               228 non-null    object \n",
      " 33  Buyer Name                      2242 non-null   object \n",
      " 34  Currency                        2242 non-null   object \n",
      " 35  Group Name                      0 non-null      float64\n",
      "dtypes: float64(6), int64(1), object(29)\n",
      "memory usage: 630.7+ KB\n"
     ]
    }
   ],
   "source": [
    "#data types we are dealing with and presence of nulls\n",
    "orders.info()"
   ]
  },
  {
   "cell_type": "code",
   "execution_count": 10,
   "metadata": {
    "ExecuteTime": {
     "end_time": "2021-05-18T06:34:08.677661Z",
     "start_time": "2021-05-18T06:34:08.626734Z"
    }
   },
   "outputs": [
    {
     "data": {
      "text/html": [
       "<div>\n",
       "<style scoped>\n",
       "    .dataframe tbody tr th:only-of-type {\n",
       "        vertical-align: middle;\n",
       "    }\n",
       "\n",
       "    .dataframe tbody tr th {\n",
       "        vertical-align: top;\n",
       "    }\n",
       "\n",
       "    .dataframe thead th {\n",
       "        text-align: right;\n",
       "    }\n",
       "</style>\n",
       "<table border=\"1\" class=\"dataframe\">\n",
       "  <thead>\n",
       "    <tr style=\"text-align: right;\">\n",
       "      <th></th>\n",
       "      <th>count</th>\n",
       "      <th>mean</th>\n",
       "      <th>std</th>\n",
       "      <th>min</th>\n",
       "      <th>25%</th>\n",
       "      <th>50%</th>\n",
       "      <th>75%</th>\n",
       "      <th>max</th>\n",
       "    </tr>\n",
       "  </thead>\n",
       "  <tbody>\n",
       "    <tr>\n",
       "      <th>UNSPSC Code</th>\n",
       "      <td>2163.0</td>\n",
       "      <td>4.909079e+07</td>\n",
       "      <td>9.088133e+06</td>\n",
       "      <td>10111300.0</td>\n",
       "      <td>50000000.0</td>\n",
       "      <td>50202300.0</td>\n",
       "      <td>53102500.5</td>\n",
       "      <td>78130000.0</td>\n",
       "    </tr>\n",
       "    <tr>\n",
       "      <th>Quantity</th>\n",
       "      <td>2242.0</td>\n",
       "      <td>1.102587e+00</td>\n",
       "      <td>4.331248e-01</td>\n",
       "      <td>0.0</td>\n",
       "      <td>1.0</td>\n",
       "      <td>1.0</td>\n",
       "      <td>1.0</td>\n",
       "      <td>7.0</td>\n",
       "    </tr>\n",
       "    <tr>\n",
       "      <th>Purchase Order Number</th>\n",
       "      <td>0.0</td>\n",
       "      <td>NaN</td>\n",
       "      <td>NaN</td>\n",
       "      <td>NaN</td>\n",
       "      <td>NaN</td>\n",
       "      <td>NaN</td>\n",
       "      <td>NaN</td>\n",
       "      <td>NaN</td>\n",
       "    </tr>\n",
       "    <tr>\n",
       "      <th>PO Line Number</th>\n",
       "      <td>0.0</td>\n",
       "      <td>NaN</td>\n",
       "      <td>NaN</td>\n",
       "      <td>NaN</td>\n",
       "      <td>NaN</td>\n",
       "      <td>NaN</td>\n",
       "      <td>NaN</td>\n",
       "      <td>NaN</td>\n",
       "    </tr>\n",
       "    <tr>\n",
       "      <th>Shipping Address Street 2</th>\n",
       "      <td>641.0</td>\n",
       "      <td>5.040000e+02</td>\n",
       "      <td>0.000000e+00</td>\n",
       "      <td>504.0</td>\n",
       "      <td>504.0</td>\n",
       "      <td>504.0</td>\n",
       "      <td>504.0</td>\n",
       "      <td>504.0</td>\n",
       "    </tr>\n",
       "    <tr>\n",
       "      <th>Tax Exemption Type</th>\n",
       "      <td>0.0</td>\n",
       "      <td>NaN</td>\n",
       "      <td>NaN</td>\n",
       "      <td>NaN</td>\n",
       "      <td>NaN</td>\n",
       "      <td>NaN</td>\n",
       "      <td>NaN</td>\n",
       "      <td>NaN</td>\n",
       "    </tr>\n",
       "    <tr>\n",
       "      <th>Group Name</th>\n",
       "      <td>0.0</td>\n",
       "      <td>NaN</td>\n",
       "      <td>NaN</td>\n",
       "      <td>NaN</td>\n",
       "      <td>NaN</td>\n",
       "      <td>NaN</td>\n",
       "      <td>NaN</td>\n",
       "      <td>NaN</td>\n",
       "    </tr>\n",
       "  </tbody>\n",
       "</table>\n",
       "</div>"
      ],
      "text/plain": [
       "                            count          mean           std         min  \\\n",
       "UNSPSC Code                2163.0  4.909079e+07  9.088133e+06  10111300.0   \n",
       "Quantity                   2242.0  1.102587e+00  4.331248e-01         0.0   \n",
       "Purchase Order Number         0.0           NaN           NaN         NaN   \n",
       "PO Line Number                0.0           NaN           NaN         NaN   \n",
       "Shipping Address Street 2   641.0  5.040000e+02  0.000000e+00       504.0   \n",
       "Tax Exemption Type            0.0           NaN           NaN         NaN   \n",
       "Group Name                    0.0           NaN           NaN         NaN   \n",
       "\n",
       "                                  25%         50%         75%         max  \n",
       "UNSPSC Code                50000000.0  50202300.0  53102500.5  78130000.0  \n",
       "Quantity                          1.0         1.0         1.0         7.0  \n",
       "Purchase Order Number             NaN         NaN         NaN         NaN  \n",
       "PO Line Number                    NaN         NaN         NaN         NaN  \n",
       "Shipping Address Street 2       504.0       504.0       504.0       504.0  \n",
       "Tax Exemption Type                NaN         NaN         NaN         NaN  \n",
       "Group Name                        NaN         NaN         NaN         NaN  "
      ]
     },
     "execution_count": 10,
     "metadata": {},
     "output_type": "execute_result"
    }
   ],
   "source": [
    "#descriptive stats\n",
    "orders.describe().T"
   ]
  },
  {
   "cell_type": "markdown",
   "metadata": {},
   "source": [
    "## EDA"
   ]
  },
  {
   "cell_type": "code",
   "execution_count": null,
   "metadata": {},
   "outputs": [],
   "source": []
  },
  {
   "cell_type": "markdown",
   "metadata": {},
   "source": [
    "## Modeling"
   ]
  },
  {
   "cell_type": "code",
   "execution_count": null,
   "metadata": {},
   "outputs": [],
   "source": []
  }
 ],
 "metadata": {
  "kernelspec": {
   "display_name": "Python 3",
   "language": "python",
   "name": "python3"
  },
  "language_info": {
   "codemirror_mode": {
    "name": "ipython",
    "version": 3
   },
   "file_extension": ".py",
   "mimetype": "text/x-python",
   "name": "python",
   "nbconvert_exporter": "python",
   "pygments_lexer": "ipython3",
   "version": "3.8.3"
  },
  "toc": {
   "base_numbering": 1,
   "nav_menu": {},
   "number_sections": true,
   "sideBar": true,
   "skip_h1_title": false,
   "title_cell": "Table of Contents",
   "title_sidebar": "Contents",
   "toc_cell": false,
   "toc_position": {},
   "toc_section_display": true,
   "toc_window_display": true
  },
  "varInspector": {
   "cols": {
    "lenName": 16,
    "lenType": 16,
    "lenVar": 40
   },
   "kernels_config": {
    "python": {
     "delete_cmd_postfix": "",
     "delete_cmd_prefix": "del ",
     "library": "var_list.py",
     "varRefreshCmd": "print(var_dic_list())"
    },
    "r": {
     "delete_cmd_postfix": ") ",
     "delete_cmd_prefix": "rm(",
     "library": "var_list.r",
     "varRefreshCmd": "cat(var_dic_list()) "
    }
   },
   "types_to_exclude": [
    "module",
    "function",
    "builtin_function_or_method",
    "instance",
    "_Feature"
   ],
   "window_display": false
  }
 },
 "nbformat": 4,
 "nbformat_minor": 4
}
