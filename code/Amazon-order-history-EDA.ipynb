{
 "cells": [
  {
   "cell_type": "markdown",
   "metadata": {},
   "source": [
    "# Amazon product catalog: understanding ratings\n",
    "\n",
    "\n",
    "## Problem scope\n",
    "\n",
    "What do Amazon reviews say about the product, and can reviews be used reliably to predict the product category?\n",
    "\n",
    "## Open questions / workflow\n",
    "\n",
    "1. Predict the rating based on item desc.: regression w/ language data\n",
    "\n",
    "2. How well reviewed something is\n",
    "\n",
    "3. Figure out product, product contents, product tags, document per row + brand + company type, product category, description\n",
    "\n",
    "4. Probability that the thing we labeled is actually in that class?\n",
    "\n",
    "\n",
    "## Data imports\n",
    "\n",
    "### Libraries"
   ]
  },
  {
   "cell_type": "code",
   "execution_count": null,
   "metadata": {
    "ExecuteTime": {
     "end_time": "2021-06-11T09:37:11.757164Z",
     "start_time": "2021-06-11T09:36:56.370129Z"
    }
   },
   "outputs": [],
   "source": [
    "#basic ops\n",
    "import pandas as pd, numpy as np, matplotlib.pyplot as plt, seaborn as sns, re\n",
    "\n",
    "#other helper functions\n",
    "from pandasql import sqldf\n",
    "from math import pi\n",
    "\n",
    "#show grid on plots\n",
    "sns.set_style('darkgrid')\n",
    "\n",
    "#display tables without ellipsis\n",
    "pd.set_option('display.max_rows', None)\n",
    "\n",
    "\n",
    "#NLP\n",
    "from nltk.stem import WordNetLemmatizer\n",
    "from nltk.sentiment.vader import SentimentIntensityAnalyzer\n",
    "from nltk.tokenize import RegexpTokenizer\n",
    "\n",
    "#import gensim.downloader as api #allows us to get word2vec anf glove embeddings that we need\n",
    "#from gensim.models.word2vec import Word2Vec\n",
    "#from transformers import pipeline\n",
    "from sklearn.feature_extraction.text import CountVectorizer, TfidfVectorizer\n",
    "\n",
    "#modeling\n",
    "from sklearn.linear_model import LinearRegression, LogisticRegression\n",
    "from sklearn.model_selection import train_test_split, GridSearchCV, \\\n",
    "                                    cross_val_score"
   ]
  },
  {
   "cell_type": "markdown",
   "metadata": {},
   "source": [
    "### Product dataset"
   ]
  },
  {
   "cell_type": "code",
   "execution_count": null,
   "metadata": {
    "ExecuteTime": {
     "end_time": "2021-06-11T09:37:12.229220Z",
     "start_time": "2021-06-11T09:37:11.760588Z"
    }
   },
   "outputs": [],
   "source": [
    "#import ecom dataset\n",
    "ecom = pd.read_csv('../data/amazon_co-ecommerce_sample.csv')"
   ]
  },
  {
   "cell_type": "code",
   "execution_count": null,
   "metadata": {
    "ExecuteTime": {
     "end_time": "2021-06-11T09:37:12.239425Z",
     "start_time": "2021-06-11T09:37:12.231930Z"
    }
   },
   "outputs": [],
   "source": [
    "#check data size\n",
    "ecom.shape"
   ]
  },
  {
   "cell_type": "code",
   "execution_count": null,
   "metadata": {
    "ExecuteTime": {
     "end_time": "2021-06-11T09:37:12.268854Z",
     "start_time": "2021-06-11T09:37:12.242653Z"
    }
   },
   "outputs": [],
   "source": [
    "#check data types\n",
    "ecom.info()"
   ]
  },
  {
   "cell_type": "code",
   "execution_count": null,
   "metadata": {
    "ExecuteTime": {
     "end_time": "2021-06-11T09:37:12.300709Z",
     "start_time": "2021-06-11T09:37:12.271196Z"
    },
    "scrolled": true
   },
   "outputs": [],
   "source": [
    "#peek at dataframe\n",
    "ecom.head()"
   ]
  },
  {
   "cell_type": "markdown",
   "metadata": {},
   "source": [
    "## Cleaning"
   ]
  },
  {
   "cell_type": "markdown",
   "metadata": {},
   "source": [
    "Let's clean up our columns, including price, so that they can converge properly.\n",
    "\n",
    "### Remove extraneous characters\n",
    "\n",
    "From the pound signs in the prices, to prices listed as ranges, we have some issues in our data formats. Let's fix these.\n",
    "\n",
    "For price ranges, I will merely consume the lower bound of the price."
   ]
  },
  {
   "cell_type": "code",
   "execution_count": null,
   "metadata": {
    "ExecuteTime": {
     "end_time": "2021-06-11T09:37:12.308360Z",
     "start_time": "2021-06-11T09:37:12.302695Z"
    }
   },
   "outputs": [],
   "source": [
    "#Substantial datatype conversion help here from https://pbpython.com/currency-cleanup.html\n",
    "\n",
    "def clean_price(x):\n",
    "    \n",
    "    if isinstance(x, str):\n",
    "#If the value is a string, then remove currency symbol, delimiters and anything \n",
    "#else following the price; otherwise, the value is numeric and can be converted as is.\n",
    "        \n",
    "        return(x.replace('£', '').replace(',', '').split(' - ')[0])\n",
    "    #strip price of the pound sign\n",
    "    #we need to get rid of price ranges. I will just consume the LOWER BOUND in case of a price range.\n",
    "\n",
    "    return(x)"
   ]
  },
  {
   "cell_type": "code",
   "execution_count": null,
   "metadata": {
    "ExecuteTime": {
     "end_time": "2021-06-11T09:37:12.333722Z",
     "start_time": "2021-06-11T09:37:12.312921Z"
    }
   },
   "outputs": [],
   "source": [
    "#apply my price function to convert the price column type\n",
    "ecom['price'] = ecom['price'].apply(clean_price).astype('float')"
   ]
  },
  {
   "cell_type": "code",
   "execution_count": null,
   "metadata": {
    "ExecuteTime": {
     "end_time": "2021-06-11T09:37:12.357988Z",
     "start_time": "2021-06-11T09:37:12.336988Z"
    }
   },
   "outputs": [],
   "source": [
    "#strip out \"out of 5 stars\" from average_review_rating\n",
    "ecom['average_review_rating'] = ecom['average_review_rating'].str.strip(' out of 5 stars')\n",
    "ecom['average_review_rating'].head(2)"
   ]
  },
  {
   "cell_type": "code",
   "execution_count": null,
   "metadata": {
    "ExecuteTime": {
     "end_time": "2021-06-11T09:37:12.365865Z",
     "start_time": "2021-06-11T09:37:12.361303Z"
    }
   },
   "outputs": [],
   "source": [
    "#strip out the word \"new\" from number_available_in_stock; we'll handle this during feature eng"
   ]
  },
  {
   "cell_type": "code",
   "execution_count": null,
   "metadata": {
    "ExecuteTime": {
     "end_time": "2021-06-11T09:37:12.382863Z",
     "start_time": "2021-06-11T09:37:12.368345Z"
    }
   },
   "outputs": [],
   "source": [
    "#strip out commas from number_of_reviews column\n",
    "ecom['number_of_reviews'] = ecom['number_of_reviews'].str.replace(\",\", \"\")"
   ]
  },
  {
   "cell_type": "code",
   "execution_count": null,
   "metadata": {
    "ExecuteTime": {
     "end_time": "2021-06-11T09:37:12.402099Z",
     "start_time": "2021-06-11T09:37:12.385204Z"
    }
   },
   "outputs": [],
   "source": [
    "ecom['number_of_reviews'].sort_values(ascending=False)[:30]"
   ]
  },
  {
   "cell_type": "code",
   "execution_count": null,
   "metadata": {
    "ExecuteTime": {
     "end_time": "2021-06-11T09:37:12.427941Z",
     "start_time": "2021-06-11T09:37:12.404783Z"
    }
   },
   "outputs": [],
   "source": [
    "#double check that our digits converted correctly\n",
    "ecom.loc[ecom['number_of_reviews']=='1040']"
   ]
  },
  {
   "cell_type": "code",
   "execution_count": null,
   "metadata": {
    "ExecuteTime": {
     "end_time": "2021-06-11T09:37:34.418777Z",
     "start_time": "2021-06-11T09:37:12.429772Z"
    }
   },
   "outputs": [],
   "source": [
    "#remove line breaks and other junk from review and customer q's columns\n",
    "\n",
    "ecom.replace(\n",
    "    to_replace=[r\"\\\\t|\\\\n|\\\\r|//\", \"\\t|\\n|\\r\"], value=[\"\",\"\"],\n",
    "    regex=True, inplace=True)\n",
    "\n",
    "ecom.replace(r'[^a-zA-Z0-9]', ' ', regex=True, inplace=True)"
   ]
  },
  {
   "cell_type": "markdown",
   "metadata": {},
   "source": [
    "### Converting object columns to numeric where applicable\n",
    "\n",
    "We had 4 columns originally that seemed like good candidates for conversion to numeric:\n",
    "\n",
    "* price\n",
    "* number_of_reviews\n",
    "* number_of_answered_questions\n",
    "* average_review_rating"
   ]
  },
  {
   "cell_type": "code",
   "execution_count": null,
   "metadata": {
    "ExecuteTime": {
     "end_time": "2021-06-11T09:37:34.470835Z",
     "start_time": "2021-06-11T09:37:34.426511Z"
    }
   },
   "outputs": [],
   "source": [
    "#force num type on number_of_reviews, number_of_answered_questions, price, average_review_rating\n",
    "ecom['number_of_answered_questions'] = ecom[['number_of_answered_questions']].apply(pd.to_numeric)"
   ]
  },
  {
   "cell_type": "code",
   "execution_count": null,
   "metadata": {
    "ExecuteTime": {
     "end_time": "2021-06-11T09:37:34.484268Z",
     "start_time": "2021-06-11T09:37:34.472851Z"
    }
   },
   "outputs": [],
   "source": [
    "#ecom['average_review_rating'] = ecom['average_review_rating'].astype(float)"
   ]
  },
  {
   "cell_type": "code",
   "execution_count": null,
   "metadata": {
    "ExecuteTime": {
     "end_time": "2021-06-11T09:37:34.505912Z",
     "start_time": "2021-06-11T09:37:34.486526Z"
    }
   },
   "outputs": [],
   "source": [
    "#first remove nulls for this to work\n",
    "ecom.dropna(subset=['number_of_reviews'], inplace=True)\n",
    "\n",
    "#convert\n",
    "ecom['number_of_reviews'] = ecom['number_of_reviews'].astype(int)"
   ]
  },
  {
   "cell_type": "code",
   "execution_count": null,
   "metadata": {
    "ExecuteTime": {
     "end_time": "2021-06-11T09:37:34.513959Z",
     "start_time": "2021-06-11T09:37:34.508089Z"
    }
   },
   "outputs": [],
   "source": [
    "#confirm conversions\n",
    "ecom.dtypes"
   ]
  },
  {
   "cell_type": "markdown",
   "metadata": {},
   "source": [
    "### Convert price"
   ]
  },
  {
   "cell_type": "markdown",
   "metadata": {},
   "source": [
    "A nuance observed here is that we have a complicating issue in our data set in that some prices are displayed as ranges.\n",
    "\n",
    "There were two places where we could look at price: the price column, which we have now reduced to the lower bound for simplicity, as well as the seller column.\n",
    "\n",
    "One way to think of the price variability is that each seller can charge a different price. However, the wild variability can also be explained by product condition.\n",
    "\n",
    "For simplicity, we are going to look at the average price, and create a new column we can reuse, with that information:"
   ]
  },
  {
   "cell_type": "code",
   "execution_count": null,
   "metadata": {
    "ExecuteTime": {
     "end_time": "2021-06-11T09:37:35.410451Z",
     "start_time": "2021-06-11T09:37:34.517578Z"
    }
   },
   "outputs": [],
   "source": [
    "#Gwen's code -- map avg. price to column\n",
    "\n",
    "def median_sale_price(x):\n",
    "    if pd.isna(x):\n",
    "        return np.nan\n",
    "    \n",
    "    try:\n",
    "        return np.median(\n",
    "            [float(y.split('\"')[0]) for y in list(x.split('£')[1:])])\n",
    "    \n",
    "    except:\n",
    "        nos = []\n",
    "        for y in list(x.split('£')[1:]):\n",
    "            try:\n",
    "                nos.append(float(y.split('\"')[0]))\n",
    "            except:\n",
    "                pass\n",
    "        return np.median(nos)\n",
    "    \n",
    "ecom['median_sale_price'] = ecom['sellers'].map(median_sale_price)"
   ]
  },
  {
   "cell_type": "markdown",
   "metadata": {},
   "source": [
    "### Imputing nulls\n",
    "\n",
    "For most of the fields, imputing with a 0 seems to make sense -- no reviews is no different than 0 reviews.\n",
    "\n",
    "For price, however, we'll want to impute with the mean, now that we've successfully converted it to numeric.\n",
    "\n",
    "As for average review rating, in the absence of one, we will simply drop those few observations since that's a valuable column and I'd want to be careful extending any kind of mean to it, since it is possibly our target."
   ]
  },
  {
   "cell_type": "code",
   "execution_count": null,
   "metadata": {
    "ExecuteTime": {
     "end_time": "2021-06-11T09:37:35.602960Z",
     "start_time": "2021-06-11T09:37:35.413455Z"
    }
   },
   "outputs": [],
   "source": [
    "#`dropna.()` nulls without an average_review_rating since we need those for training, and there are few\n",
    "ecom.dropna(\n",
    "    subset=['average_review_rating'], inplace=True)"
   ]
  },
  {
   "cell_type": "code",
   "execution_count": null,
   "metadata": {
    "ExecuteTime": {
     "end_time": "2021-06-11T09:37:35.612770Z",
     "start_time": "2021-06-11T09:37:35.605218Z"
    }
   },
   "outputs": [],
   "source": [
    "#fill price with average of column\n",
    "ecom['price'] = ecom['price'].fillna(\n",
    "    ecom['price'].mean())"
   ]
  },
  {
   "cell_type": "code",
   "execution_count": null,
   "metadata": {
    "ExecuteTime": {
     "end_time": "2021-06-11T09:37:35.667220Z",
     "start_time": "2021-06-11T09:37:35.616442Z"
    },
    "scrolled": true
   },
   "outputs": [],
   "source": [
    "#fill in NaN's with 0's for everything else\n",
    "ecom = ecom.fillna(0)\n",
    "ecom.head(3)"
   ]
  },
  {
   "cell_type": "code",
   "execution_count": null,
   "metadata": {
    "ExecuteTime": {
     "end_time": "2021-06-11T09:37:35.696995Z",
     "start_time": "2021-06-11T09:37:35.670160Z"
    }
   },
   "outputs": [],
   "source": [
    "ecom.isnull().sum()"
   ]
  },
  {
   "cell_type": "markdown",
   "metadata": {},
   "source": [
    "## EDA\n",
    "\n",
    "Interesting possible questions for exploration:\n",
    "\n",
    "* Is there a correlation between number of reviews and number of questions?\n",
    "* Is there a relationship between the number of sellers and the star rating?\n",
    "* Is there a relationship between the star rating and the number of reviews?\n",
    "* Is there a relationship between the product description and the star rating?\n",
    "* Is there a relationship between a product being sold as new vs. used and its rating?\n",
    "* Is there a relaionship between the product price and average rating?\n",
    "* Do certain categories rank higher than others?"
   ]
  },
  {
   "cell_type": "code",
   "execution_count": null,
   "metadata": {
    "ExecuteTime": {
     "end_time": "2021-06-11T09:37:35.709830Z",
     "start_time": "2021-06-11T09:37:35.703768Z"
    },
    "scrolled": true
   },
   "outputs": [],
   "source": [
    "#what can we analyze, again?\n",
    "ecom.columns"
   ]
  },
  {
   "cell_type": "markdown",
   "metadata": {},
   "source": [
    "What is the central tendency for the numeric columns in our dataset?"
   ]
  },
  {
   "cell_type": "code",
   "execution_count": null,
   "metadata": {
    "ExecuteTime": {
     "end_time": "2021-06-11T09:37:35.754095Z",
     "start_time": "2021-06-11T09:37:35.715607Z"
    },
    "scrolled": true
   },
   "outputs": [],
   "source": [
    "#look at central tendency\n",
    "ecom.describe().round(2).T"
   ]
  },
  {
   "cell_type": "markdown",
   "metadata": {},
   "source": [
    "From the basic descriptive stats, we can conclude the following: \n",
    "\n",
    "* The average product price is 20 British pounds, while the most expensive item is north of 2K\n",
    "* Most products have about 9 product reviews and 1-2 customer questions\n",
    "* The average rating is a mere 2 stars"
   ]
  },
  {
   "cell_type": "markdown",
   "metadata": {},
   "source": [
    "### Reviews"
   ]
  },
  {
   "cell_type": "markdown",
   "metadata": {},
   "source": [
    "Taking a look at our data, all of the customer reviews appear to actually be compacted into each observation:"
   ]
  },
  {
   "cell_type": "code",
   "execution_count": null,
   "metadata": {
    "ExecuteTime": {
     "end_time": "2021-06-11T09:37:35.768629Z",
     "start_time": "2021-06-11T09:37:35.755754Z"
    }
   },
   "outputs": [],
   "source": [
    "#look at single review\n",
    "ecom['customer_reviews'][0]"
   ]
  },
  {
   "cell_type": "code",
   "execution_count": null,
   "metadata": {
    "ExecuteTime": {
     "end_time": "2021-06-11T09:37:37.823978Z",
     "start_time": "2021-06-11T09:37:35.770739Z"
    },
    "scrolled": true
   },
   "outputs": [],
   "source": [
    "#groupby product ID to reveal number of verbal reviews per product ID\n",
    "#use uniq_id, customer_reviews\n",
    "\n",
    "#first get count of distinct user IDs\n",
    "\n",
    "#let's use some SQL, baby\n",
    "#docstring: https://pypi.org/project/pandasql/\n",
    "\n",
    "#from Gwen:\n",
    "#For customer_reviews column:\n",
    "#-strip /s, \\r and \\n s, digits, punctuation (in that order), maybe also months since they're easy\n",
    "\n",
    "\n",
    "from pandasql import sqldf\n",
    "pysqldf = lambda q: sqldf(q, globals())\n",
    "\n",
    "def pysqldf(q):\n",
    "    #add this to your script if you get tired of calling locals()\n",
    "    return sqldf(q, globals())\n",
    "\n",
    "df = ecom\n",
    "\n",
    "\n",
    "#group reviews by product ID\n",
    "\n",
    "q = \"\"\"\n",
    "    SELECT DISTINCT uniq_id, SUM(customer_reviews) AS num_reviews\n",
    "    -- count gets number obs., sum is what we actually want\n",
    "           FROM df\n",
    "           GROUP BY uniq_id\n",
    "           ORDER BY num_reviews DESC\n",
    "              \n",
    "\"\"\"\n",
    "\n",
    "print(pysqldf(q).head(15))\n",
    "\n",
    "#compare to what's reported as number of reviews per product\n",
    "pd.DataFrame(\n",
    "    ecom.groupby('uniq_id').sum(\n",
    "    )['number_of_reviews'].sort_values(ascending=False))"
   ]
  },
  {
   "cell_type": "markdown",
   "metadata": {},
   "source": [
    "Let's take a look visually at the distribution of customer reviews for a given product.\n",
    "\n",
    "While not 100% predictive, this is one gauge or proxy we have about sales as a popularity indicator (with the actual rating being the other)."
   ]
  },
  {
   "cell_type": "code",
   "execution_count": null,
   "metadata": {
    "ExecuteTime": {
     "end_time": "2021-06-11T09:37:38.363337Z",
     "start_time": "2021-06-11T09:37:37.857209Z"
    }
   },
   "outputs": [],
   "source": [
    "plt.figure(figsize=(12,8))\n",
    "plt.title('Distribution of product reviews for 150 random products', size=15)\n",
    "plt.yticks([5, 10, 15, 20, 30, 40, 50, 100], size = 12)\n",
    "plt.ylabel('Number of reviews', size=14)\n",
    "plt.xlabel('Density = concentration of reviews per product', size=14)\n",
    "ecom['number_of_reviews'][:150].plot(kind='box');\n",
    "plt.savefig('../assets/concentration_reviews.jpg')"
   ]
  },
  {
   "cell_type": "code",
   "execution_count": null,
   "metadata": {
    "ExecuteTime": {
     "end_time": "2021-06-11T09:37:38.427056Z",
     "start_time": "2021-06-11T09:37:38.365735Z"
    },
    "scrolled": true
   },
   "outputs": [],
   "source": [
    "#map no. reviews vs. no customer q's as ratio\n",
    "ecom['review_to_q_ratio'] = ecom['number_of_reviews']/ecom['number_of_answered_questions']\n",
    "pd.DataFrame(ecom['review_to_q_ratio'].value_counts())[:15]"
   ]
  },
  {
   "cell_type": "markdown",
   "metadata": {},
   "source": [
    "### Categories"
   ]
  },
  {
   "cell_type": "code",
   "execution_count": null,
   "metadata": {
    "ExecuteTime": {
     "end_time": "2021-06-11T09:37:38.463730Z",
     "start_time": "2021-06-11T09:37:38.429784Z"
    }
   },
   "outputs": [],
   "source": [
    "#categories -- now we do not know, how the data were filtered\n",
    "#during the scrape\n",
    "cats = pd.DataFrame(\n",
    "    ecom['amazon_category_and_sub_category'].value_counts())\n",
    "print(cats.count())\n",
    "cats[:50]"
   ]
  },
  {
   "cell_type": "markdown",
   "metadata": {},
   "source": [
    "_It looks like this dataset favors toys. It is possible -- since we do not have the methodology used during scraping availed to us -- that the products have already been filtered for specific categories._"
   ]
  },
  {
   "cell_type": "code",
   "execution_count": null,
   "metadata": {
    "ExecuteTime": {
     "end_time": "2021-06-11T09:37:39.042656Z",
     "start_time": "2021-06-11T09:37:38.467499Z"
    }
   },
   "outputs": [],
   "source": [
    "#Do certain categories rank higher than others? - SPIDER CHART THIS!\n",
    "q = \"\"\"\n",
    "    SELECT DISTINCT amazon_category_and_sub_category AS category,\n",
    "        average_review_rating AS star_rating\n",
    "           FROM df\n",
    "           WHERE star_rating <> 0\n",
    "           GROUP BY category\n",
    "           ORDER BY star_rating DESC\n",
    "              \n",
    "\"\"\"\n",
    "\n",
    "rating_by_cat = pd.DataFrame(pysqldf(q))\n",
    "\n",
    "print('Top rated categories')\n",
    "rating_by_cat.set_index('category')[:15]"
   ]
  },
  {
   "cell_type": "code",
   "execution_count": null,
   "metadata": {
    "ExecuteTime": {
     "end_time": "2021-06-11T09:37:39.063658Z",
     "start_time": "2021-06-11T09:37:39.045075Z"
    }
   },
   "outputs": [],
   "source": [
    "print('Lowest rated categories')\n",
    "rating_by_cat.set_index('category').tail(15)"
   ]
  },
  {
   "cell_type": "markdown",
   "metadata": {},
   "source": [
    "### Manufacturers"
   ]
  },
  {
   "cell_type": "code",
   "execution_count": null,
   "metadata": {
    "ExecuteTime": {
     "end_time": "2021-06-11T09:37:39.097898Z",
     "start_time": "2021-06-11T09:37:39.070791Z"
    },
    "scrolled": true
   },
   "outputs": [],
   "source": [
    "#manufs\n",
    "manufs = pd.DataFrame(ecom['manufacturer'].value_counts())\n",
    "print(manufs.count())\n",
    "manufs[:25]"
   ]
  },
  {
   "cell_type": "markdown",
   "metadata": {},
   "source": [
    "_As with categories, we see a predominance / prepondrance of gaming items here._"
   ]
  },
  {
   "cell_type": "markdown",
   "metadata": {},
   "source": [
    "### Price"
   ]
  },
  {
   "cell_type": "code",
   "execution_count": null,
   "metadata": {
    "ExecuteTime": {
     "end_time": "2021-06-11T09:37:41.081476Z",
     "start_time": "2021-06-11T09:37:39.100666Z"
    }
   },
   "outputs": [],
   "source": [
    "#look at price per manuf\n",
    "def pysqldf(q):\n",
    "    #add this to your script if you get tired of calling locals()\n",
    "    return sqldf(q, globals())\n",
    "\n",
    "df = ecom\n",
    "\n",
    "\n",
    "q = \"\"\"\n",
    "    SELECT DISTINCT manufacturer, AVG(median_sale_price) AS avg_price\n",
    "           FROM df\n",
    "           GROUP BY manufacturer\n",
    "           ORDER BY avg_price DESC\n",
    "              \n",
    "\"\"\"\n",
    "\n",
    "price_by_manuf = pd.DataFrame(pysqldf(q))\n",
    "\n",
    "price_by_manuf.set_index(\n",
    "    'manufacturer')[:15].plot(kind = 'barh');\n",
    "plt.title(\n",
    "    'Top 15 priciest Amazon toy/game manufacturers (sample)',\n",
    "size=15)\n",
    "plt.xlabel('Price', size=14);\n",
    "plt.ylabel('Manufacturer', size=14)\n",
    "plt.yticks(size=12, rotation=45);\n",
    "plt.savefig('../assets/top_manuf_by_price.jpg')"
   ]
  },
  {
   "cell_type": "code",
   "execution_count": null,
   "metadata": {
    "ExecuteTime": {
     "end_time": "2021-06-11T09:37:41.569503Z",
     "start_time": "2021-06-11T09:37:41.090608Z"
    },
    "scrolled": true
   },
   "outputs": [],
   "source": [
    "#price dist -- although might be more meaningful to do per category or manuf\n",
    "plt.figure(figsize=(12,8))\n",
    "ecom['price'][:150].plot(kind='box');\n",
    "plt.xticks([]);\n",
    "plt.ylabel('Price', size = 14)\n",
    "plt.yticks(size=12)\n",
    "plt.xlabel('Density = concentration of products', size=14)\n",
    "plt.title('Price distribution of a random sample of Amazon items (in BP)', size=15);\n",
    "plt.savefig('../assets/price_concentrate.jpg')"
   ]
  },
  {
   "cell_type": "markdown",
   "metadata": {},
   "source": [
    "### New vs used items\n",
    "\n",
    "NOTE: this is the number of product listings that show at least one new and at least one used product."
   ]
  },
  {
   "cell_type": "code",
   "execution_count": null,
   "metadata": {
    "ExecuteTime": {
     "end_time": "2021-06-11T09:37:41.621245Z",
     "start_time": "2021-06-11T09:37:41.571327Z"
    }
   },
   "outputs": [],
   "source": [
    "ecom['number_available_in_stock'].value_counts()[:10]\n",
    "#replace w/ a search for ~like new, ~like used, and then get a count: use `string.find()`\n",
    "\n",
    "#Gwen: use `str.contains()` rather than `str.find`, which looks for index\n",
    "\n",
    "new = ecom['number_available_in_stock'].str.contains('new').sum()\n",
    "used = ecom['number_available_in_stock'].str.contains('used').sum()\n",
    "\n",
    "print(f'There are {new} new items sold and {used} used')"
   ]
  },
  {
   "cell_type": "code",
   "execution_count": null,
   "metadata": {
    "ExecuteTime": {
     "end_time": "2021-06-11T09:37:41.627793Z",
     "start_time": "2021-06-11T09:37:41.623777Z"
    }
   },
   "outputs": [],
   "source": [
    "#new vs used (once new / used are split)\n",
    "#sns.displot(data=ecom, x='number_of_reviews', kde=True, hue=''); #fill in w/ new vs used"
   ]
  },
  {
   "cell_type": "markdown",
   "metadata": {},
   "source": [
    "### Sellers"
   ]
  },
  {
   "cell_type": "code",
   "execution_count": null,
   "metadata": {
    "ExecuteTime": {
     "end_time": "2021-06-11T09:37:47.817766Z",
     "start_time": "2021-06-11T09:37:41.633494Z"
    },
    "scrolled": true
   },
   "outputs": [],
   "source": [
    "#count of sellers\n",
    "ecom.groupby(['sellers']).count() #REDO this as a dict comp if desired"
   ]
  },
  {
   "cell_type": "code",
   "execution_count": null,
   "metadata": {
    "ExecuteTime": {
     "end_time": "2021-06-11T09:37:47.882659Z",
     "start_time": "2021-06-11T09:37:47.822171Z"
    }
   },
   "outputs": [],
   "source": [
    "##Gwen's code - number of different sellers for a single product:\n",
    "ecom['sellers'][0].split('Seller_price_')[-1][0]"
   ]
  },
  {
   "cell_type": "code",
   "execution_count": null,
   "metadata": {
    "ExecuteTime": {
     "end_time": "2021-06-11T09:37:47.909009Z",
     "start_time": "2021-06-11T09:37:47.884445Z"
    }
   },
   "outputs": [],
   "source": [
    "#Gwen's code\n",
    "# all the prices for a single item\n",
    "# map to create column\n",
    "[float(x.split(\n",
    "    '\"')[0].replace(\n",
    "    \"'\",'')) for x in ecom['sellers'][0].split('£')[1:]]"
   ]
  },
  {
   "cell_type": "markdown",
   "metadata": {},
   "source": [
    "_Diff. conditions._"
   ]
  },
  {
   "cell_type": "code",
   "execution_count": null,
   "metadata": {
    "ExecuteTime": {
     "end_time": "2021-06-11T09:37:47.945544Z",
     "start_time": "2021-06-11T09:37:47.942806Z"
    }
   },
   "outputs": [],
   "source": [
    "#of ratings per seller?"
   ]
  },
  {
   "cell_type": "markdown",
   "metadata": {},
   "source": [
    "### Customers also bought..."
   ]
  },
  {
   "cell_type": "code",
   "execution_count": null,
   "metadata": {
    "ExecuteTime": {
     "end_time": "2021-06-11T09:37:47.952080Z",
     "start_time": "2021-06-11T09:37:47.948356Z"
    }
   },
   "outputs": [],
   "source": [
    "#whether ratings affect also bought products? but need to extract url..."
   ]
  },
  {
   "cell_type": "markdown",
   "metadata": {},
   "source": [
    "### Relationships"
   ]
  },
  {
   "cell_type": "code",
   "execution_count": null,
   "metadata": {
    "ExecuteTime": {
     "end_time": "2021-06-11T09:38:39.589437Z",
     "start_time": "2021-06-11T09:37:47.955393Z"
    }
   },
   "outputs": [],
   "source": [
    "sns.pairplot(data=ecom, hue ='average_review_rating');\n",
    "plt.title('Relationships between products and ratings')\n",
    "plt.savefig('../assets/pairplot.jpg')"
   ]
  },
  {
   "cell_type": "code",
   "execution_count": null,
   "metadata": {
    "ExecuteTime": {
     "end_time": "2021-06-11T09:38:39.636032Z",
     "start_time": "2021-06-11T09:38:39.592262Z"
    },
    "scrolled": true
   },
   "outputs": [],
   "source": [
    "#corr\n",
    "corr = ecom.corr()\n",
    "corr.round(2)"
   ]
  },
  {
   "cell_type": "code",
   "execution_count": null,
   "metadata": {
    "ExecuteTime": {
     "end_time": "2021-06-11T09:38:40.349528Z",
     "start_time": "2021-06-11T09:38:39.647870Z"
    }
   },
   "outputs": [],
   "source": [
    "#corr plot\n",
    "#ref from https://seaborn.pydata.org/examples/many_pairwise_correlations.html\n",
    "\n",
    "sns.set_theme(style=\"white\")\n",
    "\n",
    "# Generate a mask for the upper triangle\n",
    "mask = np.triu(np.ones_like(corr, dtype=bool))\n",
    "\n",
    "# Set up the matplotlib figure\n",
    "f, ax = plt.subplots(figsize=(11, 9))\n",
    "\n",
    "# Generate a custom diverging colormap\n",
    "cmap = sns.diverging_palette(230, 20, as_cmap=True)\n",
    "\n",
    "# Draw the heatmap with the mask and correct aspect ratio\n",
    "sns.heatmap(corr, mask=mask, cmap=cmap, vmax=.3, center=0,\n",
    "            square=True, annot=True, linewidths=.5)\n",
    "\n",
    "plt.title(\n",
    "    'Correlation between the star rating and other product attributes',\n",
    "size = 15);\n",
    "plt.xticks(size=12, rotation=55);\n",
    "plt.yticks(size=12);\n",
    "plt.savefig('../assets/Corr.jpg');"
   ]
  },
  {
   "cell_type": "markdown",
   "metadata": {},
   "source": [
    "## Feature engineering\n",
    "\n",
    "We need to convert things like ratings so that the modeling works correctly.\n",
    "\n",
    "The plan:\n",
    "\n",
    "* The ratings column is our target\n",
    "* We need to categorize manufacturers and / or categories"
   ]
  },
  {
   "cell_type": "code",
   "execution_count": null,
   "metadata": {
    "ExecuteTime": {
     "end_time": "2021-06-11T09:38:40.365975Z",
     "start_time": "2021-06-11T09:38:40.353009Z"
    }
   },
   "outputs": [],
   "source": [
    "#current shape\n",
    "ecom.shape"
   ]
  },
  {
   "cell_type": "code",
   "execution_count": null,
   "metadata": {
    "ExecuteTime": {
     "end_time": "2021-06-11T09:38:41.643111Z",
     "start_time": "2021-06-11T09:38:40.374694Z"
    }
   },
   "outputs": [],
   "source": [
    "#one-hot encode manufs and product categories\n",
    "\n",
    "ecom = pd.get_dummies(ecom, columns = [\n",
    "    'manufacturer', #manufs\n",
    "    'amazon_category_and_sub_category' #product categories\n",
    "],drop_first=True)\n",
    "\n",
    "# Caution--big printout!!\n",
    "\n",
    "#ecom.head().T"
   ]
  },
  {
   "cell_type": "code",
   "execution_count": null,
   "metadata": {
    "ExecuteTime": {
     "end_time": "2021-06-11T09:38:41.650175Z",
     "start_time": "2021-06-11T09:38:41.645902Z"
    }
   },
   "outputs": [],
   "source": [
    "#NOW check shape...\n",
    "ecom.shape"
   ]
  },
  {
   "cell_type": "code",
   "execution_count": null,
   "metadata": {
    "ExecuteTime": {
     "end_time": "2021-06-11T09:38:41.654625Z",
     "start_time": "2021-06-11T09:38:41.652212Z"
    }
   },
   "outputs": [],
   "source": [
    "#move out new vs. used items into sep. columns (binarize as new_only);\n",
    "#or can merely filter by ..."
   ]
  },
  {
   "cell_type": "markdown",
   "metadata": {},
   "source": [
    "## NLP\n",
    "\n",
    "Open questions:\n",
    "\n",
    "* Sentiment of reviews\n",
    "* Does sentiment correspond to star rating?\n",
    "* Most interesting question bi-grams\n",
    "* Most interesting review bi-grams"
   ]
  },
  {
   "cell_type": "code",
   "execution_count": null,
   "metadata": {
    "ExecuteTime": {
     "end_time": "2021-06-11T09:38:41.662322Z",
     "start_time": "2021-06-11T09:38:41.659866Z"
    }
   },
   "outputs": [],
   "source": [
    "#vectorize text. NOTE: Run the RegEx to remove line breaks from customer review and\n",
    "#questions columns, first!\n"
   ]
  },
  {
   "cell_type": "code",
   "execution_count": null,
   "metadata": {
    "ExecuteTime": {
     "end_time": "2021-06-11T09:38:41.668331Z",
     "start_time": "2021-06-11T09:38:41.664401Z"
    }
   },
   "outputs": [],
   "source": [
    "#NOW check shape\n",
    "ecom.shape"
   ]
  },
  {
   "cell_type": "markdown",
   "metadata": {},
   "source": [
    "### Sentiment analysis"
   ]
  },
  {
   "cell_type": "code",
   "execution_count": null,
   "metadata": {},
   "outputs": [],
   "source": []
  },
  {
   "cell_type": "markdown",
   "metadata": {},
   "source": [
    "## Modeling - linear regression"
   ]
  },
  {
   "cell_type": "code",
   "execution_count": null,
   "metadata": {
    "ExecuteTime": {
     "end_time": "2021-06-11T09:38:41.674809Z",
     "start_time": "2021-06-11T09:38:41.670336Z"
    }
   },
   "outputs": [],
   "source": [
    "#reviews\n",
    "#price\n",
    "#category"
   ]
  },
  {
   "cell_type": "markdown",
   "metadata": {},
   "source": [
    "## Evaluation"
   ]
  },
  {
   "cell_type": "code",
   "execution_count": null,
   "metadata": {},
   "outputs": [],
   "source": []
  },
  {
   "cell_type": "markdown",
   "metadata": {},
   "source": [
    "## Conclusions & next steps"
   ]
  },
  {
   "cell_type": "code",
   "execution_count": null,
   "metadata": {},
   "outputs": [],
   "source": []
  }
 ],
 "metadata": {
  "kernelspec": {
   "display_name": "Python 3",
   "language": "python",
   "name": "python3"
  },
  "language_info": {
   "codemirror_mode": {
    "name": "ipython",
    "version": 3
   },
   "file_extension": ".py",
   "mimetype": "text/x-python",
   "name": "python",
   "nbconvert_exporter": "python",
   "pygments_lexer": "ipython3",
   "version": "3.8.5"
  },
  "toc": {
   "base_numbering": 1,
   "nav_menu": {},
   "number_sections": true,
   "sideBar": true,
   "skip_h1_title": false,
   "title_cell": "Table of Contents",
   "title_sidebar": "Contents",
   "toc_cell": false,
   "toc_position": {
    "height": "calc(100% - 180px)",
    "left": "10px",
    "top": "150px",
    "width": "310.391px"
   },
   "toc_section_display": true,
   "toc_window_display": true
  },
  "varInspector": {
   "cols": {
    "lenName": 16,
    "lenType": 16,
    "lenVar": 40
   },
   "kernels_config": {
    "python": {
     "delete_cmd_postfix": "",
     "delete_cmd_prefix": "del ",
     "library": "var_list.py",
     "varRefreshCmd": "print(var_dic_list())"
    },
    "r": {
     "delete_cmd_postfix": ") ",
     "delete_cmd_prefix": "rm(",
     "library": "var_list.r",
     "varRefreshCmd": "cat(var_dic_list()) "
    }
   },
   "types_to_exclude": [
    "module",
    "function",
    "builtin_function_or_method",
    "instance",
    "_Feature"
   ],
   "window_display": false
  }
 },
 "nbformat": 4,
 "nbformat_minor": 4
}
